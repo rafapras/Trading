{
 "cells": [
  {
   "cell_type": "code",
   "execution_count": null,
   "metadata": {},
   "outputs": [],
   "source": [
    "import multiprocessing\n",
    "import itertools\n",
    "\n",
    "def get_chunks(iterable, chunks=1):\n",
    "    # This is from http://stackoverflow.com/a/2136090/2073595\n",
    "    lst = list(iterable)\n",
    "    return [lst[i::chunks] for i in range(chunks)]\n",
    "\n",
    "def someOtherFunction(lower, upper):\n",
    "    return (lower + upper) / 2\n",
    "\n",
    "def worker(pairs):\n",
    "    best_accuracy = best_lower = best_upper = 0\n",
    "    for lower_threshold, upper_threshold in pairs:\n",
    "        accuracy = someOtherFunction(lower_threshold, upper_threshold)\n",
    "        if accuracy > best_accuracy:\n",
    "            best_accuracy = accuracy\n",
    "            best_lower = lower_threshold\n",
    "            best_upper = upper_threshold\n",
    "    return best_accuracy, best_lower, best_upper\n",
    "\n",
    "if __name__ == '__main__':\n",
    "    jobs = []\n",
    "    pairs = itertools.product(range(0, 100), range(100, 200))\n",
    "    chunked_pairs = get_chunks(pairs, chunks=multiprocessing.cpu_count()-3)\n",
    "    pool = multiprocessing.Pool()\n",
    "    results = pool.map(worker, chunked_pairs)\n",
    "    pool.close()\n",
    "    pool.join()\n",
    "    print( results)\n",
    "    # Now combine the results\n",
    "    sorted_results = reversed(sorted(results, key=lambda x: x[0]))\n",
    "    print (next(sorted_results))  # Winner"
   ]
  },
  {
   "cell_type": "code",
   "execution_count": null,
   "metadata": {},
   "outputs": [],
   "source": [
    "from multiprocessing import Pool\n",
    "\n",
    "def f(x):\n",
    "    return x*x\n",
    "\n",
    "if __name__ == '__main__':\n",
    "    p = Pool(5)\n",
    "    print(p.map(f, [1, 2, 3]))"
   ]
  },
  {
   "cell_type": "code",
   "execution_count": null,
   "metadata": {},
   "outputs": [],
   "source": []
  },
  {
   "cell_type": "code",
   "execution_count": 1,
   "metadata": {},
   "outputs": [],
   "source": [
    "from multiprocessing import Pool"
   ]
  },
  {
   "cell_type": "code",
   "execution_count": 2,
   "metadata": {},
   "outputs": [],
   "source": [
    "def f(x):\n",
    "    return x*x"
   ]
  },
  {
   "cell_type": "code",
   "execution_count": null,
   "metadata": {},
   "outputs": [],
   "source": [
    "if __name__ == '__main__':\n",
    "    p = Pool(5)\n",
    "    print(p.map(f, [1, 2, 3]))"
   ]
  }
 ],
 "metadata": {
  "kernelspec": {
   "display_name": "Python 3",
   "language": "python",
   "name": "python3"
  },
  "language_info": {
   "codemirror_mode": {
    "name": "ipython",
    "version": 3
   },
   "file_extension": ".py",
   "mimetype": "text/x-python",
   "name": "python",
   "nbconvert_exporter": "python",
   "pygments_lexer": "ipython3",
   "version": "3.6.9"
  }
 },
 "nbformat": 4,
 "nbformat_minor": 4
}
