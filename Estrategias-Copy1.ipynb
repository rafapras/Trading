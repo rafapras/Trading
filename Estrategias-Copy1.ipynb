{
 "cells": [
  {
   "cell_type": "code",
   "execution_count": 2,
   "metadata": {
    "collapsed": true,
    "jupyter": {
     "outputs_hidden": true
    }
   },
   "outputs": [],
   "source": [
    "import pandas as pd\n",
    "from pandas_datareader import data\n",
    "import matplotlib.pyplot as plt\n",
    "import yfinance as yf\n",
    "from pypfopt.expected_returns import mean_historical_return\n",
    "from pypfopt.risk_models import CovarianceShrinkage\n",
    "# pyfolio  qgrid empyrical\n",
    "import pickle\n",
    "import numpy as np\n",
    "import time\n",
    "\n",
    "import seaborn as sns\n",
    "from itertools import combinations\n",
    "import multiprocessing as mp\n",
    "from tqdm import tqdm\n",
    "import sys\n",
    "%load_ext autoreload\n",
    "%autoreload 2\n",
    "%config Completer.use_jedi = False"
   ]
  },
  {
   "cell_type": "code",
   "execution_count": 3,
   "metadata": {
    "collapsed": true,
    "jupyter": {
     "outputs_hidden": true
    }
   },
   "outputs": [],
   "source": [
    "import os\n",
    "current_path = os.getcwd()"
   ]
  },
  {
   "cell_type": "code",
   "execution_count": 4,
   "metadata": {
    "collapsed": true,
    "jupyter": {
     "outputs_hidden": true
    }
   },
   "outputs": [],
   "source": [
    "sys.path.append('C:\\\\Users\\\\Rafael\\\\Trading\\\\Trading')"
   ]
  },
  {
   "cell_type": "code",
   "execution_count": 5,
   "metadata": {},
   "outputs": [],
   "source": [
    "import TradingModule as td"
   ]
  },
  {
   "cell_type": "code",
   "execution_count": 761,
   "metadata": {
    "collapsed": true,
    "jupyter": {
     "outputs_hidden": true
    }
   },
   "outputs": [
    {
     "name": "stderr",
     "output_type": "stream",
     "text": [
      "C:\\Users\\Rafael\\Anaconda3\\lib\\site-packages\\pandas\\core\\frame.py:4117: SettingWithCopyWarning: \n",
      "A value is trying to be set on a copy of a slice from a DataFrame\n",
      "\n",
      "See the caveats in the documentation: http://pandas.pydata.org/pandas-docs/stable/user_guide/indexing.html#returning-a-view-versus-a-copy\n",
      "  errors=errors,\n"
     ]
    }
   ],
   "source": [
    "with open('C:\\\\Users\\\\Rafael\\\\Trading\\\\Trading\\\\ibov.pkl','rb') as file:\n",
    "     data =pickle.load(file)\n",
    "data1 =data['Adj Close']\n",
    "data1.drop('MGLU3.SA',axis=1,inplace=True)"
   ]
  },
  {
   "cell_type": "code",
   "execution_count": 57,
   "metadata": {
    "collapsed": true,
    "jupyter": {
     "outputs_hidden": true
    }
   },
   "outputs": [],
   "source": [
    "\n",
    "import TradingRefact as td \n"
   ]
  },
  {
   "cell_type": "code",
   "execution_count": 107,
   "metadata": {
    "collapsed": true,
    "jupyter": {
     "outputs_hidden": true
    }
   },
   "outputs": [],
   "source": [
    "\n",
    "test=[td.calculate_returns(td.troca_posicao(td.estrategia_mmovel(data1[x]))) for  x in  data1.columns ]"
   ]
  },
  {
   "cell_type": "code",
   "execution_count": 119,
   "metadata": {
    "collapsed": true,
    "jupyter": {
     "outputs_hidden": true
    }
   },
   "outputs": [],
   "source": [
    "retornos =pd.concat([i['DAILY_CHANGE']  for i  in test],axis=1)"
   ]
  },
  {
   "cell_type": "code",
   "execution_count": 129,
   "metadata": {
    "collapsed": true,
    "jupyter": {
     "outputs_hidden": true
    }
   },
   "outputs": [
    {
     "data": {
      "text/html": [
       "<div>\n",
       "<style scoped>\n",
       "    .dataframe tbody tr th:only-of-type {\n",
       "        vertical-align: middle;\n",
       "    }\n",
       "\n",
       "    .dataframe tbody tr th {\n",
       "        vertical-align: top;\n",
       "    }\n",
       "\n",
       "    .dataframe thead th {\n",
       "        text-align: right;\n",
       "    }\n",
       "</style>\n",
       "<table border=\"1\" class=\"dataframe\">\n",
       "  <thead>\n",
       "    <tr style=\"text-align: right;\">\n",
       "      <th></th>\n",
       "      <th>ABEV3.SA</th>\n",
       "      <th>roll</th>\n",
       "      <th>DECISAO</th>\n",
       "      <th>DECISAO_1</th>\n",
       "      <th>ESTRAT</th>\n",
       "      <th>DAILY_CHANGE</th>\n",
       "    </tr>\n",
       "    <tr>\n",
       "      <th>Date</th>\n",
       "      <th></th>\n",
       "      <th></th>\n",
       "      <th></th>\n",
       "      <th></th>\n",
       "      <th></th>\n",
       "      <th></th>\n",
       "    </tr>\n",
       "  </thead>\n",
       "  <tbody>\n",
       "    <tr>\n",
       "      <th>2015-01-07</th>\n",
       "      <td>14.198765</td>\n",
       "      <td>0.000405</td>\n",
       "      <td>1.0</td>\n",
       "      <td>-1.0</td>\n",
       "      <td>1.0</td>\n",
       "      <td>1.000000</td>\n",
       "    </tr>\n",
       "    <tr>\n",
       "      <th>2015-01-08</th>\n",
       "      <td>14.264312</td>\n",
       "      <td>0.010212</td>\n",
       "      <td>1.0</td>\n",
       "      <td>1.0</td>\n",
       "      <td>NaN</td>\n",
       "      <td>1.004616</td>\n",
       "    </tr>\n",
       "    <tr>\n",
       "      <th>2015-01-09</th>\n",
       "      <td>14.229815</td>\n",
       "      <td>0.035279</td>\n",
       "      <td>1.0</td>\n",
       "      <td>1.0</td>\n",
       "      <td>NaN</td>\n",
       "      <td>0.997582</td>\n",
       "    </tr>\n",
       "    <tr>\n",
       "      <th>2015-01-12</th>\n",
       "      <td>14.410921</td>\n",
       "      <td>0.045102</td>\n",
       "      <td>1.0</td>\n",
       "      <td>1.0</td>\n",
       "      <td>NaN</td>\n",
       "      <td>1.012727</td>\n",
       "    </tr>\n",
       "    <tr>\n",
       "      <th>2015-01-13</th>\n",
       "      <td>14.410921</td>\n",
       "      <td>0.081183</td>\n",
       "      <td>1.0</td>\n",
       "      <td>1.0</td>\n",
       "      <td>NaN</td>\n",
       "      <td>1.000000</td>\n",
       "    </tr>\n",
       "    <tr>\n",
       "      <th>...</th>\n",
       "      <td>...</td>\n",
       "      <td>...</td>\n",
       "      <td>...</td>\n",
       "      <td>...</td>\n",
       "      <td>...</td>\n",
       "      <td>...</td>\n",
       "    </tr>\n",
       "    <tr>\n",
       "      <th>2019-10-16</th>\n",
       "      <td>18.406565</td>\n",
       "      <td>0.000537</td>\n",
       "      <td>1.0</td>\n",
       "      <td>1.0</td>\n",
       "      <td>NaN</td>\n",
       "      <td>1.000000</td>\n",
       "    </tr>\n",
       "    <tr>\n",
       "      <th>2019-10-17</th>\n",
       "      <td>18.289637</td>\n",
       "      <td>0.005727</td>\n",
       "      <td>1.0</td>\n",
       "      <td>1.0</td>\n",
       "      <td>NaN</td>\n",
       "      <td>0.993647</td>\n",
       "    </tr>\n",
       "    <tr>\n",
       "      <th>2019-12-18</th>\n",
       "      <td>18.601448</td>\n",
       "      <td>0.009347</td>\n",
       "      <td>1.0</td>\n",
       "      <td>-1.0</td>\n",
       "      <td>1.0</td>\n",
       "      <td>1.000000</td>\n",
       "    </tr>\n",
       "    <tr>\n",
       "      <th>2019-12-19</th>\n",
       "      <td>18.679399</td>\n",
       "      <td>0.121165</td>\n",
       "      <td>1.0</td>\n",
       "      <td>1.0</td>\n",
       "      <td>NaN</td>\n",
       "      <td>1.004191</td>\n",
       "    </tr>\n",
       "    <tr>\n",
       "      <th>2019-12-20</th>\n",
       "      <td>18.959999</td>\n",
       "      <td>0.229644</td>\n",
       "      <td>1.0</td>\n",
       "      <td>1.0</td>\n",
       "      <td>NaN</td>\n",
       "      <td>1.015022</td>\n",
       "    </tr>\n",
       "  </tbody>\n",
       "</table>\n",
       "<p>833 rows × 6 columns</p>\n",
       "</div>"
      ],
      "text/plain": [
       "             ABEV3.SA      roll  DECISAO  DECISAO_1  ESTRAT  DAILY_CHANGE\n",
       "Date                                                                     \n",
       "2015-01-07  14.198765  0.000405      1.0       -1.0     1.0      1.000000\n",
       "2015-01-08  14.264312  0.010212      1.0        1.0     NaN      1.004616\n",
       "2015-01-09  14.229815  0.035279      1.0        1.0     NaN      0.997582\n",
       "2015-01-12  14.410921  0.045102      1.0        1.0     NaN      1.012727\n",
       "2015-01-13  14.410921  0.081183      1.0        1.0     NaN      1.000000\n",
       "...               ...       ...      ...        ...     ...           ...\n",
       "2019-10-16  18.406565  0.000537      1.0        1.0     NaN      1.000000\n",
       "2019-10-17  18.289637  0.005727      1.0        1.0     NaN      0.993647\n",
       "2019-12-18  18.601448  0.009347      1.0       -1.0     1.0      1.000000\n",
       "2019-12-19  18.679399  0.121165      1.0        1.0     NaN      1.004191\n",
       "2019-12-20  18.959999  0.229644      1.0        1.0     NaN      1.015022\n",
       "\n",
       "[833 rows x 6 columns]"
      ]
     },
     "execution_count": 129,
     "metadata": {},
     "output_type": "execute_result"
    }
   ],
   "source": [
    "td.calculate_returns(td.troca_posicao(td.estrategia_mmovel(data1['ABEV3.SA']))).dropna(subset=['DAILY_CHANGE'])"
   ]
  },
  {
   "cell_type": "code",
   "execution_count": 493,
   "metadata": {
    "collapsed": true,
    "jupyter": {
     "outputs_hidden": true
    }
   },
   "outputs": [
    {
     "name": "stdout",
     "output_type": "stream",
     "text": [
      "7.46 ms ± 108 µs per loop (mean ± std. dev. of 7 runs, 100 loops each)\n"
     ]
    }
   ],
   "source": [
    "%%timeit\n",
    "x=td.estrategia_mmovel(data1['ABEV3.SA'])\n"
   ]
  },
  {
   "cell_type": "code",
   "execution_count": 483,
   "metadata": {
    "collapsed": true,
    "jupyter": {
     "outputs_hidden": true
    }
   },
   "outputs": [],
   "source": [
    "\n",
    "x=td.estrategia_mmovel(data1['ABEV3.SA'])"
   ]
  },
  {
   "cell_type": "code",
   "execution_count": 485,
   "metadata": {
    "collapsed": true,
    "jupyter": {
     "outputs_hidden": true
    }
   },
   "outputs": [
    {
     "data": {
      "text/html": [
       "<div>\n",
       "<style scoped>\n",
       "    .dataframe tbody tr th:only-of-type {\n",
       "        vertical-align: middle;\n",
       "    }\n",
       "\n",
       "    .dataframe tbody tr th {\n",
       "        vertical-align: top;\n",
       "    }\n",
       "\n",
       "    .dataframe thead th {\n",
       "        text-align: right;\n",
       "    }\n",
       "</style>\n",
       "<table border=\"1\" class=\"dataframe\">\n",
       "  <thead>\n",
       "    <tr style=\"text-align: right;\">\n",
       "      <th></th>\n",
       "      <th>ABEV3.SA</th>\n",
       "      <th>roll</th>\n",
       "      <th>DECISAO</th>\n",
       "    </tr>\n",
       "    <tr>\n",
       "      <th>Date</th>\n",
       "      <th></th>\n",
       "      <th></th>\n",
       "      <th></th>\n",
       "    </tr>\n",
       "  </thead>\n",
       "  <tbody>\n",
       "    <tr>\n",
       "      <th>2014-12-30</th>\n",
       "      <td>13.855803</td>\n",
       "      <td>0.000000</td>\n",
       "      <td>1.0</td>\n",
       "    </tr>\n",
       "    <tr>\n",
       "      <th>2015-01-02</th>\n",
       "      <td>13.735766</td>\n",
       "      <td>0.000000</td>\n",
       "      <td>1.0</td>\n",
       "    </tr>\n",
       "    <tr>\n",
       "      <th>2015-01-05</th>\n",
       "      <td>13.487113</td>\n",
       "      <td>-0.015687</td>\n",
       "      <td>1.0</td>\n",
       "    </tr>\n",
       "    <tr>\n",
       "      <th>2015-01-06</th>\n",
       "      <td>14.001563</td>\n",
       "      <td>-0.013227</td>\n",
       "      <td>1.0</td>\n",
       "    </tr>\n",
       "    <tr>\n",
       "      <th>2015-01-07</th>\n",
       "      <td>14.198765</td>\n",
       "      <td>0.000405</td>\n",
       "      <td>0.0</td>\n",
       "    </tr>\n",
       "    <tr>\n",
       "      <th>...</th>\n",
       "      <td>...</td>\n",
       "      <td>...</td>\n",
       "      <td>...</td>\n",
       "    </tr>\n",
       "    <tr>\n",
       "      <th>2019-12-16</th>\n",
       "      <td>18.591703</td>\n",
       "      <td>-0.193529</td>\n",
       "      <td>1.0</td>\n",
       "    </tr>\n",
       "    <tr>\n",
       "      <th>2019-12-17</th>\n",
       "      <td>18.426054</td>\n",
       "      <td>-0.077972</td>\n",
       "      <td>1.0</td>\n",
       "    </tr>\n",
       "    <tr>\n",
       "      <th>2019-12-18</th>\n",
       "      <td>18.601448</td>\n",
       "      <td>0.009347</td>\n",
       "      <td>0.0</td>\n",
       "    </tr>\n",
       "    <tr>\n",
       "      <th>2019-12-19</th>\n",
       "      <td>18.679399</td>\n",
       "      <td>0.121165</td>\n",
       "      <td>0.0</td>\n",
       "    </tr>\n",
       "    <tr>\n",
       "      <th>2019-12-20</th>\n",
       "      <td>18.959999</td>\n",
       "      <td>0.229644</td>\n",
       "      <td>0.0</td>\n",
       "    </tr>\n",
       "  </tbody>\n",
       "</table>\n",
       "<p>1238 rows × 3 columns</p>\n",
       "</div>"
      ],
      "text/plain": [
       "             ABEV3.SA      roll  DECISAO\n",
       "Date                                    \n",
       "2014-12-30  13.855803  0.000000      1.0\n",
       "2015-01-02  13.735766  0.000000      1.0\n",
       "2015-01-05  13.487113 -0.015687      1.0\n",
       "2015-01-06  14.001563 -0.013227      1.0\n",
       "2015-01-07  14.198765  0.000405      0.0\n",
       "...               ...       ...      ...\n",
       "2019-12-16  18.591703 -0.193529      1.0\n",
       "2019-12-17  18.426054 -0.077972      1.0\n",
       "2019-12-18  18.601448  0.009347      0.0\n",
       "2019-12-19  18.679399  0.121165      0.0\n",
       "2019-12-20  18.959999  0.229644      0.0\n",
       "\n",
       "[1238 rows x 3 columns]"
      ]
     },
     "execution_count": 485,
     "metadata": {},
     "output_type": "execute_result"
    }
   ],
   "source": [
    "x"
   ]
  },
  {
   "cell_type": "code",
   "execution_count": 489,
   "metadata": {
    "collapsed": true,
    "jupyter": {
     "outputs_hidden": true
    }
   },
   "outputs": [],
   "source": [
    "\n",
    "y=td.troca_posicao(x)"
   ]
  },
  {
   "cell_type": "code",
   "execution_count": 491,
   "metadata": {
    "collapsed": true,
    "jupyter": {
     "outputs_hidden": true
    }
   },
   "outputs": [],
   "source": [
    "\n",
    "\n",
    "z=td.calculate_returns(y)"
   ]
  },
  {
   "cell_type": "code",
   "execution_count": 492,
   "metadata": {
    "collapsed": true,
    "jupyter": {
     "outputs_hidden": true
    }
   },
   "outputs": [
    {
     "name": "stdout",
     "output_type": "stream",
     "text": [
      "6.57 ms ± 129 µs per loop (mean ± std. dev. of 7 runs, 100 loops each)\n"
     ]
    }
   ],
   "source": [
    "%%timeit\n",
    "w=td.stop_loss(z,0.95)"
   ]
  },
  {
   "cell_type": "code",
   "execution_count": 505,
   "metadata": {
    "collapsed": true,
    "jupyter": {
     "outputs_hidden": true
    }
   },
   "outputs": [
    {
     "data": {
      "text/plain": [
       "<matplotlib.axes._subplots.AxesSubplot at 0x1f6673f8390>"
      ]
     },
     "execution_count": 505,
     "metadata": {},
     "output_type": "execute_result"
    },
    {
     "data": {
      "image/png": "[encoded data removed]",
      "text/plain": [
       "<Figure size 432x288 with 1 Axes>"
      ]
     },
     "metadata": {
      "needs_background": "light"
     },
     "output_type": "display_data"
    }
   ],
   "source": [
    "kt['OP_RESULT'].plot()"
   ]
  },
  {
   "cell_type": "code",
   "execution_count": 968,
   "metadata": {},
   "outputs": [],
   "source": [
    "params =np.array_split([i for i in combinations(range(10,250,10),2)], mp.cpu_count() - 1)\n",
    "if __name__ == '__main__':\n",
    "    pool = mp.Pool(processes = (mp.cpu_count()-1))\n",
    "    results = pool.map(td.worker, params)\n",
    "    \n",
    "    pool.close()\n",
    "    pool.join()"
   ]
  },
  {
   "cell_type": "code",
   "execution_count": 969,
   "metadata": {},
   "outputs": [],
   "source": [
    "results= [pd.concat(i,axis=1) for i in results]"
   ]
  },
  {
   "cell_type": "code",
   "execution_count": 970,
   "metadata": {},
   "outputs": [],
   "source": [
    "c "
   ]
  },
  {
   "cell_type": "code",
   "execution_count": 971,
   "metadata": {},
   "outputs": [],
   "source": [
    "results.columns=pd.MultiIndex.from_tuples([i for i in combinations(range(10,250,10),2)])"
   ]
  },
  {
   "cell_type": "code",
   "execution_count": 985,
   "metadata": {},
   "outputs": [
    {
     "data": {
      "text/plain": [
       "Date\n",
       "2010-01-26     65524.0\n",
       "2010-01-27     65070.0\n",
       "2010-01-28     65588.0\n",
       "2010-01-29     65402.0\n",
       "2010-02-01     66572.0\n",
       "                ...   \n",
       "2020-01-20    118862.0\n",
       "2020-01-21    117026.0\n",
       "2020-01-22    118391.0\n",
       "2020-01-23    119528.0\n",
       "2020-01-24    118376.0\n",
       "Name: ^BVSP, Length: 2609, dtype: float64"
      ]
     },
     "execution_count": 985,
     "metadata": {},
     "output_type": "execute_result"
    }
   ],
   "source": [
    "data1['^BVSP']"
   ]
  },
  {
   "cell_type": "code",
   "execution_count": 986,
   "metadata": {},
   "outputs": [],
   "source": [
    "dic={}\n",
    "for i in [i for i in combinations(range(10,250,10),2)]:\n",
    "    ret=(results[(i[0] ,i[1])]/results[(i[0] ,i[1])].shift(1))\n",
    "    rf=(data1['^BVSP'][data1.index<='2019-01-01']/data1['^BVSP'][data1.index<='2019-01-01'].shift(1))\n",
    "    excess_ret=(ret-rf).rolling(252,min_periods=100).mean()\n",
    "    std_ret=(ret-rf).rolling(252,min_periods=100).std()\n",
    "    dic[i]=(excess_ret/std_ret)*np.sqrt(252)"
   ]
  },
  {
   "cell_type": "code",
   "execution_count": 987,
   "metadata": {},
   "outputs": [
    {
     "data": {
      "text/plain": [
       "Date\n",
       "2010-07-13    1.479868\n",
       "2010-07-14    1.242051\n",
       "2010-07-15    1.220039\n",
       "2010-07-16    1.204431\n",
       "2010-07-19    0.985406\n",
       "                ...   \n",
       "2018-12-26   -1.956467\n",
       "2018-12-27   -2.077007\n",
       "2018-12-28   -2.351506\n",
       "2018-12-31   -2.241101\n",
       "2019-01-01   -2.225853\n",
       "Length: 2211, dtype: float64"
      ]
     },
     "execution_count": 987,
     "metadata": {},
     "output_type": "execute_result"
    }
   ],
   "source": [
    "dic[(10,20)].dropna()"
   ]
  },
  {
   "cell_type": "code",
   "execution_count": 988,
   "metadata": {},
   "outputs": [],
   "source": [
    "heat=pd.DataFrame(dic).iloc[-1].reset_index()"
   ]
  },
  {
   "cell_type": "code",
   "execution_count": 989,
   "metadata": {},
   "outputs": [
    {
     "data": {
      "text/plain": [
       "10   20    -2.225853\n",
       "     30    -2.551258\n",
       "     40    -2.006883\n",
       "     50    -1.801252\n",
       "     60    -1.351957\n",
       "              ...   \n",
       "210  230    1.419142\n",
       "     240    2.060403\n",
       "220  230    1.873435\n",
       "     240    0.283199\n",
       "230  240    0.713456\n",
       "Name: 2019-01-01 00:00:00, Length: 276, dtype: float64"
      ]
     },
     "execution_count": 989,
     "metadata": {},
     "output_type": "execute_result"
    }
   ],
   "source": []
  },
  {
   "cell_type": "code",
   "execution_count": 998,
   "metadata": {},
   "outputs": [
    {
     "data": {
      "text/plain": [
       "(190, 200)"
      ]
     },
     "execution_count": 998,
     "metadata": {},
     "output_type": "execute_result"
    }
   ],
   "source": [
    "idxmax()"
   ]
  },
  {
   "cell_type": "code",
   "execution_count": 1014,
   "metadata": {},
   "outputs": [
    {
     "data": {
      "text/plain": [
       "10   20      0.357958\n",
       "     30      0.765254\n",
       "     80      0.775797\n",
       "     60      0.795828\n",
       "     40      0.821227\n",
       "              ...    \n",
       "80   200    14.031701\n",
       "100  110    14.438650\n",
       "90   240    14.526135\n",
       "220  230    15.243111\n",
       "190  200    23.924061\n",
       "Name: 2019-01-01 00:00:00, Length: 276, dtype: float64"
      ]
     },
     "execution_count": 1014,
     "metadata": {},
     "output_type": "execute_result"
    }
   ],
   "source": [
    "results.iloc[-1].sort_values()"
   ]
  },
  {
   "cell_type": "code",
   "execution_count": 1008,
   "metadata": {},
   "outputs": [
    {
     "data": {
      "text/html": [
       "<div>\n",
       "<style scoped>\n",
       "    .dataframe tbody tr th:only-of-type {\n",
       "        vertical-align: middle;\n",
       "    }\n",
       "\n",
       "    .dataframe tbody tr th {\n",
       "        vertical-align: top;\n",
       "    }\n",
       "\n",
       "    .dataframe thead th {\n",
       "        text-align: right;\n",
       "    }\n",
       "</style>\n",
       "<table border=\"1\" class=\"dataframe\">\n",
       "  <thead>\n",
       "    <tr style=\"text-align: right;\">\n",
       "      <th></th>\n",
       "      <th>1</th>\n",
       "      <th>2</th>\n",
       "      <th>3</th>\n",
       "    </tr>\n",
       "  </thead>\n",
       "  <tbody>\n",
       "    <tr>\n",
       "      <th>1</th>\n",
       "      <td>10</td>\n",
       "      <td>30</td>\n",
       "      <td>-2.551258</td>\n",
       "    </tr>\n",
       "    <tr>\n",
       "      <th>0</th>\n",
       "      <td>10</td>\n",
       "      <td>20</td>\n",
       "      <td>-2.225853</td>\n",
       "    </tr>\n",
       "    <tr>\n",
       "      <th>2</th>\n",
       "      <td>10</td>\n",
       "      <td>40</td>\n",
       "      <td>-2.006883</td>\n",
       "    </tr>\n",
       "    <tr>\n",
       "      <th>7</th>\n",
       "      <td>10</td>\n",
       "      <td>90</td>\n",
       "      <td>-1.887041</td>\n",
       "    </tr>\n",
       "    <tr>\n",
       "      <th>6</th>\n",
       "      <td>10</td>\n",
       "      <td>80</td>\n",
       "      <td>-1.826480</td>\n",
       "    </tr>\n",
       "    <tr>\n",
       "      <th>...</th>\n",
       "      <td>...</td>\n",
       "      <td>...</td>\n",
       "      <td>...</td>\n",
       "    </tr>\n",
       "    <tr>\n",
       "      <th>223</th>\n",
       "      <td>140</td>\n",
       "      <td>170</td>\n",
       "      <td>2.294837</td>\n",
       "    </tr>\n",
       "    <tr>\n",
       "      <th>167</th>\n",
       "      <td>90</td>\n",
       "      <td>210</td>\n",
       "      <td>2.355530</td>\n",
       "    </tr>\n",
       "    <tr>\n",
       "      <th>184</th>\n",
       "      <td>100</td>\n",
       "      <td>240</td>\n",
       "      <td>2.370438</td>\n",
       "    </tr>\n",
       "    <tr>\n",
       "      <th>166</th>\n",
       "      <td>90</td>\n",
       "      <td>200</td>\n",
       "      <td>2.414900</td>\n",
       "    </tr>\n",
       "    <tr>\n",
       "      <th>261</th>\n",
       "      <td>190</td>\n",
       "      <td>200</td>\n",
       "      <td>2.518762</td>\n",
       "    </tr>\n",
       "  </tbody>\n",
       "</table>\n",
       "<p>276 rows × 3 columns</p>\n",
       "</div>"
      ],
      "text/plain": [
       "       1    2         3\n",
       "1     10   30 -2.551258\n",
       "0     10   20 -2.225853\n",
       "2     10   40 -2.006883\n",
       "7     10   90 -1.887041\n",
       "6     10   80 -1.826480\n",
       "..   ...  ...       ...\n",
       "223  140  170  2.294837\n",
       "167   90  210  2.355530\n",
       "184  100  240  2.370438\n",
       "166   90  200  2.414900\n",
       "261  190  200  2.518762\n",
       "\n",
       "[276 rows x 3 columns]"
      ]
     },
     "execution_count": 1008,
     "metadata": {},
     "output_type": "execute_result"
    }
   ],
   "source": [
    "heat2.sort_values(by=3)"
   ]
  },
  {
   "cell_type": "code",
   "execution_count": 1030,
   "metadata": {},
   "outputs": [
    {
     "data": {
      "text/plain": [
       "<matplotlib.axes._subplots.AxesSubplot at 0x1f63ecf7ba8>"
      ]
     },
     "execution_count": 1030,
     "metadata": {},
     "output_type": "execute_result"
    },
    {
     "data": {
      "image/png": "[encoded data removed]",
      "text/plain": [
       "<Figure size 432x288 with 1 Axes>"
      ]
     },
     "metadata": {
      "needs_background": "light"
     },
     "output_type": "display_data"
    }
   ],
   "source": [
    "sns.lineplot(data=results[[(90,200),(220,230),(140,170),(100,110)]])"
   ]
  },
  {
   "cell_type": "code",
   "execution_count": 1028,
   "metadata": {},
   "outputs": [
    {
     "data": {
      "text/plain": [
       "<matplotlib.axes._subplots.AxesSubplot at 0x1f63ec9d0f0>"
      ]
     },
     "execution_count": 1028,
     "metadata": {},
     "output_type": "execute_result"
    },
    {
     "data": {
      "image/png": "[encoded data removed]",
      "text/plain": [
       "<Figure size 432x288 with 1 Axes>"
      ]
     },
     "metadata": {
      "needs_background": "light"
     },
     "output_type": "display_data"
    }
   ],
   "source": [
    "sns.lineplot(data=pd.DataFrame(dic)[[(90,200),(220,230),(140,170),(100,110)]])"
   ]
  },
  {
   "cell_type": "code",
   "execution_count": 1025,
   "metadata": {},
   "outputs": [
    {
     "data": {
      "text/plain": [
       "<matplotlib.axes._subplots.AxesSubplot at 0x1f63eb93b38>"
      ]
     },
     "execution_count": 1025,
     "metadata": {},
     "output_type": "execute_result"
    },
    {
     "data": {
      "image/png": "[encoded data removed]",
      "text/plain": [
       "<Figure size 432x288 with 1 Axes>"
      ]
     },
     "metadata": {
      "needs_background": "light"
     },
     "output_type": "display_data"
    }
   ],
   "source": [
    "pd.DataFrame(dic)[[(90,200),(220,230),(140,170),(100,110)]].plot()"
   ]
  },
  {
   "cell_type": "code",
   "execution_count": 1044,
   "metadata": {},
   "outputs": [],
   "source": [
    "t=td.worker([(100,110)])"
   ]
  },
  {
   "cell_type": "code",
   "execution_count": 1052,
   "metadata": {},
   "outputs": [
    {
     "data": {
      "text/plain": [
       "<matplotlib.axes._subplots.AxesSubplot at 0x1f63e8c4be0>"
      ]
     },
     "execution_count": 1052,
     "metadata": {},
     "output_type": "execute_result"
    },
    {
     "data": {
      "image/png": "[encoded data removed]",
      "text/plain": [
       "<Figure size 432x288 with 1 Axes>"
      ]
     },
     "metadata": {
      "needs_background": "light"
     },
     "output_type": "display_data"
    }
   ],
   "source": [
    "(data1['^BVSP'] [ data1.index>='2019-01-01']/data1.loc['2019-01-02','^BVSP']).plot()"
   ]
  },
  {
   "cell_type": "code",
   "execution_count": 1054,
   "metadata": {},
   "outputs": [
    {
     "data": {
      "text/plain": [
       "<matplotlib.axes._subplots.AxesSubplot at 0x1f6484dd470>"
      ]
     },
     "execution_count": 1054,
     "metadata": {},
     "output_type": "execute_result"
    },
    {
     "data": {
      "image/png": "[encoded data removed]",
      "text/plain": [
       "<Figure size 432x288 with 1 Axes>"
      ]
     },
     "metadata": {
      "needs_background": "light"
     },
     "output_type": "display_data"
    }
   ],
   "source": [
    "(t[0]-(data1['^BVSP'] [ data1.index>='2019-01-01']/data1.loc['2019-01-02','^BVSP'])).plot()"
   ]
  },
  {
   "cell_type": "code",
   "execution_count": 1057,
   "metadata": {},
   "outputs": [],
   "source": [
    "dic={}\n",
    "#for i in [i for i in combinations(range(10,250,10),2)]:\n",
    "ret=t[0]/t[0].shift(1)\n",
    "rf=(data1['^BVSP'][data1.index>='2019-01-01']/data1['^BVSP'][data1.index>='2019-01-01'].shift(1))\n",
    "excess_ret=(ret-rf).rolling(252,min_periods=100).mean()\n",
    "std_ret=(ret-rf).rolling(252,min_periods=100).std()\n",
    "dic[i]=(excess_ret/std_ret)*np.sqrt(252)"
   ]
  },
  {
   "cell_type": "code",
   "execution_count": 1062,
   "metadata": {},
   "outputs": [
    {
     "data": {
      "text/plain": [
       "<matplotlib.axes._subplots.AxesSubplot at 0x1f648556ac8>"
      ]
     },
     "execution_count": 1062,
     "metadata": {},
     "output_type": "execute_result"
    },
    {
     "data": {
      "image/png": "[encoded data removed]",
      "text/plain": [
       "<Figure size 432x288 with 1 Axes>"
      ]
     },
     "metadata": {
      "needs_background": "light"
     },
     "output_type": "display_data"
    }
   ],
   "source": [
    "dic[(230, 240)].plot()"
   ]
  },
  {
   "cell_type": "code",
   "execution_count": 1065,
   "metadata": {},
   "outputs": [],
   "source": [
    "k=[td.stop_loss(td.calculate_returns(td.troca_posicao(td.estrategia_mmovel(data1[x],110,100))),0.95) for  x in  data1.columns ]"
   ]
  },
  {
   "cell_type": "code",
   "execution_count": 1072,
   "metadata": {},
   "outputs": [],
   "source": [
    "kk=pd.concat([i for i in k  if  len(i)!=0],axis=1)"
   ]
  },
  {
   "cell_type": "code",
   "execution_count": 1095,
   "metadata": {},
   "outputs": [],
   "source": [
    "cols= n.columns[kk['DECISAO'].loc['2020-01-01']==0]"
   ]
  },
  {
   "cell_type": "code",
   "execution_count": 1096,
   "metadata": {},
   "outputs": [
    {
     "data": {
      "text/plain": [
       "Index(['BBDC3.SA', 'BRAP4.SA', 'BRL=X', 'BRML3.SA', 'BTOW3.SA', 'CCRO3.SA',\n",
       "       'CIEL3.SA', 'CSAN3.SA', 'CYRE3.SA', 'EQTL3.SA', 'FLRY3.SA', 'GGBR4.SA',\n",
       "       'GOAU4.SA', 'HYPE3.SA', 'LAME4.SA', 'LREN3.SA', 'MULT3.SA', 'NATU3.SA',\n",
       "       'PETR3.SA', 'RADL3.SA', 'RENT3.SA', 'SPY', 'TIMP3.SA', 'VALE3.SA',\n",
       "       'YDUQ3.SA', '^BVSP', '^N225'],\n",
       "      dtype='object')"
      ]
     },
     "execution_count": 1096,
     "metadata": {},
     "output_type": "execute_result"
    }
   ],
   "source": [
    "cols"
   ]
  },
  {
   "cell_type": "code",
   "execution_count": 1097,
   "metadata": {},
   "outputs": [],
   "source": [
    "n=kk[kk.columns[::8]]"
   ]
  },
  {
   "cell_type": "code",
   "execution_count": 1106,
   "metadata": {},
   "outputs": [],
   "source": [
    "pesos=pd.notnull(rets).sum(axis=1)"
   ]
  },
  {
   "cell_type": "code",
   "execution_count": 1110,
   "metadata": {},
   "outputs": [
    {
     "data": {
      "text/plain": [
       "Date\n",
       "2020-01-01     0\n",
       "2020-01-02     1\n",
       "2020-01-03    25\n",
       "2020-01-06    25\n",
       "2020-01-07    26\n",
       "2020-01-08    26\n",
       "2020-01-09    25\n",
       "2020-01-10    25\n",
       "2020-01-13    24\n",
       "2020-01-14    24\n",
       "2020-01-15    24\n",
       "2020-01-16    24\n",
       "2020-01-17    23\n",
       "2020-01-20    22\n",
       "2020-01-21     1\n",
       "2020-01-22     1\n",
       "2020-01-23     1\n",
       "2020-01-24     1\n",
       "dtype: int64"
      ]
     },
     "execution_count": 1110,
     "metadata": {},
     "output_type": "execute_result"
    }
   ],
   "source": [
    "pesos\n"
   ]
  },
  {
   "cell_type": "code",
   "execution_count": 1118,
   "metadata": {},
   "outputs": [],
   "source": [
    "rets=(n[cols][n.index>='2020-01-01']/n[cols][n.index>='2020-01-01'].shift(1))"
   ]
  },
  {
   "cell_type": "code",
   "execution_count": 1121,
   "metadata": {},
   "outputs": [
    {
     "data": {
      "text/plain": [
       "Date\n",
       "2020-01-01         NaN\n",
       "2020-01-02    0.999878\n",
       "2020-01-03    1.002464\n",
       "2020-01-06    0.996993\n",
       "2020-01-07    1.000385\n",
       "2020-01-08    0.994804\n",
       "2020-01-09    1.002558\n",
       "2020-01-10    1.000939\n",
       "2020-01-13    1.018548\n",
       "2020-01-14    1.008197\n",
       "2020-01-15    0.993161\n",
       "2020-01-16    1.004520\n",
       "2020-01-17    1.014580\n",
       "2020-01-20    1.014452\n",
       "2020-01-21    0.989808\n",
       "2020-01-22    0.990868\n",
       "2020-01-23    1.019412\n",
       "2020-01-24    1.000769\n",
       "dtype: float64"
      ]
     },
     "execution_count": 1121,
     "metadata": {},
     "output_type": "execute_result"
    }
   ],
   "source": [
    "(rets.sum(axis=1)/pesos)"
   ]
  },
  {
   "cell_type": "code",
   "execution_count": 1122,
   "metadata": {},
   "outputs": [
    {
     "data": {
      "text/html": [
       "<div>\n",
       "<style scoped>\n",
       "    .dataframe tbody tr th:only-of-type {\n",
       "        vertical-align: middle;\n",
       "    }\n",
       "\n",
       "    .dataframe tbody tr th {\n",
       "        vertical-align: top;\n",
       "    }\n",
       "\n",
       "    .dataframe thead th {\n",
       "        text-align: right;\n",
       "    }\n",
       "</style>\n",
       "<table border=\"1\" class=\"dataframe\">\n",
       "  <thead>\n",
       "    <tr style=\"text-align: right;\">\n",
       "      <th></th>\n",
       "      <th>BBDC3.SA</th>\n",
       "      <th>BRAP4.SA</th>\n",
       "      <th>BRL=X</th>\n",
       "      <th>BRML3.SA</th>\n",
       "      <th>BTOW3.SA</th>\n",
       "      <th>CCRO3.SA</th>\n",
       "      <th>CIEL3.SA</th>\n",
       "      <th>CSAN3.SA</th>\n",
       "      <th>CYRE3.SA</th>\n",
       "      <th>EQTL3.SA</th>\n",
       "      <th>...</th>\n",
       "      <th>NATU3.SA</th>\n",
       "      <th>PETR3.SA</th>\n",
       "      <th>RADL3.SA</th>\n",
       "      <th>RENT3.SA</th>\n",
       "      <th>SPY</th>\n",
       "      <th>TIMP3.SA</th>\n",
       "      <th>VALE3.SA</th>\n",
       "      <th>YDUQ3.SA</th>\n",
       "      <th>^BVSP</th>\n",
       "      <th>^N225</th>\n",
       "    </tr>\n",
       "    <tr>\n",
       "      <th>Date</th>\n",
       "      <th></th>\n",
       "      <th></th>\n",
       "      <th></th>\n",
       "      <th></th>\n",
       "      <th></th>\n",
       "      <th></th>\n",
       "      <th></th>\n",
       "      <th></th>\n",
       "      <th></th>\n",
       "      <th></th>\n",
       "      <th></th>\n",
       "      <th></th>\n",
       "      <th></th>\n",
       "      <th></th>\n",
       "      <th></th>\n",
       "      <th></th>\n",
       "      <th></th>\n",
       "      <th></th>\n",
       "      <th></th>\n",
       "      <th></th>\n",
       "      <th></th>\n",
       "    </tr>\n",
       "  </thead>\n",
       "  <tbody>\n",
       "    <tr>\n",
       "      <th>2020-01-01</th>\n",
       "      <td>NaN</td>\n",
       "      <td>NaN</td>\n",
       "      <td>NaN</td>\n",
       "      <td>NaN</td>\n",
       "      <td>NaN</td>\n",
       "      <td>NaN</td>\n",
       "      <td>NaN</td>\n",
       "      <td>NaN</td>\n",
       "      <td>NaN</td>\n",
       "      <td>NaN</td>\n",
       "      <td>...</td>\n",
       "      <td>NaN</td>\n",
       "      <td>NaN</td>\n",
       "      <td>NaN</td>\n",
       "      <td>NaN</td>\n",
       "      <td>NaN</td>\n",
       "      <td>NaN</td>\n",
       "      <td>NaN</td>\n",
       "      <td>NaN</td>\n",
       "      <td>NaN</td>\n",
       "      <td>NaN</td>\n",
       "    </tr>\n",
       "    <tr>\n",
       "      <th>2020-01-02</th>\n",
       "      <td>NaN</td>\n",
       "      <td>NaN</td>\n",
       "      <td>0.999878</td>\n",
       "      <td>NaN</td>\n",
       "      <td>NaN</td>\n",
       "      <td>NaN</td>\n",
       "      <td>NaN</td>\n",
       "      <td>NaN</td>\n",
       "      <td>NaN</td>\n",
       "      <td>NaN</td>\n",
       "      <td>...</td>\n",
       "      <td>NaN</td>\n",
       "      <td>NaN</td>\n",
       "      <td>NaN</td>\n",
       "      <td>NaN</td>\n",
       "      <td>NaN</td>\n",
       "      <td>NaN</td>\n",
       "      <td>NaN</td>\n",
       "      <td>NaN</td>\n",
       "      <td>NaN</td>\n",
       "      <td>NaN</td>\n",
       "    </tr>\n",
       "    <tr>\n",
       "      <th>2020-01-03</th>\n",
       "      <td>0.997632</td>\n",
       "      <td>1.011805</td>\n",
       "      <td>1.001768</td>\n",
       "      <td>1.030991</td>\n",
       "      <td>1.000000</td>\n",
       "      <td>0.991034</td>\n",
       "      <td>1.010753</td>\n",
       "      <td>1.015419</td>\n",
       "      <td>1.068404</td>\n",
       "      <td>1.006053</td>\n",
       "      <td>...</td>\n",
       "      <td>NaN</td>\n",
       "      <td>0.983098</td>\n",
       "      <td>0.985776</td>\n",
       "      <td>1.000409</td>\n",
       "      <td>0.992428</td>\n",
       "      <td>0.999368</td>\n",
       "      <td>0.997595</td>\n",
       "      <td>0.964391</td>\n",
       "      <td>0.992696</td>\n",
       "      <td>NaN</td>\n",
       "    </tr>\n",
       "    <tr>\n",
       "      <th>2020-01-06</th>\n",
       "      <td>0.994264</td>\n",
       "      <td>1.004667</td>\n",
       "      <td>1.008351</td>\n",
       "      <td>0.993022</td>\n",
       "      <td>0.993779</td>\n",
       "      <td>0.974454</td>\n",
       "      <td>0.975177</td>\n",
       "      <td>0.994118</td>\n",
       "      <td>0.990854</td>\n",
       "      <td>1.001289</td>\n",
       "      <td>...</td>\n",
       "      <td>NaN</td>\n",
       "      <td>1.032510</td>\n",
       "      <td>0.980315</td>\n",
       "      <td>0.988344</td>\n",
       "      <td>1.003815</td>\n",
       "      <td>0.998734</td>\n",
       "      <td>0.994066</td>\n",
       "      <td>1.019227</td>\n",
       "      <td>0.992957</td>\n",
       "      <td>NaN</td>\n",
       "    </tr>\n",
       "    <tr>\n",
       "      <th>2020-01-07</th>\n",
       "      <td>0.982983</td>\n",
       "      <td>1.004387</td>\n",
       "      <td>1.000838</td>\n",
       "      <td>1.016216</td>\n",
       "      <td>0.997496</td>\n",
       "      <td>1.022392</td>\n",
       "      <td>0.970909</td>\n",
       "      <td>1.018027</td>\n",
       "      <td>1.003077</td>\n",
       "      <td>0.994850</td>\n",
       "      <td>...</td>\n",
       "      <td>NaN</td>\n",
       "      <td>0.986376</td>\n",
       "      <td>0.986280</td>\n",
       "      <td>1.009725</td>\n",
       "      <td>0.997188</td>\n",
       "      <td>1.010773</td>\n",
       "      <td>1.007275</td>\n",
       "      <td>0.981350</td>\n",
       "      <td>0.998152</td>\n",
       "      <td>1.015982</td>\n",
       "    </tr>\n",
       "    <tr>\n",
       "      <th>2020-01-08</th>\n",
       "      <td>0.984742</td>\n",
       "      <td>0.999743</td>\n",
       "      <td>1.001428</td>\n",
       "      <td>0.970745</td>\n",
       "      <td>1.013335</td>\n",
       "      <td>0.993056</td>\n",
       "      <td>0.977528</td>\n",
       "      <td>0.983509</td>\n",
       "      <td>0.969018</td>\n",
       "      <td>1.006902</td>\n",
       "      <td>...</td>\n",
       "      <td>NaN</td>\n",
       "      <td>0.983732</td>\n",
       "      <td>1.013358</td>\n",
       "      <td>0.995082</td>\n",
       "      <td>1.005330</td>\n",
       "      <td>1.010658</td>\n",
       "      <td>1.000185</td>\n",
       "      <td>0.994102</td>\n",
       "      <td>0.996443</td>\n",
       "      <td>0.984265</td>\n",
       "    </tr>\n",
       "    <tr>\n",
       "      <th>2020-01-09</th>\n",
       "      <td>NaN</td>\n",
       "      <td>0.987150</td>\n",
       "      <td>0.999164</td>\n",
       "      <td>1.014247</td>\n",
       "      <td>1.053414</td>\n",
       "      <td>0.975793</td>\n",
       "      <td>0.938697</td>\n",
       "      <td>0.989280</td>\n",
       "      <td>0.994935</td>\n",
       "      <td>1.011997</td>\n",
       "      <td>...</td>\n",
       "      <td>NaN</td>\n",
       "      <td>1.005616</td>\n",
       "      <td>1.030091</td>\n",
       "      <td>1.005354</td>\n",
       "      <td>1.006781</td>\n",
       "      <td>0.986352</td>\n",
       "      <td>0.986854</td>\n",
       "      <td>1.008789</td>\n",
       "      <td>0.997419</td>\n",
       "      <td>1.023060</td>\n",
       "    </tr>\n",
       "    <tr>\n",
       "      <th>2020-01-10</th>\n",
       "      <td>NaN</td>\n",
       "      <td>0.996876</td>\n",
       "      <td>1.007212</td>\n",
       "      <td>1.007023</td>\n",
       "      <td>0.981481</td>\n",
       "      <td>1.001654</td>\n",
       "      <td>1.006803</td>\n",
       "      <td>1.014865</td>\n",
       "      <td>1.007000</td>\n",
       "      <td>1.011854</td>\n",
       "      <td>...</td>\n",
       "      <td>NaN</td>\n",
       "      <td>0.995966</td>\n",
       "      <td>0.969023</td>\n",
       "      <td>0.980131</td>\n",
       "      <td>0.997122</td>\n",
       "      <td>1.026415</td>\n",
       "      <td>1.001126</td>\n",
       "      <td>1.004356</td>\n",
       "      <td>0.996171</td>\n",
       "      <td>1.004663</td>\n",
       "    </tr>\n",
       "    <tr>\n",
       "      <th>2020-01-13</th>\n",
       "      <td>NaN</td>\n",
       "      <td>1.042048</td>\n",
       "      <td>0.994721</td>\n",
       "      <td>1.021459</td>\n",
       "      <td>1.035789</td>\n",
       "      <td>1.007155</td>\n",
       "      <td>1.004054</td>\n",
       "      <td>1.025599</td>\n",
       "      <td>1.018957</td>\n",
       "      <td>0.999582</td>\n",
       "      <td>...</td>\n",
       "      <td>NaN</td>\n",
       "      <td>0.999689</td>\n",
       "      <td>1.023406</td>\n",
       "      <td>1.003135</td>\n",
       "      <td>1.006877</td>\n",
       "      <td>1.000613</td>\n",
       "      <td>1.036357</td>\n",
       "      <td>1.034483</td>\n",
       "      <td>1.015774</td>\n",
       "      <td>NaN</td>\n",
       "    </tr>\n",
       "    <tr>\n",
       "      <th>2020-01-14</th>\n",
       "      <td>NaN</td>\n",
       "      <td>1.009524</td>\n",
       "      <td>1.018499</td>\n",
       "      <td>1.009454</td>\n",
       "      <td>0.988145</td>\n",
       "      <td>1.033333</td>\n",
       "      <td>1.008075</td>\n",
       "      <td>1.031901</td>\n",
       "      <td>1.007752</td>\n",
       "      <td>1.023441</td>\n",
       "      <td>...</td>\n",
       "      <td>NaN</td>\n",
       "      <td>0.991898</td>\n",
       "      <td>1.014951</td>\n",
       "      <td>1.004167</td>\n",
       "      <td>0.998475</td>\n",
       "      <td>1.004287</td>\n",
       "      <td>1.006148</td>\n",
       "      <td>1.020964</td>\n",
       "      <td>1.002617</td>\n",
       "      <td>NaN</td>\n",
       "    </tr>\n",
       "    <tr>\n",
       "      <th>2020-01-15</th>\n",
       "      <td>NaN</td>\n",
       "      <td>1.002483</td>\n",
       "      <td>NaN</td>\n",
       "      <td>0.995317</td>\n",
       "      <td>1.025750</td>\n",
       "      <td>0.978847</td>\n",
       "      <td>0.970628</td>\n",
       "      <td>0.983573</td>\n",
       "      <td>0.984615</td>\n",
       "      <td>0.991820</td>\n",
       "      <td>...</td>\n",
       "      <td>NaN</td>\n",
       "      <td>0.977694</td>\n",
       "      <td>1.002981</td>\n",
       "      <td>1.000207</td>\n",
       "      <td>1.002260</td>\n",
       "      <td>1.000610</td>\n",
       "      <td>0.996765</td>\n",
       "      <td>0.991170</td>\n",
       "      <td>0.989646</td>\n",
       "      <td>0.995480</td>\n",
       "    </tr>\n",
       "    <tr>\n",
       "      <th>2020-01-16</th>\n",
       "      <td>NaN</td>\n",
       "      <td>0.996533</td>\n",
       "      <td>NaN</td>\n",
       "      <td>0.980136</td>\n",
       "      <td>1.003566</td>\n",
       "      <td>1.014587</td>\n",
       "      <td>1.004127</td>\n",
       "      <td>1.015255</td>\n",
       "      <td>1.003750</td>\n",
       "      <td>1.006186</td>\n",
       "      <td>...</td>\n",
       "      <td>NaN</td>\n",
       "      <td>1.003213</td>\n",
       "      <td>0.995017</td>\n",
       "      <td>1.019498</td>\n",
       "      <td>1.008318</td>\n",
       "      <td>1.010969</td>\n",
       "      <td>0.994771</td>\n",
       "      <td>1.004765</td>\n",
       "      <td>1.002491</td>\n",
       "      <td>1.000692</td>\n",
       "    </tr>\n",
       "    <tr>\n",
       "      <th>2020-01-17</th>\n",
       "      <td>NaN</td>\n",
       "      <td>1.042992</td>\n",
       "      <td>NaN</td>\n",
       "      <td>1.011733</td>\n",
       "      <td>1.012791</td>\n",
       "      <td>1.013312</td>\n",
       "      <td>0.990411</td>\n",
       "      <td>1.010363</td>\n",
       "      <td>1.031445</td>\n",
       "      <td>1.004508</td>\n",
       "      <td>...</td>\n",
       "      <td>NaN</td>\n",
       "      <td>1.020179</td>\n",
       "      <td>1.016342</td>\n",
       "      <td>NaN</td>\n",
       "      <td>1.003113</td>\n",
       "      <td>1.003014</td>\n",
       "      <td>1.033170</td>\n",
       "      <td>1.030928</td>\n",
       "      <td>1.015201</td>\n",
       "      <td>1.004518</td>\n",
       "    </tr>\n",
       "    <tr>\n",
       "      <th>2020-01-20</th>\n",
       "      <td>NaN</td>\n",
       "      <td>1.010007</td>\n",
       "      <td>NaN</td>\n",
       "      <td>1.000000</td>\n",
       "      <td>1.062026</td>\n",
       "      <td>1.022070</td>\n",
       "      <td>0.975104</td>\n",
       "      <td>1.020000</td>\n",
       "      <td>1.021732</td>\n",
       "      <td>1.001224</td>\n",
       "      <td>...</td>\n",
       "      <td>NaN</td>\n",
       "      <td>1.004082</td>\n",
       "      <td>1.029651</td>\n",
       "      <td>NaN</td>\n",
       "      <td>NaN</td>\n",
       "      <td>0.985025</td>\n",
       "      <td>1.006316</td>\n",
       "      <td>1.040000</td>\n",
       "      <td>1.003241</td>\n",
       "      <td>1.001757</td>\n",
       "    </tr>\n",
       "    <tr>\n",
       "      <th>2020-01-21</th>\n",
       "      <td>NaN</td>\n",
       "      <td>NaN</td>\n",
       "      <td>NaN</td>\n",
       "      <td>NaN</td>\n",
       "      <td>NaN</td>\n",
       "      <td>NaN</td>\n",
       "      <td>NaN</td>\n",
       "      <td>NaN</td>\n",
       "      <td>NaN</td>\n",
       "      <td>NaN</td>\n",
       "      <td>...</td>\n",
       "      <td>NaN</td>\n",
       "      <td>NaN</td>\n",
       "      <td>NaN</td>\n",
       "      <td>NaN</td>\n",
       "      <td>NaN</td>\n",
       "      <td>NaN</td>\n",
       "      <td>NaN</td>\n",
       "      <td>0.989808</td>\n",
       "      <td>NaN</td>\n",
       "      <td>NaN</td>\n",
       "    </tr>\n",
       "    <tr>\n",
       "      <th>2020-01-22</th>\n",
       "      <td>NaN</td>\n",
       "      <td>NaN</td>\n",
       "      <td>NaN</td>\n",
       "      <td>NaN</td>\n",
       "      <td>NaN</td>\n",
       "      <td>NaN</td>\n",
       "      <td>NaN</td>\n",
       "      <td>NaN</td>\n",
       "      <td>NaN</td>\n",
       "      <td>NaN</td>\n",
       "      <td>...</td>\n",
       "      <td>NaN</td>\n",
       "      <td>NaN</td>\n",
       "      <td>NaN</td>\n",
       "      <td>NaN</td>\n",
       "      <td>NaN</td>\n",
       "      <td>NaN</td>\n",
       "      <td>NaN</td>\n",
       "      <td>0.990868</td>\n",
       "      <td>NaN</td>\n",
       "      <td>NaN</td>\n",
       "    </tr>\n",
       "    <tr>\n",
       "      <th>2020-01-23</th>\n",
       "      <td>NaN</td>\n",
       "      <td>NaN</td>\n",
       "      <td>NaN</td>\n",
       "      <td>NaN</td>\n",
       "      <td>NaN</td>\n",
       "      <td>NaN</td>\n",
       "      <td>NaN</td>\n",
       "      <td>NaN</td>\n",
       "      <td>NaN</td>\n",
       "      <td>NaN</td>\n",
       "      <td>...</td>\n",
       "      <td>NaN</td>\n",
       "      <td>NaN</td>\n",
       "      <td>NaN</td>\n",
       "      <td>NaN</td>\n",
       "      <td>NaN</td>\n",
       "      <td>NaN</td>\n",
       "      <td>NaN</td>\n",
       "      <td>1.019412</td>\n",
       "      <td>NaN</td>\n",
       "      <td>NaN</td>\n",
       "    </tr>\n",
       "    <tr>\n",
       "      <th>2020-01-24</th>\n",
       "      <td>NaN</td>\n",
       "      <td>NaN</td>\n",
       "      <td>NaN</td>\n",
       "      <td>NaN</td>\n",
       "      <td>NaN</td>\n",
       "      <td>NaN</td>\n",
       "      <td>NaN</td>\n",
       "      <td>NaN</td>\n",
       "      <td>NaN</td>\n",
       "      <td>NaN</td>\n",
       "      <td>...</td>\n",
       "      <td>NaN</td>\n",
       "      <td>NaN</td>\n",
       "      <td>NaN</td>\n",
       "      <td>NaN</td>\n",
       "      <td>NaN</td>\n",
       "      <td>NaN</td>\n",
       "      <td>NaN</td>\n",
       "      <td>1.000769</td>\n",
       "      <td>NaN</td>\n",
       "      <td>NaN</td>\n",
       "    </tr>\n",
       "  </tbody>\n",
       "</table>\n",
       "<p>18 rows × 27 columns</p>\n",
       "</div>"
      ],
      "text/plain": [
       "            BBDC3.SA  BRAP4.SA     BRL=X  BRML3.SA  BTOW3.SA  CCRO3.SA  \\\n",
       "Date                                                                     \n",
       "2020-01-01       NaN       NaN       NaN       NaN       NaN       NaN   \n",
       "2020-01-02       NaN       NaN  0.999878       NaN       NaN       NaN   \n",
       "2020-01-03  0.997632  1.011805  1.001768  1.030991  1.000000  0.991034   \n",
       "2020-01-06  0.994264  1.004667  1.008351  0.993022  0.993779  0.974454   \n",
       "2020-01-07  0.982983  1.004387  1.000838  1.016216  0.997496  1.022392   \n",
       "2020-01-08  0.984742  0.999743  1.001428  0.970745  1.013335  0.993056   \n",
       "2020-01-09       NaN  0.987150  0.999164  1.014247  1.053414  0.975793   \n",
       "2020-01-10       NaN  0.996876  1.007212  1.007023  0.981481  1.001654   \n",
       "2020-01-13       NaN  1.042048  0.994721  1.021459  1.035789  1.007155   \n",
       "2020-01-14       NaN  1.009524  1.018499  1.009454  0.988145  1.033333   \n",
       "2020-01-15       NaN  1.002483       NaN  0.995317  1.025750  0.978847   \n",
       "2020-01-16       NaN  0.996533       NaN  0.980136  1.003566  1.014587   \n",
       "2020-01-17       NaN  1.042992       NaN  1.011733  1.012791  1.013312   \n",
       "2020-01-20       NaN  1.010007       NaN  1.000000  1.062026  1.022070   \n",
       "2020-01-21       NaN       NaN       NaN       NaN       NaN       NaN   \n",
       "2020-01-22       NaN       NaN       NaN       NaN       NaN       NaN   \n",
       "2020-01-23       NaN       NaN       NaN       NaN       NaN       NaN   \n",
       "2020-01-24       NaN       NaN       NaN       NaN       NaN       NaN   \n",
       "\n",
       "            CIEL3.SA  CSAN3.SA  CYRE3.SA  EQTL3.SA  ...  NATU3.SA  PETR3.SA  \\\n",
       "Date                                                ...                       \n",
       "2020-01-01       NaN       NaN       NaN       NaN  ...       NaN       NaN   \n",
       "2020-01-02       NaN       NaN       NaN       NaN  ...       NaN       NaN   \n",
       "2020-01-03  1.010753  1.015419  1.068404  1.006053  ...       NaN  0.983098   \n",
       "2020-01-06  0.975177  0.994118  0.990854  1.001289  ...       NaN  1.032510   \n",
       "2020-01-07  0.970909  1.018027  1.003077  0.994850  ...       NaN  0.986376   \n",
       "2020-01-08  0.977528  0.983509  0.969018  1.006902  ...       NaN  0.983732   \n",
       "2020-01-09  0.938697  0.989280  0.994935  1.011997  ...       NaN  1.005616   \n",
       "2020-01-10  1.006803  1.014865  1.007000  1.011854  ...       NaN  0.995966   \n",
       "2020-01-13  1.004054  1.025599  1.018957  0.999582  ...       NaN  0.999689   \n",
       "2020-01-14  1.008075  1.031901  1.007752  1.023441  ...       NaN  0.991898   \n",
       "2020-01-15  0.970628  0.983573  0.984615  0.991820  ...       NaN  0.977694   \n",
       "2020-01-16  1.004127  1.015255  1.003750  1.006186  ...       NaN  1.003213   \n",
       "2020-01-17  0.990411  1.010363  1.031445  1.004508  ...       NaN  1.020179   \n",
       "2020-01-20  0.975104  1.020000  1.021732  1.001224  ...       NaN  1.004082   \n",
       "2020-01-21       NaN       NaN       NaN       NaN  ...       NaN       NaN   \n",
       "2020-01-22       NaN       NaN       NaN       NaN  ...       NaN       NaN   \n",
       "2020-01-23       NaN       NaN       NaN       NaN  ...       NaN       NaN   \n",
       "2020-01-24       NaN       NaN       NaN       NaN  ...       NaN       NaN   \n",
       "\n",
       "            RADL3.SA  RENT3.SA       SPY  TIMP3.SA  VALE3.SA  YDUQ3.SA  \\\n",
       "Date                                                                     \n",
       "2020-01-01       NaN       NaN       NaN       NaN       NaN       NaN   \n",
       "2020-01-02       NaN       NaN       NaN       NaN       NaN       NaN   \n",
       "2020-01-03  0.985776  1.000409  0.992428  0.999368  0.997595  0.964391   \n",
       "2020-01-06  0.980315  0.988344  1.003815  0.998734  0.994066  1.019227   \n",
       "2020-01-07  0.986280  1.009725  0.997188  1.010773  1.007275  0.981350   \n",
       "2020-01-08  1.013358  0.995082  1.005330  1.010658  1.000185  0.994102   \n",
       "2020-01-09  1.030091  1.005354  1.006781  0.986352  0.986854  1.008789   \n",
       "2020-01-10  0.969023  0.980131  0.997122  1.026415  1.001126  1.004356   \n",
       "2020-01-13  1.023406  1.003135  1.006877  1.000613  1.036357  1.034483   \n",
       "2020-01-14  1.014951  1.004167  0.998475  1.004287  1.006148  1.020964   \n",
       "2020-01-15  1.002981  1.000207  1.002260  1.000610  0.996765  0.991170   \n",
       "2020-01-16  0.995017  1.019498  1.008318  1.010969  0.994771  1.004765   \n",
       "2020-01-17  1.016342       NaN  1.003113  1.003014  1.033170  1.030928   \n",
       "2020-01-20  1.029651       NaN       NaN  0.985025  1.006316  1.040000   \n",
       "2020-01-21       NaN       NaN       NaN       NaN       NaN  0.989808   \n",
       "2020-01-22       NaN       NaN       NaN       NaN       NaN  0.990868   \n",
       "2020-01-23       NaN       NaN       NaN       NaN       NaN  1.019412   \n",
       "2020-01-24       NaN       NaN       NaN       NaN       NaN  1.000769   \n",
       "\n",
       "               ^BVSP     ^N225  \n",
       "Date                            \n",
       "2020-01-01       NaN       NaN  \n",
       "2020-01-02       NaN       NaN  \n",
       "2020-01-03  0.992696       NaN  \n",
       "2020-01-06  0.992957       NaN  \n",
       "2020-01-07  0.998152  1.015982  \n",
       "2020-01-08  0.996443  0.984265  \n",
       "2020-01-09  0.997419  1.023060  \n",
       "2020-01-10  0.996171  1.004663  \n",
       "2020-01-13  1.015774       NaN  \n",
       "2020-01-14  1.002617       NaN  \n",
       "2020-01-15  0.989646  0.995480  \n",
       "2020-01-16  1.002491  1.000692  \n",
       "2020-01-17  1.015201  1.004518  \n",
       "2020-01-20  1.003241  1.001757  \n",
       "2020-01-21       NaN       NaN  \n",
       "2020-01-22       NaN       NaN  \n",
       "2020-01-23       NaN       NaN  \n",
       "2020-01-24       NaN       NaN  \n",
       "\n",
       "[18 rows x 27 columns]"
      ]
     },
     "execution_count": 1122,
     "metadata": {},
     "output_type": "execute_result"
    }
   ],
   "source": [
    "rets"
   ]
  },
  {
   "cell_type": "code",
   "execution_count": 1120,
   "metadata": {},
   "outputs": [
    {
     "data": {
      "text/plain": [
       "Date\n",
       "2020-01-01         NaN\n",
       "2020-01-02    0.999878\n",
       "2020-01-03    1.002342\n",
       "2020-01-06    0.999328\n",
       "2020-01-07    0.999712\n",
       "2020-01-08    0.994518\n",
       "2020-01-09    0.997062\n",
       "2020-01-10    0.997999\n",
       "2020-01-13    1.016510\n",
       "2020-01-14    1.024842\n",
       "2020-01-15    1.017833\n",
       "2020-01-16    1.022434\n",
       "2020-01-17    1.037341\n",
       "2020-01-20    1.052333\n",
       "2020-01-21    1.041607\n",
       "2020-01-22    1.032095\n",
       "2020-01-23    1.052130\n",
       "2020-01-24    1.052940\n",
       "dtype: float64"
      ]
     },
     "execution_count": 1120,
     "metadata": {},
     "output_type": "execute_result"
    }
   ],
   "source": [
    "(rets.sum(axis=1)/pesos).cumprod()"
   ]
  },
  {
   "cell_type": "code",
   "execution_count": 992,
   "metadata": {},
   "outputs": [],
   "source": [
    "heat=results.iloc[-1].reset_index()"
   ]
  },
  {
   "cell_type": "code",
   "execution_count": 993,
   "metadata": {},
   "outputs": [],
   "source": [
    "heat.columns=[1,2,3]"
   ]
  },
  {
   "cell_type": "code",
   "execution_count": 994,
   "metadata": {},
   "outputs": [
    {
     "data": {
      "text/html": [
       "<div>\n",
       "<style scoped>\n",
       "    .dataframe tbody tr th:only-of-type {\n",
       "        vertical-align: middle;\n",
       "    }\n",
       "\n",
       "    .dataframe tbody tr th {\n",
       "        vertical-align: top;\n",
       "    }\n",
       "\n",
       "    .dataframe thead th {\n",
       "        text-align: right;\n",
       "    }\n",
       "</style>\n",
       "<table border=\"1\" class=\"dataframe\">\n",
       "  <thead>\n",
       "    <tr style=\"text-align: right;\">\n",
       "      <th></th>\n",
       "      <th>1</th>\n",
       "      <th>2</th>\n",
       "      <th>3</th>\n",
       "    </tr>\n",
       "  </thead>\n",
       "  <tbody>\n",
       "    <tr>\n",
       "      <th>66</th>\n",
       "      <td>40</td>\n",
       "      <td>50</td>\n",
       "      <td>3.218261</td>\n",
       "    </tr>\n",
       "    <tr>\n",
       "      <th>67</th>\n",
       "      <td>40</td>\n",
       "      <td>60</td>\n",
       "      <td>5.253050</td>\n",
       "    </tr>\n",
       "    <tr>\n",
       "      <th>68</th>\n",
       "      <td>40</td>\n",
       "      <td>70</td>\n",
       "      <td>4.728514</td>\n",
       "    </tr>\n",
       "    <tr>\n",
       "      <th>69</th>\n",
       "      <td>40</td>\n",
       "      <td>80</td>\n",
       "      <td>9.382848</td>\n",
       "    </tr>\n",
       "    <tr>\n",
       "      <th>70</th>\n",
       "      <td>40</td>\n",
       "      <td>90</td>\n",
       "      <td>6.281542</td>\n",
       "    </tr>\n",
       "    <tr>\n",
       "      <th>...</th>\n",
       "      <td>...</td>\n",
       "      <td>...</td>\n",
       "      <td>...</td>\n",
       "    </tr>\n",
       "    <tr>\n",
       "      <th>271</th>\n",
       "      <td>210</td>\n",
       "      <td>230</td>\n",
       "      <td>5.471680</td>\n",
       "    </tr>\n",
       "    <tr>\n",
       "      <th>272</th>\n",
       "      <td>210</td>\n",
       "      <td>240</td>\n",
       "      <td>8.545011</td>\n",
       "    </tr>\n",
       "    <tr>\n",
       "      <th>273</th>\n",
       "      <td>220</td>\n",
       "      <td>230</td>\n",
       "      <td>15.243111</td>\n",
       "    </tr>\n",
       "    <tr>\n",
       "      <th>274</th>\n",
       "      <td>220</td>\n",
       "      <td>240</td>\n",
       "      <td>8.193899</td>\n",
       "    </tr>\n",
       "    <tr>\n",
       "      <th>275</th>\n",
       "      <td>230</td>\n",
       "      <td>240</td>\n",
       "      <td>8.965142</td>\n",
       "    </tr>\n",
       "  </tbody>\n",
       "</table>\n",
       "<p>210 rows × 3 columns</p>\n",
       "</div>"
      ],
      "text/plain": [
       "       1    2          3\n",
       "66    40   50   3.218261\n",
       "67    40   60   5.253050\n",
       "68    40   70   4.728514\n",
       "69    40   80   9.382848\n",
       "70    40   90   6.281542\n",
       "..   ...  ...        ...\n",
       "271  210  230   5.471680\n",
       "272  210  240   8.545011\n",
       "273  220  230  15.243111\n",
       "274  220  240   8.193899\n",
       "275  230  240   8.965142\n",
       "\n",
       "[210 rows x 3 columns]"
      ]
     },
     "execution_count": 994,
     "metadata": {},
     "output_type": "execute_result"
    }
   ],
   "source": [
    "heat[heat[1]>30]"
   ]
  },
  {
   "cell_type": "code",
   "execution_count": 995,
   "metadata": {},
   "outputs": [
    {
     "data": {
      "text/plain": [
       "<matplotlib.axes._subplots.AxesSubplot at 0x1f60cd31128>"
      ]
     },
     "execution_count": 995,
     "metadata": {},
     "output_type": "execute_result"
    },
    {
     "data": {
      "image/png": "[encoded data removed]",
      "text/plain": [
       "<Figure size 432x288 with 2 Axes>"
      ]
     },
     "metadata": {
      "needs_background": "light"
     },
     "output_type": "display_data"
    }
   ],
   "source": [
    "sns.heatmap(heat[heat[1]>30].pivot(1,2,3))"
   ]
  },
  {
   "cell_type": "code",
   "execution_count": 999,
   "metadata": {},
   "outputs": [
    {
     "data": {
      "text/plain": [
       "<matplotlib.axes._subplots.AxesSubplot at 0x1f63e963668>"
      ]
     },
     "execution_count": 999,
     "metadata": {},
     "output_type": "execute_result"
    },
    {
     "data": {
      "image/png": "[encoded data removed]",
      "text/plain": [
       "<Figure size 432x288 with 2 Axes>"
      ]
     },
     "metadata": {
      "needs_background": "light"
     },
     "output_type": "display_data"
    }
   ],
   "source": [
    "heat2=pd.DataFrame(dic).iloc[-1].reset_index()\n",
    "heat2.columns=[1,2,3]\n",
    "sns.heatmap(heat2[heat2[1]>30].pivot(1,2,3))"
   ]
  },
  {
   "cell_type": "code",
   "execution_count": 6,
   "metadata": {
    "collapsed": true,
    "jupyter": {
     "outputs_hidden": true
    }
   },
   "outputs": [
    {
     "name": "stderr",
     "output_type": "stream",
     "text": [
      "C:\\Users\\Rafael\\Anaconda3\\lib\\site-packages\\pandas\\core\\frame.py:4117: SettingWithCopyWarning: \n",
      "A value is trying to be set on a copy of a slice from a DataFrame\n",
      "\n",
      "See the caveats in the documentation: http://pandas.pydata.org/pandas-docs/stable/user_guide/indexing.html#returning-a-view-versus-a-copy\n",
      "  errors=errors,\n"
     ]
    }
   ],
   "source": [
    "data1.drop('NAN.SA',axis=1,inplace=True)\n",
    "data1.drop('MGLU3.SA',axis=1,inplace=True)"
   ]
  },
  {
   "cell_type": "code",
   "execution_count": 56,
   "metadata": {
    "collapsed": true,
    "jupyter": {
     "outputs_hidden": true
    }
   },
   "outputs": [],
   "source": [
    "\n",
    "class estrategias:\n",
    "    decisao_previa =''  \n",
    "    preco_inicial=0\n",
    "    resultado_previo=0  \n",
    "    def estrat_retornos22(self,x):\n",
    "\n",
    "\n",
    "        if     self.resultado_previo!=0:\n",
    "            retorno_total=  (x[0]/self.preco_inicial)*self.resultado_previo  \n",
    "        if  self.preco_inicial!=0:\n",
    "            retorno_op =  x[0]/self.preco_inicial  \n",
    "\n",
    "\n",
    "\n",
    "        if x[1]=='COMPRA' and x[1]!=self.decisao_previa  :\n",
    "\n",
    "            self.preco_inicial=x[0]\n",
    "            self.decisao_previa='COMPRA'\n",
    "\n",
    "\n",
    "        elif    x[1]=='COMPRA' and x[1]==self.decisao_previa  :\n",
    "\n",
    "            if self.resultado_previo!=0:\n",
    "                return([retorno_op, retorno_total])\n",
    "            else: \n",
    "                return([retorno_op,retorno_op])\n",
    "        elif x[1]=='VENDA' and self.decisao_previa =='COMPRA':\n",
    "            self.decisao_previa='VENDA'\n",
    "            if self.resultado_previo!=0:\n",
    "                self.resultado_previo=retorno_total\n",
    "                return([retorno_op, retorno_total])\n",
    "            else :\n",
    "                self.resultado_previo = retorno_op\n",
    "                return([retorno_op,retorno_op])\n",
    "\n",
    "\n"
   ]
  },
  {
   "cell_type": "code",
   "execution_count": null,
   "metadata": {
    "collapsed": true,
    "jupyter": {
     "outputs_hidden": true
    }
   },
   "outputs": [],
   "source": []
  },
  {
   "cell_type": "code",
   "execution_count": 45,
   "metadata": {
    "collapsed": true,
    "jupyter": {
     "outputs_hidden": true
    }
   },
   "outputs": [],
   "source": [
    "\n",
    "def worker(self,params):\n",
    "    lista=[]\n",
    "    lista2 =[]\n",
    "    for n in params:\n",
    "        long=n[0]\n",
    "        short=n[1]\n",
    "        for i in self.data1.columns:\n",
    "\n",
    "            td1 =td.estrategias()\n",
    "            teste=td1.estrat_mmovel(self.data1[i],long,short)\n",
    "            td2=td.estrategias()\n",
    "\n",
    "\n",
    "\n",
    "            teste2=pd.Series([td2.estrat_retornos22((a,b)) for a, b in zip(teste[i], teste['DECISAO'])],index=teste.index ).dropna()\n",
    "            teste2=pd.DataFrame(teste2.tolist(),index=teste2.index)\n",
    "\n",
    "\n",
    "\n",
    "\n",
    "\n",
    "            teste2.columns=['RETORNO','RETORNO_TOT']\n",
    "\n",
    "            teste2= pd.concat([teste,teste2],axis=1)\n",
    "            lista.append(teste2)\n",
    "            cols=sorted(data1.columns.to_list()*6)\n",
    "        y=pd.concat(lista,axis=1)\n",
    "        y.columns=zip(cols,y)\n",
    "        y.columns=pd.MultiIndex.from_tuples(y.columns.to_list())\n",
    "        retorno=(y.xs('RETORNO_TOT',axis=1,level=1).fillna(method='ffill').fillna(1).sum(axis=1)/73)\n",
    "        lista2.append(retorno)\n",
    "#teste2 =pd.concat([teste2], keys=[i], names=['ACAO'],axis=1)\n",
    "    \n",
    "#y=pd.concat([teste2,y],axis=1)   \n",
    "#y=y.drop(['DROPAR'],axis=1)   \n",
    "#y.columns=pd.MultiIndex.from_tuples(y.columns.to_list())\n",
    "    \n"
   ]
  },
  {
   "cell_type": "code",
   "execution_count": 42,
   "metadata": {
    "collapsed": true,
    "jupyter": {
     "outputs_hidden": true
    }
   },
   "outputs": [
    {
     "name": "stdout",
     "output_type": "stream",
     "text": [
      "Date\n",
      "2014-12-26    0.986301\n",
      "2014-12-29    0.986301\n",
      "2014-12-30    0.986301\n",
      "2014-12-31    0.986301\n",
      "2015-01-01    0.986301\n",
      "                ...   \n",
      "2019-12-16    1.898031\n",
      "2019-12-17    1.897895\n",
      "2019-12-18    1.918335\n",
      "2019-12-19    1.931198\n",
      "2019-12-20    1.929348\n",
      "Length: 1301, dtype: float64\n"
     ]
    }
   ],
   "source": [
    "print(retorno\n",
    "     )"
   ]
  },
  {
   "cell_type": "code",
   "execution_count": 11,
   "metadata": {
    "collapsed": true,
    "jupyter": {
     "outputs_hidden": true
    }
   },
   "outputs": [],
   "source": [
    "cols=sorted(data1.columns.to_list()*6)"
   ]
  },
  {
   "cell_type": "code",
   "execution_count": 12,
   "metadata": {
    "collapsed": true,
    "jupyter": {
     "outputs_hidden": true
    }
   },
   "outputs": [],
   "source": [
    "y=pd.concat(lista,axis=1)"
   ]
  },
  {
   "cell_type": "code",
   "execution_count": 13,
   "metadata": {
    "collapsed": true,
    "jupyter": {
     "outputs_hidden": true
    }
   },
   "outputs": [
    {
     "data": {
      "text/plain": [
       "Index(['ABEV3.SA', 'roll', 'DECISAO', 'ESTRAT', 'RETORNO', 'RETORNO_TOT',\n",
       "       'AZUL4.SA', 'roll', 'DECISAO', 'ESTRAT',\n",
       "       ...\n",
       "       'DECISAO', 'ESTRAT', 'RETORNO', 'RETORNO_TOT', '^N225', 'roll',\n",
       "       'DECISAO', 'ESTRAT', 'RETORNO', 'RETORNO_TOT'],\n",
       "      dtype='object', length=438)"
      ]
     },
     "execution_count": 13,
     "metadata": {},
     "output_type": "execute_result"
    }
   ],
   "source": [
    "y.columns"
   ]
  },
  {
   "cell_type": "code",
   "execution_count": 14,
   "metadata": {
    "collapsed": true,
    "jupyter": {
     "outputs_hidden": true
    }
   },
   "outputs": [],
   "source": [
    "y.columns=zip(cols,y)"
   ]
  },
  {
   "cell_type": "code",
   "execution_count": 15,
   "metadata": {
    "collapsed": true,
    "jupyter": {
     "outputs_hidden": true
    }
   },
   "outputs": [],
   "source": [
    "y.columns=pd.MultiIndex.from_tuples(y.columns.to_list())"
   ]
  },
  {
   "cell_type": "code",
   "execution_count": null,
   "metadata": {
    "collapsed": true,
    "jupyter": {
     "outputs_hidden": true
    }
   },
   "outputs": [],
   "source": []
  },
  {
   "cell_type": "code",
   "execution_count": 16,
   "metadata": {
    "collapsed": true,
    "jupyter": {
     "outputs_hidden": true
    }
   },
   "outputs": [],
   "source": [
    "\n",
    "for i in data1.columns:\n",
    "    \n",
    "    td0=td.estrategias()\n",
    "    y[(i,'DECISAO')]=pd.Series([td0.stop((a,b),loss=0.95) for a,b in  zip(y[i,'DECISAO'], y[i,'RETORNO'])])\n",
    "\n",
    "    tds =td.estrategias()\n",
    "\n",
    "    y[i,'ESTRAT']=y[i,'DECISAO'].apply(tds.estrat)\n",
    "   \n",
    "\n",
    "    td2=td.estrategias()\n",
    "    teste2=pd.Series([td2.estrat_retornos22((a,b)) for a, b in zip(y[i,i], y[i,'DECISAO'])],index=y.index ).dropna()\n",
    "   \n",
    "    teste2 =pd.DataFrame(teste2.dropna().tolist(),index=teste2.dropna().index)\n",
    "  \n",
    "    \n",
    "    \n",
    "    try:\n",
    "        teste2.columns=['RETORNO','RETORNO_TOT']\n",
    "    except:\n",
    "        continue\n",
    "  \n",
    "    y[i,'RETORNO']=teste2['RETORNO']\n",
    "\n",
    "\n",
    "    \n",
    "    y[i,'RETORNO_TOT']= teste2['RETORNO_TOT']\n",
    "\n"
   ]
  },
  {
   "cell_type": "code",
   "execution_count": 19,
   "metadata": {
    "collapsed": true,
    "jupyter": {
     "outputs_hidden": true
    }
   },
   "outputs": [
    {
     "data": {
      "text/plain": [
       "<matplotlib.axes._subplots.AxesSubplot at 0x1d83439b6a0>"
      ]
     },
     "execution_count": 19,
     "metadata": {},
     "output_type": "execute_result"
    },
    {
     "data": {
      "image/png": "[encoded data removed]",
      "text/plain": [
       "<Figure size 432x288 with 1 Axes>"
      ]
     },
     "metadata": {
      "needs_background": "light"
     },
     "output_type": "display_data"
    }
   ],
   "source": [
    "y[('MGLU3.SA','RETORNO')].plot()"
   ]
  },
  {
   "cell_type": "code",
   "execution_count": 26,
   "metadata": {
    "collapsed": true,
    "jupyter": {
     "outputs_hidden": true
    }
   },
   "outputs": [
    {
     "data": {
      "text/plain": [
       "393.19472540886835"
      ]
     },
     "execution_count": 26,
     "metadata": {},
     "output_type": "execute_result"
    }
   ],
   "source": [
    "y.xs('RETORNO_TOT',axis=1,level=1).fillna(method='ffill').fillna(1).sum(axis=1)[-1]"
   ]
  },
  {
   "cell_type": "code",
   "execution_count": 21,
   "metadata": {
    "collapsed": true,
    "jupyter": {
     "outputs_hidden": true
    }
   },
   "outputs": [
    {
     "data": {
      "text/plain": [
       "<matplotlib.axes._subplots.AxesSubplot at 0x1d834aa1668>"
      ]
     },
     "execution_count": 21,
     "metadata": {},
     "output_type": "execute_result"
    },
    {
     "data": {
      "image/png": "[encoded data removed]",
      "text/plain": [
       "<Figure size 432x288 with 1 Axes>"
      ]
     },
     "metadata": {
      "needs_background": "light"
     },
     "output_type": "display_data"
    }
   ],
   "source": [
    "y.xs('RETORNO_TOT',axis=1,level=1).fillna(method='ffill').fillna(1).sum(axis=1).plot()"
   ]
  },
  {
   "cell_type": "code",
   "execution_count": 22,
   "metadata": {
    "collapsed": true,
    "jupyter": {
     "outputs_hidden": true
    }
   },
   "outputs": [
    {
     "data": {
      "text/plain": [
       "<matplotlib.axes._subplots.AxesSubplot at 0x1d834b2fb00>"
      ]
     },
     "execution_count": 22,
     "metadata": {},
     "output_type": "execute_result"
    },
    {
     "data": {
      "image/png": "[encoded data removed]",
      "text/plain": [
       "<Figure size 432x288 with 1 Axes>"
      ]
     },
     "metadata": {
      "needs_background": "light"
     },
     "output_type": "display_data"
    }
   ],
   "source": [
    "(y.xs('RETORNO_TOT',axis=1,level=1).fillna(method='ffill').fillna(1).sum(axis=1)/73).plot()"
   ]
  },
  {
   "cell_type": "code",
   "execution_count": 23,
   "metadata": {
    "collapsed": true,
    "jupyter": {
     "outputs_hidden": true
    }
   },
   "outputs": [
    {
     "data": {
      "text/plain": [
       "<matplotlib.axes._subplots.AxesSubplot at 0x1d834bc1d68>"
      ]
     },
     "execution_count": 23,
     "metadata": {},
     "output_type": "execute_result"
    },
    {
     "data": {
      "image/png": "[encoded data removed]",
      "text/plain": [
       "<Figure size 432x288 with 1 Axes>"
      ]
     },
     "metadata": {
      "needs_background": "light"
     },
     "output_type": "display_data"
    }
   ],
   "source": [
    "(y.xs('RETORNO_TOT',axis=1,level=1).fillna(method='ffill').fillna(1).sum(axis=1)/73).plot()"
   ]
  },
  {
   "cell_type": "code",
   "execution_count": 30,
   "metadata": {
    "collapsed": true,
    "jupyter": {
     "outputs_hidden": true
    }
   },
   "outputs": [],
   "source": [
    "retorno=(y.xs('RETORNO_TOT',axis=1,level=1).fillna(method='ffill').fillna(1).sum(axis=1)/73)[-1]"
   ]
  },
  {
   "cell_type": "code",
   "execution_count": 31,
   "metadata": {
    "collapsed": true,
    "jupyter": {
     "outputs_hidden": true
    }
   },
   "outputs": [
    {
     "data": {
      "text/plain": [
       "1.9293484258254838"
      ]
     },
     "execution_count": 31,
     "metadata": {},
     "output_type": "execute_result"
    }
   ],
   "source": [
    "retorno[-1]"
   ]
  },
  {
   "cell_type": "code",
   "execution_count": 25,
   "metadata": {
    "collapsed": true,
    "jupyter": {
     "outputs_hidden": true
    }
   },
   "outputs": [
    {
     "data": {
      "text/plain": [
       "Date\n",
       "2014-12-26    0.000000\n",
       "2014-12-29    0.000000\n",
       "2014-12-30    0.000000\n",
       "2014-12-31    0.000000\n",
       "2015-01-01    0.000000\n",
       "                ...   \n",
       "2019-12-16    0.000072\n",
       "2019-12-17   -0.010770\n",
       "2019-12-18   -0.006705\n",
       "2019-12-19    0.000958\n",
       "2019-12-20         NaN\n",
       "Length: 1301, dtype: float64"
      ]
     },
     "execution_count": 25,
     "metadata": {},
     "output_type": "execute_result"
    }
   ],
   "source": [
    "((retorno-retorno.shift(-1))/retorno)"
   ]
  },
  {
   "cell_type": "code",
   "execution_count": 408,
   "metadata": {
    "collapsed": true,
    "jupyter": {
     "outputs_hidden": true
    }
   },
   "outputs": [],
   "source": [
    "tds =td.estrategias()"
   ]
  },
  {
   "cell_type": "code",
   "execution_count": 409,
   "metadata": {
    "collapsed": true,
    "jupyter": {
     "outputs_hidden": true
    }
   },
   "outputs": [],
   "source": [
    "y['ELET6.SA','ESTRAT']=y['ELET6.SA','DECISAO'].apply(tds.estrat)"
   ]
  },
  {
   "cell_type": "code",
   "execution_count": 410,
   "metadata": {
    "collapsed": true,
    "jupyter": {
     "outputs_hidden": true
    }
   },
   "outputs": [],
   "source": [
    "td2=td.estrategias()\n",
    "teste2=y['ELET6.SA'].apply(td2.estrat_retornos1,axis=1)"
   ]
  },
  {
   "cell_type": "code",
   "execution_count": 411,
   "metadata": {
    "collapsed": true,
    "jupyter": {
     "outputs_hidden": true
    }
   },
   "outputs": [],
   "source": [
    "y[('ELET6.SA','RETORNOS')]=teste2"
   ]
  },
  {
   "cell_type": "code",
   "execution_count": 412,
   "metadata": {
    "collapsed": true,
    "jupyter": {
     "outputs_hidden": true
    }
   },
   "outputs": [],
   "source": [
    "td2=td.estrategias()"
   ]
  },
  {
   "cell_type": "code",
   "execution_count": 413,
   "metadata": {
    "collapsed": true,
    "jupyter": {
     "outputs_hidden": true
    }
   },
   "outputs": [
    {
     "data": {
      "text/plain": [
       "Date\n",
       "2015-01-06    1.039795\n",
       "2015-01-07    1.075738\n",
       "2015-01-08    1.041078\n",
       "2015-01-09    0.982028\n",
       "2015-01-12    0.996149\n",
       "                ...   \n",
       "2019-10-04    2.341845\n",
       "2019-10-07    2.187017\n",
       "2019-10-08    2.159023\n",
       "2019-10-09    2.163593\n",
       "2019-10-10    2.141883\n",
       "Length: 612, dtype: float64"
      ]
     },
     "execution_count": 413,
     "metadata": {},
     "output_type": "execute_result"
    }
   ],
   "source": [
    "y['ELET6.SA'].apply(td2.estrat_retornos,axis=1                   ).dropna()"
   ]
  },
  {
   "cell_type": "code",
   "execution_count": 434,
   "metadata": {
    "collapsed": true,
    "jupyter": {
     "outputs_hidden": true
    }
   },
   "outputs": [
    {
     "data": {
      "text/plain": [
       "2.1418829470376455"
      ]
     },
     "execution_count": 434,
     "metadata": {},
     "output_type": "execute_result"
    }
   ],
   "source": [
    "y['ELET6.SA'].dropna(subset=['ESTRAT'])['RETORNOS'].dropna().product()"
   ]
  },
  {
   "cell_type": "code",
   "execution_count": null,
   "metadata": {
    "collapsed": true,
    "jupyter": {
     "outputs_hidden": true
    }
   },
   "outputs": [],
   "source": []
  },
  {
   "cell_type": "code",
   "execution_count": 167,
   "metadata": {
    "collapsed": true,
    "jupyter": {
     "outputs_hidden": true
    }
   },
   "outputs": [
    {
     "data": {
      "text/plain": [
       "Index([      ('^N225', '^N225'),        ('^N225', 'roll'),\n",
       "           ('^N225', 'DECISAO'),      ('^N225', 'ESTRAT'),\n",
       "             ('^BVSP', '^BVSP'),        ('^BVSP', 'roll'),\n",
       "           ('^BVSP', 'DECISAO'),      ('^BVSP', 'ESTRAT'),\n",
       "       ('YDUQ3.SA', 'YDUQ3.SA'),     ('YDUQ3.SA', 'roll'),\n",
       "       ...\n",
       "         ('B3SA3.SA', 'ESTRAT'), ('AZUL4.SA', 'AZUL4.SA'),\n",
       "           ('AZUL4.SA', 'roll'),  ('AZUL4.SA', 'DECISAO'),\n",
       "         ('AZUL4.SA', 'ESTRAT'), ('ABEV3.SA', 'ABEV3.SA'),\n",
       "           ('ABEV3.SA', 'roll'),  ('ABEV3.SA', 'DECISAO'),\n",
       "         ('ABEV3.SA', 'ESTRAT'),                 'DROPAR'],\n",
       "      dtype='object', length=293)"
      ]
     },
     "execution_count": 167,
     "metadata": {},
     "output_type": "execute_result"
    }
   ],
   "source": [
    "y.columns"
   ]
  }
 ],
 "metadata": {
  "kernelspec": {
   "display_name": "Python 3",
   "language": "python",
   "name": "python3"
  },
  "language_info": {
   "codemirror_mode": {
    "name": "ipython",
    "version": 3
   },
   "file_extension": ".py",
   "mimetype": "text/x-python",
   "name": "python",
   "nbconvert_exporter": "python",
   "pygments_lexer": "ipython3",
   "version": "3.6.9"
  }
 },
 "nbformat": 4,
 "nbformat_minor": 4
}
