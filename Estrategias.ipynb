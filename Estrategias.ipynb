{
 "cells": [
  {
   "cell_type": "code",
   "execution_count": 7,
   "metadata": {},
   "outputs": [
    {
     "name": "stdout",
     "output_type": "stream",
     "text": [
      "The autoreload extension is already loaded. To reload it, use:\n",
      "  %reload_ext autoreload\n"
     ]
    }
   ],
   "source": [
    "import pandas as pd\n",
    "from pandas_datareader import data\n",
    "import matplotlib.pyplot as plt\n",
    "import yfinance as yf\n",
    "from pypfopt.expected_returns import mean_historical_return\n",
    "from pypfopt.risk_models import CovarianceShrinkage\n",
    "# pyfolio  qgrid empyrical\n",
    "import pickle\n",
    "import numpy as np\n",
    "import time\n",
    "import seaborn as sns\n",
    "from itertools import combinations\n",
    "import multiprocessing as mp\n",
    "from tqdm import tqdm\n",
    "import sys\n",
    "%load_ext autoreload\n",
    "%autoreload 2"
   ]
  },
  {
   "cell_type": "code",
   "execution_count": 8,
   "metadata": {},
   "outputs": [],
   "source": [
    "import os\n",
    "current_path = os.getcwd()"
   ]
  },
  {
   "cell_type": "code",
   "execution_count": 9,
   "metadata": {},
   "outputs": [],
   "source": [
    "sys.path.append('C:\\\\Users\\\\Rafael\\\\Trading\\\\Trading')"
   ]
  },
  {
   "cell_type": "code",
   "execution_count": 39,
   "metadata": {},
   "outputs": [],
   "source": [
    "import TradingModule as td"
   ]
  },
  {
   "cell_type": "code",
   "execution_count": 10,
   "metadata": {},
   "outputs": [],
   "source": [
    "with open('C:\\\\Users\\\\Rafael\\\\Trading\\\\Trading\\\\ibov.pkl','rb') as file:\n",
    "     data =pickle.load(file)\n",
    "data1 =data['Adj Close']"
   ]
  },
  {
   "cell_type": "code",
   "execution_count": 16,
   "metadata": {},
   "outputs": [],
   "source": [
    "import parallel as pl"
   ]
  },
  {
   "cell_type": "code",
   "execution_count": 34,
   "metadata": {},
   "outputs": [
    {
     "name": "stdout",
     "output_type": "stream",
     "text": [
      "None\n"
     ]
    }
   ],
   "source": [
    "print(pl.parallelize(data1,rollmeanstrat))"
   ]
  },
  {
   "cell_type": "code",
   "execution_count": null,
   "metadata": {},
   "outputs": [],
   "source": [
    "pd.options.mode.chained_assignment = None"
   ]
  },
  {
   "cell_type": "code",
   "execution_count": 25,
   "metadata": {},
   "outputs": [],
   "source": [
    "inic =''\n",
    "def estrat(x):\n",
    "    global inic\n",
    "    if inic!=x:\n",
    "        inic = x\n",
    "        return x\n",
    "    \n",
    "    else:\n",
    "        return np.nan\n",
    "\n",
    "\n",
    "def rollmeanstrat(serie,longmean=100,shortmean=10):\n",
    "    start_time = time.clock()\n",
    "\n",
    "    serie =pd.DataFrame(serie)\n",
    "\n",
    "    print(serie)\n",
    "\n",
    "\n",
    "\n",
    "    serie['roll']   =  serie.rolling(shortmean,min_periods=5).mean()-serie.rolling(longmean,min_periods=5).mean()\n",
    "    \n",
    "\n",
    "    serie['DECISAO']=np.nan\n",
    "    \n",
    "    serie.loc[serie['roll']>0.0,'DECISAO']='COMPRA'\n",
    "    serie.loc[serie['roll']<=0.0,'DECISAO'] ='VENDA'\n",
    "    \n",
    "    serie['ESTRAT'] =serie['DECISAO'].apply(func=estrat)\n",
    "\n",
    "    \n",
    "    x =returns(serie)\n",
    "    \n",
    "    return x\n",
    "def returns(serie,tipo_oper ='COMPRA'):\n",
    "    start_time = time.clock()\n",
    "    \n",
    "    serie=serie.dropna()\n",
    "    \n",
    "    serie['LUCRO']= serie.iloc[:,0].shift(-1)/(serie.iloc[:,0])\n",
    "   \n",
    "    \n",
    "    serie= serie.loc[(serie['ESTRAT']==tipo_oper) & (pd.notna(serie['LUCRO']))]\n",
    "    \n",
    "    \n",
    "   \n",
    "    \n",
    "   \n",
    "    retorno_total=serie['LUCRO'].rolling(len(serie )).apply(np.prod, raw=True).dropna()\n",
    "   \n",
    "    return retorno_total"
   ]
  },
  {
   "cell_type": "code",
   "execution_count": null,
   "metadata": {},
   "outputs": [],
   "source": [
    "start_time = time.clock()\n",
    "print(rollmeanstrat(data1['BBAS3.SA'],100,50))\n",
    "print (1,time.clock() - start_time, \"seconds\")"
   ]
  },
  {
   "cell_type": "code",
   "execution_count": null,
   "metadata": {},
   "outputs": [],
   "source": [
    "start_time = time.clock()\n",
    "test =data1.apply(rollmeanstrat,args=(50,9))\n",
    "print (time.clock() - start_time, \"seconds\")"
   ]
  },
  {
   "cell_type": "code",
   "execution_count": 47,
   "metadata": {},
   "outputs": [],
   "source": [
    "params =np.array_split([i for i in combinations(range(10,100,5),2)], mp.cpu_count() - 1)"
   ]
  },
  {
   "cell_type": "code",
   "execution_count": 48,
   "metadata": {},
   "outputs": [
    {
     "name": "stdout",
     "output_type": "stream",
     "text": [
      "30.429786799999988 seconds\n"
     ]
    }
   ],
   "source": [
    "start_time = time.clock()\n",
    "if __name__ == '__main__':\n",
    "    pool = mp.Pool(processes = (mp.cpu_count()))\n",
    "    results = pool.map(td.worker, params)\n",
    "    \n",
    "    pool.close()\n",
    "    pool.join()\n",
    "print (time.clock() - start_time, \"seconds\")"
   ]
  },
  {
   "cell_type": "code",
   "execution_count": 55,
   "metadata": {},
   "outputs": [
    {
     "data": {
      "text/plain": [
       "{(70, 85): 1.5754897592631398,\n",
       " (70, 90): 1.6147184294337018,\n",
       " (70, 95): 1.6108954357758194,\n",
       " (75, 80): 1.5075272903164167,\n",
       " (75, 85): 1.5614178098051918,\n",
       " (75, 90): 1.5796124773009896,\n",
       " (75, 95): 1.6100459230747568,\n",
       " (80, 85): 1.726666157710107,\n",
       " (80, 90): 1.5974075325893589,\n",
       " (80, 95): 1.5565307141351372,\n",
       " (85, 90): 1.5734788603129757,\n",
       " (85, 95): 1.5638476126556873,\n",
       " (90, 95): 1.5701709863301503}"
      ]
     },
     "execution_count": 55,
     "metadata": {},
     "output_type": "execute_result"
    }
   ],
   "source": [
    "results[10]"
   ]
  },
  {
   "cell_type": "code",
   "execution_count": 62,
   "metadata": {},
   "outputs": [],
   "source": [
    "dic ={}"
   ]
  },
  {
   "cell_type": "code",
   "execution_count": null,
   "metadata": {},
   "outputs": [],
   "source": [
    "[dic.update(i) for i in results]"
   ]
  },
  {
   "cell_type": "code",
   "execution_count": 69,
   "metadata": {},
   "outputs": [
    {
     "data": {
      "text/plain": [
       "10  15    1.410361\n",
       "    20    1.248606\n",
       "    25    1.230880\n",
       "    30    1.187015\n",
       "    35    1.155820\n",
       "            ...   \n",
       "80  90    1.597408\n",
       "    95    1.556531\n",
       "85  90    1.573479\n",
       "    95    1.563848\n",
       "90  95    1.570171\n",
       "Length: 153, dtype: float64"
      ]
     },
     "execution_count": 69,
     "metadata": {},
     "output_type": "execute_result"
    }
   ],
   "source": [
    "pd.Series(dic).drop_duplicates()"
   ]
  },
  {
   "cell_type": "code",
   "execution_count": null,
   "metadata": {},
   "outputs": [],
   "source": [
    "for i in results:\n",
    "    dic.updat"
   ]
  },
  {
   "cell_type": "code",
   "execution_count": 63,
   "metadata": {},
   "outputs": [
    {
     "data": {
      "text/plain": [
       "[None, None, None, None, None, None, None, None, None, None, None]"
      ]
     },
     "execution_count": 63,
     "metadata": {},
     "output_type": "execute_result"
    }
   ],
   "source": []
  },
  {
   "cell_type": "code",
   "execution_count": null,
   "metadata": {},
   "outputs": [],
   "source": [
    "\n"
   ]
  },
  {
   "cell_type": "code",
   "execution_count": null,
   "metadata": {},
   "outputs": [],
   "source": [
    "params[0][0]"
   ]
  },
  {
   "cell_type": "code",
   "execution_count": null,
   "metadata": {},
   "outputs": [],
   "source": [
    "mp.cpu_count()"
   ]
  },
  {
   "cell_type": "code",
   "execution_count": null,
   "metadata": {},
   "outputs": [],
   "source": [
    "pool = mp.Pool(processes = (mp.cpu_count() - 1))"
   ]
  },
  {
   "cell_type": "code",
   "execution_count": null,
   "metadata": {},
   "outputs": [],
   "source": [
    "results = pool.map(calc_dist2, grp_lst_args)"
   ]
  },
  {
   "cell_type": "code",
   "execution_count": null,
   "metadata": {},
   "outputs": [],
   "source": [
    "pool = mp.Pool(processes = (mp.cpu_count() - 1))\n",
    "results = pool.map(calc_dist2, grp_lst_args)\n",
    "pool.close()\n",
    "pool.join()"
   ]
  },
  {
   "cell_type": "code",
   "execution_count": null,
   "metadata": {},
   "outputs": [],
   "source": [
    "pars = {}\n",
    "pars2 = {}\n",
    "for i in params:\n",
    "    z,y=i[0],i[1]\n",
    "    test =data1.apply(rollmeanstrat,args=(z,y)) \n",
    "    pars[(z,y)]=test.sum().mean()\n",
    "    pars2[(z,y)]=test.sum().median()\n",
    "    "
   ]
  },
  {
   "cell_type": "code",
   "execution_count": 46,
   "metadata": {},
   "outputs": [
    {
     "name": "stderr",
     "output_type": "stream",
     "text": [
      "  0%|                                                                                            | 0/8 [00:00<?, ?it/s]C:\\Users\\Rafael\\Trading\\Trading\\TradingModule.py:46: SettingWithCopyWarning: \n",
      "A value is trying to be set on a copy of a slice from a DataFrame.\n",
      "Try using .loc[row_indexer,col_indexer] = value instead\n",
      "\n",
      "See the caveats in the documentation: http://pandas.pydata.org/pandas-docs/stable/user_guide/indexing.html#returning-a-view-versus-a-copy\n",
      "  serie['LUCRO']= serie.iloc[:,0].shift(-1)/(serie.iloc[:,0])\n"
     ]
    },
    {
     "name": "stdout",
     "output_type": "stream",
     "text": [
      "15 10\n"
     ]
    },
    {
     "name": "stderr",
     "output_type": "stream",
     "text": [
      "C:\\Users\\Rafael\\Anaconda3\\lib\\site-packages\\pandas\\core\\ops\\__init__.py:1115: FutureWarning: elementwise comparison failed; returning scalar instead, but in the future will perform elementwise comparison\n",
      "  result = method(y)\n",
      " 25%|█████████████████████                                                               | 2/8 [00:01<00:03,  1.96it/s]"
     ]
    },
    {
     "name": "stdout",
     "output_type": "stream",
     "text": [
      "20 10\n",
      "20 15\n"
     ]
    },
    {
     "name": "stderr",
     "output_type": "stream",
     "text": [
      " 38%|███████████████████████████████▌                                                    | 3/8 [00:03<00:04,  1.04it/s]"
     ]
    },
    {
     "name": "stdout",
     "output_type": "stream",
     "text": [
      "25 10\n",
      "25 15\n",
      "25 20\n"
     ]
    },
    {
     "name": "stderr",
     "output_type": "stream",
     "text": [
      " 50%|██████████████████████████████████████████                                          | 4/8 [00:06<00:06,  1.58s/it]"
     ]
    },
    {
     "name": "stdout",
     "output_type": "stream",
     "text": [
      "30 10\n",
      "30 15\n",
      "30 20\n",
      "30 25\n"
     ]
    },
    {
     "name": "stderr",
     "output_type": "stream",
     "text": [
      " 62%|████████████████████████████████████████████████████▌                               | 5/8 [00:10<00:06,  2.31s/it]"
     ]
    },
    {
     "name": "stdout",
     "output_type": "stream",
     "text": [
      "35 10\n",
      "35 15\n",
      "35 20\n",
      "35 25\n",
      "35 30\n"
     ]
    },
    {
     "name": "stderr",
     "output_type": "stream",
     "text": [
      " 75%|███████████████████████████████████████████████████████████████                     | 6/8 [00:15<00:06,  3.13s/it]"
     ]
    },
    {
     "name": "stdout",
     "output_type": "stream",
     "text": [
      "40 10\n",
      "40 15\n",
      "40 20\n",
      "40 25\n",
      "40 30\n",
      "40 35\n"
     ]
    },
    {
     "name": "stderr",
     "output_type": "stream",
     "text": [
      " 88%|█████████████████████████████████████████████████████████████████████████▌          | 7/8 [00:21<00:03,  3.99s/it]"
     ]
    },
    {
     "name": "stdout",
     "output_type": "stream",
     "text": [
      "45 10\n",
      "45 15\n",
      "45 20\n",
      "45 25\n",
      "45 30\n",
      "45 35\n",
      "45 40\n"
     ]
    },
    {
     "name": "stderr",
     "output_type": "stream",
     "text": [
      "100%|████████████████████████████████████████████████████████████████████████████████████| 8/8 [00:28<00:00,  3.52s/it]"
     ]
    },
    {
     "name": "stdout",
     "output_type": "stream",
     "text": [
      "28.131892399999998 seconds\n"
     ]
    },
    {
     "name": "stderr",
     "output_type": "stream",
     "text": [
      "\n"
     ]
    }
   ],
   "source": [
    "start_time = time.clock()\n",
    "pars = {}\n",
    "pars2 = {}\n",
    "\n",
    "for z in tqdm(range(10,50,5), position=0, leave=True):\n",
    "    lista =[] \n",
    "    for y in range(10,50,5):\n",
    "        \n",
    "        if y<z:\n",
    "            print(z,y)\n",
    "            test =data1.apply(TradingModule.rollmeanstrat,args=(z,y)) \n",
    "            \n",
    "            pars[(z,y)]=test.sum().mean()\n",
    "            pars2[(z,y)]=test.sum().median()\n",
    "print (time.clock() - start_time, \"seconds\")"
   ]
  },
  {
   "cell_type": "code",
   "execution_count": null,
   "metadata": {},
   "outputs": [],
   "source": [
    "heat =pd.Series(pars).sort_values(ascending=False)\n",
    "pd.Series(pars).sort_values(ascending=False)"
   ]
  },
  {
   "cell_type": "code",
   "execution_count": null,
   "metadata": {},
   "outputs": [],
   "source": []
  },
  {
   "cell_type": "code",
   "execution_count": null,
   "metadata": {},
   "outputs": [],
   "source": [
    "heat =heat.reset_index()"
   ]
  },
  {
   "cell_type": "code",
   "execution_count": null,
   "metadata": {},
   "outputs": [],
   "source": [
    "sns.heatmap(heat.pivot('level_0','level_1',0))"
   ]
  },
  {
   "cell_type": "code",
   "execution_count": null,
   "metadata": {},
   "outputs": [],
   "source": [
    "heat =pd.Series(pars2).sort_values(ascending=False)\n",
    "heat =heat.reset_index()\n",
    "sns.heatmap(heat.pivot('level_0','level_1',0))"
   ]
  }
 ],
 "metadata": {
  "kernelspec": {
   "display_name": "Python 3",
   "language": "python",
   "name": "python3"
  },
  "language_info": {
   "codemirror_mode": {
    "name": "ipython",
    "version": 3
   },
   "file_extension": ".py",
   "mimetype": "text/x-python",
   "name": "python",
   "nbconvert_exporter": "python",
   "pygments_lexer": "ipython3",
   "version": "3.6.9"
  }
 },
 "nbformat": 4,
 "nbformat_minor": 4
}
