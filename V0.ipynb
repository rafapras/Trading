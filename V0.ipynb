{
 "cells": [
  {
   "cell_type": "code",
   "execution_count": 1,
   "metadata": {
    "slideshow": {
     "slide_type": "skip"
    }
   },
   "outputs": [],
   "source": [
    "import pandas as pd\n",
    "from pandas_datareader import data\n",
    "import matplotlib.pyplot as plt\n",
    "import yfinance as yf\n",
    "from pypfopt.expected_returns import mean_historical_return\n",
    "from pypfopt.risk_models import CovarianceShrinkage\n",
    "# pyfolio  qgrid empyrical\n",
    "import pickle\n",
    "import numpy as np\n",
    "import time\n",
    "\n",
    "import seaborn as sns\n",
    "from itertools import combinations\n",
    "import multiprocessing as mp\n",
    "from tqdm import tqdm\n",
    "import sys\n",
    "\n",
    "import TradingRefact as td \n",
    "%load_ext autoreload\n",
    "%autoreload 2\n",
    "%config Completer.use_jedi = False"
   ]
  },
  {
   "cell_type": "markdown",
   "metadata": {
    "slideshow": {
     "slide_type": "slide"
    }
   },
   "source": [
    "# Função Modelo"
   ]
  },
  {
   "cell_type": "code",
   "execution_count": 3,
   "metadata": {
    "slideshow": {
     "slide_type": "slide"
    }
   },
   "outputs": [],
   "source": [
    "def estrategia_mmovel(serie,longmean=100,shortmean=10):\n",
    "    #Recebe Uma série de preços de Fechamento\n",
    "    serie =pd.DataFrame(serie)\n",
    "\n",
    "    \n",
    "\n",
    "\n",
    "    #Marca o cruzamento da média longa com a média Curta\n",
    "    serie['roll']   =  serie.rolling(shortmean,min_periods=5).mean()-serie.rolling(longmean,min_periods=5).mean()\n",
    "    \n",
    "\n",
    "    serie['DECISAO']=np.nan\n",
    "    #0 significa compra 1 Significa Fazer nada, 0 significa compra pois é util em uma função futura,venda poderia ser -1\n",
    "    serie.loc[serie['roll']>0.0,'DECISAO']=0\n",
    "    serie.loc[serie['roll']<=0.0,'DECISAO'] =1"
   ]
  },
  {
   "cell_type": "code",
   "execution_count": 4,
   "metadata": {
    "slideshow": {
     "slide_type": "skip"
    }
   },
   "outputs": [
    {
     "name": "stderr",
     "output_type": "stream",
     "text": [
      "C:\\Users\\Rafael\\Anaconda3\\lib\\site-packages\\pandas\\core\\frame.py:4117: SettingWithCopyWarning: \n",
      "A value is trying to be set on a copy of a slice from a DataFrame\n",
      "\n",
      "See the caveats in the documentation: http://pandas.pydata.org/pandas-docs/stable/user_guide/indexing.html#returning-a-view-versus-a-copy\n",
      "  errors=errors,\n"
     ]
    }
   ],
   "source": [
    "with open('C:\\\\Users\\\\Rafael\\\\Trading\\\\Trading\\\\ibov.pkl','rb') as file:\n",
    "     data =pickle.load(file)\n",
    "data1 =data['Adj Close']\n",
    "data1.drop('MGLU3.SA',axis=1,inplace=True)"
   ]
  },
  {
   "cell_type": "code",
   "execution_count": 11,
   "metadata": {
    "slideshow": {
     "slide_type": "subslide"
    }
   },
   "outputs": [
    {
     "name": "stdout",
     "output_type": "stream",
     "text": [
      "6.5 ms ± 104 µs per loop (mean ± std. dev. of 7 runs, 100 loops each)\n"
     ]
    }
   ],
   "source": [
    "%%timeit\n",
    "\n",
    "mmovel=td.estrategia_mmovel(data1['ABEV3.SA']) "
   ]
  },
  {
   "cell_type": "code",
   "execution_count": 16,
   "metadata": {},
   "outputs": [],
   "source": [
    "\n",
    "mmovel=td.estrategia_mmovel(data1['ABEV3.SA'])"
   ]
  },
  {
   "cell_type": "markdown",
   "metadata": {
    "slideshow": {
     "slide_type": "subslide"
    }
   },
   "source": [
    "### É lenta devido ao uso do pandas,0.5S para calcular o resultado para o IBOV"
   ]
  },
  {
   "cell_type": "code",
   "execution_count": 6,
   "metadata": {
    "slideshow": {
     "slide_type": "slide"
    }
   },
   "outputs": [],
   "source": [
    "def troca_posicao(x):\n",
    "    #Função que marca quando se altera a posição de nada para comprado ou vice versa\n",
    "    x['DECISAO_1'] =  x['DECISAO'].shift(1)\n",
    "    filtro=(x['DECISAO']!=x['DECISAO_1'])\n",
    "    \n",
    "    x['ESTRAT']=np.nan \n",
    "    x.loc[filtro,'ESTRAT']=x.loc[filtro,'DECISAO']"
   ]
  },
  {
   "cell_type": "code",
   "execution_count": 23,
   "metadata": {
    "slideshow": {
     "slide_type": "subslide"
    }
   },
   "outputs": [
    {
     "name": "stdout",
     "output_type": "stream",
     "text": [
      "2.2 ms ± 63.7 µs per loop (mean ± std. dev. of 7 runs, 100 loops each)\n"
     ]
    }
   ],
   "source": [
    "%%timeit\n",
    "mmovel1=td.troca_posicao(mmovel)"
   ]
  },
  {
   "cell_type": "markdown",
   "metadata": {
    "slideshow": {
     "slide_type": "subslide"
    }
   },
   "source": [
    "#Sem Stress de performance Aqui"
   ]
  },
  {
   "cell_type": "code",
   "execution_count": 20,
   "metadata": {
    "slideshow": {
     "slide_type": "slide"
    }
   },
   "outputs": [],
   "source": [
    "def calculate_returns(x):\n",
    "    \n",
    "    x['DAILY_CHANGE']=np.nan\n",
    "    #Simples Variação Diária   \n",
    "    x['DAILY_CHANGE']= x.iloc[:,0]/x.iloc[:,0].shift(1)\n",
    "    #Seleciona as trocas de  posições \n",
    "    trocas=x['ESTRAT']==0\n",
    "    \n",
    "    #Seciona todas as posições\n",
    "    comprado=x['DECISAO']==0\n",
    "    \n",
    "    \n",
    "    #x.loc[comprado,'TOTAL_CHANGE']=np.cumprod(x.loc[comprado,'DAILY_CHANGE'].values)\n",
    "    #Prenche a variação Diária Somente para aqueles onde temos posição\n",
    "    x.loc[:,'DAILY_CHANGE']=x.loc[comprado,'DAILY_CHANGE']\n",
    "    #Onde se trocou de posição ainda não há rendimento  então 0% de variação\n",
    "    x.loc[trocas,'DAILY_CHANGE']=1\n",
    "    \n",
    "    return x "
   ]
  },
  {
   "cell_type": "code",
   "execution_count": 30,
   "metadata": {
    "slideshow": {
     "slide_type": "subslide"
    }
   },
   "outputs": [
    {
     "name": "stdout",
     "output_type": "stream",
     "text": [
      "2.81 ms ± 7.8 µs per loop (mean ± std. dev. of 7 runs, 100 loops each)\n"
     ]
    }
   ],
   "source": [
    "%%timeit\n",
    "mmovel2=td.calculate_returns(mmovel1)"
   ]
  },
  {
   "cell_type": "markdown",
   "metadata": {
    "slideshow": {
     "slide_type": "subslide"
    }
   },
   "source": [
    "#Sem Stress de performance Aqui"
   ]
  },
  {
   "cell_type": "code",
   "execution_count": 26,
   "metadata": {
    "slideshow": {
     "slide_type": "slide"
    }
   },
   "outputs": [],
   "source": [
    "def stop_loss(x,stop):\n",
    "    #É um gato, mas funciona\n",
    "    #Soma acumulada da decisão == 0 quando se esta comprado,então autoamticamente cada compra ganhya um codigo\n",
    "    x['SUM']=x['DECISAO'].cumsum()\n",
    "    #Calcula o resultado dentro de cada operação\n",
    "    x[\"OP_RESULT\"]=x[x['DECISAO']==0].groupby(['SUM'])['DAILY_CHANGE'].cumprod()\n",
    "    #filtro para operações abaixo do stop\n",
    "    f=x['OP_RESULT']<stop\n",
    "    #pega a primeira data onde aquela operação entrou em stop   \n",
    "    f=x[f]['SUM'].reset_index().groupby(['SUM']).min()\n",
    "    #cria um filtro para todas as datas subsequentes dentro da mesma operação\n",
    "    f=pd.DataFrame(index=x.SUM).join(f)\n",
    "    #filtra as operações que entrata em stop\n",
    "    x=x[~(x.index>=f['Date']) &( f.index==x.SUM)]\n",
    "    return x"
   ]
  },
  {
   "cell_type": "code",
   "execution_count": 31,
   "metadata": {
    "slideshow": {
     "slide_type": "subslide"
    }
   },
   "outputs": [
    {
     "name": "stdout",
     "output_type": "stream",
     "text": [
      "7.91 ms ± 177 µs per loop (mean ± std. dev. of 7 runs, 100 loops each)\n"
     ]
    }
   ],
   "source": [
    "%%timeit\n",
    "mmovel3=td.stop_loss(mmovel2,0.95)"
   ]
  },
  {
   "cell_type": "markdown",
   "metadata": {
    "slideshow": {
     "slide_type": "subslide"
    }
   },
   "source": [
    "### Estupidamente lenta para uma função que é só o stop"
   ]
  },
  {
   "cell_type": "code",
   "execution_count": null,
   "metadata": {},
   "outputs": [],
   "source": []
  },
  {
   "cell_type": "markdown",
   "metadata": {
    "slideshow": {
     "slide_type": "slide"
    }
   },
   "source": [
    "# Como eu vou usar"
   ]
  },
  {
   "cell_type": "code",
   "execution_count": 48,
   "metadata": {
    "slideshow": {
     "slide_type": "subslide"
    }
   },
   "outputs": [
    {
     "name": "stdout",
     "output_type": "stream",
     "text": [
      "1.68 s ± 18.2 ms per loop (mean ± std. dev. of 7 runs, 1 loop each)\n"
     ]
    }
   ],
   "source": [
    "%%timeit\n",
    "#Chama a função Sequencialmente,cria um DF do ibovespa e constrói Um dataFrame\n",
    "\n",
    "results=[td.stop_loss(td.calculate_returns(td.troca_posicao(td.estrategia_mmovel(data1[x]))),0.95) for  x in  data1.columns ]\n",
    "results=pd.concat( results,axis=1)"
   ]
  },
  {
   "cell_type": "code",
   "execution_count": 52,
   "metadata": {},
   "outputs": [],
   "source": [
    "results=[td.stop_loss(td.calculate_returns(td.troca_posicao(td.estrategia_mmovel(data1[x],200,50))),0.95) for  x in  data1.columns ]\n",
    "results=pd.concat( results,axis=1)"
   ]
  },
  {
   "cell_type": "code",
   "execution_count": 53,
   "metadata": {},
   "outputs": [],
   "source": [
    "results.columns=pd.MultiIndex.from_tuples([i for i in zip(sorted(data1.columns.tolist()*8),results.columns)])"
   ]
  },
  {
   "cell_type": "code",
   "execution_count": 54,
   "metadata": {
    "slideshow": {
     "slide_type": "slide"
    }
   },
   "outputs": [
    {
     "data": {
      "text/html": [
       "<div>\n",
       "<style scoped>\n",
       "    .dataframe tbody tr th:only-of-type {\n",
       "        vertical-align: middle;\n",
       "    }\n",
       "\n",
       "    .dataframe tbody tr th {\n",
       "        vertical-align: top;\n",
       "    }\n",
       "\n",
       "    .dataframe thead tr th {\n",
       "        text-align: left;\n",
       "    }\n",
       "\n",
       "    .dataframe thead tr:last-of-type th {\n",
       "        text-align: right;\n",
       "    }\n",
       "</style>\n",
       "<table border=\"1\" class=\"dataframe\">\n",
       "  <thead>\n",
       "    <tr>\n",
       "      <th></th>\n",
       "      <th colspan=\"8\" halign=\"left\">ABEV3.SA</th>\n",
       "      <th colspan=\"2\" halign=\"left\">AZUL4.SA</th>\n",
       "      <th>...</th>\n",
       "      <th colspan=\"2\" halign=\"left\">^BVSP</th>\n",
       "      <th colspan=\"8\" halign=\"left\">^N225</th>\n",
       "    </tr>\n",
       "    <tr>\n",
       "      <th></th>\n",
       "      <th>ABEV3.SA</th>\n",
       "      <th>roll</th>\n",
       "      <th>DECISAO</th>\n",
       "      <th>DECISAO_1</th>\n",
       "      <th>ESTRAT</th>\n",
       "      <th>DAILY_CHANGE</th>\n",
       "      <th>SUM</th>\n",
       "      <th>OP_RESULT</th>\n",
       "      <th>AZUL4.SA</th>\n",
       "      <th>roll</th>\n",
       "      <th>...</th>\n",
       "      <th>SUM</th>\n",
       "      <th>OP_RESULT</th>\n",
       "      <th>BPAN4.SA</th>\n",
       "      <th>roll</th>\n",
       "      <th>DECISAO</th>\n",
       "      <th>DECISAO_1</th>\n",
       "      <th>ESTRAT</th>\n",
       "      <th>DAILY_CHANGE</th>\n",
       "      <th>SUM</th>\n",
       "      <th>OP_RESULT</th>\n",
       "    </tr>\n",
       "    <tr>\n",
       "      <th>Date</th>\n",
       "      <th></th>\n",
       "      <th></th>\n",
       "      <th></th>\n",
       "      <th></th>\n",
       "      <th></th>\n",
       "      <th></th>\n",
       "      <th></th>\n",
       "      <th></th>\n",
       "      <th></th>\n",
       "      <th></th>\n",
       "      <th></th>\n",
       "      <th></th>\n",
       "      <th></th>\n",
       "      <th></th>\n",
       "      <th></th>\n",
       "      <th></th>\n",
       "      <th></th>\n",
       "      <th></th>\n",
       "      <th></th>\n",
       "      <th></th>\n",
       "      <th></th>\n",
       "    </tr>\n",
       "  </thead>\n",
       "  <tbody>\n",
       "    <tr>\n",
       "      <th>2010-04-05</th>\n",
       "      <td>NaN</td>\n",
       "      <td>NaN</td>\n",
       "      <td>NaN</td>\n",
       "      <td>NaN</td>\n",
       "      <td>NaN</td>\n",
       "      <td>NaN</td>\n",
       "      <td>NaN</td>\n",
       "      <td>NaN</td>\n",
       "      <td>NaN</td>\n",
       "      <td>NaN</td>\n",
       "      <td>...</td>\n",
       "      <td>46.0</td>\n",
       "      <td>NaN</td>\n",
       "      <td>NaN</td>\n",
       "      <td>NaN</td>\n",
       "      <td>NaN</td>\n",
       "      <td>NaN</td>\n",
       "      <td>NaN</td>\n",
       "      <td>NaN</td>\n",
       "      <td>NaN</td>\n",
       "      <td>NaN</td>\n",
       "    </tr>\n",
       "    <tr>\n",
       "      <th>2010-04-06</th>\n",
       "      <td>NaN</td>\n",
       "      <td>NaN</td>\n",
       "      <td>NaN</td>\n",
       "      <td>NaN</td>\n",
       "      <td>NaN</td>\n",
       "      <td>NaN</td>\n",
       "      <td>NaN</td>\n",
       "      <td>NaN</td>\n",
       "      <td>NaN</td>\n",
       "      <td>NaN</td>\n",
       "      <td>...</td>\n",
       "      <td>46.0</td>\n",
       "      <td>1.000000</td>\n",
       "      <td>NaN</td>\n",
       "      <td>NaN</td>\n",
       "      <td>NaN</td>\n",
       "      <td>NaN</td>\n",
       "      <td>NaN</td>\n",
       "      <td>NaN</td>\n",
       "      <td>NaN</td>\n",
       "      <td>NaN</td>\n",
       "    </tr>\n",
       "    <tr>\n",
       "      <th>2010-04-07</th>\n",
       "      <td>NaN</td>\n",
       "      <td>NaN</td>\n",
       "      <td>NaN</td>\n",
       "      <td>NaN</td>\n",
       "      <td>NaN</td>\n",
       "      <td>NaN</td>\n",
       "      <td>NaN</td>\n",
       "      <td>NaN</td>\n",
       "      <td>NaN</td>\n",
       "      <td>NaN</td>\n",
       "      <td>...</td>\n",
       "      <td>46.0</td>\n",
       "      <td>1.000932</td>\n",
       "      <td>NaN</td>\n",
       "      <td>NaN</td>\n",
       "      <td>NaN</td>\n",
       "      <td>NaN</td>\n",
       "      <td>NaN</td>\n",
       "      <td>NaN</td>\n",
       "      <td>NaN</td>\n",
       "      <td>NaN</td>\n",
       "    </tr>\n",
       "    <tr>\n",
       "      <th>2010-04-08</th>\n",
       "      <td>NaN</td>\n",
       "      <td>NaN</td>\n",
       "      <td>NaN</td>\n",
       "      <td>NaN</td>\n",
       "      <td>NaN</td>\n",
       "      <td>NaN</td>\n",
       "      <td>NaN</td>\n",
       "      <td>NaN</td>\n",
       "      <td>NaN</td>\n",
       "      <td>NaN</td>\n",
       "      <td>...</td>\n",
       "      <td>46.0</td>\n",
       "      <td>0.989885</td>\n",
       "      <td>NaN</td>\n",
       "      <td>NaN</td>\n",
       "      <td>NaN</td>\n",
       "      <td>NaN</td>\n",
       "      <td>NaN</td>\n",
       "      <td>NaN</td>\n",
       "      <td>NaN</td>\n",
       "      <td>NaN</td>\n",
       "    </tr>\n",
       "    <tr>\n",
       "      <th>2010-04-09</th>\n",
       "      <td>NaN</td>\n",
       "      <td>NaN</td>\n",
       "      <td>NaN</td>\n",
       "      <td>NaN</td>\n",
       "      <td>NaN</td>\n",
       "      <td>NaN</td>\n",
       "      <td>NaN</td>\n",
       "      <td>NaN</td>\n",
       "      <td>NaN</td>\n",
       "      <td>NaN</td>\n",
       "      <td>...</td>\n",
       "      <td>46.0</td>\n",
       "      <td>0.993088</td>\n",
       "      <td>NaN</td>\n",
       "      <td>NaN</td>\n",
       "      <td>NaN</td>\n",
       "      <td>NaN</td>\n",
       "      <td>NaN</td>\n",
       "      <td>NaN</td>\n",
       "      <td>NaN</td>\n",
       "      <td>NaN</td>\n",
       "    </tr>\n",
       "  </tbody>\n",
       "</table>\n",
       "<p>5 rows × 592 columns</p>\n",
       "</div>"
      ],
      "text/plain": [
       "           ABEV3.SA                                                           \\\n",
       "           ABEV3.SA roll DECISAO DECISAO_1 ESTRAT DAILY_CHANGE SUM OP_RESULT   \n",
       "Date                                                                           \n",
       "2010-04-05      NaN  NaN     NaN       NaN    NaN          NaN NaN       NaN   \n",
       "2010-04-06      NaN  NaN     NaN       NaN    NaN          NaN NaN       NaN   \n",
       "2010-04-07      NaN  NaN     NaN       NaN    NaN          NaN NaN       NaN   \n",
       "2010-04-08      NaN  NaN     NaN       NaN    NaN          NaN NaN       NaN   \n",
       "2010-04-09      NaN  NaN     NaN       NaN    NaN          NaN NaN       NaN   \n",
       "\n",
       "           AZUL4.SA       ... ^BVSP              ^N225                         \\\n",
       "           AZUL4.SA roll  ...   SUM OP_RESULT BPAN4.SA roll DECISAO DECISAO_1   \n",
       "Date                      ...                                                   \n",
       "2010-04-05      NaN  NaN  ...  46.0       NaN      NaN  NaN     NaN       NaN   \n",
       "2010-04-06      NaN  NaN  ...  46.0  1.000000      NaN  NaN     NaN       NaN   \n",
       "2010-04-07      NaN  NaN  ...  46.0  1.000932      NaN  NaN     NaN       NaN   \n",
       "2010-04-08      NaN  NaN  ...  46.0  0.989885      NaN  NaN     NaN       NaN   \n",
       "2010-04-09      NaN  NaN  ...  46.0  0.993088      NaN  NaN     NaN       NaN   \n",
       "\n",
       "                                              \n",
       "           ESTRAT DAILY_CHANGE SUM OP_RESULT  \n",
       "Date                                          \n",
       "2010-04-05    NaN          NaN NaN       NaN  \n",
       "2010-04-06    NaN          NaN NaN       NaN  \n",
       "2010-04-07    NaN          NaN NaN       NaN  \n",
       "2010-04-08    NaN          NaN NaN       NaN  \n",
       "2010-04-09    NaN          NaN NaN       NaN  \n",
       "\n",
       "[5 rows x 592 columns]"
      ]
     },
     "execution_count": 54,
     "metadata": {},
     "output_type": "execute_result"
    }
   ],
   "source": [
    "results.head()"
   ]
  },
  {
   "cell_type": "markdown",
   "metadata": {
    "slideshow": {
     "slide_type": "slide"
    }
   },
   "source": [
    "# Como Calcular o Retorno Dessa Carteira?"
   ]
  },
  {
   "cell_type": "code",
   "execution_count": 59,
   "metadata": {
    "slideshow": {
     "slide_type": "subslide"
    }
   },
   "outputs": [
    {
     "name": "stdout",
     "output_type": "stream",
     "text": [
      "4.29 ms ± 53.2 µs per loop (mean ± std. dev. of 7 runs, 100 loops each)\n"
     ]
    }
   ],
   "source": [
    "%%timeit\n",
    "#Seleciona todos os retornos diários\n",
    "retornos =results.loc[:,(slice(None),'DAILY_CHANGE')]\n",
    "#Calcula o divisor da carteira,qts ações estão nela, E lembra o fato que trocamos o rendimento do primeiro ponto por 1? é para corrigir esse calculo\n",
    "pesos=pd.notnull(retornos).sum(axis=1)\n",
    "#Soma das colunas pelos divisor e o produto cumularivo dos resultados\n",
    "retorno=pd.Series(np.cumprod((retornos.sum(axis=1)/pesos).fillna(1).values),index=retornos.index)"
   ]
  },
  {
   "cell_type": "code",
   "execution_count": 58,
   "metadata": {
    "slideshow": {
     "slide_type": "subslide"
    }
   },
   "outputs": [
    {
     "data": {
      "text/plain": [
       "<matplotlib.axes._subplots.AxesSubplot at 0x1dd416dc978>"
      ]
     },
     "execution_count": 58,
     "metadata": {},
     "output_type": "execute_result"
    },
    {
     "data": {
      "image/png": "[encoded data removed]",
      "text/plain": [
       "<Figure size 432x288 with 1 Axes>"
      ]
     },
     "metadata": {
      "needs_background": "light"
     },
     "output_type": "display_data"
    }
   ],
   "source": [
    "retorno.plot()"
   ]
  },
  {
   "cell_type": "markdown",
   "metadata": {
    "slideshow": {
     "slide_type": "slide"
    }
   },
   "source": [
    "## A partir disso Criamos uma função Worker"
   ]
  },
  {
   "cell_type": "code",
   "execution_count": 60,
   "metadata": {
    "slideshow": {
     "slide_type": "subslide"
    }
   },
   "outputs": [],
   "source": [
    "def worker(x):\n",
    "    with open('C:\\\\Users\\\\Rafael\\\\Trading\\\\Trading\\\\ibov.pkl','rb') as file:\n",
    "        data =pickle.load(file)\n",
    "\n",
    "    data1 =data['Adj Close']\n",
    "    data1=data1[data1.index>='2018-08-01']\n",
    "    data1.drop('MGLU3.SA',axis=1,inplace=True)\n",
    "    lista=[]\n",
    "    for n in x:\n",
    "        long=n[0]\n",
    "        short=n[1]\n",
    "        test=[td.stop_loss(td.calculate_returns(td.troca_posicao(td.estrategia_mmovel(data1[x],long,short))),0.95) for  x in  data1.columns ]\n",
    "        retornos =pd.concat([i['DAILY_CHANGE']  for i  in test],axis=1)\n",
    "        pesos=pd.notnull(retornos).sum(axis=1)\n",
    "        retorno=pd.Series(np.cumprod((retornos.sum(axis=1)/pesos).fillna(1).values),index=retornos.index)\n",
    "        lista.append(retorno)\n",
    "\n",
    "    return lista"
   ]
  },
  {
   "cell_type": "markdown",
   "metadata": {
    "slideshow": {
     "slide_type": "subslide"
    }
   },
   "source": [
    "## Fundamentalmente o que ela faz é repetir todos os steps acima e me retornar o resultado pronto"
   ]
  },
  {
   "cell_type": "markdown",
   "metadata": {
    "slideshow": {
     "slide_type": "slide"
    }
   },
   "source": [
    "### Chama essa função em um gridsearch de melhores médias móveis "
   ]
  },
  {
   "cell_type": "code",
   "execution_count": 163,
   "metadata": {
    "slideshow": {
     "slide_type": "subslide"
    }
   },
   "outputs": [],
   "source": [
    "params =np.array_split([i for i in combinations(range(10,250,10),2)], mp.cpu_count() - 1)\n",
    "if __name__ == '__main__':\n",
    "    pool = mp.Pool(processes = (mp.cpu_count()-1))\n",
    "    results1 = pool.map(td.worker, params)\n",
    "    \n",
    "    pool.close()\n",
    "    pool.join()"
   ]
  },
  {
   "cell_type": "code",
   "execution_count": 164,
   "metadata": {},
   "outputs": [],
   "source": [
    "results= [pd.concat(i,axis=1) for i in results1]"
   ]
  },
  {
   "cell_type": "code",
   "execution_count": 165,
   "metadata": {},
   "outputs": [],
   "source": [
    "results = pd.concat(results,axis=1)"
   ]
  },
  {
   "cell_type": "code",
   "execution_count": 166,
   "metadata": {},
   "outputs": [],
   "source": [
    "results.columns=pd.MultiIndex.from_tuples([i for i in combinations(range(10,250,10),2)])"
   ]
  },
  {
   "cell_type": "code",
   "execution_count": 76,
   "metadata": {
    "slideshow": {
     "slide_type": "skip"
    }
   },
   "outputs": [
    {
     "name": "stdout",
     "output_type": "stream",
     "text": [
      "853 ms ± 9.65 ms per loop (mean ± std. dev. of 7 runs, 1 loop each)\n"
     ]
    }
   ],
   "source": [
    "%%timeit\n",
    "#Sharpe Anual Básico ( Na real information Rate,benchmark é o ibov essa estratégia 100% comprada não faz sentido usar CDI\n",
    "\n",
    "dic={}\n",
    "for i in [i for i in combinations(range(10,250,10),2)]:\n",
    "    ret=(results[(i[0] ,i[1])]/results[(i[0] ,i[1])].shift(1))\n",
    "    rf=(data1['^BVSP'][data1.index<='2019-01-01']/data1['^BVSP'][data1.index<='2019-01-01'].shift(1))\n",
    "    excess_ret=(ret-rf).rolling(252,min_periods=100).mean()\n",
    "    std_ret=(ret-rf).rolling(252,min_periods=100).std()\n",
    "    dic[i]=(excess_ret/std_ret)*np.sqrt(252)\n"
   ]
  },
  {
   "cell_type": "code",
   "execution_count": 78,
   "metadata": {
    "slideshow": {
     "slide_type": "skip"
    }
   },
   "outputs": [],
   "source": [
    "sharpe=pd.DataFrame(dic)"
   ]
  },
  {
   "cell_type": "code",
   "execution_count": 84,
   "metadata": {
    "slideshow": {
     "slide_type": "skip"
    }
   },
   "outputs": [],
   "source": [
    "recente_sharpe=sharpe.iloc[-1].reset_index()\n",
    "recente_sharpe.columns =['CURTA','LONGA','SHARPE']"
   ]
  },
  {
   "cell_type": "code",
   "execution_count": 85,
   "metadata": {
    "slideshow": {
     "slide_type": "skip"
    }
   },
   "outputs": [],
   "source": [
    "recent_results= results.iloc[-1].reset_index()\n",
    "recent_results.columns =['CURTA','LONGA','RETORNO']"
   ]
  },
  {
   "cell_type": "markdown",
   "metadata": {
    "slideshow": {
     "slide_type": "slide"
    }
   },
   "source": [
    "## Taxa de informação nos ultimos 252 dias (1 ano util)(Equivalente a sharpe)"
   ]
  },
  {
   "cell_type": "code",
   "execution_count": 175,
   "metadata": {},
   "outputs": [
    {
     "data": {
      "text/plain": [
       "<matplotlib.axes._subplots.AxesSubplot at 0x1dd49e78f60>"
      ]
     },
     "execution_count": 175,
     "metadata": {},
     "output_type": "execute_result"
    },
    {
     "data": {
      "image/png": "[encoded data removed]",
      "text/plain": [
       "<Figure size 432x288 with 2 Axes>"
      ]
     },
     "metadata": {
      "needs_background": "light"
     },
     "output_type": "display_data"
    }
   ],
   "source": [
    "\n",
    "sns.heatmap(recente_sharpe.pivot('CURTA','LONGA','SHARPE'))"
   ]
  },
  {
   "cell_type": "markdown",
   "metadata": {
    "slideshow": {
     "slide_type": "slide"
    }
   },
   "source": [
    "## Rendimento Puro"
   ]
  },
  {
   "cell_type": "code",
   "execution_count": 91,
   "metadata": {
    "slideshow": {
     "slide_type": "subslide"
    }
   },
   "outputs": [
    {
     "data": {
      "text/plain": [
       "<matplotlib.axes._subplots.AxesSubplot at 0x1dd41ec8d68>"
      ]
     },
     "execution_count": 91,
     "metadata": {},
     "output_type": "execute_result"
    },
    {
     "data": {
      "image/png": "[encoded data removed]",
      "text/plain": [
       "<Figure size 432x288 with 2 Axes>"
      ]
     },
     "metadata": {
      "needs_background": "light"
     },
     "output_type": "display_data"
    }
   ],
   "source": [
    "sns.heatmap(recent_results.pivot('CURTA','LONGA','RETORNO'))"
   ]
  },
  {
   "cell_type": "code",
   "execution_count": 93,
   "metadata": {
    "slideshow": {
     "slide_type": "slide"
    }
   },
   "outputs": [
    {
     "data": {
      "text/html": [
       "<div>\n",
       "<style scoped>\n",
       "    .dataframe tbody tr th:only-of-type {\n",
       "        vertical-align: middle;\n",
       "    }\n",
       "\n",
       "    .dataframe tbody tr th {\n",
       "        vertical-align: top;\n",
       "    }\n",
       "\n",
       "    .dataframe thead th {\n",
       "        text-align: right;\n",
       "    }\n",
       "</style>\n",
       "<table border=\"1\" class=\"dataframe\">\n",
       "  <thead>\n",
       "    <tr style=\"text-align: right;\">\n",
       "      <th></th>\n",
       "      <th>CURTA</th>\n",
       "      <th>LONGA</th>\n",
       "      <th>RETORNO</th>\n",
       "    </tr>\n",
       "  </thead>\n",
       "  <tbody>\n",
       "    <tr>\n",
       "      <th>0</th>\n",
       "      <td>10</td>\n",
       "      <td>20</td>\n",
       "      <td>0.393170</td>\n",
       "    </tr>\n",
       "    <tr>\n",
       "      <th>6</th>\n",
       "      <td>10</td>\n",
       "      <td>80</td>\n",
       "      <td>0.733184</td>\n",
       "    </tr>\n",
       "    <tr>\n",
       "      <th>4</th>\n",
       "      <td>10</td>\n",
       "      <td>60</td>\n",
       "      <td>0.815979</td>\n",
       "    </tr>\n",
       "    <tr>\n",
       "      <th>1</th>\n",
       "      <td>10</td>\n",
       "      <td>30</td>\n",
       "      <td>0.842205</td>\n",
       "    </tr>\n",
       "    <tr>\n",
       "      <th>5</th>\n",
       "      <td>10</td>\n",
       "      <td>70</td>\n",
       "      <td>0.852969</td>\n",
       "    </tr>\n",
       "    <tr>\n",
       "      <th>...</th>\n",
       "      <td>...</td>\n",
       "      <td>...</td>\n",
       "      <td>...</td>\n",
       "    </tr>\n",
       "    <tr>\n",
       "      <th>170</th>\n",
       "      <td>90</td>\n",
       "      <td>240</td>\n",
       "      <td>12.217799</td>\n",
       "    </tr>\n",
       "    <tr>\n",
       "      <th>171</th>\n",
       "      <td>100</td>\n",
       "      <td>110</td>\n",
       "      <td>12.484577</td>\n",
       "    </tr>\n",
       "    <tr>\n",
       "      <th>273</th>\n",
       "      <td>220</td>\n",
       "      <td>230</td>\n",
       "      <td>12.646122</td>\n",
       "    </tr>\n",
       "    <tr>\n",
       "      <th>151</th>\n",
       "      <td>80</td>\n",
       "      <td>200</td>\n",
       "      <td>13.992715</td>\n",
       "    </tr>\n",
       "    <tr>\n",
       "      <th>261</th>\n",
       "      <td>190</td>\n",
       "      <td>200</td>\n",
       "      <td>19.968324</td>\n",
       "    </tr>\n",
       "  </tbody>\n",
       "</table>\n",
       "<p>276 rows × 3 columns</p>\n",
       "</div>"
      ],
      "text/plain": [
       "     CURTA  LONGA    RETORNO\n",
       "0       10     20   0.393170\n",
       "6       10     80   0.733184\n",
       "4       10     60   0.815979\n",
       "1       10     30   0.842205\n",
       "5       10     70   0.852969\n",
       "..     ...    ...        ...\n",
       "170     90    240  12.217799\n",
       "171    100    110  12.484577\n",
       "273    220    230  12.646122\n",
       "151     80    200  13.992715\n",
       "261    190    200  19.968324\n",
       "\n",
       "[276 rows x 3 columns]"
      ]
     },
     "execution_count": 93,
     "metadata": {},
     "output_type": "execute_result"
    }
   ],
   "source": [
    "#Vale notar o 80-200 e 90-240 proximos da regra de rua 50-200 para médias mopceuis\n",
    "recent_results.sort_values(by='RETORNO')"
   ]
  },
  {
   "cell_type": "code",
   "execution_count": 96,
   "metadata": {
    "slideshow": {
     "slide_type": "slide"
    }
   },
   "outputs": [
    {
     "data": {
      "text/html": [
       "<div>\n",
       "<style scoped>\n",
       "    .dataframe tbody tr th:only-of-type {\n",
       "        vertical-align: middle;\n",
       "    }\n",
       "\n",
       "    .dataframe tbody tr th {\n",
       "        vertical-align: top;\n",
       "    }\n",
       "\n",
       "    .dataframe thead th {\n",
       "        text-align: right;\n",
       "    }\n",
       "</style>\n",
       "<table border=\"1\" class=\"dataframe\">\n",
       "  <thead>\n",
       "    <tr style=\"text-align: right;\">\n",
       "      <th></th>\n",
       "      <th>CURTA</th>\n",
       "      <th>LONGA</th>\n",
       "      <th>SHARPE</th>\n",
       "    </tr>\n",
       "  </thead>\n",
       "  <tbody>\n",
       "    <tr>\n",
       "      <th>6</th>\n",
       "      <td>10</td>\n",
       "      <td>80</td>\n",
       "      <td>-3.151319</td>\n",
       "    </tr>\n",
       "    <tr>\n",
       "      <th>79</th>\n",
       "      <td>40</td>\n",
       "      <td>180</td>\n",
       "      <td>-2.405068</td>\n",
       "    </tr>\n",
       "    <tr>\n",
       "      <th>77</th>\n",
       "      <td>40</td>\n",
       "      <td>160</td>\n",
       "      <td>-2.267692</td>\n",
       "    </tr>\n",
       "    <tr>\n",
       "      <th>2</th>\n",
       "      <td>10</td>\n",
       "      <td>40</td>\n",
       "      <td>-2.082233</td>\n",
       "    </tr>\n",
       "    <tr>\n",
       "      <th>78</th>\n",
       "      <td>40</td>\n",
       "      <td>170</td>\n",
       "      <td>-2.019944</td>\n",
       "    </tr>\n",
       "    <tr>\n",
       "      <th>...</th>\n",
       "      <td>...</td>\n",
       "      <td>...</td>\n",
       "      <td>...</td>\n",
       "    </tr>\n",
       "    <tr>\n",
       "      <th>143</th>\n",
       "      <td>80</td>\n",
       "      <td>120</td>\n",
       "      <td>2.359837</td>\n",
       "    </tr>\n",
       "    <tr>\n",
       "      <th>261</th>\n",
       "      <td>190</td>\n",
       "      <td>200</td>\n",
       "      <td>2.411981</td>\n",
       "    </tr>\n",
       "    <tr>\n",
       "      <th>197</th>\n",
       "      <td>110</td>\n",
       "      <td>240</td>\n",
       "      <td>2.417414</td>\n",
       "    </tr>\n",
       "    <tr>\n",
       "      <th>156</th>\n",
       "      <td>90</td>\n",
       "      <td>100</td>\n",
       "      <td>2.567826</td>\n",
       "    </tr>\n",
       "    <tr>\n",
       "      <th>167</th>\n",
       "      <td>90</td>\n",
       "      <td>210</td>\n",
       "      <td>2.625760</td>\n",
       "    </tr>\n",
       "  </tbody>\n",
       "</table>\n",
       "<p>276 rows × 3 columns</p>\n",
       "</div>"
      ],
      "text/plain": [
       "     CURTA  LONGA    SHARPE\n",
       "6       10     80 -3.151319\n",
       "79      40    180 -2.405068\n",
       "77      40    160 -2.267692\n",
       "2       10     40 -2.082233\n",
       "78      40    170 -2.019944\n",
       "..     ...    ...       ...\n",
       "143     80    120  2.359837\n",
       "261    190    200  2.411981\n",
       "197    110    240  2.417414\n",
       "156     90    100  2.567826\n",
       "167     90    210  2.625760\n",
       "\n",
       "[276 rows x 3 columns]"
      ]
     },
     "execution_count": 96,
     "metadata": {},
     "output_type": "execute_result"
    }
   ],
   "source": [
    "recente_sharpe.sort_values(by='SHARPE')"
   ]
  },
  {
   "cell_type": "code",
   "execution_count": 156,
   "metadata": {},
   "outputs": [],
   "source": [
    "ibov=(data1['^BVSP']/65524)"
   ]
  },
  {
   "cell_type": "code",
   "execution_count": 167,
   "metadata": {},
   "outputs": [
    {
     "data": {
      "text/html": [
       "<div>\n",
       "<style scoped>\n",
       "    .dataframe tbody tr th:only-of-type {\n",
       "        vertical-align: middle;\n",
       "    }\n",
       "\n",
       "    .dataframe tbody tr th {\n",
       "        vertical-align: top;\n",
       "    }\n",
       "\n",
       "    .dataframe thead tr th {\n",
       "        text-align: left;\n",
       "    }\n",
       "\n",
       "    .dataframe thead tr:last-of-type th {\n",
       "        text-align: right;\n",
       "    }\n",
       "</style>\n",
       "<table border=\"1\" class=\"dataframe\">\n",
       "  <thead>\n",
       "    <tr>\n",
       "      <th></th>\n",
       "      <th>90</th>\n",
       "      <th>110</th>\n",
       "      <th>190</th>\n",
       "      <th>80</th>\n",
       "    </tr>\n",
       "    <tr>\n",
       "      <th></th>\n",
       "      <th>210</th>\n",
       "      <th>240</th>\n",
       "      <th>200</th>\n",
       "      <th>200</th>\n",
       "    </tr>\n",
       "    <tr>\n",
       "      <th>Date</th>\n",
       "      <th></th>\n",
       "      <th></th>\n",
       "      <th></th>\n",
       "      <th></th>\n",
       "    </tr>\n",
       "  </thead>\n",
       "  <tbody>\n",
       "    <tr>\n",
       "      <th>2010-02-01</th>\n",
       "      <td>1.000000</td>\n",
       "      <td>1.00000</td>\n",
       "      <td>1.000000</td>\n",
       "      <td>1.000000</td>\n",
       "    </tr>\n",
       "    <tr>\n",
       "      <th>2010-02-02</th>\n",
       "      <td>1.000000</td>\n",
       "      <td>1.00000</td>\n",
       "      <td>1.000000</td>\n",
       "      <td>1.000000</td>\n",
       "    </tr>\n",
       "    <tr>\n",
       "      <th>2010-02-03</th>\n",
       "      <td>1.000000</td>\n",
       "      <td>1.00000</td>\n",
       "      <td>1.000000</td>\n",
       "      <td>1.000000</td>\n",
       "    </tr>\n",
       "    <tr>\n",
       "      <th>2010-02-04</th>\n",
       "      <td>1.000000</td>\n",
       "      <td>1.00000</td>\n",
       "      <td>1.000000</td>\n",
       "      <td>1.000000</td>\n",
       "    </tr>\n",
       "    <tr>\n",
       "      <th>2010-02-05</th>\n",
       "      <td>1.000000</td>\n",
       "      <td>1.00000</td>\n",
       "      <td>1.000000</td>\n",
       "      <td>1.000000</td>\n",
       "    </tr>\n",
       "    <tr>\n",
       "      <th>...</th>\n",
       "      <td>...</td>\n",
       "      <td>...</td>\n",
       "      <td>...</td>\n",
       "      <td>...</td>\n",
       "    </tr>\n",
       "    <tr>\n",
       "      <th>2018-07-26</th>\n",
       "      <td>9.313983</td>\n",
       "      <td>10.03161</td>\n",
       "      <td>19.968324</td>\n",
       "      <td>14.384141</td>\n",
       "    </tr>\n",
       "    <tr>\n",
       "      <th>2018-07-27</th>\n",
       "      <td>9.262341</td>\n",
       "      <td>10.03161</td>\n",
       "      <td>19.968324</td>\n",
       "      <td>14.282487</td>\n",
       "    </tr>\n",
       "    <tr>\n",
       "      <th>2018-07-30</th>\n",
       "      <td>9.058996</td>\n",
       "      <td>10.03161</td>\n",
       "      <td>19.968324</td>\n",
       "      <td>14.008584</td>\n",
       "    </tr>\n",
       "    <tr>\n",
       "      <th>2018-07-31</th>\n",
       "      <td>8.956931</td>\n",
       "      <td>10.03161</td>\n",
       "      <td>19.968324</td>\n",
       "      <td>13.958440</td>\n",
       "    </tr>\n",
       "    <tr>\n",
       "      <th>2018-08-01</th>\n",
       "      <td>8.921618</td>\n",
       "      <td>10.03161</td>\n",
       "      <td>19.968324</td>\n",
       "      <td>13.992715</td>\n",
       "    </tr>\n",
       "  </tbody>\n",
       "</table>\n",
       "<p>2218 rows × 4 columns</p>\n",
       "</div>"
      ],
      "text/plain": [
       "                 90        110        190        80 \n",
       "                 210       240        200        200\n",
       "Date                                                \n",
       "2010-02-01  1.000000   1.00000   1.000000   1.000000\n",
       "2010-02-02  1.000000   1.00000   1.000000   1.000000\n",
       "2010-02-03  1.000000   1.00000   1.000000   1.000000\n",
       "2010-02-04  1.000000   1.00000   1.000000   1.000000\n",
       "2010-02-05  1.000000   1.00000   1.000000   1.000000\n",
       "...              ...       ...        ...        ...\n",
       "2018-07-26  9.313983  10.03161  19.968324  14.384141\n",
       "2018-07-27  9.262341  10.03161  19.968324  14.282487\n",
       "2018-07-30  9.058996  10.03161  19.968324  14.008584\n",
       "2018-07-31  8.956931  10.03161  19.968324  13.958440\n",
       "2018-08-01  8.921618  10.03161  19.968324  13.992715\n",
       "\n",
       "[2218 rows x 4 columns]"
      ]
     },
     "execution_count": 167,
     "metadata": {},
     "output_type": "execute_result"
    }
   ],
   "source": [
    "results[[(90,210),(110,240),(190,200),(80,200)]]"
   ]
  },
  {
   "cell_type": "code",
   "execution_count": 170,
   "metadata": {},
   "outputs": [],
   "source": [
    "perf_comp=pd.concat([results[[(90,210),(110,240),(190,200),(80,200)]],ibov],axis=1)"
   ]
  },
  {
   "cell_type": "markdown",
   "metadata": {
    "slideshow": {
     "slide_type": "slide"
    }
   },
   "source": [
    "# Viés de seleção no período mais longo, talvez explosão de vlaor de emrpresas que só entratar depois no ibov"
   ]
  },
  {
   "cell_type": "code",
   "execution_count": 176,
   "metadata": {
    "slideshow": {
     "slide_type": "slide"
    }
   },
   "outputs": [
    {
     "data": {
      "text/plain": [
       "<matplotlib.axes._subplots.AxesSubplot at 0x1dd4c220550>"
      ]
     },
     "execution_count": 176,
     "metadata": {},
     "output_type": "execute_result"
    },
    {
     "data": {
      "image/png": "[encoded data removed]",
      "text/plain": [
       "<Figure size 432x288 with 1 Axes>"
      ]
     },
     "metadata": {
      "needs_background": "light"
     },
     "output_type": "display_data"
    }
   ],
   "source": [
    "#Viés de seleção no período mais longo, talvez explosão de vlaor de emrpresas que só entratar depois no ibov\n",
    "sns.lineplot(data=perf_comp)"
   ]
  },
  {
   "cell_type": "code",
   "execution_count": 100,
   "metadata": {
    "slideshow": {
     "slide_type": "skip"
    }
   },
   "outputs": [],
   "source": [
    "valid={}\n",
    "for i in [ (90,210),(190,200),(80,200)]:\n",
    "\n",
    "    results=[td.stop_loss(td.calculate_returns(td.troca_posicao(td.estrategia_mmovel(data1[x],i[1] ,i[0]))),0.95) for  x in  data1.columns ]\n",
    "    valid[i]=results"
   ]
  },
  {
   "cell_type": "code",
   "execution_count": null,
   "metadata": {},
   "outputs": [],
   "source": []
  },
  {
   "cell_type": "code",
   "execution_count": 149,
   "metadata": {
    "slideshow": {
     "slide_type": "skip"
    }
   },
   "outputs": [],
   "source": [
    "retornos=pd.concat(valid[(90,210)],axis=1)['DAILY_CHANGE']\n",
    "pesos=pd.notnull(retornos[retornos.index>='2019-01-01']).sum(axis=1)"
   ]
  },
  {
   "cell_type": "code",
   "execution_count": 150,
   "metadata": {
    "slideshow": {
     "slide_type": "skip"
    }
   },
   "outputs": [],
   "source": [
    "ibov=(data1['^BVSP'][data1.index>='2019-01-01']/91012)"
   ]
  },
  {
   "cell_type": "code",
   "execution_count": 151,
   "metadata": {
    "slideshow": {
     "slide_type": "skip"
    }
   },
   "outputs": [],
   "source": [
    "novduz=((retornos.sum(axis=1)[retornos.index>='2019-01-01']/pesos).cumprod())"
   ]
  },
  {
   "cell_type": "markdown",
   "metadata": {
    "slideshow": {
     "slide_type": "slide"
    }
   },
   "source": [
    "# (90,210) Dias"
   ]
  },
  {
   "cell_type": "code",
   "execution_count": 152,
   "metadata": {
    "slideshow": {
     "slide_type": "slide"
    }
   },
   "outputs": [
    {
     "data": {
      "text/plain": [
       "<matplotlib.axes._subplots.AxesSubplot at 0x1dd498c46d8>"
      ]
     },
     "execution_count": 152,
     "metadata": {},
     "output_type": "execute_result"
    },
    {
     "data": {
      "image/png": "[encoded data removed]",
      "text/plain": [
       "<Figure size 432x288 with 1 Axes>"
      ]
     },
     "metadata": {
      "needs_background": "light"
     },
     "output_type": "display_data"
    }
   ],
   "source": [
    "sns.lineplot(data=pd.concat([ibov,novduz],axis=1))"
   ]
  },
  {
   "cell_type": "markdown",
   "metadata": {
    "slideshow": {
     "slide_type": "slide"
    }
   },
   "source": [
    "# (190,200) dias"
   ]
  },
  {
   "cell_type": "code",
   "execution_count": 153,
   "metadata": {
    "slideshow": {
     "slide_type": "slide"
    }
   },
   "outputs": [
    {
     "data": {
      "text/plain": [
       "<matplotlib.axes._subplots.AxesSubplot at 0x1dd4992c438>"
      ]
     },
     "execution_count": 153,
     "metadata": {},
     "output_type": "execute_result"
    },
    {
     "data": {
      "image/png": "[encoded data removed]",
      "text/plain": [
       "<Figure size 432x288 with 1 Axes>"
      ]
     },
     "metadata": {
      "needs_background": "light"
     },
     "output_type": "display_data"
    }
   ],
   "source": [
    "retornos=pd.concat(valid[(190,200)],axis=1)['DAILY_CHANGE']\n",
    "pesos=pd.notnull(retornos[retornos.index>='2019-01-01']).sum(axis=1)\n",
    "novduz=((retornos.sum(axis=1)[retornos.index>='2019-01-01']/pesos).cumprod())\n",
    "sns.lineplot(data=pd.concat([ibov,novduz],axis=1))"
   ]
  },
  {
   "cell_type": "markdown",
   "metadata": {
    "slideshow": {
     "slide_type": "slide"
    }
   },
   "source": [
    "# (80,200) Dias"
   ]
  },
  {
   "cell_type": "code",
   "execution_count": 154,
   "metadata": {
    "slideshow": {
     "slide_type": "slide"
    }
   },
   "outputs": [
    {
     "data": {
      "text/plain": [
       "<matplotlib.axes._subplots.AxesSubplot at 0x1dd499b4fd0>"
      ]
     },
     "execution_count": 154,
     "metadata": {},
     "output_type": "execute_result"
    },
    {
     "data": {
      "image/png": "[encoded data removed]",
      "text/plain": [
       "<Figure size 432x288 with 1 Axes>"
      ]
     },
     "metadata": {
      "needs_background": "light"
     },
     "output_type": "display_data"
    }
   ],
   "source": [
    "\n",
    "retornos=pd.concat(valid[(80,200)],axis=1)['DAILY_CHANGE']\n",
    "pesos=pd.notnull(retornos[retornos.index>='2019-01-01']).sum(axis=1)\n",
    "novduz=((retornos.sum(axis=1)[retornos.index>='2019-01-01']/pesos).cumprod())\n",
    "sns.lineplot(data=pd.concat([ibov,novduz],axis=1))"
   ]
  },
  {
   "cell_type": "markdown",
   "metadata": {
    "slideshow": {
     "slide_type": "slide"
    }
   },
   "source": [
    "## Performance Parece ser realmente boa com baixa vol problema é o numero de ativos na carteira, vou validar em tempo real e reporto de novo"
   ]
  }
 ],
 "metadata": {
  "kernelspec": {
   "display_name": "Python 3",
   "language": "python",
   "name": "python3"
  },
  "language_info": {
   "codemirror_mode": {
    "name": "ipython",
    "version": 3
   },
   "file_extension": ".py",
   "mimetype": "text/x-python",
   "name": "python",
   "nbconvert_exporter": "python",
   "pygments_lexer": "ipython3",
   "version": "3.6.9"
  }
 },
 "nbformat": 4,
 "nbformat_minor": 4
}
