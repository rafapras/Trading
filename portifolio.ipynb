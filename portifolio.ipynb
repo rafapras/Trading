{
 "cells": [
  {
   "cell_type": "code",
   "execution_count": 1,
   "metadata": {},
   "outputs": [],
   "source": [
    "import pandas as pd\n",
    "from pandas_datareader import data\n",
    "import matplotlib.pyplot as plt\n",
    "import yfinance as yf\n",
    "from pypfopt.expected_returns import mean_historical_return\n",
    "from pypfopt.risk_models import CovarianceShrinkage\n",
    "# pyfolio  qgrid empyrical\n",
    "import pickle"
   ]
  },
  {
   "cell_type": "code",
   "execution_count": 2,
   "metadata": {},
   "outputs": [],
   "source": [
    "ticker_list =pd.read_excel('ibov.xlsx')"
   ]
  },
  {
   "cell_type": "code",
   "execution_count": 3,
   "metadata": {},
   "outputs": [
    {
     "data": {
      "text/plain": [
       "Index(['Ticker', 'Stock', 'Type', 'Theoretical Quantity', 'Part. (%)'], dtype='object')"
      ]
     },
     "execution_count": 3,
     "metadata": {},
     "output_type": "execute_result"
    }
   ],
   "source": [
    "ticker_list.columns"
   ]
  },
  {
   "cell_type": "code",
   "execution_count": 4,
   "metadata": {},
   "outputs": [
    {
     "data": {
      "text/plain": [
       "<pandas.core.strings.StringMethods at 0x25ef3a13f98>"
      ]
     },
     "execution_count": 4,
     "metadata": {},
     "output_type": "execute_result"
    }
   ],
   "source": [
    "ticker_list['Ticker'].str"
   ]
  },
  {
   "cell_type": "code",
   "execution_count": 5,
   "metadata": {},
   "outputs": [],
   "source": [
    "ticker_list['Ticker'] = ticker_list['Ticker'].astype(str) +'.SA'"
   ]
  },
  {
   "cell_type": "code",
   "execution_count": 6,
   "metadata": {},
   "outputs": [],
   "source": [
    "ticker_list =(' ').join(ticker_list['Ticker'].to_list()+['SPY','BRL=X','DAX','^N225','^BVSP'])"
   ]
  },
  {
   "cell_type": "code",
   "execution_count": 7,
   "metadata": {},
   "outputs": [
    {
     "data": {
      "text/plain": [
       "'ABEV3.SA AZUL4.SA B3SA3.SA BBAS3.SA BBDC3.SA BBDC4.SA BBSE3.SA BPAC11.SA BRAP4.SA BRDT3.SA BRFS3.SA BRKM5.SA BRML3.SA BTOW3.SA CCRO3.SA CIEL3.SA CMIG4.SA COGN3.SA CSAN3.SA CSNA3.SA CVCB3.SA CYRE3.SA ECOR3.SA EGIE3.SA ELET3.SA ELET6.SA EMBR3.SA ENBR3.SA EQTL3.SA FLRY3.SA GGBR4.SA GNDI3.SA GOAU4.SA GOLL4.SA HYPE3.SA IGTA3.SA IRBR3.SA ITSA4.SA ITUB4.SA JBSS3.SA KLBN11.SA LAME4.SA LREN3.SA MGLU3.SA MRFG3.SA MRVE3.SA MULT3.SA NATU3.SA PCAR4.SA PETR3.SA PETR4.SA QUAL3.SA RADL3.SA RAIL3.SA RENT3.SA SANB11.SA SBSP3.SA SMLS3.SA SUZB3.SA TAEE11.SA TIMP3.SA UGPA3.SA USIM5.SA VALE3.SA VIVT4.SA VVAR3.SA WEGE3.SA YDUQ3.SA nan.SA nan.SA SPY BRL=X DAX ^N225 ^BVSP'"
      ]
     },
     "execution_count": 7,
     "metadata": {},
     "output_type": "execute_result"
    }
   ],
   "source": [
    "ticker_list "
   ]
  },
  {
   "cell_type": "code",
   "execution_count": 20,
   "metadata": {},
   "outputs": [
    {
     "name": "stdout",
     "output_type": "stream",
     "text": [
      "[*********************100%***********************]  2 of 2 completed\n"
     ]
    }
   ],
   "source": [
    "data1 = yf.download(['^BVSP','BPAN4.SA'],period='10y')"
   ]
  },
  {
   "cell_type": "code",
   "execution_count": 15,
   "metadata": {},
   "outputs": [
    {
     "data": {
      "text/html": [
       "<div>\n",
       "<style scoped>\n",
       "    .dataframe tbody tr th:only-of-type {\n",
       "        vertical-align: middle;\n",
       "    }\n",
       "\n",
       "    .dataframe tbody tr th {\n",
       "        vertical-align: top;\n",
       "    }\n",
       "\n",
       "    .dataframe thead tr th {\n",
       "        text-align: left;\n",
       "    }\n",
       "\n",
       "    .dataframe thead tr:last-of-type th {\n",
       "        text-align: right;\n",
       "    }\n",
       "</style>\n",
       "<table border=\"1\" class=\"dataframe\">\n",
       "  <thead>\n",
       "    <tr>\n",
       "      <th></th>\n",
       "      <th colspan=\"2\" halign=\"left\">Adj Close</th>\n",
       "      <th colspan=\"2\" halign=\"left\">Close</th>\n",
       "      <th colspan=\"2\" halign=\"left\">High</th>\n",
       "      <th colspan=\"2\" halign=\"left\">Low</th>\n",
       "      <th colspan=\"2\" halign=\"left\">Open</th>\n",
       "      <th colspan=\"2\" halign=\"left\">Volume</th>\n",
       "    </tr>\n",
       "    <tr>\n",
       "      <th></th>\n",
       "      <th>BPAN4.SA</th>\n",
       "      <th>^BVSP</th>\n",
       "      <th>BPAN4.SA</th>\n",
       "      <th>^BVSP</th>\n",
       "      <th>BPAN4.SA</th>\n",
       "      <th>^BVSP</th>\n",
       "      <th>BPAN4.SA</th>\n",
       "      <th>^BVSP</th>\n",
       "      <th>BPAN4.SA</th>\n",
       "      <th>^BVSP</th>\n",
       "      <th>BPAN4.SA</th>\n",
       "      <th>^BVSP</th>\n",
       "    </tr>\n",
       "    <tr>\n",
       "      <th>Date</th>\n",
       "      <th></th>\n",
       "      <th></th>\n",
       "      <th></th>\n",
       "      <th></th>\n",
       "      <th></th>\n",
       "      <th></th>\n",
       "      <th></th>\n",
       "      <th></th>\n",
       "      <th></th>\n",
       "      <th></th>\n",
       "      <th></th>\n",
       "      <th></th>\n",
       "    </tr>\n",
       "  </thead>\n",
       "  <tbody>\n",
       "    <tr>\n",
       "      <th>2010-01-26</th>\n",
       "      <td>10.566926</td>\n",
       "      <td>65524.0</td>\n",
       "      <td>11.14</td>\n",
       "      <td>65524.0</td>\n",
       "      <td>11.35</td>\n",
       "      <td>66213.0</td>\n",
       "      <td>10.91</td>\n",
       "      <td>64719.0</td>\n",
       "      <td>11.35</td>\n",
       "      <td>66213.0</td>\n",
       "      <td>186400.0</td>\n",
       "      <td>1990400.0</td>\n",
       "    </tr>\n",
       "    <tr>\n",
       "      <th>2010-01-27</th>\n",
       "      <td>10.434128</td>\n",
       "      <td>65070.0</td>\n",
       "      <td>11.00</td>\n",
       "      <td>65070.0</td>\n",
       "      <td>11.30</td>\n",
       "      <td>65663.0</td>\n",
       "      <td>10.90</td>\n",
       "      <td>64553.0</td>\n",
       "      <td>10.90</td>\n",
       "      <td>65527.0</td>\n",
       "      <td>201400.0</td>\n",
       "      <td>1813600.0</td>\n",
       "    </tr>\n",
       "    <tr>\n",
       "      <th>2010-01-28</th>\n",
       "      <td>10.386699</td>\n",
       "      <td>65588.0</td>\n",
       "      <td>10.95</td>\n",
       "      <td>65588.0</td>\n",
       "      <td>11.22</td>\n",
       "      <td>66049.0</td>\n",
       "      <td>10.70</td>\n",
       "      <td>64541.0</td>\n",
       "      <td>11.01</td>\n",
       "      <td>65071.0</td>\n",
       "      <td>235700.0</td>\n",
       "      <td>1649400.0</td>\n",
       "    </tr>\n",
       "    <tr>\n",
       "      <th>2010-01-29</th>\n",
       "      <td>10.367729</td>\n",
       "      <td>65402.0</td>\n",
       "      <td>10.93</td>\n",
       "      <td>65402.0</td>\n",
       "      <td>11.20</td>\n",
       "      <td>66576.0</td>\n",
       "      <td>10.63</td>\n",
       "      <td>65140.0</td>\n",
       "      <td>10.85</td>\n",
       "      <td>65591.0</td>\n",
       "      <td>299800.0</td>\n",
       "      <td>1823200.0</td>\n",
       "    </tr>\n",
       "    <tr>\n",
       "      <th>2010-02-01</th>\n",
       "      <td>10.149560</td>\n",
       "      <td>66572.0</td>\n",
       "      <td>10.70</td>\n",
       "      <td>66572.0</td>\n",
       "      <td>10.99</td>\n",
       "      <td>66763.0</td>\n",
       "      <td>10.65</td>\n",
       "      <td>65362.0</td>\n",
       "      <td>10.97</td>\n",
       "      <td>65402.0</td>\n",
       "      <td>185900.0</td>\n",
       "      <td>1494400.0</td>\n",
       "    </tr>\n",
       "    <tr>\n",
       "      <th>...</th>\n",
       "      <td>...</td>\n",
       "      <td>...</td>\n",
       "      <td>...</td>\n",
       "      <td>...</td>\n",
       "      <td>...</td>\n",
       "      <td>...</td>\n",
       "      <td>...</td>\n",
       "      <td>...</td>\n",
       "      <td>...</td>\n",
       "      <td>...</td>\n",
       "      <td>...</td>\n",
       "      <td>...</td>\n",
       "    </tr>\n",
       "    <tr>\n",
       "      <th>2020-01-20</th>\n",
       "      <td>11.250000</td>\n",
       "      <td>118862.0</td>\n",
       "      <td>11.25</td>\n",
       "      <td>118862.0</td>\n",
       "      <td>11.55</td>\n",
       "      <td>118862.0</td>\n",
       "      <td>11.10</td>\n",
       "      <td>117928.0</td>\n",
       "      <td>11.55</td>\n",
       "      <td>118478.0</td>\n",
       "      <td>3361100.0</td>\n",
       "      <td>3843500.0</td>\n",
       "    </tr>\n",
       "    <tr>\n",
       "      <th>2020-01-21</th>\n",
       "      <td>10.700000</td>\n",
       "      <td>117026.0</td>\n",
       "      <td>10.70</td>\n",
       "      <td>117026.0</td>\n",
       "      <td>11.34</td>\n",
       "      <td>118861.0</td>\n",
       "      <td>10.62</td>\n",
       "      <td>117026.0</td>\n",
       "      <td>11.23</td>\n",
       "      <td>118861.0</td>\n",
       "      <td>7322500.0</td>\n",
       "      <td>5085600.0</td>\n",
       "    </tr>\n",
       "    <tr>\n",
       "      <th>2020-01-22</th>\n",
       "      <td>10.600000</td>\n",
       "      <td>118391.0</td>\n",
       "      <td>10.60</td>\n",
       "      <td>118391.0</td>\n",
       "      <td>10.93</td>\n",
       "      <td>118401.0</td>\n",
       "      <td>10.27</td>\n",
       "      <td>117035.0</td>\n",
       "      <td>10.84</td>\n",
       "      <td>117035.0</td>\n",
       "      <td>6625000.0</td>\n",
       "      <td>5765700.0</td>\n",
       "    </tr>\n",
       "    <tr>\n",
       "      <th>2020-01-23</th>\n",
       "      <td>10.640000</td>\n",
       "      <td>119528.0</td>\n",
       "      <td>10.64</td>\n",
       "      <td>119528.0</td>\n",
       "      <td>10.78</td>\n",
       "      <td>119535.0</td>\n",
       "      <td>10.41</td>\n",
       "      <td>116906.0</td>\n",
       "      <td>10.59</td>\n",
       "      <td>118391.0</td>\n",
       "      <td>3517100.0</td>\n",
       "      <td>6572400.0</td>\n",
       "    </tr>\n",
       "    <tr>\n",
       "      <th>2020-01-24</th>\n",
       "      <td>10.380000</td>\n",
       "      <td>118376.0</td>\n",
       "      <td>10.38</td>\n",
       "      <td>118376.0</td>\n",
       "      <td>10.77</td>\n",
       "      <td>119593.0</td>\n",
       "      <td>10.35</td>\n",
       "      <td>118108.0</td>\n",
       "      <td>10.68</td>\n",
       "      <td>119528.0</td>\n",
       "      <td>3839900.0</td>\n",
       "      <td>4778700.0</td>\n",
       "    </tr>\n",
       "  </tbody>\n",
       "</table>\n",
       "<p>2480 rows × 12 columns</p>\n",
       "</div>"
      ],
      "text/plain": [
       "            Adj Close              Close               High            \\\n",
       "             BPAN4.SA     ^BVSP BPAN4.SA     ^BVSP BPAN4.SA     ^BVSP   \n",
       "Date                                                                    \n",
       "2010-01-26  10.566926   65524.0    11.14   65524.0    11.35   66213.0   \n",
       "2010-01-27  10.434128   65070.0    11.00   65070.0    11.30   65663.0   \n",
       "2010-01-28  10.386699   65588.0    10.95   65588.0    11.22   66049.0   \n",
       "2010-01-29  10.367729   65402.0    10.93   65402.0    11.20   66576.0   \n",
       "2010-02-01  10.149560   66572.0    10.70   66572.0    10.99   66763.0   \n",
       "...               ...       ...      ...       ...      ...       ...   \n",
       "2020-01-20  11.250000  118862.0    11.25  118862.0    11.55  118862.0   \n",
       "2020-01-21  10.700000  117026.0    10.70  117026.0    11.34  118861.0   \n",
       "2020-01-22  10.600000  118391.0    10.60  118391.0    10.93  118401.0   \n",
       "2020-01-23  10.640000  119528.0    10.64  119528.0    10.78  119535.0   \n",
       "2020-01-24  10.380000  118376.0    10.38  118376.0    10.77  119593.0   \n",
       "\n",
       "                Low               Open               Volume             \n",
       "           BPAN4.SA     ^BVSP BPAN4.SA     ^BVSP   BPAN4.SA      ^BVSP  \n",
       "Date                                                                    \n",
       "2010-01-26    10.91   64719.0    11.35   66213.0   186400.0  1990400.0  \n",
       "2010-01-27    10.90   64553.0    10.90   65527.0   201400.0  1813600.0  \n",
       "2010-01-28    10.70   64541.0    11.01   65071.0   235700.0  1649400.0  \n",
       "2010-01-29    10.63   65140.0    10.85   65591.0   299800.0  1823200.0  \n",
       "2010-02-01    10.65   65362.0    10.97   65402.0   185900.0  1494400.0  \n",
       "...             ...       ...      ...       ...        ...        ...  \n",
       "2020-01-20    11.10  117928.0    11.55  118478.0  3361100.0  3843500.0  \n",
       "2020-01-21    10.62  117026.0    11.23  118861.0  7322500.0  5085600.0  \n",
       "2020-01-22    10.27  117035.0    10.84  117035.0  6625000.0  5765700.0  \n",
       "2020-01-23    10.41  116906.0    10.59  118391.0  3517100.0  6572400.0  \n",
       "2020-01-24    10.35  118108.0    10.68  119528.0  3839900.0  4778700.0  \n",
       "\n",
       "[2480 rows x 12 columns]"
      ]
     },
     "execution_count": 15,
     "metadata": {},
     "output_type": "execute_result"
    }
   ],
   "source": [
    "data"
   ]
  },
  {
   "cell_type": "code",
   "execution_count": 8,
   "metadata": {},
   "outputs": [
    {
     "name": "stdout",
     "output_type": "stream",
     "text": [
      "[*********************100%***********************]  74 of 74 completed\n",
      "\n",
      "1 Failed download:\n",
      "- NAN.SA: No data found, symbol may be delisted\n"
     ]
    }
   ],
   "source": [
    "data = yf.download(ticker_list,period='10y')"
   ]
  },
  {
   "cell_type": "code",
   "execution_count": 16,
   "metadata": {},
   "outputs": [],
   "source": [
    "with open('C:\\\\Users\\\\Rafael\\\\Trading\\\\Trading\\\\ibov.pkl','rb') as file:\n",
    "     data =pickle.load(file)"
   ]
  },
  {
   "cell_type": "code",
   "execution_count": 23,
   "metadata": {},
   "outputs": [],
   "source": [
    "data.loc[:,(slice(None),'^BVSP')]=data1.loc[:,(slice(None),'^BVSP')]"
   ]
  },
  {
   "cell_type": "code",
   "execution_count": 32,
   "metadata": {},
   "outputs": [
    {
     "data": {
      "text/plain": [
       "MultiIndex([('Adj Close', 'BPAN4.SA'),\n",
       "            ('Adj Close',    '^BVSP'),\n",
       "            (    'Close', 'BPAN4.SA'),\n",
       "            (    'Close',    '^BVSP'),\n",
       "            (     'High', 'BPAN4.SA'),\n",
       "            (     'High',    '^BVSP'),\n",
       "            (      'Low', 'BPAN4.SA'),\n",
       "            (      'Low',    '^BVSP'),\n",
       "            (     'Open', 'BPAN4.SA'),\n",
       "            (     'Open',    '^BVSP'),\n",
       "            (   'Volume', 'BPAN4.SA'),\n",
       "            (   'Volume',    '^BVSP')],\n",
       "           )"
      ]
     },
     "execution_count": 32,
     "metadata": {},
     "output_type": "execute_result"
    }
   ],
   "source": [
    "data1.columns"
   ]
  },
  {
   "cell_type": "code",
   "execution_count": 34,
   "metadata": {},
   "outputs": [
    {
     "ename": "TypeError",
     "evalue": "'(slice(None, None, None), (slice(None, None, None), '^BVSP'))' is an invalid key",
     "output_type": "error",
     "traceback": [
      "\u001b[1;31m---------------------------------------------------------------------------\u001b[0m",
      "\u001b[1;31mTypeError\u001b[0m                                 Traceback (most recent call last)",
      "\u001b[1;32m<ipython-input-34-4c9a5502c238>\u001b[0m in \u001b[0;36m<module>\u001b[1;34m\u001b[0m\n\u001b[1;32m----> 1\u001b[1;33m \u001b[0mdata1\u001b[0m\u001b[1;33m[\u001b[0m\u001b[1;33m:\u001b[0m\u001b[1;33m,\u001b[0m\u001b[1;33m(\u001b[0m\u001b[0mslice\u001b[0m\u001b[1;33m(\u001b[0m\u001b[1;32mNone\u001b[0m\u001b[1;33m)\u001b[0m\u001b[1;33m,\u001b[0m\u001b[1;34m'^BVSP'\u001b[0m\u001b[1;33m)\u001b[0m\u001b[1;33m]\u001b[0m\u001b[1;33m\u001b[0m\u001b[1;33m\u001b[0m\u001b[0m\n\u001b[0m",
      "\u001b[1;32m~\\Anaconda3\\lib\\site-packages\\pandas\\core\\frame.py\u001b[0m in \u001b[0;36m__getitem__\u001b[1;34m(self, key)\u001b[0m\n\u001b[0;32m   2992\u001b[0m         \u001b[1;32mif\u001b[0m \u001b[0mis_single_key\u001b[0m\u001b[1;33m:\u001b[0m\u001b[1;33m\u001b[0m\u001b[1;33m\u001b[0m\u001b[0m\n\u001b[0;32m   2993\u001b[0m             \u001b[1;32mif\u001b[0m \u001b[0mself\u001b[0m\u001b[1;33m.\u001b[0m\u001b[0mcolumns\u001b[0m\u001b[1;33m.\u001b[0m\u001b[0mnlevels\u001b[0m \u001b[1;33m>\u001b[0m \u001b[1;36m1\u001b[0m\u001b[1;33m:\u001b[0m\u001b[1;33m\u001b[0m\u001b[1;33m\u001b[0m\u001b[0m\n\u001b[1;32m-> 2994\u001b[1;33m                 \u001b[1;32mreturn\u001b[0m \u001b[0mself\u001b[0m\u001b[1;33m.\u001b[0m\u001b[0m_getitem_multilevel\u001b[0m\u001b[1;33m(\u001b[0m\u001b[0mkey\u001b[0m\u001b[1;33m)\u001b[0m\u001b[1;33m\u001b[0m\u001b[1;33m\u001b[0m\u001b[0m\n\u001b[0m\u001b[0;32m   2995\u001b[0m             \u001b[0mindexer\u001b[0m \u001b[1;33m=\u001b[0m \u001b[0mself\u001b[0m\u001b[1;33m.\u001b[0m\u001b[0mcolumns\u001b[0m\u001b[1;33m.\u001b[0m\u001b[0mget_loc\u001b[0m\u001b[1;33m(\u001b[0m\u001b[0mkey\u001b[0m\u001b[1;33m)\u001b[0m\u001b[1;33m\u001b[0m\u001b[1;33m\u001b[0m\u001b[0m\n\u001b[0;32m   2996\u001b[0m             \u001b[1;32mif\u001b[0m \u001b[0mis_integer\u001b[0m\u001b[1;33m(\u001b[0m\u001b[0mindexer\u001b[0m\u001b[1;33m)\u001b[0m\u001b[1;33m:\u001b[0m\u001b[1;33m\u001b[0m\u001b[1;33m\u001b[0m\u001b[0m\n",
      "\u001b[1;32m~\\Anaconda3\\lib\\site-packages\\pandas\\core\\frame.py\u001b[0m in \u001b[0;36m_getitem_multilevel\u001b[1;34m(self, key)\u001b[0m\n\u001b[0;32m   3041\u001b[0m \u001b[1;33m\u001b[0m\u001b[0m\n\u001b[0;32m   3042\u001b[0m     \u001b[1;32mdef\u001b[0m \u001b[0m_getitem_multilevel\u001b[0m\u001b[1;33m(\u001b[0m\u001b[0mself\u001b[0m\u001b[1;33m,\u001b[0m \u001b[0mkey\u001b[0m\u001b[1;33m)\u001b[0m\u001b[1;33m:\u001b[0m\u001b[1;33m\u001b[0m\u001b[1;33m\u001b[0m\u001b[0m\n\u001b[1;32m-> 3043\u001b[1;33m         \u001b[0mloc\u001b[0m \u001b[1;33m=\u001b[0m \u001b[0mself\u001b[0m\u001b[1;33m.\u001b[0m\u001b[0mcolumns\u001b[0m\u001b[1;33m.\u001b[0m\u001b[0mget_loc\u001b[0m\u001b[1;33m(\u001b[0m\u001b[0mkey\u001b[0m\u001b[1;33m)\u001b[0m\u001b[1;33m\u001b[0m\u001b[1;33m\u001b[0m\u001b[0m\n\u001b[0m\u001b[0;32m   3044\u001b[0m         \u001b[1;32mif\u001b[0m \u001b[0misinstance\u001b[0m\u001b[1;33m(\u001b[0m\u001b[0mloc\u001b[0m\u001b[1;33m,\u001b[0m \u001b[1;33m(\u001b[0m\u001b[0mslice\u001b[0m\u001b[1;33m,\u001b[0m \u001b[0mSeries\u001b[0m\u001b[1;33m,\u001b[0m \u001b[0mnp\u001b[0m\u001b[1;33m.\u001b[0m\u001b[0mndarray\u001b[0m\u001b[1;33m,\u001b[0m \u001b[0mIndex\u001b[0m\u001b[1;33m)\u001b[0m\u001b[1;33m)\u001b[0m\u001b[1;33m:\u001b[0m\u001b[1;33m\u001b[0m\u001b[1;33m\u001b[0m\u001b[0m\n\u001b[0;32m   3045\u001b[0m             \u001b[0mnew_columns\u001b[0m \u001b[1;33m=\u001b[0m \u001b[0mself\u001b[0m\u001b[1;33m.\u001b[0m\u001b[0mcolumns\u001b[0m\u001b[1;33m[\u001b[0m\u001b[0mloc\u001b[0m\u001b[1;33m]\u001b[0m\u001b[1;33m\u001b[0m\u001b[1;33m\u001b[0m\u001b[0m\n",
      "\u001b[1;32m~\\Anaconda3\\lib\\site-packages\\pandas\\core\\indexes\\multi.py\u001b[0m in \u001b[0;36mget_loc\u001b[1;34m(self, key, method)\u001b[0m\n\u001b[0;32m   2683\u001b[0m \u001b[1;33m\u001b[0m\u001b[0m\n\u001b[0;32m   2684\u001b[0m         \u001b[1;32mif\u001b[0m \u001b[0mkeylen\u001b[0m \u001b[1;33m==\u001b[0m \u001b[0mself\u001b[0m\u001b[1;33m.\u001b[0m\u001b[0mnlevels\u001b[0m \u001b[1;32mand\u001b[0m \u001b[0mself\u001b[0m\u001b[1;33m.\u001b[0m\u001b[0mis_unique\u001b[0m\u001b[1;33m:\u001b[0m\u001b[1;33m\u001b[0m\u001b[1;33m\u001b[0m\u001b[0m\n\u001b[1;32m-> 2685\u001b[1;33m             \u001b[1;32mreturn\u001b[0m \u001b[0mself\u001b[0m\u001b[1;33m.\u001b[0m\u001b[0m_engine\u001b[0m\u001b[1;33m.\u001b[0m\u001b[0mget_loc\u001b[0m\u001b[1;33m(\u001b[0m\u001b[0mkey\u001b[0m\u001b[1;33m)\u001b[0m\u001b[1;33m\u001b[0m\u001b[1;33m\u001b[0m\u001b[0m\n\u001b[0m\u001b[0;32m   2686\u001b[0m \u001b[1;33m\u001b[0m\u001b[0m\n\u001b[0;32m   2687\u001b[0m         \u001b[1;31m# -- partial selection or non-unique index\u001b[0m\u001b[1;33m\u001b[0m\u001b[1;33m\u001b[0m\u001b[1;33m\u001b[0m\u001b[0m\n",
      "\u001b[1;32mpandas/_libs/index.pyx\u001b[0m in \u001b[0;36mpandas._libs.index.BaseMultiIndexCodesEngine.get_loc\u001b[1;34m()\u001b[0m\n",
      "\u001b[1;31mTypeError\u001b[0m: '(slice(None, None, None), (slice(None, None, None), '^BVSP'))' is an invalid key"
     ]
    }
   ],
   "source": [
    "data1[:,(slice(None),'^BVSP')]"
   ]
  },
  {
   "cell_type": "code",
   "execution_count": 40,
   "metadata": {},
   "outputs": [],
   "source": [
    "data=pd.concat([data,data1.loc[:,(slice(None),'BPAN4.SA')]],axis=1)"
   ]
  },
  {
   "cell_type": "code",
   "execution_count": 41,
   "metadata": {},
   "outputs": [],
   "source": [
    "with open('ibov.pkl','wb') as file:\n",
    "     pickle.dump(data,file, protocol=pickle.HIGHEST_PROTOCOL)\n"
   ]
  },
  {
   "cell_type": "code",
   "execution_count": null,
   "metadata": {},
   "outputs": [],
   "source": []
  },
  {
   "cell_type": "code",
   "execution_count": 10,
   "metadata": {},
   "outputs": [
    {
     "data": {
      "text/html": [
       "<div>\n",
       "<style scoped>\n",
       "    .dataframe tbody tr th:only-of-type {\n",
       "        vertical-align: middle;\n",
       "    }\n",
       "\n",
       "    .dataframe tbody tr th {\n",
       "        vertical-align: top;\n",
       "    }\n",
       "\n",
       "    .dataframe thead tr th {\n",
       "        text-align: left;\n",
       "    }\n",
       "\n",
       "    .dataframe thead tr:last-of-type th {\n",
       "        text-align: right;\n",
       "    }\n",
       "</style>\n",
       "<table border=\"1\" class=\"dataframe\">\n",
       "  <thead>\n",
       "    <tr>\n",
       "      <th></th>\n",
       "      <th colspan=\"10\" halign=\"left\">Adj Close</th>\n",
       "      <th>...</th>\n",
       "      <th colspan=\"10\" halign=\"left\">Volume</th>\n",
       "    </tr>\n",
       "    <tr>\n",
       "      <th></th>\n",
       "      <th>ABEV3.SA</th>\n",
       "      <th>AZUL4.SA</th>\n",
       "      <th>B3SA3.SA</th>\n",
       "      <th>BBAS3.SA</th>\n",
       "      <th>BBDC3.SA</th>\n",
       "      <th>BBDC4.SA</th>\n",
       "      <th>BBSE3.SA</th>\n",
       "      <th>BPAC11.SA</th>\n",
       "      <th>BRAP4.SA</th>\n",
       "      <th>BRDT3.SA</th>\n",
       "      <th>...</th>\n",
       "      <th>TIMP3.SA</th>\n",
       "      <th>UGPA3.SA</th>\n",
       "      <th>USIM5.SA</th>\n",
       "      <th>VALE3.SA</th>\n",
       "      <th>VIVT4.SA</th>\n",
       "      <th>VVAR3.SA</th>\n",
       "      <th>WEGE3.SA</th>\n",
       "      <th>YDUQ3.SA</th>\n",
       "      <th>^BVSP</th>\n",
       "      <th>^N225</th>\n",
       "    </tr>\n",
       "    <tr>\n",
       "      <th>Date</th>\n",
       "      <th></th>\n",
       "      <th></th>\n",
       "      <th></th>\n",
       "      <th></th>\n",
       "      <th></th>\n",
       "      <th></th>\n",
       "      <th></th>\n",
       "      <th></th>\n",
       "      <th></th>\n",
       "      <th></th>\n",
       "      <th></th>\n",
       "      <th></th>\n",
       "      <th></th>\n",
       "      <th></th>\n",
       "      <th></th>\n",
       "      <th></th>\n",
       "      <th></th>\n",
       "      <th></th>\n",
       "      <th></th>\n",
       "      <th></th>\n",
       "      <th></th>\n",
       "    </tr>\n",
       "  </thead>\n",
       "  <tbody>\n",
       "    <tr>\n",
       "      <th>2010-01-26</th>\n",
       "      <td>2.636304</td>\n",
       "      <td>NaN</td>\n",
       "      <td>NaN</td>\n",
       "      <td>15.928211</td>\n",
       "      <td>8.324152</td>\n",
       "      <td>9.723069</td>\n",
       "      <td>NaN</td>\n",
       "      <td>NaN</td>\n",
       "      <td>24.755247</td>\n",
       "      <td>NaN</td>\n",
       "      <td>...</td>\n",
       "      <td>270000.0</td>\n",
       "      <td>0.0</td>\n",
       "      <td>7080400.0</td>\n",
       "      <td>4364100.0</td>\n",
       "      <td>80927.0</td>\n",
       "      <td>6800.0</td>\n",
       "      <td>1336114.0</td>\n",
       "      <td>NaN</td>\n",
       "      <td>1990400.0</td>\n",
       "      <td>175400.0</td>\n",
       "    </tr>\n",
       "    <tr>\n",
       "      <th>2010-01-27</th>\n",
       "      <td>2.608284</td>\n",
       "      <td>NaN</td>\n",
       "      <td>NaN</td>\n",
       "      <td>15.802022</td>\n",
       "      <td>8.166461</td>\n",
       "      <td>9.506925</td>\n",
       "      <td>NaN</td>\n",
       "      <td>NaN</td>\n",
       "      <td>24.570032</td>\n",
       "      <td>NaN</td>\n",
       "      <td>...</td>\n",
       "      <td>231900.0</td>\n",
       "      <td>0.0</td>\n",
       "      <td>5392000.0</td>\n",
       "      <td>3296100.0</td>\n",
       "      <td>116098.0</td>\n",
       "      <td>4400.0</td>\n",
       "      <td>527280.0</td>\n",
       "      <td>NaN</td>\n",
       "      <td>1813600.0</td>\n",
       "      <td>139500.0</td>\n",
       "    </tr>\n",
       "    <tr>\n",
       "      <th>2010-01-28</th>\n",
       "      <td>2.611998</td>\n",
       "      <td>NaN</td>\n",
       "      <td>NaN</td>\n",
       "      <td>15.830702</td>\n",
       "      <td>8.226402</td>\n",
       "      <td>9.668230</td>\n",
       "      <td>NaN</td>\n",
       "      <td>NaN</td>\n",
       "      <td>24.461456</td>\n",
       "      <td>NaN</td>\n",
       "      <td>...</td>\n",
       "      <td>645000.0</td>\n",
       "      <td>0.0</td>\n",
       "      <td>6728800.0</td>\n",
       "      <td>2382800.0</td>\n",
       "      <td>201279.0</td>\n",
       "      <td>4400.0</td>\n",
       "      <td>1323608.0</td>\n",
       "      <td>NaN</td>\n",
       "      <td>1649400.0</td>\n",
       "      <td>168000.0</td>\n",
       "    </tr>\n",
       "    <tr>\n",
       "      <th>2010-01-29</th>\n",
       "      <td>2.531822</td>\n",
       "      <td>NaN</td>\n",
       "      <td>NaN</td>\n",
       "      <td>16.117485</td>\n",
       "      <td>8.103431</td>\n",
       "      <td>9.537341</td>\n",
       "      <td>NaN</td>\n",
       "      <td>NaN</td>\n",
       "      <td>24.793568</td>\n",
       "      <td>NaN</td>\n",
       "      <td>...</td>\n",
       "      <td>484700.0</td>\n",
       "      <td>0.0</td>\n",
       "      <td>6946000.0</td>\n",
       "      <td>3402000.0</td>\n",
       "      <td>123984.0</td>\n",
       "      <td>44400.0</td>\n",
       "      <td>402220.0</td>\n",
       "      <td>NaN</td>\n",
       "      <td>1823200.0</td>\n",
       "      <td>156800.0</td>\n",
       "    </tr>\n",
       "    <tr>\n",
       "      <th>2010-02-01</th>\n",
       "      <td>2.557143</td>\n",
       "      <td>NaN</td>\n",
       "      <td>NaN</td>\n",
       "      <td>17.207285</td>\n",
       "      <td>8.198012</td>\n",
       "      <td>9.698713</td>\n",
       "      <td>NaN</td>\n",
       "      <td>NaN</td>\n",
       "      <td>25.547211</td>\n",
       "      <td>NaN</td>\n",
       "      <td>...</td>\n",
       "      <td>161900.0</td>\n",
       "      <td>0.0</td>\n",
       "      <td>4063800.0</td>\n",
       "      <td>2664600.0</td>\n",
       "      <td>86633.0</td>\n",
       "      <td>15600.0</td>\n",
       "      <td>481312.0</td>\n",
       "      <td>NaN</td>\n",
       "      <td>1494400.0</td>\n",
       "      <td>161900.0</td>\n",
       "    </tr>\n",
       "    <tr>\n",
       "      <th>...</th>\n",
       "      <td>...</td>\n",
       "      <td>...</td>\n",
       "      <td>...</td>\n",
       "      <td>...</td>\n",
       "      <td>...</td>\n",
       "      <td>...</td>\n",
       "      <td>...</td>\n",
       "      <td>...</td>\n",
       "      <td>...</td>\n",
       "      <td>...</td>\n",
       "      <td>...</td>\n",
       "      <td>...</td>\n",
       "      <td>...</td>\n",
       "      <td>...</td>\n",
       "      <td>...</td>\n",
       "      <td>...</td>\n",
       "      <td>...</td>\n",
       "      <td>...</td>\n",
       "      <td>...</td>\n",
       "      <td>...</td>\n",
       "      <td>...</td>\n",
       "    </tr>\n",
       "    <tr>\n",
       "      <th>2020-01-20</th>\n",
       "      <td>18.799999</td>\n",
       "      <td>61.770000</td>\n",
       "      <td>45.500000</td>\n",
       "      <td>49.799999</td>\n",
       "      <td>33.060001</td>\n",
       "      <td>34.759998</td>\n",
       "      <td>36.160000</td>\n",
       "      <td>76.809998</td>\n",
       "      <td>42.389999</td>\n",
       "      <td>29.129999</td>\n",
       "      <td>...</td>\n",
       "      <td>2804100.0</td>\n",
       "      <td>2774400.0</td>\n",
       "      <td>10085000.0</td>\n",
       "      <td>16746300.0</td>\n",
       "      <td>796300.0</td>\n",
       "      <td>51978100.0</td>\n",
       "      <td>2245100.0</td>\n",
       "      <td>2594800.0</td>\n",
       "      <td>3843500.0</td>\n",
       "      <td>38300.0</td>\n",
       "    </tr>\n",
       "    <tr>\n",
       "      <th>2020-01-21</th>\n",
       "      <td>18.740000</td>\n",
       "      <td>60.049999</td>\n",
       "      <td>44.700001</td>\n",
       "      <td>48.360001</td>\n",
       "      <td>31.910000</td>\n",
       "      <td>33.599998</td>\n",
       "      <td>36.000000</td>\n",
       "      <td>77.349998</td>\n",
       "      <td>41.590000</td>\n",
       "      <td>28.700001</td>\n",
       "      <td>...</td>\n",
       "      <td>10266900.0</td>\n",
       "      <td>4399700.0</td>\n",
       "      <td>8097500.0</td>\n",
       "      <td>25436800.0</td>\n",
       "      <td>1907000.0</td>\n",
       "      <td>35784700.0</td>\n",
       "      <td>3066900.0</td>\n",
       "      <td>2675800.0</td>\n",
       "      <td>5085600.0</td>\n",
       "      <td>44600.0</td>\n",
       "    </tr>\n",
       "    <tr>\n",
       "      <th>2020-01-22</th>\n",
       "      <td>19.049999</td>\n",
       "      <td>59.599998</td>\n",
       "      <td>47.500000</td>\n",
       "      <td>48.740002</td>\n",
       "      <td>32.180000</td>\n",
       "      <td>33.720001</td>\n",
       "      <td>36.189999</td>\n",
       "      <td>78.279999</td>\n",
       "      <td>42.250000</td>\n",
       "      <td>29.049999</td>\n",
       "      <td>...</td>\n",
       "      <td>7003200.0</td>\n",
       "      <td>4005700.0</td>\n",
       "      <td>64889200.0</td>\n",
       "      <td>17269400.0</td>\n",
       "      <td>2253300.0</td>\n",
       "      <td>50320000.0</td>\n",
       "      <td>2583100.0</td>\n",
       "      <td>2668400.0</td>\n",
       "      <td>5765700.0</td>\n",
       "      <td>49000.0</td>\n",
       "    </tr>\n",
       "    <tr>\n",
       "      <th>2020-01-23</th>\n",
       "      <td>18.650000</td>\n",
       "      <td>61.200001</td>\n",
       "      <td>48.700001</td>\n",
       "      <td>51.480000</td>\n",
       "      <td>33.049999</td>\n",
       "      <td>34.610001</td>\n",
       "      <td>36.240002</td>\n",
       "      <td>78.349998</td>\n",
       "      <td>41.660000</td>\n",
       "      <td>29.469999</td>\n",
       "      <td>...</td>\n",
       "      <td>6617500.0</td>\n",
       "      <td>3807200.0</td>\n",
       "      <td>52788300.0</td>\n",
       "      <td>23028900.0</td>\n",
       "      <td>2316900.0</td>\n",
       "      <td>51184100.0</td>\n",
       "      <td>4355600.0</td>\n",
       "      <td>1964600.0</td>\n",
       "      <td>6572400.0</td>\n",
       "      <td>55500.0</td>\n",
       "    </tr>\n",
       "    <tr>\n",
       "      <th>2020-01-24</th>\n",
       "      <td>18.990000</td>\n",
       "      <td>59.459999</td>\n",
       "      <td>48.990002</td>\n",
       "      <td>50.799999</td>\n",
       "      <td>32.869999</td>\n",
       "      <td>34.349998</td>\n",
       "      <td>35.900002</td>\n",
       "      <td>78.349998</td>\n",
       "      <td>40.840000</td>\n",
       "      <td>29.590000</td>\n",
       "      <td>...</td>\n",
       "      <td>6403100.0</td>\n",
       "      <td>3700500.0</td>\n",
       "      <td>36859100.0</td>\n",
       "      <td>19744800.0</td>\n",
       "      <td>995600.0</td>\n",
       "      <td>49654600.0</td>\n",
       "      <td>5073000.0</td>\n",
       "      <td>1775400.0</td>\n",
       "      <td>4778700.0</td>\n",
       "      <td>48700.0</td>\n",
       "    </tr>\n",
       "  </tbody>\n",
       "</table>\n",
       "<p>2609 rows × 444 columns</p>\n",
       "</div>"
      ],
      "text/plain": [
       "            Adj Close                                                         \\\n",
       "             ABEV3.SA   AZUL4.SA   B3SA3.SA   BBAS3.SA   BBDC3.SA   BBDC4.SA   \n",
       "Date                                                                           \n",
       "2010-01-26   2.636304        NaN        NaN  15.928211   8.324152   9.723069   \n",
       "2010-01-27   2.608284        NaN        NaN  15.802022   8.166461   9.506925   \n",
       "2010-01-28   2.611998        NaN        NaN  15.830702   8.226402   9.668230   \n",
       "2010-01-29   2.531822        NaN        NaN  16.117485   8.103431   9.537341   \n",
       "2010-02-01   2.557143        NaN        NaN  17.207285   8.198012   9.698713   \n",
       "...               ...        ...        ...        ...        ...        ...   \n",
       "2020-01-20  18.799999  61.770000  45.500000  49.799999  33.060001  34.759998   \n",
       "2020-01-21  18.740000  60.049999  44.700001  48.360001  31.910000  33.599998   \n",
       "2020-01-22  19.049999  59.599998  47.500000  48.740002  32.180000  33.720001   \n",
       "2020-01-23  18.650000  61.200001  48.700001  51.480000  33.049999  34.610001   \n",
       "2020-01-24  18.990000  59.459999  48.990002  50.799999  32.869999  34.349998   \n",
       "\n",
       "                                                        ...      Volume  \\\n",
       "             BBSE3.SA  BPAC11.SA   BRAP4.SA   BRDT3.SA  ...    TIMP3.SA   \n",
       "Date                                                    ...               \n",
       "2010-01-26        NaN        NaN  24.755247        NaN  ...    270000.0   \n",
       "2010-01-27        NaN        NaN  24.570032        NaN  ...    231900.0   \n",
       "2010-01-28        NaN        NaN  24.461456        NaN  ...    645000.0   \n",
       "2010-01-29        NaN        NaN  24.793568        NaN  ...    484700.0   \n",
       "2010-02-01        NaN        NaN  25.547211        NaN  ...    161900.0   \n",
       "...               ...        ...        ...        ...  ...         ...   \n",
       "2020-01-20  36.160000  76.809998  42.389999  29.129999  ...   2804100.0   \n",
       "2020-01-21  36.000000  77.349998  41.590000  28.700001  ...  10266900.0   \n",
       "2020-01-22  36.189999  78.279999  42.250000  29.049999  ...   7003200.0   \n",
       "2020-01-23  36.240002  78.349998  41.660000  29.469999  ...   6617500.0   \n",
       "2020-01-24  35.900002  78.349998  40.840000  29.590000  ...   6403100.0   \n",
       "\n",
       "                                                                      \\\n",
       "             UGPA3.SA    USIM5.SA    VALE3.SA   VIVT4.SA    VVAR3.SA   \n",
       "Date                                                                   \n",
       "2010-01-26        0.0   7080400.0   4364100.0    80927.0      6800.0   \n",
       "2010-01-27        0.0   5392000.0   3296100.0   116098.0      4400.0   \n",
       "2010-01-28        0.0   6728800.0   2382800.0   201279.0      4400.0   \n",
       "2010-01-29        0.0   6946000.0   3402000.0   123984.0     44400.0   \n",
       "2010-02-01        0.0   4063800.0   2664600.0    86633.0     15600.0   \n",
       "...               ...         ...         ...        ...         ...   \n",
       "2020-01-20  2774400.0  10085000.0  16746300.0   796300.0  51978100.0   \n",
       "2020-01-21  4399700.0   8097500.0  25436800.0  1907000.0  35784700.0   \n",
       "2020-01-22  4005700.0  64889200.0  17269400.0  2253300.0  50320000.0   \n",
       "2020-01-23  3807200.0  52788300.0  23028900.0  2316900.0  51184100.0   \n",
       "2020-01-24  3700500.0  36859100.0  19744800.0   995600.0  49654600.0   \n",
       "\n",
       "                                                       \n",
       "             WEGE3.SA   YDUQ3.SA      ^BVSP     ^N225  \n",
       "Date                                                   \n",
       "2010-01-26  1336114.0        NaN  1990400.0  175400.0  \n",
       "2010-01-27   527280.0        NaN  1813600.0  139500.0  \n",
       "2010-01-28  1323608.0        NaN  1649400.0  168000.0  \n",
       "2010-01-29   402220.0        NaN  1823200.0  156800.0  \n",
       "2010-02-01   481312.0        NaN  1494400.0  161900.0  \n",
       "...               ...        ...        ...       ...  \n",
       "2020-01-20  2245100.0  2594800.0  3843500.0   38300.0  \n",
       "2020-01-21  3066900.0  2675800.0  5085600.0   44600.0  \n",
       "2020-01-22  2583100.0  2668400.0  5765700.0   49000.0  \n",
       "2020-01-23  4355600.0  1964600.0  6572400.0   55500.0  \n",
       "2020-01-24  5073000.0  1775400.0  4778700.0   48700.0  \n",
       "\n",
       "[2609 rows x 444 columns]"
      ]
     },
     "execution_count": 10,
     "metadata": {},
     "output_type": "execute_result"
    }
   ],
   "source": [
    "data"
   ]
  },
  {
   "cell_type": "code",
   "execution_count": 405,
   "metadata": {},
   "outputs": [],
   "source": [
    "data[('Adj Close','SPYBRL')] =(data[('Adj Close','SPY')]*data[('Adj Close','BRL=X')])"
   ]
  },
  {
   "cell_type": "code",
   "execution_count": 571,
   "metadata": {},
   "outputs": [],
   "source": [
    "data1 =data[data.index<'2018-11-01']"
   ]
  },
  {
   "cell_type": "code",
   "execution_count": 572,
   "metadata": {},
   "outputs": [],
   "source": [
    "teste =data[data.index>='2018-12-01']"
   ]
  },
  {
   "cell_type": "code",
   "execution_count": null,
   "metadata": {},
   "outputs": [],
   "source": []
  },
  {
   "cell_type": "code",
   "execution_count": 573,
   "metadata": {},
   "outputs": [
    {
     "data": {
      "text/plain": [
       "Index(['ABEV3.SA', 'AZUL4.SA', 'B3SA3.SA', 'BBAS3.SA', 'BBDC3.SA', 'BBDC4.SA',\n",
       "       'BBSE3.SA', 'BPAC11.SA', 'BRAP4.SA', 'BRDT3.SA', 'BRFS3.SA', 'BRKM5.SA',\n",
       "       'BRL=X', 'BRML3.SA', 'BTOW3.SA', 'CCRO3.SA', 'CIEL3.SA', 'CMIG4.SA',\n",
       "       'COGN3.SA', 'CSAN3.SA', 'CSNA3.SA', 'CVCB3.SA', 'CYRE3.SA', 'DAX',\n",
       "       'ECOR3.SA', 'EGIE3.SA', 'ELET3.SA', 'ELET6.SA', 'EMBR3.SA', 'ENBR3.SA',\n",
       "       'EQTL3.SA', 'FLRY3.SA', 'GGBR4.SA', 'GNDI3.SA', 'GOAU4.SA', 'GOLL4.SA',\n",
       "       'HYPE3.SA', 'IGTA3.SA', 'IRBR3.SA', 'ITSA4.SA', 'ITUB4.SA', 'JBSS3.SA',\n",
       "       'KLBN11.SA', 'LAME4.SA', 'LREN3.SA', 'MGLU3.SA', 'MRFG3.SA', 'MRVE3.SA',\n",
       "       'MULT3.SA', 'NAN.SA', 'NATU3.SA', 'PCAR4.SA', 'PETR3.SA', 'PETR4.SA',\n",
       "       'QUAL3.SA', 'RADL3.SA', 'RAIL3.SA', 'RENT3.SA', 'SANB11.SA', 'SBSP3.SA',\n",
       "       'SMLS3.SA', 'SPY', 'SUZB3.SA', 'TAEE11.SA', 'TIMP3.SA', 'UGPA3.SA',\n",
       "       'USIM5.SA', 'VALE3.SA', 'VIVT4.SA', 'VVAR3.SA', 'WEGE3.SA', 'YDUQ3.SA',\n",
       "       '^BVSP', '^N225', 'SPYBRL'],\n",
       "      dtype='object')"
      ]
     },
     "execution_count": 573,
     "metadata": {},
     "output_type": "execute_result"
    }
   ],
   "source": [
    "data1['Adj Close'].columns[:]"
   ]
  },
  {
   "cell_type": "code",
   "execution_count": 574,
   "metadata": {},
   "outputs": [],
   "source": [
    "data2 =data1['Adj Close'].dropna(axis=1,thresh=500).dropna(axis=0)#.drop(['FLRY3.SA','BRL=X'],axis=1)"
   ]
  },
  {
   "cell_type": "code",
   "execution_count": 302,
   "metadata": {},
   "outputs": [],
   "source": [
    "#data2 =data2[data2.columns[:-2]]"
   ]
  },
  {
   "cell_type": "code",
   "execution_count": 575,
   "metadata": {},
   "outputs": [],
   "source": [
    "teste =teste['Adj Close']"
   ]
  },
  {
   "cell_type": "code",
   "execution_count": 576,
   "metadata": {},
   "outputs": [],
   "source": [
    "cov_matrix =data2.cov()"
   ]
  },
  {
   "cell_type": "code",
   "execution_count": 577,
   "metadata": {},
   "outputs": [
    {
     "data": {
      "text/plain": [
       "MultiIndex(levels=[['Adj Close', 'Close', 'High', 'Low', 'Open', 'Volume'], ['ABEV3.SA', 'AZUL4.SA', 'B3SA3.SA', 'BBAS3.SA', 'BBDC3.SA', 'BBDC4.SA', 'BBSE3.SA', 'BPAC11.SA', 'BRAP4.SA', 'BRDT3.SA', 'BRFS3.SA', 'BRKM5.SA', 'BRL=X', 'BRML3.SA', 'BTOW3.SA', 'CCRO3.SA', 'CIEL3.SA', 'CMIG4.SA', 'COGN3.SA', 'CSAN3.SA', 'CSNA3.SA', 'CVCB3.SA', 'CYRE3.SA', 'DAX', 'ECOR3.SA', 'EGIE3.SA', 'ELET3.SA', 'ELET6.SA', 'EMBR3.SA', 'ENBR3.SA', 'EQTL3.SA', 'FLRY3.SA', 'GGBR4.SA', 'GNDI3.SA', 'GOAU4.SA', 'GOLL4.SA', 'HYPE3.SA', 'IGTA3.SA', 'IRBR3.SA', 'ITSA4.SA', 'ITUB4.SA', 'JBSS3.SA', 'KLBN11.SA', 'LAME4.SA', 'LREN3.SA', 'MGLU3.SA', 'MRFG3.SA', 'MRVE3.SA', 'MULT3.SA', 'NAN.SA', 'NATU3.SA', 'PCAR4.SA', 'PETR3.SA', 'PETR4.SA', 'QUAL3.SA', 'RADL3.SA', 'RAIL3.SA', 'RENT3.SA', 'SANB11.SA', 'SBSP3.SA', 'SMLS3.SA', 'SPY', 'SUZB3.SA', 'TAEE11.SA', 'TIMP3.SA', 'UGPA3.SA', 'USIM5.SA', 'VALE3.SA', 'VIVT4.SA', 'VVAR3.SA', 'WEGE3.SA', 'YDUQ3.SA', '^BVSP', '^N225', 'SPYBRL']],\n",
       "           codes=[[0, 0, 0, 0, 0, 0, 0, 0, 0, 0, 0, 0, 0, 0, 0, 0, 0, 0, 0, 0, 0, 0, 0, 0, 0, 0, 0, 0, 0, 0, 0, 0, 0, 0, 0, 0, 0, 0, 0, 0, 0, 0, 0, 0, 0, 0, 0, 0, 0, 0, 0, 0, 0, 0, 0, 0, 0, 0, 0, 0, 0, 0, 0, 0, 0, 0, 0, 0, 0, 0, 0, 0, 0, 0, 1, 1, 1, 1, 1, 1, 1, 1, 1, 1, 1, 1, 1, 1, 1, 1, 1, 1, 1, 1, 1, 1, 1, 1, 1, 1, 1, 1, 1, 1, 1, 1, 1, 1, 1, 1, 1, 1, 1, 1, 1, 1, 1, 1, 1, 1, 1, 1, 1, 1, 1, 1, 1, 1, 1, 1, 1, 1, 1, 1, 1, 1, 1, 1, 1, 1, 1, 1, 1, 1, 1, 1, 1, 1, 2, 2, 2, 2, 2, 2, 2, 2, 2, 2, 2, 2, 2, 2, 2, 2, 2, 2, 2, 2, 2, 2, 2, 2, 2, 2, 2, 2, 2, 2, 2, 2, 2, 2, 2, 2, 2, 2, 2, 2, 2, 2, 2, 2, 2, 2, 2, 2, 2, 2, 2, 2, 2, 2, 2, 2, 2, 2, 2, 2, 2, 2, 2, 2, 2, 2, 2, 2, 2, 2, 2, 2, 2, 2, 3, 3, 3, 3, 3, 3, 3, 3, 3, 3, 3, 3, 3, 3, 3, 3, 3, 3, 3, 3, 3, 3, 3, 3, 3, 3, 3, 3, 3, 3, 3, 3, 3, 3, 3, 3, 3, 3, 3, 3, 3, 3, 3, 3, 3, 3, 3, 3, 3, 3, 3, 3, 3, 3, 3, 3, 3, 3, 3, 3, 3, 3, 3, 3, 3, 3, 3, 3, 3, 3, 3, 3, 3, 3, 4, 4, 4, 4, 4, 4, 4, 4, 4, 4, 4, 4, 4, 4, 4, 4, 4, 4, 4, 4, 4, 4, 4, 4, 4, 4, 4, 4, 4, 4, 4, 4, 4, 4, 4, 4, 4, 4, 4, 4, 4, 4, 4, 4, 4, 4, 4, 4, 4, 4, 4, 4, 4, 4, 4, 4, 4, 4, 4, 4, 4, 4, 4, 4, 4, 4, 4, 4, 4, 4, 4, 4, 4, 4, 5, 5, 5, 5, 5, 5, 5, 5, 5, 5, 5, 5, 5, 5, 5, 5, 5, 5, 5, 5, 5, 5, 5, 5, 5, 5, 5, 5, 5, 5, 5, 5, 5, 5, 5, 5, 5, 5, 5, 5, 5, 5, 5, 5, 5, 5, 5, 5, 5, 5, 5, 5, 5, 5, 5, 5, 5, 5, 5, 5, 5, 5, 5, 5, 5, 5, 5, 5, 5, 5, 5, 5, 5, 5, 0], [0, 1, 2, 3, 4, 5, 6, 7, 8, 9, 10, 11, 12, 13, 14, 15, 16, 17, 18, 19, 20, 21, 22, 23, 24, 25, 26, 27, 28, 29, 30, 31, 32, 33, 34, 35, 36, 37, 38, 39, 40, 41, 42, 43, 44, 45, 46, 47, 48, 49, 50, 51, 52, 53, 54, 55, 56, 57, 58, 59, 60, 61, 62, 63, 64, 65, 66, 67, 68, 69, 70, 71, 72, 73, 0, 1, 2, 3, 4, 5, 6, 7, 8, 9, 10, 11, 12, 13, 14, 15, 16, 17, 18, 19, 20, 21, 22, 23, 24, 25, 26, 27, 28, 29, 30, 31, 32, 33, 34, 35, 36, 37, 38, 39, 40, 41, 42, 43, 44, 45, 46, 47, 48, 49, 50, 51, 52, 53, 54, 55, 56, 57, 58, 59, 60, 61, 62, 63, 64, 65, 66, 67, 68, 69, 70, 71, 72, 73, 0, 1, 2, 3, 4, 5, 6, 7, 8, 9, 10, 11, 12, 13, 14, 15, 16, 17, 18, 19, 20, 21, 22, 23, 24, 25, 26, 27, 28, 29, 30, 31, 32, 33, 34, 35, 36, 37, 38, 39, 40, 41, 42, 43, 44, 45, 46, 47, 48, 49, 50, 51, 52, 53, 54, 55, 56, 57, 58, 59, 60, 61, 62, 63, 64, 65, 66, 67, 68, 69, 70, 71, 72, 73, 0, 1, 2, 3, 4, 5, 6, 7, 8, 9, 10, 11, 12, 13, 14, 15, 16, 17, 18, 19, 20, 21, 22, 23, 24, 25, 26, 27, 28, 29, 30, 31, 32, 33, 34, 35, 36, 37, 38, 39, 40, 41, 42, 43, 44, 45, 46, 47, 48, 49, 50, 51, 52, 53, 54, 55, 56, 57, 58, 59, 60, 61, 62, 63, 64, 65, 66, 67, 68, 69, 70, 71, 72, 73, 0, 1, 2, 3, 4, 5, 6, 7, 8, 9, 10, 11, 12, 13, 14, 15, 16, 17, 18, 19, 20, 21, 22, 23, 24, 25, 26, 27, 28, 29, 30, 31, 32, 33, 34, 35, 36, 37, 38, 39, 40, 41, 42, 43, 44, 45, 46, 47, 48, 49, 50, 51, 52, 53, 54, 55, 56, 57, 58, 59, 60, 61, 62, 63, 64, 65, 66, 67, 68, 69, 70, 71, 72, 73, 0, 1, 2, 3, 4, 5, 6, 7, 8, 9, 10, 11, 12, 13, 14, 15, 16, 17, 18, 19, 20, 21, 22, 23, 24, 25, 26, 27, 28, 29, 30, 31, 32, 33, 34, 35, 36, 37, 38, 39, 40, 41, 42, 43, 44, 45, 46, 47, 48, 49, 50, 51, 52, 53, 54, 55, 56, 57, 58, 59, 60, 61, 62, 63, 64, 65, 66, 67, 68, 69, 70, 71, 72, 73, 74]])"
      ]
     },
     "execution_count": 577,
     "metadata": {},
     "output_type": "execute_result"
    }
   ],
   "source": [
    "data1.columns"
   ]
  },
  {
   "cell_type": "code",
   "execution_count": 578,
   "metadata": {},
   "outputs": [],
   "source": [
    "from pypfopt.efficient_frontier import EfficientFrontier\n",
    "from pypfopt.risk_models import exp_cov,semicovariance,sample_cov\n",
    "from pypfopt.cla import CLA "
   ]
  },
  {
   "cell_type": "code",
   "execution_count": 579,
   "metadata": {},
   "outputs": [],
   "source": [
    "mu = mean_historical_return(data2)\n",
    "S = semicovariance(data2)"
   ]
  },
  {
   "cell_type": "code",
   "execution_count": 580,
   "metadata": {},
   "outputs": [],
   "source": [
    "ef =CLA(mu, S, weight_bounds=(0,1))"
   ]
  },
  {
   "cell_type": "code",
   "execution_count": 581,
   "metadata": {},
   "outputs": [
    {
     "data": {
      "text/plain": [
       "{'ABEV3.SA': 0.0,\n",
       " 'B3SA3.SA': 0.0,\n",
       " 'BBAS3.SA': 0.0,\n",
       " 'BBDC3.SA': 0.0,\n",
       " 'BBDC4.SA': 0.0,\n",
       " 'BBSE3.SA': 0.0,\n",
       " 'BRAP4.SA': 0.0,\n",
       " 'BRFS3.SA': 0.0,\n",
       " 'BRKM5.SA': 0.19227667181879224,\n",
       " 'BRL=X': 0.03626705670328446,\n",
       " 'BRML3.SA': 0.0,\n",
       " 'BTOW3.SA': 0.0,\n",
       " 'CCRO3.SA': 0.0,\n",
       " 'CIEL3.SA': 0.0,\n",
       " 'CMIG4.SA': 0.0,\n",
       " 'CSAN3.SA': 0.0,\n",
       " 'CSNA3.SA': 0.0,\n",
       " 'CVCB3.SA': 0.039725448993006465,\n",
       " 'CYRE3.SA': 0.0,\n",
       " 'DAX': 0.0,\n",
       " 'ECOR3.SA': 0.0,\n",
       " 'EGIE3.SA': 0.0,\n",
       " 'ELET3.SA': 0.0,\n",
       " 'ELET6.SA': 0.0,\n",
       " 'EMBR3.SA': 0.0,\n",
       " 'ENBR3.SA': 0.0,\n",
       " 'EQTL3.SA': 0.0,\n",
       " 'FLRY3.SA': 0.2654657821639028,\n",
       " 'GGBR4.SA': 0.0,\n",
       " 'GOAU4.SA': 0.0,\n",
       " 'GOLL4.SA': 0.0,\n",
       " 'HYPE3.SA': 0.0,\n",
       " 'IGTA3.SA': 0.0,\n",
       " 'ITSA4.SA': 0.0,\n",
       " 'ITUB4.SA': 0.0,\n",
       " 'JBSS3.SA': 0.0,\n",
       " 'LAME4.SA': 0.0,\n",
       " 'LREN3.SA': 0.0,\n",
       " 'MGLU3.SA': 0.17268704651109815,\n",
       " 'MRFG3.SA': 0.0,\n",
       " 'MRVE3.SA': 0.0,\n",
       " 'MULT3.SA': 0.0,\n",
       " 'NATU3.SA': 0.0,\n",
       " 'PCAR4.SA': 0.0,\n",
       " 'PETR3.SA': 0.0,\n",
       " 'PETR4.SA': 0.0,\n",
       " 'QUAL3.SA': 0.0,\n",
       " 'RADL3.SA': 0.1479238719677948,\n",
       " 'RAIL3.SA': 0.0,\n",
       " 'RENT3.SA': 0.0,\n",
       " 'SANB11.SA': 0.0,\n",
       " 'SBSP3.SA': 0.0,\n",
       " 'SMLS3.SA': 0.0,\n",
       " 'SPY': 0.0,\n",
       " 'TIMP3.SA': 0.0,\n",
       " 'UGPA3.SA': 0.0,\n",
       " 'USIM5.SA': 0.0,\n",
       " 'VALE3.SA': 2.9909591439033528e-18,\n",
       " 'VIVT4.SA': 0.0,\n",
       " 'VVAR3.SA': 0.0,\n",
       " 'WEGE3.SA': 0.0,\n",
       " '^BVSP': 0.0,\n",
       " '^N225': 0.0,\n",
       " 'SPYBRL': 0.14565412184212112}"
      ]
     },
     "execution_count": 581,
     "metadata": {},
     "output_type": "execute_result"
    }
   ],
   "source": [
    "ef.max_sharpe()"
   ]
  },
  {
   "cell_type": "code",
   "execution_count": 582,
   "metadata": {},
   "outputs": [],
   "source": [
    "k =ef.efficient_frontier(points=1000)"
   ]
  },
  {
   "cell_type": "code",
   "execution_count": 583,
   "metadata": {},
   "outputs": [
    {
     "name": "stdout",
     "output_type": "stream",
     "text": [
      "Expected annual return: 65.9%\n",
      "Annual volatility: 11.7%\n",
      "Sharpe Ratio: 5.22\n"
     ]
    },
    {
     "data": {
      "text/plain": [
       "(0.6588196837549862, 0.11660281944428574, 5.221311857265061)"
      ]
     },
     "execution_count": 583,
     "metadata": {},
     "output_type": "execute_result"
    }
   ],
   "source": [
    "ef.portfolio_performance(verbose=True,risk_free_rate=0.05)"
   ]
  },
  {
   "cell_type": "code",
   "execution_count": 584,
   "metadata": {},
   "outputs": [
    {
     "data": {
      "text/plain": [
       "{'ABEV3.SA': 0.0,\n",
       " 'B3SA3.SA': 0.0,\n",
       " 'BBAS3.SA': 0.0,\n",
       " 'BBDC3.SA': 0.0,\n",
       " 'BBDC4.SA': 0.0,\n",
       " 'BBSE3.SA': 0.0,\n",
       " 'BRAP4.SA': 0.0,\n",
       " 'BRFS3.SA': 0.0,\n",
       " 'BRKM5.SA': 0.19227667181879224,\n",
       " 'BRL=X': 0.03626705670328446,\n",
       " 'BRML3.SA': 0.0,\n",
       " 'BTOW3.SA': 0.0,\n",
       " 'CCRO3.SA': 0.0,\n",
       " 'CIEL3.SA': 0.0,\n",
       " 'CMIG4.SA': 0.0,\n",
       " 'CSAN3.SA': 0.0,\n",
       " 'CSNA3.SA': 0.0,\n",
       " 'CVCB3.SA': 0.039725448993006465,\n",
       " 'CYRE3.SA': 0.0,\n",
       " 'DAX': 0.0,\n",
       " 'ECOR3.SA': 0.0,\n",
       " 'EGIE3.SA': 0.0,\n",
       " 'ELET3.SA': 0.0,\n",
       " 'ELET6.SA': 0.0,\n",
       " 'EMBR3.SA': 0.0,\n",
       " 'ENBR3.SA': 0.0,\n",
       " 'EQTL3.SA': 0.0,\n",
       " 'FLRY3.SA': 0.2654657821639028,\n",
       " 'GGBR4.SA': 0.0,\n",
       " 'GOAU4.SA': 0.0,\n",
       " 'GOLL4.SA': 0.0,\n",
       " 'HYPE3.SA': 0.0,\n",
       " 'IGTA3.SA': 0.0,\n",
       " 'ITSA4.SA': 0.0,\n",
       " 'ITUB4.SA': 0.0,\n",
       " 'JBSS3.SA': 0.0,\n",
       " 'LAME4.SA': 0.0,\n",
       " 'LREN3.SA': 0.0,\n",
       " 'MGLU3.SA': 0.17268704651109815,\n",
       " 'MRFG3.SA': 0.0,\n",
       " 'MRVE3.SA': 0.0,\n",
       " 'MULT3.SA': 0.0,\n",
       " 'NATU3.SA': 0.0,\n",
       " 'PCAR4.SA': 0.0,\n",
       " 'PETR3.SA': 0.0,\n",
       " 'PETR4.SA': 0.0,\n",
       " 'QUAL3.SA': 0.0,\n",
       " 'RADL3.SA': 0.1479238719677948,\n",
       " 'RAIL3.SA': 0.0,\n",
       " 'RENT3.SA': 0.0,\n",
       " 'SANB11.SA': 0.0,\n",
       " 'SBSP3.SA': 0.0,\n",
       " 'SMLS3.SA': 0.0,\n",
       " 'SPY': 0.0,\n",
       " 'TIMP3.SA': 0.0,\n",
       " 'UGPA3.SA': 0.0,\n",
       " 'USIM5.SA': 0.0,\n",
       " 'VALE3.SA': 2.9909591439033528e-18,\n",
       " 'VIVT4.SA': 0.0,\n",
       " 'VVAR3.SA': 0.0,\n",
       " 'WEGE3.SA': 0.0,\n",
       " '^BVSP': 0.0,\n",
       " '^N225': 0.0,\n",
       " 'SPYBRL': 0.14565412184212112}"
      ]
     },
     "execution_count": 584,
     "metadata": {},
     "output_type": "execute_result"
    }
   ],
   "source": [
    "ef.max_sharpe()"
   ]
  },
  {
   "cell_type": "code",
   "execution_count": 585,
   "metadata": {},
   "outputs": [
    {
     "data": {
      "text/plain": [
       "{'ABEV3.SA': 0.08366694911465172,\n",
       " 'B3SA3.SA': 0.0,\n",
       " 'BBAS3.SA': 0.0,\n",
       " 'BBDC3.SA': 0.0,\n",
       " 'BBDC4.SA': 0.0,\n",
       " 'BBSE3.SA': 0.0,\n",
       " 'BRAP4.SA': 0.0,\n",
       " 'BRFS3.SA': 0.00761611273100897,\n",
       " 'BRKM5.SA': 0.009818848333130363,\n",
       " 'BRL=X': 0.29679037014840653,\n",
       " 'BRML3.SA': 0.0,\n",
       " 'BTOW3.SA': 0.0,\n",
       " 'CCRO3.SA': 0.0,\n",
       " 'CIEL3.SA': 0.0,\n",
       " 'CMIG4.SA': 0.0,\n",
       " 'CSAN3.SA': 0.0,\n",
       " 'CSNA3.SA': 0.0,\n",
       " 'CVCB3.SA': 0.0,\n",
       " 'CYRE3.SA': 0.0,\n",
       " 'DAX': 0.0,\n",
       " 'ECOR3.SA': 0.0,\n",
       " 'EGIE3.SA': 0.015867721202510593,\n",
       " 'ELET3.SA': 0.0,\n",
       " 'ELET6.SA': 0.0,\n",
       " 'EMBR3.SA': 0.019628189791437912,\n",
       " 'ENBR3.SA': 0.0,\n",
       " 'EQTL3.SA': 0.053771180821046156,\n",
       " 'FLRY3.SA': 0.05213227849711508,\n",
       " 'GGBR4.SA': 0.0,\n",
       " 'GOAU4.SA': 0.0,\n",
       " 'GOLL4.SA': 0.0,\n",
       " 'HYPE3.SA': 0.012564196525266334,\n",
       " 'IGTA3.SA': 0.0,\n",
       " 'ITSA4.SA': 0.0,\n",
       " 'ITUB4.SA': 0.0,\n",
       " 'JBSS3.SA': 0.0,\n",
       " 'LAME4.SA': 0.0,\n",
       " 'LREN3.SA': 0.0,\n",
       " 'MGLU3.SA': 0.0,\n",
       " 'MRFG3.SA': 0.014475306974652066,\n",
       " 'MRVE3.SA': 0.0,\n",
       " 'MULT3.SA': 0.0,\n",
       " 'NATU3.SA': 0.0,\n",
       " 'PCAR4.SA': 0.0,\n",
       " 'PETR3.SA': 0.0,\n",
       " 'PETR4.SA': 0.0,\n",
       " 'QUAL3.SA': 0.0,\n",
       " 'RADL3.SA': 0.031378103738251374,\n",
       " 'RAIL3.SA': 0.0,\n",
       " 'RENT3.SA': 0.0,\n",
       " 'SANB11.SA': 0.0,\n",
       " 'SBSP3.SA': 0.0,\n",
       " 'SMLS3.SA': 0.0,\n",
       " 'SPY': 0.2864679928880054,\n",
       " 'TIMP3.SA': 0.0,\n",
       " 'UGPA3.SA': 0.01687300429580285,\n",
       " 'USIM5.SA': 0.0,\n",
       " 'VALE3.SA': 0.0,\n",
       " 'VIVT4.SA': 0.0022156845027971606,\n",
       " 'VVAR3.SA': 0.0,\n",
       " 'WEGE3.SA': 0.0,\n",
       " '^BVSP': 0.0,\n",
       " '^N225': 0.09673406043591748,\n",
       " 'SPYBRL': 0.0}"
      ]
     },
     "execution_count": 585,
     "metadata": {},
     "output_type": "execute_result"
    }
   ],
   "source": [
    "ef.min_volatility()"
   ]
  },
  {
   "cell_type": "code",
   "execution_count": 586,
   "metadata": {},
   "outputs": [],
   "source": [
    "df =pd.concat([pd.Series(k[0]),pd.Series(k[1   ])],axis=1)"
   ]
  },
  {
   "cell_type": "code",
   "execution_count": 587,
   "metadata": {},
   "outputs": [],
   "source": [
    "import seaborn as sb"
   ]
  },
  {
   "cell_type": "code",
   "execution_count": 588,
   "metadata": {},
   "outputs": [
    {
     "data": {
      "text/plain": [
       "<matplotlib.axes._subplots.AxesSubplot at 0x29462511048>"
      ]
     },
     "execution_count": 588,
     "metadata": {},
     "output_type": "execute_result"
    },
    {
     "data": {
      "image/png": "[encoded data removed]",
      "text/plain": [
       "<Figure size 432x288 with 1 Axes>"
      ]
     },
     "metadata": {
      "needs_background": "light"
     },
     "output_type": "display_data"
    }
   ],
   "source": [
    "sb.scatterplot(data=df,x=1,y=0)"
   ]
  },
  {
   "cell_type": "code",
   "execution_count": 591,
   "metadata": {},
   "outputs": [],
   "source": [
    "ef = EfficientFrontier(mu, S,gamma=1)\n",
    "weights = ef.max_sharpe()"
   ]
  },
  {
   "cell_type": "code",
   "execution_count": 592,
   "metadata": {},
   "outputs": [
    {
     "name": "stdout",
     "output_type": "stream",
     "text": [
      "{'ABEV3.SA': 0.0, 'B3SA3.SA': 0.0, 'BBAS3.SA': 0.0, 'BBDC3.SA': 0.0, 'BBDC4.SA': 0.0, 'BBSE3.SA': 0.0, 'BRAP4.SA': 0.0, 'BRFS3.SA': 0.0, 'BRKM5.SA': 0.18537, 'BRL=X': 0.0681, 'BRML3.SA': 0.0, 'BTOW3.SA': 0.0, 'CCRO3.SA': 0.0, 'CIEL3.SA': 0.0, 'CMIG4.SA': 0.0, 'CSAN3.SA': 0.0, 'CSNA3.SA': 0.0, 'CVCB3.SA': 0.04837, 'CYRE3.SA': 0.0, 'DAX': 0.0, 'ECOR3.SA': 0.0, 'EGIE3.SA': 0.0, 'ELET3.SA': 0.0, 'ELET6.SA': 0.0, 'EMBR3.SA': 0.0, 'ENBR3.SA': 0.0, 'EQTL3.SA': 0.02572, 'FLRY3.SA': 0.23832, 'GGBR4.SA': 0.0, 'GOAU4.SA': 0.0, 'GOLL4.SA': 0.0, 'HYPE3.SA': 0.0, 'IGTA3.SA': 0.0, 'ITSA4.SA': 0.0, 'ITUB4.SA': 0.0, 'JBSS3.SA': 0.0, 'LAME4.SA': 0.0, 'LREN3.SA': 0.0, 'MGLU3.SA': 0.17347, 'MRFG3.SA': 0.00287, 'MRVE3.SA': 0.0, 'MULT3.SA': 0.0, 'NATU3.SA': 0.0, 'PCAR4.SA': 0.0, 'PETR3.SA': 0.0, 'PETR4.SA': 0.0, 'QUAL3.SA': 0.0, 'RADL3.SA': 0.13681, 'RAIL3.SA': 0.0, 'RENT3.SA': 0.0, 'SANB11.SA': 0.0, 'SBSP3.SA': 0.0, 'SMLS3.SA': 0.0, 'SPY': 0.0, 'TIMP3.SA': 0.0, 'UGPA3.SA': 0.0, 'USIM5.SA': 0.0, 'VALE3.SA': 0.00811, 'VIVT4.SA': 0.0, 'VVAR3.SA': 0.0, 'WEGE3.SA': 0.0, '^BVSP': 0.0, '^N225': 0.0, 'SPYBRL': 0.11285}\n"
     ]
    }
   ],
   "source": [
    "cleaned_weights = ef.clean_weights()\n",
    "print(cleaned_weights)"
   ]
  },
  {
   "cell_type": "code",
   "execution_count": 593,
   "metadata": {},
   "outputs": [
    {
     "name": "stdout",
     "output_type": "stream",
     "text": [
      "Expected annual return: 64.8%\n",
      "Annual volatility: 11.5%\n",
      "Sharpe Ratio: 5.47\n"
     ]
    },
    {
     "data": {
      "text/plain": [
       "(0.647656947428203, 0.11479873018036377, 5.467455488767795)"
      ]
     },
     "execution_count": 593,
     "metadata": {},
     "output_type": "execute_result"
    }
   ],
   "source": [
    "ef.portfolio_performance(verbose=True)"
   ]
  },
  {
   "cell_type": "code",
   "execution_count": null,
   "metadata": {
    "collapsed": true,
    "jupyter": {
     "outputs_hidden": true
    }
   },
   "outputs": [],
   "source": [
    "#,gamma=10"
   ]
  },
  {
   "cell_type": "code",
   "execution_count": 594,
   "metadata": {},
   "outputs": [
    {
     "name": "stdout",
     "output_type": "stream",
     "text": [
      "9 out of 64 tickers were removed\n",
      "{'ABEV3.SA': 1, 'B3SA3.SA': 1, 'BBDC3.SA': 1, 'BBDC4.SA': 1, 'BBSE3.SA': 1, 'BRAP4.SA': 1, 'BRFS3.SA': 1, 'BRKM5.SA': 1, 'BRL=X': 8, 'BRML3.SA': 1, 'BTOW3.SA': 0, 'CCRO3.SA': 1, 'CIEL3.SA': 1, 'CSAN3.SA': 1, 'CVCB3.SA': 0, 'CYRE3.SA': 1, 'DAX': 1, 'ECOR3.SA': 2, 'EGIE3.SA': 1, 'ELET3.SA': 1, 'ELET6.SA': 1, 'EMBR3.SA': 1, 'ENBR3.SA': 2, 'EQTL3.SA': 0, 'FLRY3.SA': 1, 'GGBR4.SA': 1, 'HYPE3.SA': 1, 'IGTA3.SA': 1, 'ITSA4.SA': 1, 'ITUB4.SA': 1, 'JBSS3.SA': 2, 'LAME4.SA': 1, 'LREN3.SA': 1, 'MGLU3.SA': 1, 'MRFG3.SA': 3, 'MRVE3.SA': 2, 'MULT3.SA': 1, 'NATU3.SA': 1, 'PCAR4.SA': 0, 'QUAL3.SA': 1, 'RADL3.SA': 0, 'RENT3.SA': 1, 'SANB11.SA': 1, 'SBSP3.SA': 1, 'SMLS3.SA': 0, 'SPY': 0, 'TIMP3.SA': 2, 'UGPA3.SA': 1, 'VALE3.SA': 0, 'VIVT4.SA': 1, 'VVAR3.SA': 2, 'WEGE3.SA': 1, '^BVSP': 0, '^N225': 0, 'SPYBRL': 0}\n"
     ]
    }
   ],
   "source": [
    "\n",
    "from pypfopt.discrete_allocation import DiscreteAllocation, get_latest_prices\n",
    "cleaned_weights = ef.min_volatility()\n",
    "latest_prices = get_latest_prices(data2)\n",
    "da = DiscreteAllocation(cleaned_weights, latest_prices, total_portfolio_value=1000)\n",
    "allocation, leftover = da.lp_portfolio()\n",
    "print(allocation)"
   ]
  },
  {
   "cell_type": "code",
   "execution_count": 595,
   "metadata": {},
   "outputs": [
    {
     "data": {
      "text/plain": [
       "dict_values([1, 1, 1, 1, 1, 1, 1, 1, 8, 1, 0, 1, 1, 1, 0, 1, 1, 2, 1, 1, 1, 1, 2, 0, 1, 1, 1, 1, 1, 1, 2, 1, 1, 1, 3, 2, 1, 1, 0, 1, 0, 1, 1, 1, 0, 0, 2, 1, 0, 1, 2, 1, 0, 0, 0])"
      ]
     },
     "execution_count": 595,
     "metadata": {},
     "output_type": "execute_result"
    }
   ],
   "source": [
    "allocation.values()"
   ]
  },
  {
   "cell_type": "code",
   "execution_count": 596,
   "metadata": {},
   "outputs": [],
   "source": [
    "c =(teste['SPY'].dropna()/teste['SPY'].dropna()[1])"
   ]
  },
  {
   "cell_type": "code",
   "execution_count": 597,
   "metadata": {},
   "outputs": [],
   "source": [
    "b =(teste['^BVSP'].dropna()/teste['^BVSP'].dropna()[1])"
   ]
  },
  {
   "cell_type": "code",
   "execution_count": null,
   "metadata": {},
   "outputs": [],
   "source": []
  },
  {
   "cell_type": "code",
   "execution_count": 598,
   "metadata": {},
   "outputs": [
    {
     "data": {
      "text/plain": [
       "[1,\n",
       " 1,\n",
       " 1,\n",
       " 1,\n",
       " 1,\n",
       " 1,\n",
       " 1,\n",
       " 1,\n",
       " 8,\n",
       " 1,\n",
       " 0,\n",
       " 1,\n",
       " 1,\n",
       " 1,\n",
       " 0,\n",
       " 1,\n",
       " 1,\n",
       " 2,\n",
       " 1,\n",
       " 1,\n",
       " 1,\n",
       " 1,\n",
       " 2,\n",
       " 0,\n",
       " 1,\n",
       " 1,\n",
       " 1,\n",
       " 1,\n",
       " 1,\n",
       " 1,\n",
       " 2,\n",
       " 1,\n",
       " 1,\n",
       " 1,\n",
       " 3,\n",
       " 2,\n",
       " 1,\n",
       " 1,\n",
       " 0,\n",
       " 1,\n",
       " 0,\n",
       " 1,\n",
       " 1,\n",
       " 1,\n",
       " 0,\n",
       " 0,\n",
       " 2,\n",
       " 1,\n",
       " 0,\n",
       " 1,\n",
       " 2,\n",
       " 1,\n",
       " 0,\n",
       " 0,\n",
       " 0]"
      ]
     },
     "execution_count": 598,
     "metadata": {},
     "output_type": "execute_result"
    }
   ],
   "source": [
    "list(allocation.values())"
   ]
  },
  {
   "cell_type": "code",
   "execution_count": null,
   "metadata": {},
   "outputs": [],
   "source": []
  },
  {
   "cell_type": "code",
   "execution_count": 608,
   "metadata": {},
   "outputs": [],
   "source": [
    "a =((abs(teste[allocation.keys()]*list(allocation.values())).dropna(thresh=10).sum(axis=1))/1000)"
   ]
  },
  {
   "cell_type": "code",
   "execution_count": 609,
   "metadata": {},
   "outputs": [
    {
     "data": {
      "text/plain": [
       "<matplotlib.axes._subplots.AxesSubplot at 0x29462bea438>"
      ]
     },
     "execution_count": 609,
     "metadata": {},
     "output_type": "execute_result"
    },
    {
     "data": {
      "image/png": "[encoded data removed]",
      "text/plain": [
       "<Figure size 432x288 with 1 Axes>"
      ]
     },
     "metadata": {
      "needs_background": "light"
     },
     "output_type": "display_data"
    }
   ],
   "source": [
    "pd.concat([a,b,c],axis=1).dropna().plot()"
   ]
  },
  {
   "cell_type": "code",
   "execution_count": null,
   "metadata": {},
   "outputs": [],
   "source": []
  },
  {
   "cell_type": "code",
   "execution_count": 83,
   "metadata": {
    "collapsed": true,
    "jupyter": {
     "outputs_hidden": true
    }
   },
   "outputs": [],
   "source": [
    "ef = EfficientFrontier(mu, S, weight_bounds=(-1,1))"
   ]
  },
  {
   "cell_type": "code",
   "execution_count": 85,
   "metadata": {
    "collapsed": true,
    "jupyter": {
     "outputs_hidden": true
    }
   },
   "outputs": [
    {
     "data": {
      "text/plain": [
       "{'ABEV3.SA': -0.18782420811204345,\n",
       " 'B3SA3.SA': 0.2552131907340352,\n",
       " 'BBAS3.SA': -0.1760490961937194,\n",
       " 'BBDC3.SA': -0.6420227827186367,\n",
       " 'BBDC4.SA': 0.6889267236531893,\n",
       " 'BBSE3.SA': -0.10841250219406032,\n",
       " 'BRAP4.SA': 0.4013800811002692,\n",
       " 'BRFS3.SA': -0.06743506173724857,\n",
       " 'BRKM5.SA': 0.09992756859053731,\n",
       " 'BRL=X': 0.4824732999298338,\n",
       " 'BRML3.SA': -0.23162561061943585,\n",
       " 'BTOW3.SA': -0.07707195423670107,\n",
       " 'CCRO3.SA': -0.03787378102826306,\n",
       " 'CIEL3.SA': -0.1054641170756981,\n",
       " 'CMIG4.SA': -0.25756915085749865,\n",
       " 'CSAN3.SA': -0.0914153532064096,\n",
       " 'CSNA3.SA': 0.002806247671825725,\n",
       " 'CVCB3.SA': 0.11461475412353693,\n",
       " 'CYRE3.SA': -0.14151202430707427,\n",
       " 'DAX': -0.09515139976165223,\n",
       " 'ECOR3.SA': -0.046683565049900386,\n",
       " 'EGIE3.SA': 0.1283180811222238,\n",
       " 'ELET3.SA': -0.24550740005460617,\n",
       " 'ELET6.SA': 0.42332855131562397,\n",
       " 'EMBR3.SA': -0.1974574638166553,\n",
       " 'ENBR3.SA': 0.09838328948526782,\n",
       " 'EQTL3.SA': 0.34376457237587676,\n",
       " 'FLRY3.SA': 0.3008167616073663,\n",
       " 'GGBR4.SA': 0.7294912531273227,\n",
       " 'GOAU4.SA': -1.0,\n",
       " 'GOLL4.SA': 0.1499000323878203,\n",
       " 'HYPE3.SA': -0.024374950947566622,\n",
       " 'IGTA3.SA': -0.15104672434452557,\n",
       " 'ITSA4.SA': 0.8748669720672665,\n",
       " 'ITUB4.SA': -0.7971434353689182,\n",
       " 'JBSS3.SA': 0.01673301932152664,\n",
       " 'LAME4.SA': -0.32340270349403943,\n",
       " 'LREN3.SA': -0.21565531992603984,\n",
       " 'MGLU3.SA': 0.6662289593658137,\n",
       " 'MRFG3.SA': 0.08717969915536425,\n",
       " 'MRVE3.SA': 0.13246104070792403,\n",
       " 'MULT3.SA': -0.1390659708781928,\n",
       " 'NATU3.SA': -0.018484955678988363,\n",
       " 'PCAR4.SA': -0.18095084213164536,\n",
       " 'PETR3.SA': 0.39932813207967016,\n",
       " 'PETR4.SA': -0.21851093471087601,\n",
       " 'QUAL3.SA': 0.04901739843981667,\n",
       " 'RADL3.SA': 0.27344163036722346,\n",
       " 'RAIL3.SA': 0.10424171070971264,\n",
       " 'RENT3.SA': 0.08300592631436544,\n",
       " 'SBSP3.SA': -0.03674597394448108,\n",
       " 'SMLS3.SA': -0.044198745636197266,\n",
       " 'SPY': 0.22963700424023706,\n",
       " 'TIMP3.SA': -0.18840474899865065,\n",
       " 'UGPA3.SA': -0.2072124303227383,\n",
       " 'USIM5.SA': 0.22084389276215818,\n",
       " 'VALE3.SA': -0.1179583030502196,\n",
       " 'VIVT4.SA': -0.1013579157476847,\n",
       " 'VVAR3.SA': -0.025937946971358632,\n",
       " 'WEGE3.SA': 0.14319758036591757}"
      ]
     },
     "execution_count": 85,
     "metadata": {},
     "output_type": "execute_result"
    }
   ],
   "source": [
    "ef.max_sharpe()"
   ]
  },
  {
   "cell_type": "code",
   "execution_count": 86,
   "metadata": {
    "collapsed": true,
    "jupyter": {
     "outputs_hidden": true
    }
   },
   "outputs": [
    {
     "name": "stdout",
     "output_type": "stream",
     "text": [
      "Expected annual return: 192.4%\n",
      "Annual volatility: 31.5%\n",
      "Sharpe Ratio: 6.04\n"
     ]
    },
    {
     "data": {
      "text/plain": [
       "(1.9236813698788153, 0.315243702614132, 6.038760977912317)"
      ]
     },
     "execution_count": 86,
     "metadata": {},
     "output_type": "execute_result"
    }
   ],
   "source": [
    "ef.portfolio_performance(verbose=True)"
   ]
  },
  {
   "cell_type": "code",
   "execution_count": 290,
   "metadata": {
    "collapsed": true,
    "jupyter": {
     "outputs_hidden": true
    }
   },
   "outputs": [],
   "source": [
    "data3 =data2.diff().dropna()"
   ]
  },
  {
   "cell_type": "code",
   "execution_count": 291,
   "metadata": {
    "collapsed": true,
    "jupyter": {
     "outputs_hidden": true
    }
   },
   "outputs": [
    {
     "data": {
      "text/plain": [
       "ABEV3.SA    0.066030\n",
       "B3SA3.SA    0.238823\n",
       "BBAS3.SA    0.587383\n",
       "BBDC3.SA    0.215041\n",
       "BBDC4.SA    0.229306\n",
       "BBSE3.SA    0.254138\n",
       "BRAP4.SA    0.321061\n",
       "BRFS3.SA    0.783940\n",
       "BRKM5.SA    0.618163\n",
       "BRL=X       0.001784\n",
       "BRML3.SA    0.050674\n",
       "BTOW3.SA    0.830771\n",
       "CCRO3.SA    0.090765\n",
       "CIEL3.SA    0.132820\n",
       "CMIG4.SA    0.055948\n",
       "CSAN3.SA    0.552117\n",
       "CSNA3.SA    0.100596\n",
       "CVCB3.SA    0.859134\n",
       "CYRE3.SA    0.090978\n",
       "DAX         0.089258\n",
       "ECOR3.SA    0.043008\n",
       "EGIE3.SA    0.179104\n",
       "ELET3.SA    0.550342\n",
       "ELET6.SA    0.516476\n",
       "EMBR3.SA    0.206103\n",
       "ENBR3.SA    0.060107\n",
       "EQTL3.SA    0.796645\n",
       "FLRY3.SA    0.150815\n",
       "GGBR4.SA    0.094946\n",
       "GOAU4.SA    0.026088\n",
       "GOLL4.SA    0.349838\n",
       "HYPE3.SA    0.226855\n",
       "IGTA3.SA    0.334333\n",
       "ITSA4.SA    0.025221\n",
       "ITUB4.SA    0.225030\n",
       "JBSS3.SA    0.169587\n",
       "LAME4.SA    0.158953\n",
       "LREN3.SA    0.325564\n",
       "MGLU3.SA    0.187810\n",
       "MRFG3.SA    0.029219\n",
       "MRVE3.SA    0.079697\n",
       "MULT3.SA    0.130393\n",
       "NATU3.SA    0.184652\n",
       "PCAR4.SA    2.236615\n",
       "PETR3.SA    0.265844\n",
       "PETR4.SA    0.215198\n",
       "QUAL3.SA    0.323136\n",
       "RADL3.SA    1.520418\n",
       "RAIL3.SA    0.091302\n",
       "RENT3.SA    0.239048\n",
       "SBSP3.SA    0.534628\n",
       "SMLS3.SA    1.806439\n",
       "SPY         4.103702\n",
       "TIMP3.SA    0.038570\n",
       "UGPA3.SA    0.238586\n",
       "USIM5.SA    0.050441\n",
       "VALE3.SA    0.872435\n",
       "VIVT4.SA    0.370030\n",
       "VVAR3.SA    0.049631\n",
       "WEGE3.SA    0.082055\n",
       "dtype: float64"
      ]
     },
     "execution_count": 291,
     "metadata": {},
     "output_type": "execute_result"
    }
   ],
   "source": [
    "data3.var()"
   ]
  },
  {
   "cell_type": "code",
   "execution_count": 313,
   "metadata": {
    "collapsed": true,
    "jupyter": {
     "outputs_hidden": true
    }
   },
   "outputs": [],
   "source": [
    "data4 =data3/data2"
   ]
  },
  {
   "cell_type": "code",
   "execution_count": 323,
   "metadata": {
    "collapsed": true,
    "jupyter": {
     "outputs_hidden": true
    }
   },
   "outputs": [
    {
     "name": "stderr",
     "output_type": "stream",
     "text": [
      "C:\\Users\\Rafael\\Anaconda3\\lib\\site-packages\\ipykernel_launcher.py:17: SettingWithCopyWarning: \n",
      "A value is trying to be set on a copy of a slice from a DataFrame.\n",
      "Try using .loc[row_indexer,col_indexer] = value instead\n",
      "\n",
      "See the caveats in the documentation: http://pandas.pydata.org/pandas-docs/stable/indexing.html#indexing-view-versus-copy\n"
     ]
    }
   ],
   "source": [
    "varis =show_frontier(data4.dropna())"
   ]
  },
  {
   "cell_type": "code",
   "execution_count": 34,
   "metadata": {
    "collapsed": true,
    "jupyter": {
     "outputs_hidden": true
    }
   },
   "outputs": [],
   "source": [
    "import seaborn as sb"
   ]
  },
  {
   "cell_type": "code",
   "execution_count": 324,
   "metadata": {
    "collapsed": true,
    "jupyter": {
     "outputs_hidden": true
    }
   },
   "outputs": [],
   "source": [
    "res =pd.DataFrame.from_dict(varis)\n"
   ]
  },
  {
   "cell_type": "code",
   "execution_count": 325,
   "metadata": {
    "collapsed": true,
    "jupyter": {
     "outputs_hidden": true
    }
   },
   "outputs": [
    {
     "data": {
      "text/plain": [
       "<matplotlib.axes._subplots.AxesSubplot at 0x260db40c278>"
      ]
     },
     "execution_count": 325,
     "metadata": {},
     "output_type": "execute_result"
    },
    {
     "data": {
      "image/png": "[encoded data removed]",
      "text/plain": [
       "<Figure size 432x288 with 1 Axes>"
      ]
     },
     "metadata": {
      "needs_background": "light"
     },
     "output_type": "display_data"
    }
   ],
   "source": [
    "sb.scatterplot(data=res[res['expected_return']<1000] ,x='standard_dev',y='expected_return')"
   ]
  },
  {
   "cell_type": "code",
   "execution_count": null,
   "metadata": {
    "collapsed": true,
    "jupyter": {
     "outputs_hidden": true
    }
   },
   "outputs": [],
   "source": [
    " returns_history[symbol] = returns_history[symbol][-min_length:]"
   ]
  },
  {
   "cell_type": "code",
   "execution_count": 322,
   "metadata": {
    "collapsed": true,
    "jupyter": {
     "outputs_hidden": true
    }
   },
   "outputs": [],
   "source": [
    "import matplotlib.pyplot as plt\n",
    "import sys\n",
    "import pathlib\n",
    "import numpy as np\n",
    "from random import sample\n",
    "\n",
    "\n",
    "\n",
    "def show_frontier(symbols):\n",
    "    #print(f'Symbols: {symbols}')\n",
    "    returns_history =symbols\n",
    "    symbols=symbols.columns\n",
    "\n",
    "    #print(f'Min hisotry length = {min_length}')\n",
    "\n",
    "    for symbol in symbols:\n",
    "        returns_history[symbol] = returns_history[symbol]\n",
    "\n",
    "    #for symbol in symbols:\n",
    "    #    print(\n",
    "    #       f'History for symbol {symbol} has {len(returns_history[symbol])} records')\n",
    "\n",
    "    mean_returns = dict()\n",
    "    variances = dict()\n",
    "    standard_deviations = dict()\n",
    "\n",
    "    for symbol in symbols:\n",
    "        history = returns_history[symbol]\n",
    "        history_length = len(history)\n",
    "        #print(f'Return history for symbol {symbol} has {history_length} records')\n",
    "        mean_returns[symbol] = np.mean(history)\n",
    "        variances[symbol] = np.var(history)\n",
    "        standard_deviations[symbol] = np.sqrt(variances[symbol])\n",
    "\n",
    "    portfolio_returns = []\n",
    "    portfolio_deviations = []\n",
    "    port ={}\n",
    "    for i in range(0, 1000):\n",
    "       \n",
    "        randoms = np.random.random_sample((5,))\n",
    "        \n",
    "        stocks = sample(symbols.to_list(),k=5)\n",
    "        weights = [random / sum(randoms) for random in randoms]\n",
    "        #weights = [0.25]*4\n",
    "        expected_return = sum([weights[i] * mean_returns[symbol]\n",
    "                               for i, symbol in enumerate(stocks)])\n",
    "        \n",
    "       \n",
    "\n",
    "        weights_times_deviations = [\n",
    "            weights[i]**2 * standard_deviations[symbol]**2 for i, symbol in enumerate(stocks)]\n",
    "        variance = sum(weights_times_deviations)\n",
    "\n",
    "        for i in range(0, len(stocks)):\n",
    "            for j in range(0, len(stocks)):\n",
    "                if (i != j):\n",
    "                    symbol1 = symbols[i]\n",
    "                    symbol2 = symbols[j]\n",
    "                    #print('Pair = %s %s' % (symbol1, symbol2))\n",
    "\n",
    "                    weight1 = weights[i]\n",
    "                    weight2 = weights[j]\n",
    "                    #print('Weights = %s %s' % (weight1, weight2))\n",
    "\n",
    "                    deviation1 = standard_deviations[symbol1]\n",
    "                    deviation2 = standard_deviations[symbol2]\n",
    "                    #print('Deviations = %s %s' % (deviation1, deviation2))\n",
    "\n",
    "                    correlation = np.corrcoef(\n",
    "                        returns_history[symbol1], returns_history[symbol2])[0][1]\n",
    "                    #print('Correlation = %f' % correlation)\n",
    "\n",
    "                    additional_variance = weight1 * weight2 * deviation1 * deviation2 * correlation\n",
    "                    #print('Additional variance = %f' % additional_variance)\n",
    "\n",
    "                    variance += additional_variance\n",
    "\n",
    "        standard_deviation = np.sqrt(variance)\n",
    "        #print('Portfolio expected return = %f' % expected_return)\n",
    "        #print('Portfolio standard deviation = %f' % standard_deviation)\n",
    "      \n",
    "   \n",
    "\n",
    "        portfolio_returns.append(expected_return)\n",
    "        portfolio_deviations.append(standard_deviation)\n",
    "        dic = {\"standard_dev\":portfolio_deviations,\"expected_return\": portfolio_returns}\n",
    "    return dic\n",
    "\n",
    "\n",
    "\n"
   ]
  }
 ],
 "metadata": {
  "kernelspec": {
   "display_name": "Python 3",
   "language": "python",
   "name": "python3"
  },
  "language_info": {
   "codemirror_mode": {
    "name": "ipython",
    "version": 3
   },
   "file_extension": ".py",
   "mimetype": "text/x-python",
   "name": "python",
   "nbconvert_exporter": "python",
   "pygments_lexer": "ipython3",
   "version": "3.6.9"
  }
 },
 "nbformat": 4,
 "nbformat_minor": 4
}
