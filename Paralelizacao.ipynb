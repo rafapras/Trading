{
 "cells": [
  {
   "cell_type": "code",
   "execution_count": 1,
   "metadata": {},
   "outputs": [],
   "source": [
    "import pandas as pd\n",
    "from pandas_datareader import data\n",
    "import matplotlib.pyplot as plt\n",
    "import yfinance as yf\n",
    "from pypfopt.expected_returns import mean_historical_return\n",
    "from pypfopt.risk_models import CovarianceShrinkage\n",
    "# pyfolio  qgrid empyrical\n",
    "import pickle\n",
    "import numpy as np\n",
    "import time\n",
    "import seaborn as sns\n",
    "from itertools import combinations\n",
    "import multiprocessing as mp\n",
    "from tqdm import tqdm\n",
    "import sys\n",
    "%load_ext autoreload\n",
    "%autoreload 2\n",
    "%config Completer.use_jedi = False"
   ]
  },
  {
   "cell_type": "code",
   "execution_count": null,
   "metadata": {},
   "outputs": [],
   "source": []
  },
  {
   "cell_type": "code",
   "execution_count": 2,
   "metadata": {},
   "outputs": [],
   "source": [
    "sys.path.append('C:\\\\Users\\\\Rafael\\\\Trading\\\\Trading')"
   ]
  },
  {
   "cell_type": "code",
   "execution_count": 3,
   "metadata": {},
   "outputs": [],
   "source": [
    "import Worker"
   ]
  },
  {
   "cell_type": "code",
   "execution_count": 4,
   "metadata": {},
   "outputs": [],
   "source": [
    "import TradingModule as td"
   ]
  },
  {
   "cell_type": "code",
   "execution_count": 5,
   "metadata": {},
   "outputs": [],
   "source": [
    "import os\n",
    "current_path = os.getcwd()"
   ]
  },
  {
   "cell_type": "code",
   "execution_count": 23,
   "metadata": {},
   "outputs": [],
   "source": [
    "params =np.array_split([i for i in combinations(range(10,200,20),2)], mp.cpu_count() - 1)"
   ]
  },
  {
   "cell_type": "code",
   "execution_count": 39,
   "metadata": {},
   "outputs": [
    {
     "data": {
      "text/plain": [
       "45"
      ]
     },
     "execution_count": 39,
     "metadata": {},
     "output_type": "execute_result"
    }
   ],
   "source": [
    "len([i for i in combinations(range(10,200,20),2)])"
   ]
  },
  {
   "cell_type": "code",
   "execution_count": 7,
   "metadata": {},
   "outputs": [
    {
     "ename": "NameError",
     "evalue": "name 'x' is not defined",
     "output_type": "error",
     "traceback": [
      "\u001b[1;31m---------------------------------------------------------------------------\u001b[0m",
      "\u001b[1;31mNameError\u001b[0m                                 Traceback (most recent call last)",
      "\u001b[1;32m<ipython-input-7-0b18bfcd3225>\u001b[0m in \u001b[0;36m<module>\u001b[1;34m\u001b[0m\n\u001b[1;32m----> 1\u001b[1;33m \u001b[0mpd\u001b[0m\u001b[1;33m.\u001b[0m\u001b[0mconcat\u001b[0m\u001b[1;33m(\u001b[0m\u001b[0mx\u001b[0m\u001b[1;33m,\u001b[0m\u001b[0maxis\u001b[0m\u001b[1;33m=\u001b[0m\u001b[1;36m1\u001b[0m\u001b[1;33m)\u001b[0m\u001b[1;33m.\u001b[0m\u001b[0mplot\u001b[0m\u001b[1;33m(\u001b[0m\u001b[1;33m)\u001b[0m\u001b[1;33m\u001b[0m\u001b[1;33m\u001b[0m\u001b[0m\n\u001b[0m",
      "\u001b[1;31mNameError\u001b[0m: name 'x' is not defined"
     ]
    }
   ],
   "source": [
    "pd.concat(x,axis=1).plot()"
   ]
  },
  {
   "cell_type": "code",
   "execution_count": 7,
   "metadata": {},
   "outputs": [
    {
     "name": "stderr",
     "output_type": "stream",
     "text": [
      "C:\\Users\\Rafael\\Anaconda3\\lib\\site-packages\\pandas\\core\\frame.py:4117: SettingWithCopyWarning: \n",
      "A value is trying to be set on a copy of a slice from a DataFrame\n",
      "\n",
      "See the caveats in the documentation: http://pandas.pydata.org/pandas-docs/stable/user_guide/indexing.html#returning-a-view-versus-a-copy\n",
      "  errors=errors,\n"
     ]
    }
   ],
   "source": [
    "x=td.worker([(100,50),(100,20)])"
   ]
  },
  {
   "cell_type": "code",
   "execution_count": 24,
   "metadata": {},
   "outputs": [],
   "source": [
    "from multiprocessing import Pool\n",
    "import tqdm\n",
    "import time"
   ]
  },
  {
   "cell_type": "code",
   "execution_count": 40,
   "metadata": {},
   "outputs": [],
   "source": [
    "\n",
    "if __name__ == '__main__':\n",
    "    pool = mp.Pool(processes = (mp.cpu_count()-1))\n",
    "    results = pool.map(td.worker1, params)\n",
    "    \n",
    "    pool.close()\n",
    "    pool.join()\n"
   ]
  },
  {
   "cell_type": "code",
   "execution_count": 45,
   "metadata": {},
   "outputs": [],
   "source": []
  },
  {
   "cell_type": "code",
   "execution_count": 48,
   "metadata": {},
   "outputs": [
    {
     "ename": "NameError",
     "evalue": "name 'data1' is not defined",
     "output_type": "error",
     "traceback": [
      "\u001b[1;31m---------------------------------------------------------------------------\u001b[0m",
      "\u001b[1;31mNameError\u001b[0m                                 Traceback (most recent call last)",
      "\u001b[1;32m<ipython-input-48-aac8e4e86fb3>\u001b[0m in \u001b[0;36m<module>\u001b[1;34m\u001b[0m\n\u001b[1;32m----> 1\u001b[1;33m \u001b[0mTradingRefact\u001b[0m\u001b[1;33m.\u001b[0m\u001b[0mestrategia_mmovel\u001b[0m\u001b[1;33m(\u001b[0m\u001b[0mdata1\u001b[0m\u001b[1;33m[\u001b[0m\u001b[1;34m'ABEV3.SA'\u001b[0m\u001b[1;33m]\u001b[0m\u001b[1;33m)\u001b[0m\u001b[1;33m\u001b[0m\u001b[1;33m\u001b[0m\u001b[0m\n\u001b[0m",
      "\u001b[1;31mNameError\u001b[0m: name 'data1' is not defined"
     ]
    }
   ],
   "source": []
  },
  {
   "cell_type": "code",
   "execution_count": 31,
   "metadata": {},
   "outputs": [
    {
     "ename": "TypeError",
     "evalue": "first argument must be an iterable of pandas objects, you passed an object of type \"Series\"",
     "output_type": "error",
     "traceback": [
      "\u001b[1;31m---------------------------------------------------------------------------\u001b[0m",
      "\u001b[1;31mTypeError\u001b[0m                                 Traceback (most recent call last)",
      "\u001b[1;32m<ipython-input-31-ebb220d7949f>\u001b[0m in \u001b[0;36m<module>\u001b[1;34m\u001b[0m\n\u001b[1;32m----> 1\u001b[1;33m \u001b[0mresults\u001b[0m\u001b[1;33m=\u001b[0m \u001b[1;33m[\u001b[0m\u001b[0mpd\u001b[0m\u001b[1;33m.\u001b[0m\u001b[0mconcat\u001b[0m\u001b[1;33m(\u001b[0m\u001b[0mi\u001b[0m\u001b[1;33m,\u001b[0m\u001b[0maxis\u001b[0m\u001b[1;33m=\u001b[0m\u001b[1;36m1\u001b[0m\u001b[1;33m)\u001b[0m \u001b[1;32mfor\u001b[0m \u001b[0mi\u001b[0m \u001b[1;32min\u001b[0m \u001b[0mresults\u001b[0m\u001b[1;33m]\u001b[0m\u001b[1;33m\u001b[0m\u001b[1;33m\u001b[0m\u001b[0m\n\u001b[0m",
      "\u001b[1;32m<ipython-input-31-ebb220d7949f>\u001b[0m in \u001b[0;36m<listcomp>\u001b[1;34m(.0)\u001b[0m\n\u001b[1;32m----> 1\u001b[1;33m \u001b[0mresults\u001b[0m\u001b[1;33m=\u001b[0m \u001b[1;33m[\u001b[0m\u001b[0mpd\u001b[0m\u001b[1;33m.\u001b[0m\u001b[0mconcat\u001b[0m\u001b[1;33m(\u001b[0m\u001b[0mi\u001b[0m\u001b[1;33m,\u001b[0m\u001b[0maxis\u001b[0m\u001b[1;33m=\u001b[0m\u001b[1;36m1\u001b[0m\u001b[1;33m)\u001b[0m \u001b[1;32mfor\u001b[0m \u001b[0mi\u001b[0m \u001b[1;32min\u001b[0m \u001b[0mresults\u001b[0m\u001b[1;33m]\u001b[0m\u001b[1;33m\u001b[0m\u001b[1;33m\u001b[0m\u001b[0m\n\u001b[0m",
      "\u001b[1;32m~\\Anaconda3\\lib\\site-packages\\pandas\\core\\reshape\\concat.py\u001b[0m in \u001b[0;36mconcat\u001b[1;34m(objs, axis, join, join_axes, ignore_index, keys, levels, names, verify_integrity, sort, copy)\u001b[0m\n\u001b[0;32m    253\u001b[0m         \u001b[0mverify_integrity\u001b[0m\u001b[1;33m=\u001b[0m\u001b[0mverify_integrity\u001b[0m\u001b[1;33m,\u001b[0m\u001b[1;33m\u001b[0m\u001b[1;33m\u001b[0m\u001b[0m\n\u001b[0;32m    254\u001b[0m         \u001b[0mcopy\u001b[0m\u001b[1;33m=\u001b[0m\u001b[0mcopy\u001b[0m\u001b[1;33m,\u001b[0m\u001b[1;33m\u001b[0m\u001b[1;33m\u001b[0m\u001b[0m\n\u001b[1;32m--> 255\u001b[1;33m         \u001b[0msort\u001b[0m\u001b[1;33m=\u001b[0m\u001b[0msort\u001b[0m\u001b[1;33m,\u001b[0m\u001b[1;33m\u001b[0m\u001b[1;33m\u001b[0m\u001b[0m\n\u001b[0m\u001b[0;32m    256\u001b[0m     )\n\u001b[0;32m    257\u001b[0m \u001b[1;33m\u001b[0m\u001b[0m\n",
      "\u001b[1;32m~\\Anaconda3\\lib\\site-packages\\pandas\\core\\reshape\\concat.py\u001b[0m in \u001b[0;36m__init__\u001b[1;34m(self, objs, axis, join, join_axes, keys, levels, names, ignore_index, verify_integrity, copy, sort)\u001b[0m\n\u001b[0;32m    282\u001b[0m                 \u001b[1;34m\"first argument must be an iterable of pandas \"\u001b[0m\u001b[1;33m\u001b[0m\u001b[1;33m\u001b[0m\u001b[0m\n\u001b[0;32m    283\u001b[0m                 \u001b[1;34m\"objects, you passed an object of type \"\u001b[0m\u001b[1;33m\u001b[0m\u001b[1;33m\u001b[0m\u001b[0m\n\u001b[1;32m--> 284\u001b[1;33m                 \u001b[1;34m'\"{name}\"'\u001b[0m\u001b[1;33m.\u001b[0m\u001b[0mformat\u001b[0m\u001b[1;33m(\u001b[0m\u001b[0mname\u001b[0m\u001b[1;33m=\u001b[0m\u001b[0mtype\u001b[0m\u001b[1;33m(\u001b[0m\u001b[0mobjs\u001b[0m\u001b[1;33m)\u001b[0m\u001b[1;33m.\u001b[0m\u001b[0m__name__\u001b[0m\u001b[1;33m)\u001b[0m\u001b[1;33m\u001b[0m\u001b[1;33m\u001b[0m\u001b[0m\n\u001b[0m\u001b[0;32m    285\u001b[0m             )\n\u001b[0;32m    286\u001b[0m \u001b[1;33m\u001b[0m\u001b[0m\n",
      "\u001b[1;31mTypeError\u001b[0m: first argument must be an iterable of pandas objects, you passed an object of type \"Series\""
     ]
    }
   ],
   "source": [
    "results= [pd.concat(i,axis=1) for i in results]"
   ]
  },
  {
   "cell_type": "code",
   "execution_count": 32,
   "metadata": {},
   "outputs": [],
   "source": [
    "results=pd.concat(results,axis=1)"
   ]
  },
  {
   "cell_type": "code",
   "execution_count": 33,
   "metadata": {},
   "outputs": [
    {
     "data": {
      "text/html": [
       "<div>\n",
       "<style scoped>\n",
       "    .dataframe tbody tr th:only-of-type {\n",
       "        vertical-align: middle;\n",
       "    }\n",
       "\n",
       "    .dataframe tbody tr th {\n",
       "        vertical-align: top;\n",
       "    }\n",
       "\n",
       "    .dataframe thead th {\n",
       "        text-align: right;\n",
       "    }\n",
       "</style>\n",
       "<table border=\"1\" class=\"dataframe\">\n",
       "  <thead>\n",
       "    <tr style=\"text-align: right;\">\n",
       "      <th></th>\n",
       "      <th>0</th>\n",
       "      <th>1</th>\n",
       "      <th>2</th>\n",
       "      <th>3</th>\n",
       "      <th>4</th>\n",
       "      <th>5</th>\n",
       "      <th>6</th>\n",
       "      <th>7</th>\n",
       "      <th>8</th>\n",
       "      <th>9</th>\n",
       "      <th>10</th>\n",
       "    </tr>\n",
       "  </thead>\n",
       "  <tbody>\n",
       "    <tr>\n",
       "      <th>2015-01-05</th>\n",
       "      <td>0.975888</td>\n",
       "      <td>0.975888</td>\n",
       "      <td>NaN</td>\n",
       "      <td>NaN</td>\n",
       "      <td>NaN</td>\n",
       "      <td>NaN</td>\n",
       "      <td>NaN</td>\n",
       "      <td>NaN</td>\n",
       "      <td>NaN</td>\n",
       "      <td>NaN</td>\n",
       "      <td>NaN</td>\n",
       "    </tr>\n",
       "    <tr>\n",
       "      <th>2015-01-06</th>\n",
       "      <td>0.994172</td>\n",
       "      <td>0.994172</td>\n",
       "      <td>NaN</td>\n",
       "      <td>NaN</td>\n",
       "      <td>NaN</td>\n",
       "      <td>NaN</td>\n",
       "      <td>NaN</td>\n",
       "      <td>NaN</td>\n",
       "      <td>NaN</td>\n",
       "      <td>NaN</td>\n",
       "      <td>NaN</td>\n",
       "    </tr>\n",
       "    <tr>\n",
       "      <th>2015-08-14</th>\n",
       "      <td>NaN</td>\n",
       "      <td>NaN</td>\n",
       "      <td>NaN</td>\n",
       "      <td>NaN</td>\n",
       "      <td>NaN</td>\n",
       "      <td>0.990099</td>\n",
       "      <td>NaN</td>\n",
       "      <td>NaN</td>\n",
       "      <td>NaN</td>\n",
       "      <td>NaN</td>\n",
       "      <td>NaN</td>\n",
       "    </tr>\n",
       "    <tr>\n",
       "      <th>2015-08-17</th>\n",
       "      <td>NaN</td>\n",
       "      <td>NaN</td>\n",
       "      <td>NaN</td>\n",
       "      <td>NaN</td>\n",
       "      <td>NaN</td>\n",
       "      <td>0.986939</td>\n",
       "      <td>NaN</td>\n",
       "      <td>NaN</td>\n",
       "      <td>NaN</td>\n",
       "      <td>NaN</td>\n",
       "      <td>NaN</td>\n",
       "    </tr>\n",
       "    <tr>\n",
       "      <th>2015-08-18</th>\n",
       "      <td>NaN</td>\n",
       "      <td>NaN</td>\n",
       "      <td>NaN</td>\n",
       "      <td>NaN</td>\n",
       "      <td>NaN</td>\n",
       "      <td>0.982507</td>\n",
       "      <td>NaN</td>\n",
       "      <td>NaN</td>\n",
       "      <td>NaN</td>\n",
       "      <td>NaN</td>\n",
       "      <td>NaN</td>\n",
       "    </tr>\n",
       "    <tr>\n",
       "      <th>...</th>\n",
       "      <td>...</td>\n",
       "      <td>...</td>\n",
       "      <td>...</td>\n",
       "      <td>...</td>\n",
       "      <td>...</td>\n",
       "      <td>...</td>\n",
       "      <td>...</td>\n",
       "      <td>...</td>\n",
       "      <td>...</td>\n",
       "      <td>...</td>\n",
       "      <td>...</td>\n",
       "    </tr>\n",
       "    <tr>\n",
       "      <th>2019-12-16</th>\n",
       "      <td>1.203093</td>\n",
       "      <td>NaN</td>\n",
       "      <td>1.367063</td>\n",
       "      <td>1.480830</td>\n",
       "      <td>1.762715</td>\n",
       "      <td>1.581865</td>\n",
       "      <td>NaN</td>\n",
       "      <td>NaN</td>\n",
       "      <td>NaN</td>\n",
       "      <td>NaN</td>\n",
       "      <td>NaN</td>\n",
       "    </tr>\n",
       "    <tr>\n",
       "      <th>2019-12-17</th>\n",
       "      <td>1.195705</td>\n",
       "      <td>NaN</td>\n",
       "      <td>1.358672</td>\n",
       "      <td>1.487219</td>\n",
       "      <td>1.699211</td>\n",
       "      <td>1.550327</td>\n",
       "      <td>NaN</td>\n",
       "      <td>NaN</td>\n",
       "      <td>NaN</td>\n",
       "      <td>NaN</td>\n",
       "      <td>NaN</td>\n",
       "    </tr>\n",
       "    <tr>\n",
       "      <th>2019-12-18</th>\n",
       "      <td>1.128866</td>\n",
       "      <td>NaN</td>\n",
       "      <td>1.348069</td>\n",
       "      <td>1.495688</td>\n",
       "      <td>1.706323</td>\n",
       "      <td>1.558974</td>\n",
       "      <td>NaN</td>\n",
       "      <td>NaN</td>\n",
       "      <td>NaN</td>\n",
       "      <td>NaN</td>\n",
       "      <td>NaN</td>\n",
       "    </tr>\n",
       "    <tr>\n",
       "      <th>2019-12-19</th>\n",
       "      <td>NaN</td>\n",
       "      <td>NaN</td>\n",
       "      <td>1.354581</td>\n",
       "      <td>1.509393</td>\n",
       "      <td>1.693761</td>\n",
       "      <td>1.574586</td>\n",
       "      <td>NaN</td>\n",
       "      <td>1.760353</td>\n",
       "      <td>NaN</td>\n",
       "      <td>NaN</td>\n",
       "      <td>NaN</td>\n",
       "    </tr>\n",
       "    <tr>\n",
       "      <th>2019-12-20</th>\n",
       "      <td>NaN</td>\n",
       "      <td>NaN</td>\n",
       "      <td>1.342116</td>\n",
       "      <td>1.491565</td>\n",
       "      <td>1.691039</td>\n",
       "      <td>1.541036</td>\n",
       "      <td>NaN</td>\n",
       "      <td>1.750572</td>\n",
       "      <td>NaN</td>\n",
       "      <td>NaN</td>\n",
       "      <td>NaN</td>\n",
       "    </tr>\n",
       "  </tbody>\n",
       "</table>\n",
       "<p>762 rows × 11 columns</p>\n",
       "</div>"
      ],
      "text/plain": [
       "                   0         1         2         3         4         5   6  \\\n",
       "2015-01-05  0.975888  0.975888       NaN       NaN       NaN       NaN NaN   \n",
       "2015-01-06  0.994172  0.994172       NaN       NaN       NaN       NaN NaN   \n",
       "2015-08-14       NaN       NaN       NaN       NaN       NaN  0.990099 NaN   \n",
       "2015-08-17       NaN       NaN       NaN       NaN       NaN  0.986939 NaN   \n",
       "2015-08-18       NaN       NaN       NaN       NaN       NaN  0.982507 NaN   \n",
       "...              ...       ...       ...       ...       ...       ...  ..   \n",
       "2019-12-16  1.203093       NaN  1.367063  1.480830  1.762715  1.581865 NaN   \n",
       "2019-12-17  1.195705       NaN  1.358672  1.487219  1.699211  1.550327 NaN   \n",
       "2019-12-18  1.128866       NaN  1.348069  1.495688  1.706323  1.558974 NaN   \n",
       "2019-12-19       NaN       NaN  1.354581  1.509393  1.693761  1.574586 NaN   \n",
       "2019-12-20       NaN       NaN  1.342116  1.491565  1.691039  1.541036 NaN   \n",
       "\n",
       "                   7   8   9  10  \n",
       "2015-01-05       NaN NaN NaN NaN  \n",
       "2015-01-06       NaN NaN NaN NaN  \n",
       "2015-08-14       NaN NaN NaN NaN  \n",
       "2015-08-17       NaN NaN NaN NaN  \n",
       "2015-08-18       NaN NaN NaN NaN  \n",
       "...              ...  ..  ..  ..  \n",
       "2019-12-16       NaN NaN NaN NaN  \n",
       "2019-12-17       NaN NaN NaN NaN  \n",
       "2019-12-18       NaN NaN NaN NaN  \n",
       "2019-12-19  1.760353 NaN NaN NaN  \n",
       "2019-12-20  1.750572 NaN NaN NaN  \n",
       "\n",
       "[762 rows x 11 columns]"
      ]
     },
     "execution_count": 33,
     "metadata": {},
     "output_type": "execute_result"
    }
   ],
   "source": [
    "results"
   ]
  },
  {
   "cell_type": "code",
   "execution_count": 34,
   "metadata": {},
   "outputs": [
    {
     "ename": "ValueError",
     "evalue": "Length mismatch: Expected axis has 11 elements, new values have 171 elements",
     "output_type": "error",
     "traceback": [
      "\u001b[1;31m---------------------------------------------------------------------------\u001b[0m",
      "\u001b[1;31mValueError\u001b[0m                                Traceback (most recent call last)",
      "\u001b[1;32m<ipython-input-34-57de80431cda>\u001b[0m in \u001b[0;36m<module>\u001b[1;34m\u001b[0m\n\u001b[1;32m----> 1\u001b[1;33m \u001b[0mresults\u001b[0m\u001b[1;33m.\u001b[0m\u001b[0mcolumns\u001b[0m\u001b[1;33m=\u001b[0m\u001b[0mcols\u001b[0m\u001b[1;33m\u001b[0m\u001b[1;33m\u001b[0m\u001b[0m\n\u001b[0m",
      "\u001b[1;32m~\\Anaconda3\\lib\\site-packages\\pandas\\core\\generic.py\u001b[0m in \u001b[0;36m__setattr__\u001b[1;34m(self, name, value)\u001b[0m\n\u001b[0;32m   5190\u001b[0m         \u001b[1;32mtry\u001b[0m\u001b[1;33m:\u001b[0m\u001b[1;33m\u001b[0m\u001b[1;33m\u001b[0m\u001b[0m\n\u001b[0;32m   5191\u001b[0m             \u001b[0mobject\u001b[0m\u001b[1;33m.\u001b[0m\u001b[0m__getattribute__\u001b[0m\u001b[1;33m(\u001b[0m\u001b[0mself\u001b[0m\u001b[1;33m,\u001b[0m \u001b[0mname\u001b[0m\u001b[1;33m)\u001b[0m\u001b[1;33m\u001b[0m\u001b[1;33m\u001b[0m\u001b[0m\n\u001b[1;32m-> 5192\u001b[1;33m             \u001b[1;32mreturn\u001b[0m \u001b[0mobject\u001b[0m\u001b[1;33m.\u001b[0m\u001b[0m__setattr__\u001b[0m\u001b[1;33m(\u001b[0m\u001b[0mself\u001b[0m\u001b[1;33m,\u001b[0m \u001b[0mname\u001b[0m\u001b[1;33m,\u001b[0m \u001b[0mvalue\u001b[0m\u001b[1;33m)\u001b[0m\u001b[1;33m\u001b[0m\u001b[1;33m\u001b[0m\u001b[0m\n\u001b[0m\u001b[0;32m   5193\u001b[0m         \u001b[1;32mexcept\u001b[0m \u001b[0mAttributeError\u001b[0m\u001b[1;33m:\u001b[0m\u001b[1;33m\u001b[0m\u001b[1;33m\u001b[0m\u001b[0m\n\u001b[0;32m   5194\u001b[0m             \u001b[1;32mpass\u001b[0m\u001b[1;33m\u001b[0m\u001b[1;33m\u001b[0m\u001b[0m\n",
      "\u001b[1;32mpandas/_libs/properties.pyx\u001b[0m in \u001b[0;36mpandas._libs.properties.AxisProperty.__set__\u001b[1;34m()\u001b[0m\n",
      "\u001b[1;32m~\\Anaconda3\\lib\\site-packages\\pandas\\core\\generic.py\u001b[0m in \u001b[0;36m_set_axis\u001b[1;34m(self, axis, labels)\u001b[0m\n\u001b[0;32m    688\u001b[0m \u001b[1;33m\u001b[0m\u001b[0m\n\u001b[0;32m    689\u001b[0m     \u001b[1;32mdef\u001b[0m \u001b[0m_set_axis\u001b[0m\u001b[1;33m(\u001b[0m\u001b[0mself\u001b[0m\u001b[1;33m,\u001b[0m \u001b[0maxis\u001b[0m\u001b[1;33m,\u001b[0m \u001b[0mlabels\u001b[0m\u001b[1;33m)\u001b[0m\u001b[1;33m:\u001b[0m\u001b[1;33m\u001b[0m\u001b[1;33m\u001b[0m\u001b[0m\n\u001b[1;32m--> 690\u001b[1;33m         \u001b[0mself\u001b[0m\u001b[1;33m.\u001b[0m\u001b[0m_data\u001b[0m\u001b[1;33m.\u001b[0m\u001b[0mset_axis\u001b[0m\u001b[1;33m(\u001b[0m\u001b[0maxis\u001b[0m\u001b[1;33m,\u001b[0m \u001b[0mlabels\u001b[0m\u001b[1;33m)\u001b[0m\u001b[1;33m\u001b[0m\u001b[1;33m\u001b[0m\u001b[0m\n\u001b[0m\u001b[0;32m    691\u001b[0m         \u001b[0mself\u001b[0m\u001b[1;33m.\u001b[0m\u001b[0m_clear_item_cache\u001b[0m\u001b[1;33m(\u001b[0m\u001b[1;33m)\u001b[0m\u001b[1;33m\u001b[0m\u001b[1;33m\u001b[0m\u001b[0m\n\u001b[0;32m    692\u001b[0m \u001b[1;33m\u001b[0m\u001b[0m\n",
      "\u001b[1;32m~\\Anaconda3\\lib\\site-packages\\pandas\\core\\internals\\managers.py\u001b[0m in \u001b[0;36mset_axis\u001b[1;34m(self, axis, new_labels)\u001b[0m\n\u001b[0;32m    181\u001b[0m             raise ValueError(\n\u001b[0;32m    182\u001b[0m                 \u001b[1;34m\"Length mismatch: Expected axis has {old} elements, new \"\u001b[0m\u001b[1;33m\u001b[0m\u001b[1;33m\u001b[0m\u001b[0m\n\u001b[1;32m--> 183\u001b[1;33m                 \u001b[1;34m\"values have {new} elements\"\u001b[0m\u001b[1;33m.\u001b[0m\u001b[0mformat\u001b[0m\u001b[1;33m(\u001b[0m\u001b[0mold\u001b[0m\u001b[1;33m=\u001b[0m\u001b[0mold_len\u001b[0m\u001b[1;33m,\u001b[0m \u001b[0mnew\u001b[0m\u001b[1;33m=\u001b[0m\u001b[0mnew_len\u001b[0m\u001b[1;33m)\u001b[0m\u001b[1;33m\u001b[0m\u001b[1;33m\u001b[0m\u001b[0m\n\u001b[0m\u001b[0;32m    184\u001b[0m             )\n\u001b[0;32m    185\u001b[0m \u001b[1;33m\u001b[0m\u001b[0m\n",
      "\u001b[1;31mValueError\u001b[0m: Length mismatch: Expected axis has 11 elements, new values have 171 elements"
     ]
    }
   ],
   "source": [
    "results.columns=cols"
   ]
  },
  {
   "cell_type": "code",
   "execution_count": 20,
   "metadata": {},
   "outputs": [],
   "source": [
    "cols=[i for i in combinations(range(10,200,10),2)]"
   ]
  },
  {
   "cell_type": "code",
   "execution_count": 561,
   "metadata": {},
   "outputs": [
    {
     "data": {
      "text/plain": [
       "171"
      ]
     },
     "execution_count": 561,
     "metadata": {},
     "output_type": "execute_result"
    }
   ],
   "source": [
    "len(cols)"
   ]
  },
  {
   "cell_type": "code",
   "execution_count": null,
   "metadata": {},
   "outputs": [],
   "source": []
  },
  {
   "cell_type": "code",
   "execution_count": null,
   "metadata": {},
   "outputs": [],
   "source": []
  },
  {
   "cell_type": "code",
   "execution_count": null,
   "metadata": {},
   "outputs": [],
   "source": []
  },
  {
   "cell_type": "code",
   "execution_count": 37,
   "metadata": {},
   "outputs": [
    {
     "data": {
      "text/plain": [
       "<matplotlib.axes._subplots.AxesSubplot at 0x27c32903668>"
      ]
     },
     "execution_count": 37,
     "metadata": {},
     "output_type": "execute_result"
    },
    {
     "data": {
      "image/png": "[encoded data removed]",
      "text/plain": [
       "<Figure size 432x288 with 1 Axes>"
      ]
     },
     "metadata": {
      "needs_background": "light"
     },
     "output_type": "display_data"
    }
   ],
   "source": [
    "results[results1.sort_values()[-5:].index].plot()"
   ]
  },
  {
   "cell_type": "code",
   "execution_count": 583,
   "metadata": {},
   "outputs": [
    {
     "data": {
      "text/plain": [
       "MultiIndex([(40, 140),\n",
       "            (70,  90),\n",
       "            (50, 120),\n",
       "            (50, 130),\n",
       "            (60, 120),\n",
       "            (40, 130),\n",
       "            (60, 130),\n",
       "            (70, 100),\n",
       "            (70, 120),\n",
       "            (60, 110)],\n",
       "           )"
      ]
     },
     "execution_count": 583,
     "metadata": {},
     "output_type": "execute_result"
    }
   ],
   "source": [
    "results1.sort_values()[-10:].index"
   ]
  },
  {
   "cell_type": "code",
   "execution_count": 36,
   "metadata": {},
   "outputs": [],
   "source": [
    "results1=results.iloc[-1]"
   ]
  },
  {
   "cell_type": "code",
   "execution_count": 564,
   "metadata": {},
   "outputs": [],
   "source": [
    "results1.index=pd.MultiIndex.from_tuples(results1.index.to_list())"
   ]
  },
  {
   "cell_type": "code",
   "execution_count": 565,
   "metadata": {},
   "outputs": [],
   "source": [
    "heat=results1.reset_index()"
   ]
  },
  {
   "cell_type": "code",
   "execution_count": 566,
   "metadata": {},
   "outputs": [],
   "source": [
    "dic ={}"
   ]
  },
  {
   "cell_type": "code",
   "execution_count": 567,
   "metadata": {},
   "outputs": [
    {
     "ename": "TypeError",
     "evalue": "cannot convert dictionary update sequence element #0 to a sequence",
     "output_type": "error",
     "traceback": [
      "\u001b[1;31m---------------------------------------------------------------------------\u001b[0m",
      "\u001b[1;31mTypeError\u001b[0m                                 Traceback (most recent call last)",
      "\u001b[1;32m<ipython-input-567-d94586d025e9>\u001b[0m in \u001b[0;36m<module>\u001b[1;34m\u001b[0m\n\u001b[1;32m----> 1\u001b[1;33m \u001b[1;33m[\u001b[0m\u001b[0mdic\u001b[0m\u001b[1;33m.\u001b[0m\u001b[0mupdate\u001b[0m\u001b[1;33m(\u001b[0m\u001b[0mi\u001b[0m\u001b[1;33m)\u001b[0m \u001b[1;32mfor\u001b[0m \u001b[0mi\u001b[0m \u001b[1;32min\u001b[0m \u001b[0mresults\u001b[0m\u001b[1;33m]\u001b[0m\u001b[1;33m\u001b[0m\u001b[1;33m\u001b[0m\u001b[0m\n\u001b[0m",
      "\u001b[1;32m<ipython-input-567-d94586d025e9>\u001b[0m in \u001b[0;36m<listcomp>\u001b[1;34m(.0)\u001b[0m\n\u001b[1;32m----> 1\u001b[1;33m \u001b[1;33m[\u001b[0m\u001b[0mdic\u001b[0m\u001b[1;33m.\u001b[0m\u001b[0mupdate\u001b[0m\u001b[1;33m(\u001b[0m\u001b[0mi\u001b[0m\u001b[1;33m)\u001b[0m \u001b[1;32mfor\u001b[0m \u001b[0mi\u001b[0m \u001b[1;32min\u001b[0m \u001b[0mresults\u001b[0m\u001b[1;33m]\u001b[0m\u001b[1;33m\u001b[0m\u001b[1;33m\u001b[0m\u001b[0m\n\u001b[0m",
      "\u001b[1;31mTypeError\u001b[0m: cannot convert dictionary update sequence element #0 to a sequence"
     ]
    }
   ],
   "source": [
    "[dic.update(i) for i in results]"
   ]
  },
  {
   "cell_type": "code",
   "execution_count": 568,
   "metadata": {},
   "outputs": [
    {
     "data": {
      "text/plain": [
       "Series([], dtype: float64)"
      ]
     },
     "execution_count": 568,
     "metadata": {},
     "output_type": "execute_result"
    }
   ],
   "source": [
    "pd.Series(dic).drop_duplicates()"
   ]
  },
  {
   "cell_type": "code",
   "execution_count": 38,
   "metadata": {},
   "outputs": [
    {
     "ename": "NameError",
     "evalue": "name 'dic' is not defined",
     "output_type": "error",
     "traceback": [
      "\u001b[1;31m---------------------------------------------------------------------------\u001b[0m",
      "\u001b[1;31mNameError\u001b[0m                                 Traceback (most recent call last)",
      "\u001b[1;32m<ipython-input-38-9a888f13b05e>\u001b[0m in \u001b[0;36m<module>\u001b[1;34m\u001b[0m\n\u001b[1;32m----> 1\u001b[1;33m \u001b[0mheat\u001b[0m \u001b[1;33m=\u001b[0m\u001b[0mpd\u001b[0m\u001b[1;33m.\u001b[0m\u001b[0mSeries\u001b[0m\u001b[1;33m(\u001b[0m\u001b[0mdic\u001b[0m\u001b[1;33m)\u001b[0m\u001b[1;33m.\u001b[0m\u001b[0msort_values\u001b[0m\u001b[1;33m(\u001b[0m\u001b[0mascending\u001b[0m\u001b[1;33m=\u001b[0m\u001b[1;32mFalse\u001b[0m\u001b[1;33m)\u001b[0m\u001b[1;33m\u001b[0m\u001b[1;33m\u001b[0m\u001b[0m\n\u001b[0m\u001b[0;32m      2\u001b[0m \u001b[0mheat\u001b[0m \u001b[1;33m=\u001b[0m\u001b[0mheat\u001b[0m\u001b[1;33m.\u001b[0m\u001b[0mreset_index\u001b[0m\u001b[1;33m(\u001b[0m\u001b[1;33m)\u001b[0m\u001b[1;33m\u001b[0m\u001b[1;33m\u001b[0m\u001b[0m\n\u001b[0;32m      3\u001b[0m \u001b[0mpd\u001b[0m\u001b[1;33m.\u001b[0m\u001b[0mSeries\u001b[0m\u001b[1;33m(\u001b[0m\u001b[0mdic\u001b[0m\u001b[1;33m)\u001b[0m\u001b[1;33m.\u001b[0m\u001b[0msort_values\u001b[0m\u001b[1;33m(\u001b[0m\u001b[0mascending\u001b[0m\u001b[1;33m=\u001b[0m\u001b[1;32mFalse\u001b[0m\u001b[1;33m)\u001b[0m\u001b[1;33m\u001b[0m\u001b[1;33m\u001b[0m\u001b[0m\n",
      "\u001b[1;31mNameError\u001b[0m: name 'dic' is not defined"
     ]
    }
   ],
   "source": [
    "heat =pd.Series(dic).sort_values(ascending=False)\n",
    "heat =heat.reset_index()\n",
    "pd.Series(dic).sort_values(ascending=False)"
   ]
  },
  {
   "cell_type": "code",
   "execution_count": 569,
   "metadata": {},
   "outputs": [
    {
     "data": {
      "text/html": [
       "<div>\n",
       "<style scoped>\n",
       "    .dataframe tbody tr th:only-of-type {\n",
       "        vertical-align: middle;\n",
       "    }\n",
       "\n",
       "    .dataframe tbody tr th {\n",
       "        vertical-align: top;\n",
       "    }\n",
       "\n",
       "    .dataframe thead th {\n",
       "        text-align: right;\n",
       "    }\n",
       "</style>\n",
       "<table border=\"1\" class=\"dataframe\">\n",
       "  <thead>\n",
       "    <tr style=\"text-align: right;\">\n",
       "      <th></th>\n",
       "      <th>level_0</th>\n",
       "      <th>level_1</th>\n",
       "      <th>1300</th>\n",
       "    </tr>\n",
       "  </thead>\n",
       "  <tbody>\n",
       "    <tr>\n",
       "      <th>0</th>\n",
       "      <td>10</td>\n",
       "      <td>20</td>\n",
       "      <td>0.959929</td>\n",
       "    </tr>\n",
       "    <tr>\n",
       "      <th>1</th>\n",
       "      <td>10</td>\n",
       "      <td>30</td>\n",
       "      <td>0.892663</td>\n",
       "    </tr>\n",
       "    <tr>\n",
       "      <th>2</th>\n",
       "      <td>10</td>\n",
       "      <td>40</td>\n",
       "      <td>1.090303</td>\n",
       "    </tr>\n",
       "    <tr>\n",
       "      <th>3</th>\n",
       "      <td>10</td>\n",
       "      <td>50</td>\n",
       "      <td>1.191549</td>\n",
       "    </tr>\n",
       "    <tr>\n",
       "      <th>4</th>\n",
       "      <td>10</td>\n",
       "      <td>60</td>\n",
       "      <td>1.350412</td>\n",
       "    </tr>\n",
       "    <tr>\n",
       "      <th>...</th>\n",
       "      <td>...</td>\n",
       "      <td>...</td>\n",
       "      <td>...</td>\n",
       "    </tr>\n",
       "    <tr>\n",
       "      <th>166</th>\n",
       "      <td>160</td>\n",
       "      <td>180</td>\n",
       "      <td>2.638041</td>\n",
       "    </tr>\n",
       "    <tr>\n",
       "      <th>167</th>\n",
       "      <td>160</td>\n",
       "      <td>190</td>\n",
       "      <td>3.102830</td>\n",
       "    </tr>\n",
       "    <tr>\n",
       "      <th>168</th>\n",
       "      <td>170</td>\n",
       "      <td>180</td>\n",
       "      <td>2.685755</td>\n",
       "    </tr>\n",
       "    <tr>\n",
       "      <th>169</th>\n",
       "      <td>170</td>\n",
       "      <td>190</td>\n",
       "      <td>3.099380</td>\n",
       "    </tr>\n",
       "    <tr>\n",
       "      <th>170</th>\n",
       "      <td>180</td>\n",
       "      <td>190</td>\n",
       "      <td>3.285893</td>\n",
       "    </tr>\n",
       "  </tbody>\n",
       "</table>\n",
       "<p>171 rows × 3 columns</p>\n",
       "</div>"
      ],
      "text/plain": [
       "     level_0  level_1      1300\n",
       "0         10       20  0.959929\n",
       "1         10       30  0.892663\n",
       "2         10       40  1.090303\n",
       "3         10       50  1.191549\n",
       "4         10       60  1.350412\n",
       "..       ...      ...       ...\n",
       "166      160      180  2.638041\n",
       "167      160      190  3.102830\n",
       "168      170      180  2.685755\n",
       "169      170      190  3.099380\n",
       "170      180      190  3.285893\n",
       "\n",
       "[171 rows x 3 columns]"
      ]
     },
     "execution_count": 569,
     "metadata": {},
     "output_type": "execute_result"
    }
   ],
   "source": [
    "heat"
   ]
  },
  {
   "cell_type": "code",
   "execution_count": 570,
   "metadata": {},
   "outputs": [],
   "source": [
    "heat.columns=['level_0','level_1','RENDA']"
   ]
  },
  {
   "cell_type": "code",
   "execution_count": 571,
   "metadata": {},
   "outputs": [
    {
     "data": {
      "text/html": [
       "<div>\n",
       "<style scoped>\n",
       "    .dataframe tbody tr th:only-of-type {\n",
       "        vertical-align: middle;\n",
       "    }\n",
       "\n",
       "    .dataframe tbody tr th {\n",
       "        vertical-align: top;\n",
       "    }\n",
       "\n",
       "    .dataframe thead th {\n",
       "        text-align: right;\n",
       "    }\n",
       "</style>\n",
       "<table border=\"1\" class=\"dataframe\">\n",
       "  <thead>\n",
       "    <tr style=\"text-align: right;\">\n",
       "      <th></th>\n",
       "      <th>level_0</th>\n",
       "      <th>level_1</th>\n",
       "      <th>RENDA</th>\n",
       "    </tr>\n",
       "  </thead>\n",
       "  <tbody>\n",
       "    <tr>\n",
       "      <th>1</th>\n",
       "      <td>10</td>\n",
       "      <td>30</td>\n",
       "      <td>0.892663</td>\n",
       "    </tr>\n",
       "    <tr>\n",
       "      <th>0</th>\n",
       "      <td>10</td>\n",
       "      <td>20</td>\n",
       "      <td>0.959929</td>\n",
       "    </tr>\n",
       "    <tr>\n",
       "      <th>2</th>\n",
       "      <td>10</td>\n",
       "      <td>40</td>\n",
       "      <td>1.090303</td>\n",
       "    </tr>\n",
       "    <tr>\n",
       "      <th>3</th>\n",
       "      <td>10</td>\n",
       "      <td>50</td>\n",
       "      <td>1.191549</td>\n",
       "    </tr>\n",
       "    <tr>\n",
       "      <th>6</th>\n",
       "      <td>10</td>\n",
       "      <td>80</td>\n",
       "      <td>1.293296</td>\n",
       "    </tr>\n",
       "    <tr>\n",
       "      <th>...</th>\n",
       "      <td>...</td>\n",
       "      <td>...</td>\n",
       "      <td>...</td>\n",
       "    </tr>\n",
       "    <tr>\n",
       "      <th>59</th>\n",
       "      <td>40</td>\n",
       "      <td>130</td>\n",
       "      <td>3.940185</td>\n",
       "    </tr>\n",
       "    <tr>\n",
       "      <th>86</th>\n",
       "      <td>60</td>\n",
       "      <td>130</td>\n",
       "      <td>3.955291</td>\n",
       "    </tr>\n",
       "    <tr>\n",
       "      <th>95</th>\n",
       "      <td>70</td>\n",
       "      <td>100</td>\n",
       "      <td>4.121544</td>\n",
       "    </tr>\n",
       "    <tr>\n",
       "      <th>97</th>\n",
       "      <td>70</td>\n",
       "      <td>120</td>\n",
       "      <td>4.192189</td>\n",
       "    </tr>\n",
       "    <tr>\n",
       "      <th>84</th>\n",
       "      <td>60</td>\n",
       "      <td>110</td>\n",
       "      <td>4.201480</td>\n",
       "    </tr>\n",
       "  </tbody>\n",
       "</table>\n",
       "<p>171 rows × 3 columns</p>\n",
       "</div>"
      ],
      "text/plain": [
       "    level_0  level_1     RENDA\n",
       "1        10       30  0.892663\n",
       "0        10       20  0.959929\n",
       "2        10       40  1.090303\n",
       "3        10       50  1.191549\n",
       "6        10       80  1.293296\n",
       "..      ...      ...       ...\n",
       "59       40      130  3.940185\n",
       "86       60      130  3.955291\n",
       "95       70      100  4.121544\n",
       "97       70      120  4.192189\n",
       "84       60      110  4.201480\n",
       "\n",
       "[171 rows x 3 columns]"
      ]
     },
     "execution_count": 571,
     "metadata": {},
     "output_type": "execute_result"
    }
   ],
   "source": [
    "heat.sort_values(by='RENDA')"
   ]
  },
  {
   "cell_type": "code",
   "execution_count": 873,
   "metadata": {},
   "outputs": [],
   "source": [
    "with open('C:\\\\Users\\\\Rafael\\\\Trading\\\\Trading\\\\ibov.pkl','rb') as file:\n",
    "        data =pickle.load(file)\n",
    "\n",
    "        data1 =data['Adj Close']\n",
    "        data1.drop('NAN.SA',axis=1,inplace=True)\n",
    "        data1.drop('MGLU3.SA',axis=1,inplace=True)\n",
    "        data1.drop('BPAC11.SA',axis=1,inplace=True)\n",
    "        data1.drop('KLBN11.SA',axis=1,inplace=True)\n",
    "        data1.drop('TAEE11.SA',axis=1,inplace=True)\n",
    "      "
   ]
  },
  {
   "cell_type": "code",
   "execution_count": 12,
   "metadata": {},
   "outputs": [],
   "source": [
    "x=td.worker1([(100,50)])"
   ]
  },
  {
   "cell_type": "code",
   "execution_count": 13,
   "metadata": {},
   "outputs": [
    {
     "data": {
      "text/plain": [
       "Date\n",
       "2015-03-02    0.989994\n",
       "2015-03-03    0.993877\n",
       "2015-03-04    0.987418\n",
       "2015-03-05    0.989420\n",
       "2015-03-06    0.983950\n",
       "                ...   \n",
       "2019-10-22    1.411761\n",
       "2019-10-23    1.385618\n",
       "2019-10-24    1.378600\n",
       "2019-10-25    1.385262\n",
       "2019-10-28    1.420951\n",
       "Length: 819, dtype: float64"
      ]
     },
     "execution_count": 13,
     "metadata": {},
     "output_type": "execute_result"
    }
   ],
   "source": [
    "x"
   ]
  },
  {
   "cell_type": "code",
   "execution_count": 912,
   "metadata": {},
   "outputs": [],
   "source": [
    "y=x.copy()"
   ]
  },
  {
   "cell_type": "code",
   "execution_count": 913,
   "metadata": {},
   "outputs": [],
   "source": [
    "cols=[1]*len(data1.columns)"
   ]
  },
  {
   "cell_type": "code",
   "execution_count": 914,
   "metadata": {},
   "outputs": [],
   "source": [
    "cols[0]=10"
   ]
  },
  {
   "cell_type": "code",
   "execution_count": 915,
   "metadata": {},
   "outputs": [],
   "source": [
    "cal=pd.Series(cols)"
   ]
  },
  {
   "cell_type": "code",
   "execution_count": 916,
   "metadata": {},
   "outputs": [],
   "source": [
    "y=y.mask(y=='COMPRA',1)\n",
    "y=y.mask(y=='VENDA',0)"
   ]
  },
  {
   "cell_type": "code",
   "execution_count": 917,
   "metadata": {},
   "outputs": [],
   "source": [
    "pesos=(y.xs('DECISAO',axis=1,level=1).fillna(0).values*cal.values).sum(axis=1)"
   ]
  },
  {
   "cell_type": "code",
   "execution_count": 835,
   "metadata": {},
   "outputs": [],
   "source": [
    "#pesos=y.xs('DECISAO',axis=1,level=1).fillna(0).sum(axis=1).reset_index(drop=True)"
   ]
  },
  {
   "cell_type": "code",
   "execution_count": 918,
   "metadata": {},
   "outputs": [
    {
     "data": {
      "text/html": [
       "<div>\n",
       "<style scoped>\n",
       "    .dataframe tbody tr th:only-of-type {\n",
       "        vertical-align: middle;\n",
       "    }\n",
       "\n",
       "    .dataframe tbody tr th {\n",
       "        vertical-align: top;\n",
       "    }\n",
       "\n",
       "    .dataframe thead th {\n",
       "        text-align: right;\n",
       "    }\n",
       "</style>\n",
       "<table border=\"1\" class=\"dataframe\">\n",
       "  <thead>\n",
       "    <tr style=\"text-align: right;\">\n",
       "      <th></th>\n",
       "      <th>ABEV3.SA</th>\n",
       "      <th>roll</th>\n",
       "      <th>DECISAO</th>\n",
       "      <th>ESTRAT</th>\n",
       "      <th>ret_dia</th>\n",
       "      <th>RETORNO</th>\n",
       "      <th>RETORNO_TOT</th>\n",
       "    </tr>\n",
       "    <tr>\n",
       "      <th>Date</th>\n",
       "      <th></th>\n",
       "      <th></th>\n",
       "      <th></th>\n",
       "      <th></th>\n",
       "      <th></th>\n",
       "      <th></th>\n",
       "      <th></th>\n",
       "    </tr>\n",
       "  </thead>\n",
       "  <tbody>\n",
       "    <tr>\n",
       "      <th>2015-03-02</th>\n",
       "      <td>15.686779</td>\n",
       "      <td>0.022153</td>\n",
       "      <td>1</td>\n",
       "      <td>1</td>\n",
       "      <td>0.993414</td>\n",
       "      <td>NaN</td>\n",
       "      <td>NaN</td>\n",
       "    </tr>\n",
       "    <tr>\n",
       "      <th>2015-03-03</th>\n",
       "      <td>15.972785</td>\n",
       "      <td>0.046746</td>\n",
       "      <td>1</td>\n",
       "      <td>NaN</td>\n",
       "      <td>1.018232</td>\n",
       "      <td>1.018232</td>\n",
       "      <td>1.018232</td>\n",
       "    </tr>\n",
       "    <tr>\n",
       "      <th>2015-03-04</th>\n",
       "      <td>15.868784</td>\n",
       "      <td>0.046626</td>\n",
       "      <td>1</td>\n",
       "      <td>NaN</td>\n",
       "      <td>0.993489</td>\n",
       "      <td>1.011602</td>\n",
       "      <td>1.011602</td>\n",
       "    </tr>\n",
       "    <tr>\n",
       "      <th>2015-03-05</th>\n",
       "      <td>15.912114</td>\n",
       "      <td>0.046513</td>\n",
       "      <td>1</td>\n",
       "      <td>NaN</td>\n",
       "      <td>1.002731</td>\n",
       "      <td>1.014365</td>\n",
       "      <td>1.014365</td>\n",
       "    </tr>\n",
       "    <tr>\n",
       "      <th>2015-03-06</th>\n",
       "      <td>15.799450</td>\n",
       "      <td>0.072488</td>\n",
       "      <td>1</td>\n",
       "      <td>NaN</td>\n",
       "      <td>0.992920</td>\n",
       "      <td>1.007183</td>\n",
       "      <td>1.007183</td>\n",
       "    </tr>\n",
       "    <tr>\n",
       "      <th>...</th>\n",
       "      <td>...</td>\n",
       "      <td>...</td>\n",
       "      <td>...</td>\n",
       "      <td>...</td>\n",
       "      <td>...</td>\n",
       "      <td>...</td>\n",
       "      <td>...</td>\n",
       "    </tr>\n",
       "    <tr>\n",
       "      <th>2019-10-22</th>\n",
       "      <td>18.289637</td>\n",
       "      <td>0.083155</td>\n",
       "      <td>1</td>\n",
       "      <td>NaN</td>\n",
       "      <td>0.988415</td>\n",
       "      <td>1.025683</td>\n",
       "      <td>1.156121</td>\n",
       "    </tr>\n",
       "    <tr>\n",
       "      <th>2019-10-23</th>\n",
       "      <td>18.201941</td>\n",
       "      <td>0.064096</td>\n",
       "      <td>1</td>\n",
       "      <td>NaN</td>\n",
       "      <td>0.995205</td>\n",
       "      <td>1.020765</td>\n",
       "      <td>1.150578</td>\n",
       "    </tr>\n",
       "    <tr>\n",
       "      <th>2019-10-24</th>\n",
       "      <td>18.698889</td>\n",
       "      <td>0.056675</td>\n",
       "      <td>1</td>\n",
       "      <td>NaN</td>\n",
       "      <td>1.027302</td>\n",
       "      <td>1.048634</td>\n",
       "      <td>1.181991</td>\n",
       "    </tr>\n",
       "    <tr>\n",
       "      <th>2019-10-25</th>\n",
       "      <td>17.149580</td>\n",
       "      <td>0.031440</td>\n",
       "      <td>1</td>\n",
       "      <td>NaN</td>\n",
       "      <td>0.917144</td>\n",
       "      <td>0.961749</td>\n",
       "      <td>1.084056</td>\n",
       "    </tr>\n",
       "    <tr>\n",
       "      <th>2019-10-28</th>\n",
       "      <td>17.091116</td>\n",
       "      <td>0.001937</td>\n",
       "      <td>1</td>\n",
       "      <td>NaN</td>\n",
       "      <td>0.996591</td>\n",
       "      <td>0.958470</td>\n",
       "      <td>1.080361</td>\n",
       "    </tr>\n",
       "  </tbody>\n",
       "</table>\n",
       "<p>819 rows × 7 columns</p>\n",
       "</div>"
      ],
      "text/plain": [
       "             ABEV3.SA      roll DECISAO ESTRAT   ret_dia   RETORNO  \\\n",
       "Date                                                                 \n",
       "2015-03-02  15.686779  0.022153       1      1  0.993414       NaN   \n",
       "2015-03-03  15.972785  0.046746       1    NaN  1.018232  1.018232   \n",
       "2015-03-04  15.868784  0.046626       1    NaN  0.993489  1.011602   \n",
       "2015-03-05  15.912114  0.046513       1    NaN  1.002731  1.014365   \n",
       "2015-03-06  15.799450  0.072488       1    NaN  0.992920  1.007183   \n",
       "...               ...       ...     ...    ...       ...       ...   \n",
       "2019-10-22  18.289637  0.083155       1    NaN  0.988415  1.025683   \n",
       "2019-10-23  18.201941  0.064096       1    NaN  0.995205  1.020765   \n",
       "2019-10-24  18.698889  0.056675       1    NaN  1.027302  1.048634   \n",
       "2019-10-25  17.149580  0.031440       1    NaN  0.917144  0.961749   \n",
       "2019-10-28  17.091116  0.001937       1    NaN  0.996591  0.958470   \n",
       "\n",
       "            RETORNO_TOT  \n",
       "Date                     \n",
       "2015-03-02          NaN  \n",
       "2015-03-03     1.018232  \n",
       "2015-03-04     1.011602  \n",
       "2015-03-05     1.014365  \n",
       "2015-03-06     1.007183  \n",
       "...                 ...  \n",
       "2019-10-22     1.156121  \n",
       "2019-10-23     1.150578  \n",
       "2019-10-24     1.181991  \n",
       "2019-10-25     1.084056  \n",
       "2019-10-28     1.080361  \n",
       "\n",
       "[819 rows x 7 columns]"
      ]
     },
     "execution_count": 918,
     "metadata": {},
     "output_type": "execute_result"
    }
   ],
   "source": [
    "y['ABEV3.SA'] [y.xs('DECISAO',axis=1,level=1)['ABEV3.SA']==1]"
   ]
  },
  {
   "cell_type": "code",
   "execution_count": 919,
   "metadata": {},
   "outputs": [
    {
     "data": {
      "text/plain": [
       "<matplotlib.axes._subplots.AxesSubplot at 0x22d1519aef0>"
      ]
     },
     "execution_count": 919,
     "metadata": {},
     "output_type": "execute_result"
    },
    {
     "data": {
      "image/png": "[encoded data removed]",
      "text/plain": [
       "<Figure size 432x288 with 1 Axes>"
      ]
     },
     "metadata": {
      "needs_background": "light"
     },
     "output_type": "display_data"
    }
   ],
   "source": [
    "pd.Series(pesos).plot()\n"
   ]
  },
  {
   "cell_type": "code",
   "execution_count": 920,
   "metadata": {},
   "outputs": [
    {
     "ename": "ValueError",
     "evalue": "Lengths must be equal",
     "output_type": "error",
     "traceback": [
      "\u001b[1;31m---------------------------------------------------------------------------\u001b[0m",
      "\u001b[1;31mValueError\u001b[0m                                Traceback (most recent call last)",
      "\u001b[1;32m<ipython-input-920-d6097a8380cd>\u001b[0m in \u001b[0;36m<module>\u001b[1;34m\u001b[0m\n\u001b[0;32m      1\u001b[0m \u001b[0mdiv\u001b[0m\u001b[1;33m=\u001b[0m\u001b[0mpd\u001b[0m\u001b[1;33m.\u001b[0m\u001b[0mSeries\u001b[0m\u001b[1;33m(\u001b[0m\u001b[1;33m[\u001b[0m\u001b[1;36m1\u001b[0m\u001b[1;33m]\u001b[0m\u001b[1;33m*\u001b[0m\u001b[1;36m1287\u001b[0m\u001b[1;33m)\u001b[0m\u001b[1;33m\u001b[0m\u001b[1;33m\u001b[0m\u001b[0m\n\u001b[1;32m----> 2\u001b[1;33m \u001b[0mpesos\u001b[0m\u001b[1;33m=\u001b[0m\u001b[0mdiv\u001b[0m\u001b[1;33m.\u001b[0m\u001b[0mdivide\u001b[0m\u001b[1;33m(\u001b[0m\u001b[0mpesos\u001b[0m\u001b[1;33m)\u001b[0m\u001b[1;33m.\u001b[0m\u001b[0mfillna\u001b[0m\u001b[1;33m(\u001b[0m\u001b[1;36m0\u001b[0m\u001b[1;33m)\u001b[0m\u001b[1;33m\u001b[0m\u001b[1;33m\u001b[0m\u001b[0m\n\u001b[0m",
      "\u001b[1;32m~\\Anaconda3\\lib\\site-packages\\pandas\\core\\ops\\__init__.py\u001b[0m in \u001b[0;36mflex_wrapper\u001b[1;34m(self, other, level, fill_value, axis)\u001b[0m\n\u001b[0;32m   1341\u001b[0m         \u001b[1;32melif\u001b[0m \u001b[0misinstance\u001b[0m\u001b[1;33m(\u001b[0m\u001b[0mother\u001b[0m\u001b[1;33m,\u001b[0m \u001b[1;33m(\u001b[0m\u001b[0mnp\u001b[0m\u001b[1;33m.\u001b[0m\u001b[0mndarray\u001b[0m\u001b[1;33m,\u001b[0m \u001b[0mlist\u001b[0m\u001b[1;33m,\u001b[0m \u001b[0mtuple\u001b[0m\u001b[1;33m)\u001b[0m\u001b[1;33m)\u001b[0m\u001b[1;33m:\u001b[0m\u001b[1;33m\u001b[0m\u001b[1;33m\u001b[0m\u001b[0m\n\u001b[0;32m   1342\u001b[0m             \u001b[1;32mif\u001b[0m \u001b[0mlen\u001b[0m\u001b[1;33m(\u001b[0m\u001b[0mother\u001b[0m\u001b[1;33m)\u001b[0m \u001b[1;33m!=\u001b[0m \u001b[0mlen\u001b[0m\u001b[1;33m(\u001b[0m\u001b[0mself\u001b[0m\u001b[1;33m)\u001b[0m\u001b[1;33m:\u001b[0m\u001b[1;33m\u001b[0m\u001b[1;33m\u001b[0m\u001b[0m\n\u001b[1;32m-> 1343\u001b[1;33m                 \u001b[1;32mraise\u001b[0m \u001b[0mValueError\u001b[0m\u001b[1;33m(\u001b[0m\u001b[1;34m\"Lengths must be equal\"\u001b[0m\u001b[1;33m)\u001b[0m\u001b[1;33m\u001b[0m\u001b[1;33m\u001b[0m\u001b[0m\n\u001b[0m\u001b[0;32m   1344\u001b[0m             \u001b[0mother\u001b[0m \u001b[1;33m=\u001b[0m \u001b[0mself\u001b[0m\u001b[1;33m.\u001b[0m\u001b[0m_constructor\u001b[0m\u001b[1;33m(\u001b[0m\u001b[0mother\u001b[0m\u001b[1;33m,\u001b[0m \u001b[0mself\u001b[0m\u001b[1;33m.\u001b[0m\u001b[0mindex\u001b[0m\u001b[1;33m)\u001b[0m\u001b[1;33m\u001b[0m\u001b[1;33m\u001b[0m\u001b[0m\n\u001b[0;32m   1345\u001b[0m             \u001b[1;32mreturn\u001b[0m \u001b[0mself\u001b[0m\u001b[1;33m.\u001b[0m\u001b[0m_binop\u001b[0m\u001b[1;33m(\u001b[0m\u001b[0mother\u001b[0m\u001b[1;33m,\u001b[0m \u001b[0mop\u001b[0m\u001b[1;33m,\u001b[0m \u001b[0mlevel\u001b[0m\u001b[1;33m=\u001b[0m\u001b[0mlevel\u001b[0m\u001b[1;33m,\u001b[0m \u001b[0mfill_value\u001b[0m\u001b[1;33m=\u001b[0m\u001b[0mfill_value\u001b[0m\u001b[1;33m)\u001b[0m\u001b[1;33m\u001b[0m\u001b[1;33m\u001b[0m\u001b[0m\n",
      "\u001b[1;31mValueError\u001b[0m: Lengths must be equal"
     ]
    }
   ],
   "source": [
    "div=pd.Series([1]*1287)\n",
    "pesos=div.divide(pesos).fillna(0)"
   ]
  },
  {
   "cell_type": "code",
   "execution_count": 921,
   "metadata": {},
   "outputs": [
    {
     "data": {
      "text/html": [
       "<div>\n",
       "<style scoped>\n",
       "    .dataframe tbody tr th:only-of-type {\n",
       "        vertical-align: middle;\n",
       "    }\n",
       "\n",
       "    .dataframe tbody tr th {\n",
       "        vertical-align: top;\n",
       "    }\n",
       "\n",
       "    .dataframe thead th {\n",
       "        text-align: right;\n",
       "    }\n",
       "</style>\n",
       "<table border=\"1\" class=\"dataframe\">\n",
       "  <thead>\n",
       "    <tr style=\"text-align: right;\">\n",
       "      <th></th>\n",
       "      <th>ABEV3.SA</th>\n",
       "      <th>AZUL4.SA</th>\n",
       "      <th>B3SA3.SA</th>\n",
       "      <th>BBAS3.SA</th>\n",
       "      <th>BBDC3.SA</th>\n",
       "      <th>BBDC4.SA</th>\n",
       "      <th>BBSE3.SA</th>\n",
       "      <th>BRAP4.SA</th>\n",
       "      <th>BRDT3.SA</th>\n",
       "      <th>BRFS3.SA</th>\n",
       "      <th>...</th>\n",
       "      <th>TIMP3.SA</th>\n",
       "      <th>UGPA3.SA</th>\n",
       "      <th>USIM5.SA</th>\n",
       "      <th>VALE3.SA</th>\n",
       "      <th>VIVT4.SA</th>\n",
       "      <th>VVAR3.SA</th>\n",
       "      <th>WEGE3.SA</th>\n",
       "      <th>YDUQ3.SA</th>\n",
       "      <th>^BVSP</th>\n",
       "      <th>^N225</th>\n",
       "    </tr>\n",
       "    <tr>\n",
       "      <th>Date</th>\n",
       "      <th></th>\n",
       "      <th></th>\n",
       "      <th></th>\n",
       "      <th></th>\n",
       "      <th></th>\n",
       "      <th></th>\n",
       "      <th></th>\n",
       "      <th></th>\n",
       "      <th></th>\n",
       "      <th></th>\n",
       "      <th></th>\n",
       "      <th></th>\n",
       "      <th></th>\n",
       "      <th></th>\n",
       "      <th></th>\n",
       "      <th></th>\n",
       "      <th></th>\n",
       "      <th></th>\n",
       "      <th></th>\n",
       "      <th></th>\n",
       "      <th></th>\n",
       "    </tr>\n",
       "  </thead>\n",
       "  <tbody>\n",
       "    <tr>\n",
       "      <th>2015-03-03</th>\n",
       "      <td>1.018232</td>\n",
       "      <td>NaN</td>\n",
       "      <td>NaN</td>\n",
       "      <td>NaN</td>\n",
       "      <td>1.002551</td>\n",
       "      <td>1.002691</td>\n",
       "      <td>NaN</td>\n",
       "      <td>NaN</td>\n",
       "      <td>NaN</td>\n",
       "      <td>1.007825</td>\n",
       "      <td>...</td>\n",
       "      <td>0.989239</td>\n",
       "      <td>1.019325</td>\n",
       "      <td>NaN</td>\n",
       "      <td>NaN</td>\n",
       "      <td>1.000382</td>\n",
       "      <td>1.000000</td>\n",
       "      <td>1.019952</td>\n",
       "      <td>NaN</td>\n",
       "      <td>NaN</td>\n",
       "      <td>0.999377</td>\n",
       "    </tr>\n",
       "    <tr>\n",
       "      <th>2015-03-04</th>\n",
       "      <td>0.993489</td>\n",
       "      <td>NaN</td>\n",
       "      <td>NaN</td>\n",
       "      <td>NaN</td>\n",
       "      <td>0.991258</td>\n",
       "      <td>0.979270</td>\n",
       "      <td>NaN</td>\n",
       "      <td>NaN</td>\n",
       "      <td>NaN</td>\n",
       "      <td>0.973602</td>\n",
       "      <td>...</td>\n",
       "      <td>0.988285</td>\n",
       "      <td>0.979378</td>\n",
       "      <td>NaN</td>\n",
       "      <td>NaN</td>\n",
       "      <td>0.973891</td>\n",
       "      <td>1.000000</td>\n",
       "      <td>0.998425</td>\n",
       "      <td>NaN</td>\n",
       "      <td>NaN</td>\n",
       "      <td>NaN</td>\n",
       "    </tr>\n",
       "    <tr>\n",
       "      <th>2015-03-05</th>\n",
       "      <td>1.002731</td>\n",
       "      <td>NaN</td>\n",
       "      <td>NaN</td>\n",
       "      <td>NaN</td>\n",
       "      <td>0.992286</td>\n",
       "      <td>0.998351</td>\n",
       "      <td>NaN</td>\n",
       "      <td>NaN</td>\n",
       "      <td>NaN</td>\n",
       "      <td>1.015789</td>\n",
       "      <td>...</td>\n",
       "      <td>1.015241</td>\n",
       "      <td>1.017575</td>\n",
       "      <td>NaN</td>\n",
       "      <td>NaN</td>\n",
       "      <td>0.996085</td>\n",
       "      <td>1.000000</td>\n",
       "      <td>0.988943</td>\n",
       "      <td>NaN</td>\n",
       "      <td>NaN</td>\n",
       "      <td>NaN</td>\n",
       "    </tr>\n",
       "    <tr>\n",
       "      <th>2015-03-06</th>\n",
       "      <td>0.992920</td>\n",
       "      <td>NaN</td>\n",
       "      <td>NaN</td>\n",
       "      <td>NaN</td>\n",
       "      <td>0.987221</td>\n",
       "      <td>0.987889</td>\n",
       "      <td>NaN</td>\n",
       "      <td>NaN</td>\n",
       "      <td>NaN</td>\n",
       "      <td>0.994034</td>\n",
       "      <td>...</td>\n",
       "      <td>0.963303</td>\n",
       "      <td>0.995212</td>\n",
       "      <td>NaN</td>\n",
       "      <td>NaN</td>\n",
       "      <td>0.986052</td>\n",
       "      <td>1.000000</td>\n",
       "      <td>1.005108</td>\n",
       "      <td>NaN</td>\n",
       "      <td>NaN</td>\n",
       "      <td>1.011687</td>\n",
       "    </tr>\n",
       "    <tr>\n",
       "      <th>2015-03-09</th>\n",
       "      <td>1.000549</td>\n",
       "      <td>NaN</td>\n",
       "      <td>NaN</td>\n",
       "      <td>NaN</td>\n",
       "      <td>0.987338</td>\n",
       "      <td>0.971293</td>\n",
       "      <td>NaN</td>\n",
       "      <td>NaN</td>\n",
       "      <td>NaN</td>\n",
       "      <td>1.001422</td>\n",
       "      <td>...</td>\n",
       "      <td>1.001731</td>\n",
       "      <td>0.982818</td>\n",
       "      <td>NaN</td>\n",
       "      <td>NaN</td>\n",
       "      <td>0.977883</td>\n",
       "      <td>1.000000</td>\n",
       "      <td>0.987281</td>\n",
       "      <td>NaN</td>\n",
       "      <td>NaN</td>\n",
       "      <td>0.990488</td>\n",
       "    </tr>\n",
       "    <tr>\n",
       "      <th>...</th>\n",
       "      <td>...</td>\n",
       "      <td>...</td>\n",
       "      <td>...</td>\n",
       "      <td>...</td>\n",
       "      <td>...</td>\n",
       "      <td>...</td>\n",
       "      <td>...</td>\n",
       "      <td>...</td>\n",
       "      <td>...</td>\n",
       "      <td>...</td>\n",
       "      <td>...</td>\n",
       "      <td>...</td>\n",
       "      <td>...</td>\n",
       "      <td>...</td>\n",
       "      <td>...</td>\n",
       "      <td>...</td>\n",
       "      <td>...</td>\n",
       "      <td>...</td>\n",
       "      <td>...</td>\n",
       "      <td>...</td>\n",
       "      <td>...</td>\n",
       "    </tr>\n",
       "    <tr>\n",
       "      <th>2019-12-16</th>\n",
       "      <td>NaN</td>\n",
       "      <td>1.007211</td>\n",
       "      <td>0.996121</td>\n",
       "      <td>0.986400</td>\n",
       "      <td>0.984932</td>\n",
       "      <td>0.982471</td>\n",
       "      <td>0.985810</td>\n",
       "      <td>0.998149</td>\n",
       "      <td>1.035610</td>\n",
       "      <td>NaN</td>\n",
       "      <td>...</td>\n",
       "      <td>0.989101</td>\n",
       "      <td>1.007637</td>\n",
       "      <td>0.985946</td>\n",
       "      <td>0.992188</td>\n",
       "      <td>1.005326</td>\n",
       "      <td>1.034959</td>\n",
       "      <td>0.983554</td>\n",
       "      <td>1.003178</td>\n",
       "      <td>0.994057</td>\n",
       "      <td>0.997055</td>\n",
       "    </tr>\n",
       "    <tr>\n",
       "      <th>2019-12-17</th>\n",
       "      <td>NaN</td>\n",
       "      <td>0.993016</td>\n",
       "      <td>1.033968</td>\n",
       "      <td>1.022561</td>\n",
       "      <td>1.015923</td>\n",
       "      <td>1.018427</td>\n",
       "      <td>1.019826</td>\n",
       "      <td>0.996821</td>\n",
       "      <td>1.024561</td>\n",
       "      <td>NaN</td>\n",
       "      <td>...</td>\n",
       "      <td>1.006198</td>\n",
       "      <td>1.025412</td>\n",
       "      <td>1.014254</td>\n",
       "      <td>1.001500</td>\n",
       "      <td>1.004238</td>\n",
       "      <td>0.976889</td>\n",
       "      <td>1.014034</td>\n",
       "      <td>0.978881</td>\n",
       "      <td>1.006435</td>\n",
       "      <td>1.004750</td>\n",
       "    </tr>\n",
       "    <tr>\n",
       "      <th>2019-12-18</th>\n",
       "      <td>NaN</td>\n",
       "      <td>1.013012</td>\n",
       "      <td>1.016112</td>\n",
       "      <td>1.034525</td>\n",
       "      <td>1.038722</td>\n",
       "      <td>1.027858</td>\n",
       "      <td>1.012783</td>\n",
       "      <td>0.993888</td>\n",
       "      <td>1.000685</td>\n",
       "      <td>NaN</td>\n",
       "      <td>...</td>\n",
       "      <td>1.012320</td>\n",
       "      <td>1.030000</td>\n",
       "      <td>1.000000</td>\n",
       "      <td>1.000936</td>\n",
       "      <td>1.003341</td>\n",
       "      <td>1.024568</td>\n",
       "      <td>0.998233</td>\n",
       "      <td>1.038619</td>\n",
       "      <td>1.015087</td>\n",
       "      <td>0.994528</td>\n",
       "    </tr>\n",
       "    <tr>\n",
       "      <th>2019-12-19</th>\n",
       "      <td>NaN</td>\n",
       "      <td>1.001736</td>\n",
       "      <td>1.000000</td>\n",
       "      <td>1.010269</td>\n",
       "      <td>1.014793</td>\n",
       "      <td>1.018441</td>\n",
       "      <td>1.007100</td>\n",
       "      <td>1.002674</td>\n",
       "      <td>1.007187</td>\n",
       "      <td>NaN</td>\n",
       "      <td>...</td>\n",
       "      <td>0.993915</td>\n",
       "      <td>1.025327</td>\n",
       "      <td>1.007568</td>\n",
       "      <td>1.009912</td>\n",
       "      <td>1.003155</td>\n",
       "      <td>0.998224</td>\n",
       "      <td>0.991150</td>\n",
       "      <td>1.032406</td>\n",
       "      <td>1.007138</td>\n",
       "      <td>0.997093</td>\n",
       "    </tr>\n",
       "    <tr>\n",
       "      <th>2019-12-20</th>\n",
       "      <td>NaN</td>\n",
       "      <td>0.983538</td>\n",
       "      <td>1.010502</td>\n",
       "      <td>0.986317</td>\n",
       "      <td>0.972012</td>\n",
       "      <td>0.992025</td>\n",
       "      <td>0.989295</td>\n",
       "      <td>1.010667</td>\n",
       "      <td>1.001359</td>\n",
       "      <td>NaN</td>\n",
       "      <td>...</td>\n",
       "      <td>1.037415</td>\n",
       "      <td>1.008234</td>\n",
       "      <td>1.001073</td>\n",
       "      <td>1.012963</td>\n",
       "      <td>1.008386</td>\n",
       "      <td>0.992883</td>\n",
       "      <td>1.012798</td>\n",
       "      <td>0.985714</td>\n",
       "      <td>0.999913</td>\n",
       "      <td>0.997980</td>\n",
       "    </tr>\n",
       "  </tbody>\n",
       "</table>\n",
       "<p>1254 rows × 69 columns</p>\n",
       "</div>"
      ],
      "text/plain": [
       "            ABEV3.SA  AZUL4.SA  B3SA3.SA  BBAS3.SA  BBDC3.SA  BBDC4.SA  \\\n",
       "Date                                                                     \n",
       "2015-03-03  1.018232       NaN       NaN       NaN  1.002551  1.002691   \n",
       "2015-03-04  0.993489       NaN       NaN       NaN  0.991258  0.979270   \n",
       "2015-03-05  1.002731       NaN       NaN       NaN  0.992286  0.998351   \n",
       "2015-03-06  0.992920       NaN       NaN       NaN  0.987221  0.987889   \n",
       "2015-03-09  1.000549       NaN       NaN       NaN  0.987338  0.971293   \n",
       "...              ...       ...       ...       ...       ...       ...   \n",
       "2019-12-16       NaN  1.007211  0.996121  0.986400  0.984932  0.982471   \n",
       "2019-12-17       NaN  0.993016  1.033968  1.022561  1.015923  1.018427   \n",
       "2019-12-18       NaN  1.013012  1.016112  1.034525  1.038722  1.027858   \n",
       "2019-12-19       NaN  1.001736  1.000000  1.010269  1.014793  1.018441   \n",
       "2019-12-20       NaN  0.983538  1.010502  0.986317  0.972012  0.992025   \n",
       "\n",
       "            BBSE3.SA  BRAP4.SA  BRDT3.SA  BRFS3.SA  ...  TIMP3.SA  UGPA3.SA  \\\n",
       "Date                                                ...                       \n",
       "2015-03-03       NaN       NaN       NaN  1.007825  ...  0.989239  1.019325   \n",
       "2015-03-04       NaN       NaN       NaN  0.973602  ...  0.988285  0.979378   \n",
       "2015-03-05       NaN       NaN       NaN  1.015789  ...  1.015241  1.017575   \n",
       "2015-03-06       NaN       NaN       NaN  0.994034  ...  0.963303  0.995212   \n",
       "2015-03-09       NaN       NaN       NaN  1.001422  ...  1.001731  0.982818   \n",
       "...              ...       ...       ...       ...  ...       ...       ...   \n",
       "2019-12-16  0.985810  0.998149  1.035610       NaN  ...  0.989101  1.007637   \n",
       "2019-12-17  1.019826  0.996821  1.024561       NaN  ...  1.006198  1.025412   \n",
       "2019-12-18  1.012783  0.993888  1.000685       NaN  ...  1.012320  1.030000   \n",
       "2019-12-19  1.007100  1.002674  1.007187       NaN  ...  0.993915  1.025327   \n",
       "2019-12-20  0.989295  1.010667  1.001359       NaN  ...  1.037415  1.008234   \n",
       "\n",
       "            USIM5.SA  VALE3.SA  VIVT4.SA  VVAR3.SA  WEGE3.SA  YDUQ3.SA  \\\n",
       "Date                                                                     \n",
       "2015-03-03       NaN       NaN  1.000382  1.000000  1.019952       NaN   \n",
       "2015-03-04       NaN       NaN  0.973891  1.000000  0.998425       NaN   \n",
       "2015-03-05       NaN       NaN  0.996085  1.000000  0.988943       NaN   \n",
       "2015-03-06       NaN       NaN  0.986052  1.000000  1.005108       NaN   \n",
       "2015-03-09       NaN       NaN  0.977883  1.000000  0.987281       NaN   \n",
       "...              ...       ...       ...       ...       ...       ...   \n",
       "2019-12-16  0.985946  0.992188  1.005326  1.034959  0.983554  1.003178   \n",
       "2019-12-17  1.014254  1.001500  1.004238  0.976889  1.014034  0.978881   \n",
       "2019-12-18  1.000000  1.000936  1.003341  1.024568  0.998233  1.038619   \n",
       "2019-12-19  1.007568  1.009912  1.003155  0.998224  0.991150  1.032406   \n",
       "2019-12-20  1.001073  1.012963  1.008386  0.992883  1.012798  0.985714   \n",
       "\n",
       "               ^BVSP     ^N225  \n",
       "Date                            \n",
       "2015-03-03       NaN  0.999377  \n",
       "2015-03-04       NaN       NaN  \n",
       "2015-03-05       NaN       NaN  \n",
       "2015-03-06       NaN  1.011687  \n",
       "2015-03-09       NaN  0.990488  \n",
       "...              ...       ...  \n",
       "2019-12-16  0.994057  0.997055  \n",
       "2019-12-17  1.006435  1.004750  \n",
       "2019-12-18  1.015087  0.994528  \n",
       "2019-12-19  1.007138  0.997093  \n",
       "2019-12-20  0.999913  0.997980  \n",
       "\n",
       "[1254 rows x 69 columns]"
      ]
     },
     "execution_count": 921,
     "metadata": {},
     "output_type": "execute_result"
    }
   ],
   "source": [
    "y.xs('ret_dia',axis=1,level=1).loc[y.index>'2015-03-02']"
   ]
  },
  {
   "cell_type": "code",
   "execution_count": 922,
   "metadata": {},
   "outputs": [],
   "source": [
    "#ser=pd.Series(index=y.index)\n",
    "lista=[]\n",
    "#lista.append(ser)\n",
    "for i in y.xs('ret_dia',axis=1,level=1).columns:\n",
    "    filtro=0\n",
    "    filtro=((y.loc[:, (slice(i), 'DECISAO')])==1).iloc[:,0]\n",
    "    #filtro=np.concatenate(filtro)\n",
    "    serie= y.xs('ret_dia',axis=1,level=1)[filtro][i].dropna()\n",
    "    \n",
    "    \n",
    "    \n",
    "    lista.append(pd.Series(np.cumprod(serie.values),index=serie.index))\n",
    "    #filtro=0"
   ]
  },
  {
   "cell_type": "code",
   "execution_count": null,
   "metadata": {},
   "outputs": [],
   "source": []
  },
  {
   "cell_type": "code",
   "execution_count": 923,
   "metadata": {},
   "outputs": [
    {
     "data": {
      "text/plain": [
       "<matplotlib.axes._subplots.AxesSubplot at 0x22d151e9748>"
      ]
     },
     "execution_count": 923,
     "metadata": {},
     "output_type": "execute_result"
    },
    {
     "data": {
      "image/png": "[encoded data removed]",
      "text/plain": [
       "<Figure size 432x288 with 1 Axes>"
      ]
     },
     "metadata": {
      "needs_background": "light"
     },
     "output_type": "display_data"
    }
   ],
   "source": [
    "pd.DataFrame(pd.concat(\n",
    "    lista,axis=1).values*cal.values).sum(axis=1).plot()"
   ]
  },
  {
   "cell_type": "code",
   "execution_count": 924,
   "metadata": {},
   "outputs": [],
   "source": [
    "rends=pd.concat(\n",
    "    lista,axis=1)"
   ]
  },
  {
   "cell_type": "code",
   "execution_count": 925,
   "metadata": {},
   "outputs": [],
   "source": [
    "l=[]\n",
    "for i in rends.T.columns:\n",
    "     l.append((rends.T[ i].notnull()*cal).sum())"
   ]
  },
  {
   "cell_type": "code",
   "execution_count": 927,
   "metadata": {},
   "outputs": [
    {
     "data": {
      "text/plain": [
       "<matplotlib.axes._subplots.AxesSubplot at 0x22d152df748>"
      ]
     },
     "execution_count": 927,
     "metadata": {},
     "output_type": "execute_result"
    },
    {
     "data": {
      "image/png": "[encoded data removed]",
      "text/plain": [
       "<Figure size 432x288 with 1 Axes>"
      ]
     },
     "metadata": {
      "needs_background": "light"
     },
     "output_type": "display_data"
    }
   ],
   "source": [
    "(pd.DataFrame(pd.concat(\n",
    "    lista,axis=1).values*cal.values,index=rends.index).sum(axis=1)/l).plot()"
   ]
  },
  {
   "cell_type": "code",
   "execution_count": 928,
   "metadata": {},
   "outputs": [
    {
     "data": {
      "text/plain": [
       "2.0122418826101742"
      ]
     },
     "execution_count": 928,
     "metadata": {},
     "output_type": "execute_result"
    }
   ],
   "source": [
    "y.xs('ret_dia',axis=1,level=1)['WEGE3.SA'].product()"
   ]
  },
  {
   "cell_type": "code",
   "execution_count": 929,
   "metadata": {},
   "outputs": [
    {
     "data": {
      "text/plain": [
       "<matplotlib.axes._subplots.AxesSubplot at 0x22d15358320>"
      ]
     },
     "execution_count": 929,
     "metadata": {},
     "output_type": "execute_result"
    },
    {
     "data": {
      "image/png": "[encoded data removed]",
      "text/plain": [
       "<Figure size 432x288 with 1 Axes>"
      ]
     },
     "metadata": {
      "needs_background": "light"
     },
     "output_type": "display_data"
    }
   ],
   "source": [
    "rends[65].plot()"
   ]
  },
  {
   "cell_type": "code",
   "execution_count": 907,
   "metadata": {},
   "outputs": [
    {
     "data": {
      "text/plain": [
       "'WEGE3.SA'"
      ]
     },
     "execution_count": 907,
     "metadata": {},
     "output_type": "execute_result"
    }
   ],
   "source": [
    "data1.columns[65]"
   ]
  },
  {
   "cell_type": "code",
   "execution_count": 897,
   "metadata": {},
   "outputs": [
    {
     "data": {
      "text/html": [
       "<div>\n",
       "<style scoped>\n",
       "    .dataframe tbody tr th:only-of-type {\n",
       "        vertical-align: middle;\n",
       "    }\n",
       "\n",
       "    .dataframe tbody tr th {\n",
       "        vertical-align: top;\n",
       "    }\n",
       "\n",
       "    .dataframe thead th {\n",
       "        text-align: right;\n",
       "    }\n",
       "</style>\n",
       "<table border=\"1\" class=\"dataframe\">\n",
       "  <thead>\n",
       "    <tr style=\"text-align: right;\">\n",
       "      <th></th>\n",
       "      <th>0</th>\n",
       "      <th>1</th>\n",
       "      <th>2</th>\n",
       "      <th>3</th>\n",
       "      <th>4</th>\n",
       "      <th>5</th>\n",
       "      <th>6</th>\n",
       "      <th>7</th>\n",
       "      <th>8</th>\n",
       "      <th>9</th>\n",
       "      <th>...</th>\n",
       "      <th>59</th>\n",
       "      <th>60</th>\n",
       "      <th>61</th>\n",
       "      <th>62</th>\n",
       "      <th>63</th>\n",
       "      <th>64</th>\n",
       "      <th>65</th>\n",
       "      <th>66</th>\n",
       "      <th>67</th>\n",
       "      <th>68</th>\n",
       "    </tr>\n",
       "    <tr>\n",
       "      <th>Date</th>\n",
       "      <th></th>\n",
       "      <th></th>\n",
       "      <th></th>\n",
       "      <th></th>\n",
       "      <th></th>\n",
       "      <th></th>\n",
       "      <th></th>\n",
       "      <th></th>\n",
       "      <th></th>\n",
       "      <th></th>\n",
       "      <th></th>\n",
       "      <th></th>\n",
       "      <th></th>\n",
       "      <th></th>\n",
       "      <th></th>\n",
       "      <th></th>\n",
       "      <th></th>\n",
       "      <th></th>\n",
       "      <th></th>\n",
       "      <th></th>\n",
       "      <th></th>\n",
       "    </tr>\n",
       "  </thead>\n",
       "  <tbody>\n",
       "    <tr>\n",
       "      <th>2019-03-01</th>\n",
       "      <td>0.943526</td>\n",
       "      <td>0.946696</td>\n",
       "      <td>1.126270</td>\n",
       "      <td>0.949469</td>\n",
       "      <td>0.839966</td>\n",
       "      <td>1.035638</td>\n",
       "      <td>0.661088</td>\n",
       "      <td>NaN</td>\n",
       "      <td>0.747885</td>\n",
       "      <td>0.650568</td>\n",
       "      <td>...</td>\n",
       "      <td>0.977966</td>\n",
       "      <td>0.969227</td>\n",
       "      <td>3.180245</td>\n",
       "      <td>NaN</td>\n",
       "      <td>0.947562</td>\n",
       "      <td>NaN</td>\n",
       "      <td>1.200123</td>\n",
       "      <td>NaN</td>\n",
       "      <td>1.163787</td>\n",
       "      <td>NaN</td>\n",
       "    </tr>\n",
       "    <tr>\n",
       "      <th>2019-03-07</th>\n",
       "      <td>0.939585</td>\n",
       "      <td>0.937679</td>\n",
       "      <td>1.098361</td>\n",
       "      <td>0.944043</td>\n",
       "      <td>0.841329</td>\n",
       "      <td>1.035219</td>\n",
       "      <td>0.651981</td>\n",
       "      <td>NaN</td>\n",
       "      <td>0.768056</td>\n",
       "      <td>0.617913</td>\n",
       "      <td>...</td>\n",
       "      <td>0.961119</td>\n",
       "      <td>0.978655</td>\n",
       "      <td>3.157294</td>\n",
       "      <td>NaN</td>\n",
       "      <td>0.941804</td>\n",
       "      <td>NaN</td>\n",
       "      <td>1.211902</td>\n",
       "      <td>NaN</td>\n",
       "      <td>1.160539</td>\n",
       "      <td>NaN</td>\n",
       "    </tr>\n",
       "    <tr>\n",
       "      <th>2019-03-08</th>\n",
       "      <td>0.933956</td>\n",
       "      <td>0.954681</td>\n",
       "      <td>1.116731</td>\n",
       "      <td>0.977177</td>\n",
       "      <td>0.849419</td>\n",
       "      <td>1.049588</td>\n",
       "      <td>0.654689</td>\n",
       "      <td>NaN</td>\n",
       "      <td>0.772711</td>\n",
       "      <td>0.629643</td>\n",
       "      <td>...</td>\n",
       "      <td>0.989759</td>\n",
       "      <td>0.989969</td>\n",
       "      <td>3.170409</td>\n",
       "      <td>NaN</td>\n",
       "      <td>0.956198</td>\n",
       "      <td>NaN</td>\n",
       "      <td>1.230224</td>\n",
       "      <td>NaN</td>\n",
       "      <td>1.173149</td>\n",
       "      <td>NaN</td>\n",
       "    </tr>\n",
       "    <tr>\n",
       "      <th>2019-03-11</th>\n",
       "      <td>0.963230</td>\n",
       "      <td>1.016249</td>\n",
       "      <td>1.162305</td>\n",
       "      <td>1.007129</td>\n",
       "      <td>0.884024</td>\n",
       "      <td>1.092204</td>\n",
       "      <td>0.682255</td>\n",
       "      <td>NaN</td>\n",
       "      <td>0.750988</td>\n",
       "      <td>0.644544</td>\n",
       "      <td>...</td>\n",
       "      <td>1.009132</td>\n",
       "      <td>1.006186</td>\n",
       "      <td>3.278603</td>\n",
       "      <td>NaN</td>\n",
       "      <td>0.968331</td>\n",
       "      <td>NaN</td>\n",
       "      <td>1.242003</td>\n",
       "      <td>NaN</td>\n",
       "      <td>1.205896</td>\n",
       "      <td>NaN</td>\n",
       "    </tr>\n",
       "    <tr>\n",
       "      <th>2019-03-12</th>\n",
       "      <td>0.957037</td>\n",
       "      <td>1.035827</td>\n",
       "      <td>1.167604</td>\n",
       "      <td>1.001424</td>\n",
       "      <td>0.893689</td>\n",
       "      <td>1.095369</td>\n",
       "      <td>0.684224</td>\n",
       "      <td>NaN</td>\n",
       "      <td>0.761539</td>\n",
       "      <td>0.635667</td>\n",
       "      <td>...</td>\n",
       "      <td>1.004921</td>\n",
       "      <td>1.012597</td>\n",
       "      <td>3.285160</td>\n",
       "      <td>NaN</td>\n",
       "      <td>0.960722</td>\n",
       "      <td>NaN</td>\n",
       "      <td>1.243966</td>\n",
       "      <td>NaN</td>\n",
       "      <td>1.203448</td>\n",
       "      <td>NaN</td>\n",
       "    </tr>\n",
       "    <tr>\n",
       "      <th>...</th>\n",
       "      <td>...</td>\n",
       "      <td>...</td>\n",
       "      <td>...</td>\n",
       "      <td>...</td>\n",
       "      <td>...</td>\n",
       "      <td>...</td>\n",
       "      <td>...</td>\n",
       "      <td>...</td>\n",
       "      <td>...</td>\n",
       "      <td>...</td>\n",
       "      <td>...</td>\n",
       "      <td>...</td>\n",
       "      <td>...</td>\n",
       "      <td>...</td>\n",
       "      <td>...</td>\n",
       "      <td>...</td>\n",
       "      <td>...</td>\n",
       "      <td>...</td>\n",
       "      <td>...</td>\n",
       "      <td>...</td>\n",
       "      <td>...</td>\n",
       "    </tr>\n",
       "    <tr>\n",
       "      <th>2019-12-04</th>\n",
       "      <td>1.030222</td>\n",
       "      <td>1.375864</td>\n",
       "      <td>1.773377</td>\n",
       "      <td>NaN</td>\n",
       "      <td>0.819465</td>\n",
       "      <td>NaN</td>\n",
       "      <td>0.911872</td>\n",
       "      <td>3.672893</td>\n",
       "      <td>0.963226</td>\n",
       "      <td>1.154029</td>\n",
       "      <td>...</td>\n",
       "      <td>1.057623</td>\n",
       "      <td>NaN</td>\n",
       "      <td>NaN</td>\n",
       "      <td>NaN</td>\n",
       "      <td>1.217189</td>\n",
       "      <td>0.655785</td>\n",
       "      <td>2.008319</td>\n",
       "      <td>0.999049</td>\n",
       "      <td>1.356886</td>\n",
       "      <td>1.135647</td>\n",
       "    </tr>\n",
       "    <tr>\n",
       "      <th>2019-12-05</th>\n",
       "      <td>1.021778</td>\n",
       "      <td>1.375864</td>\n",
       "      <td>1.768708</td>\n",
       "      <td>NaN</td>\n",
       "      <td>0.825081</td>\n",
       "      <td>NaN</td>\n",
       "      <td>0.926771</td>\n",
       "      <td>3.777406</td>\n",
       "      <td>0.969726</td>\n",
       "      <td>1.150858</td>\n",
       "      <td>...</td>\n",
       "      <td>1.062127</td>\n",
       "      <td>NaN</td>\n",
       "      <td>NaN</td>\n",
       "      <td>NaN</td>\n",
       "      <td>1.223897</td>\n",
       "      <td>0.646764</td>\n",
       "      <td>2.068278</td>\n",
       "      <td>0.995480</td>\n",
       "      <td>1.360835</td>\n",
       "      <td>1.143739</td>\n",
       "    </tr>\n",
       "    <tr>\n",
       "      <th>2019-12-06</th>\n",
       "      <td>1.038667</td>\n",
       "      <td>1.409095</td>\n",
       "      <td>1.763321</td>\n",
       "      <td>NaN</td>\n",
       "      <td>0.824571</td>\n",
       "      <td>NaN</td>\n",
       "      <td>0.927277</td>\n",
       "      <td>3.810466</td>\n",
       "      <td>0.963006</td>\n",
       "      <td>1.169881</td>\n",
       "      <td>...</td>\n",
       "      <td>1.071885</td>\n",
       "      <td>NaN</td>\n",
       "      <td>NaN</td>\n",
       "      <td>NaN</td>\n",
       "      <td>1.230388</td>\n",
       "      <td>0.693953</td>\n",
       "      <td>2.066385</td>\n",
       "      <td>1.049952</td>\n",
       "      <td>1.367035</td>\n",
       "      <td>1.146405</td>\n",
       "    </tr>\n",
       "    <tr>\n",
       "      <th>2019-12-09</th>\n",
       "      <td>1.038104</td>\n",
       "      <td>1.409353</td>\n",
       "      <td>1.711248</td>\n",
       "      <td>NaN</td>\n",
       "      <td>0.817678</td>\n",
       "      <td>NaN</td>\n",
       "      <td>0.924751</td>\n",
       "      <td>3.832862</td>\n",
       "      <td>0.942494</td>\n",
       "      <td>1.168296</td>\n",
       "      <td>...</td>\n",
       "      <td>1.082394</td>\n",
       "      <td>NaN</td>\n",
       "      <td>NaN</td>\n",
       "      <td>NaN</td>\n",
       "      <td>1.231903</td>\n",
       "      <td>0.709914</td>\n",
       "      <td>2.013999</td>\n",
       "      <td>1.009753</td>\n",
       "      <td>1.365202</td>\n",
       "      <td>1.150151</td>\n",
       "    </tr>\n",
       "    <tr>\n",
       "      <th>2019-12-10</th>\n",
       "      <td>1.034163</td>\n",
       "      <td>1.380759</td>\n",
       "      <td>1.680363</td>\n",
       "      <td>NaN</td>\n",
       "      <td>0.814615</td>\n",
       "      <td>NaN</td>\n",
       "      <td>0.913893</td>\n",
       "      <td>3.855258</td>\n",
       "      <td>0.963360</td>\n",
       "      <td>1.166710</td>\n",
       "      <td>...</td>\n",
       "      <td>1.059124</td>\n",
       "      <td>NaN</td>\n",
       "      <td>NaN</td>\n",
       "      <td>NaN</td>\n",
       "      <td>1.228008</td>\n",
       "      <td>0.707832</td>\n",
       "      <td>2.017786</td>\n",
       "      <td>1.007374</td>\n",
       "      <td>1.361450</td>\n",
       "      <td>1.149144</td>\n",
       "    </tr>\n",
       "  </tbody>\n",
       "</table>\n",
       "<p>194 rows × 69 columns</p>\n",
       "</div>"
      ],
      "text/plain": [
       "                  0         1         2         3         4         5   \\\n",
       "Date                                                                     \n",
       "2019-03-01  0.943526  0.946696  1.126270  0.949469  0.839966  1.035638   \n",
       "2019-03-07  0.939585  0.937679  1.098361  0.944043  0.841329  1.035219   \n",
       "2019-03-08  0.933956  0.954681  1.116731  0.977177  0.849419  1.049588   \n",
       "2019-03-11  0.963230  1.016249  1.162305  1.007129  0.884024  1.092204   \n",
       "2019-03-12  0.957037  1.035827  1.167604  1.001424  0.893689  1.095369   \n",
       "...              ...       ...       ...       ...       ...       ...   \n",
       "2019-12-04  1.030222  1.375864  1.773377       NaN  0.819465       NaN   \n",
       "2019-12-05  1.021778  1.375864  1.768708       NaN  0.825081       NaN   \n",
       "2019-12-06  1.038667  1.409095  1.763321       NaN  0.824571       NaN   \n",
       "2019-12-09  1.038104  1.409353  1.711248       NaN  0.817678       NaN   \n",
       "2019-12-10  1.034163  1.380759  1.680363       NaN  0.814615       NaN   \n",
       "\n",
       "                  6         7         8         9   ...        59        60  \\\n",
       "Date                                                ...                       \n",
       "2019-03-01  0.661088       NaN  0.747885  0.650568  ...  0.977966  0.969227   \n",
       "2019-03-07  0.651981       NaN  0.768056  0.617913  ...  0.961119  0.978655   \n",
       "2019-03-08  0.654689       NaN  0.772711  0.629643  ...  0.989759  0.989969   \n",
       "2019-03-11  0.682255       NaN  0.750988  0.644544  ...  1.009132  1.006186   \n",
       "2019-03-12  0.684224       NaN  0.761539  0.635667  ...  1.004921  1.012597   \n",
       "...              ...       ...       ...       ...  ...       ...       ...   \n",
       "2019-12-04  0.911872  3.672893  0.963226  1.154029  ...  1.057623       NaN   \n",
       "2019-12-05  0.926771  3.777406  0.969726  1.150858  ...  1.062127       NaN   \n",
       "2019-12-06  0.927277  3.810466  0.963006  1.169881  ...  1.071885       NaN   \n",
       "2019-12-09  0.924751  3.832862  0.942494  1.168296  ...  1.082394       NaN   \n",
       "2019-12-10  0.913893  3.855258  0.963360  1.166710  ...  1.059124       NaN   \n",
       "\n",
       "                  61  62        63        64        65        66        67  \\\n",
       "Date                                                                         \n",
       "2019-03-01  3.180245 NaN  0.947562       NaN  1.200123       NaN  1.163787   \n",
       "2019-03-07  3.157294 NaN  0.941804       NaN  1.211902       NaN  1.160539   \n",
       "2019-03-08  3.170409 NaN  0.956198       NaN  1.230224       NaN  1.173149   \n",
       "2019-03-11  3.278603 NaN  0.968331       NaN  1.242003       NaN  1.205896   \n",
       "2019-03-12  3.285160 NaN  0.960722       NaN  1.243966       NaN  1.203448   \n",
       "...              ...  ..       ...       ...       ...       ...       ...   \n",
       "2019-12-04       NaN NaN  1.217189  0.655785  2.008319  0.999049  1.356886   \n",
       "2019-12-05       NaN NaN  1.223897  0.646764  2.068278  0.995480  1.360835   \n",
       "2019-12-06       NaN NaN  1.230388  0.693953  2.066385  1.049952  1.367035   \n",
       "2019-12-09       NaN NaN  1.231903  0.709914  2.013999  1.009753  1.365202   \n",
       "2019-12-10       NaN NaN  1.228008  0.707832  2.017786  1.007374  1.361450   \n",
       "\n",
       "                  68  \n",
       "Date                  \n",
       "2019-03-01       NaN  \n",
       "2019-03-07       NaN  \n",
       "2019-03-08       NaN  \n",
       "2019-03-11       NaN  \n",
       "2019-03-12       NaN  \n",
       "...              ...  \n",
       "2019-12-04  1.135647  \n",
       "2019-12-05  1.143739  \n",
       "2019-12-06  1.146405  \n",
       "2019-12-09  1.150151  \n",
       "2019-12-10  1.149144  \n",
       "\n",
       "[194 rows x 69 columns]"
      ]
     },
     "execution_count": 897,
     "metadata": {},
     "output_type": "execute_result"
    }
   ],
   "source": [
    "rends.dropna(how=\"all\")[rends.index>='2018-07-01']"
   ]
  },
  {
   "cell_type": "code",
   "execution_count": 755,
   "metadata": {},
   "outputs": [
    {
     "data": {
      "text/plain": [
       "ABEV3.SA      1\n",
       "AZUL4.SA    NaN\n",
       "B3SA3.SA      1\n",
       "BBAS3.SA      1\n",
       "BBDC3.SA      1\n",
       "           ... \n",
       "VALE3.SA      1\n",
       "VIVT4.SA      1\n",
       "VVAR3.SA      1\n",
       "WEGE3.SA      1\n",
       "YDUQ3.SA    NaN\n",
       "Name: 2017-05-29 00:00:00, Length: 66, dtype: object"
      ]
     },
     "execution_count": 755,
     "metadata": {},
     "output_type": "execute_result"
    }
   ],
   "source": [
    "y.xs('DECISAO',axis=1,level=1).loc['2017-05-29']"
   ]
  },
  {
   "cell_type": "code",
   "execution_count": 756,
   "metadata": {},
   "outputs": [
    {
     "data": {
      "text/html": [
       "<div>\n",
       "<style scoped>\n",
       "    .dataframe tbody tr th:only-of-type {\n",
       "        vertical-align: middle;\n",
       "    }\n",
       "\n",
       "    .dataframe tbody tr th {\n",
       "        vertical-align: top;\n",
       "    }\n",
       "\n",
       "    .dataframe thead th {\n",
       "        text-align: right;\n",
       "    }\n",
       "</style>\n",
       "<table border=\"1\" class=\"dataframe\">\n",
       "  <thead>\n",
       "    <tr style=\"text-align: right;\">\n",
       "      <th></th>\n",
       "      <th>ABEV3.SA</th>\n",
       "      <th>AZUL4.SA</th>\n",
       "      <th>B3SA3.SA</th>\n",
       "      <th>BBAS3.SA</th>\n",
       "      <th>BBDC3.SA</th>\n",
       "      <th>BBDC4.SA</th>\n",
       "      <th>BBSE3.SA</th>\n",
       "      <th>BRAP4.SA</th>\n",
       "      <th>BRDT3.SA</th>\n",
       "      <th>BRFS3.SA</th>\n",
       "      <th>...</th>\n",
       "      <th>SPY</th>\n",
       "      <th>SUZB3.SA</th>\n",
       "      <th>TIMP3.SA</th>\n",
       "      <th>UGPA3.SA</th>\n",
       "      <th>USIM5.SA</th>\n",
       "      <th>VALE3.SA</th>\n",
       "      <th>VIVT4.SA</th>\n",
       "      <th>VVAR3.SA</th>\n",
       "      <th>WEGE3.SA</th>\n",
       "      <th>YDUQ3.SA</th>\n",
       "    </tr>\n",
       "    <tr>\n",
       "      <th>Date</th>\n",
       "      <th></th>\n",
       "      <th></th>\n",
       "      <th></th>\n",
       "      <th></th>\n",
       "      <th></th>\n",
       "      <th></th>\n",
       "      <th></th>\n",
       "      <th></th>\n",
       "      <th></th>\n",
       "      <th></th>\n",
       "      <th></th>\n",
       "      <th></th>\n",
       "      <th></th>\n",
       "      <th></th>\n",
       "      <th></th>\n",
       "      <th></th>\n",
       "      <th></th>\n",
       "      <th></th>\n",
       "      <th></th>\n",
       "      <th></th>\n",
       "      <th></th>\n",
       "    </tr>\n",
       "  </thead>\n",
       "  <tbody>\n",
       "    <tr>\n",
       "      <th>2014-12-29</th>\n",
       "      <td>NaN</td>\n",
       "      <td>NaN</td>\n",
       "      <td>NaN</td>\n",
       "      <td>NaN</td>\n",
       "      <td>NaN</td>\n",
       "      <td>NaN</td>\n",
       "      <td>NaN</td>\n",
       "      <td>NaN</td>\n",
       "      <td>NaN</td>\n",
       "      <td>NaN</td>\n",
       "      <td>...</td>\n",
       "      <td>1.000000</td>\n",
       "      <td>NaN</td>\n",
       "      <td>NaN</td>\n",
       "      <td>NaN</td>\n",
       "      <td>NaN</td>\n",
       "      <td>NaN</td>\n",
       "      <td>NaN</td>\n",
       "      <td>NaN</td>\n",
       "      <td>NaN</td>\n",
       "      <td>NaN</td>\n",
       "    </tr>\n",
       "    <tr>\n",
       "      <th>2014-12-30</th>\n",
       "      <td>1.0</td>\n",
       "      <td>NaN</td>\n",
       "      <td>1.000000</td>\n",
       "      <td>1.0</td>\n",
       "      <td>1.000000</td>\n",
       "      <td>1.0</td>\n",
       "      <td>1.000000</td>\n",
       "      <td>1.000000</td>\n",
       "      <td>NaN</td>\n",
       "      <td>1.000000</td>\n",
       "      <td>...</td>\n",
       "      <td>1.000000</td>\n",
       "      <td>1.000000</td>\n",
       "      <td>1.000000</td>\n",
       "      <td>1.000000</td>\n",
       "      <td>1.0</td>\n",
       "      <td>1.000000</td>\n",
       "      <td>1.000000</td>\n",
       "      <td>1.000000</td>\n",
       "      <td>1.000000</td>\n",
       "      <td>NaN</td>\n",
       "    </tr>\n",
       "    <tr>\n",
       "      <th>2014-12-31</th>\n",
       "      <td>NaN</td>\n",
       "      <td>NaN</td>\n",
       "      <td>NaN</td>\n",
       "      <td>NaN</td>\n",
       "      <td>NaN</td>\n",
       "      <td>NaN</td>\n",
       "      <td>NaN</td>\n",
       "      <td>NaN</td>\n",
       "      <td>NaN</td>\n",
       "      <td>NaN</td>\n",
       "      <td>...</td>\n",
       "      <td>1.000000</td>\n",
       "      <td>NaN</td>\n",
       "      <td>NaN</td>\n",
       "      <td>NaN</td>\n",
       "      <td>NaN</td>\n",
       "      <td>NaN</td>\n",
       "      <td>NaN</td>\n",
       "      <td>NaN</td>\n",
       "      <td>NaN</td>\n",
       "      <td>NaN</td>\n",
       "    </tr>\n",
       "    <tr>\n",
       "      <th>2015-01-02</th>\n",
       "      <td>1.0</td>\n",
       "      <td>NaN</td>\n",
       "      <td>1.000000</td>\n",
       "      <td>1.0</td>\n",
       "      <td>1.000000</td>\n",
       "      <td>1.0</td>\n",
       "      <td>1.000000</td>\n",
       "      <td>1.000000</td>\n",
       "      <td>NaN</td>\n",
       "      <td>1.000000</td>\n",
       "      <td>...</td>\n",
       "      <td>1.000000</td>\n",
       "      <td>1.000000</td>\n",
       "      <td>1.000000</td>\n",
       "      <td>1.000000</td>\n",
       "      <td>1.0</td>\n",
       "      <td>1.000000</td>\n",
       "      <td>1.000000</td>\n",
       "      <td>1.000000</td>\n",
       "      <td>1.000000</td>\n",
       "      <td>NaN</td>\n",
       "    </tr>\n",
       "    <tr>\n",
       "      <th>2015-01-05</th>\n",
       "      <td>1.0</td>\n",
       "      <td>NaN</td>\n",
       "      <td>1.000000</td>\n",
       "      <td>1.0</td>\n",
       "      <td>1.000000</td>\n",
       "      <td>1.0</td>\n",
       "      <td>1.000000</td>\n",
       "      <td>1.000000</td>\n",
       "      <td>NaN</td>\n",
       "      <td>1.000000</td>\n",
       "      <td>...</td>\n",
       "      <td>1.000000</td>\n",
       "      <td>1.000000</td>\n",
       "      <td>1.000000</td>\n",
       "      <td>1.000000</td>\n",
       "      <td>1.0</td>\n",
       "      <td>1.000000</td>\n",
       "      <td>1.000000</td>\n",
       "      <td>1.000000</td>\n",
       "      <td>1.000000</td>\n",
       "      <td>NaN</td>\n",
       "    </tr>\n",
       "    <tr>\n",
       "      <th>...</th>\n",
       "      <td>...</td>\n",
       "      <td>...</td>\n",
       "      <td>...</td>\n",
       "      <td>...</td>\n",
       "      <td>...</td>\n",
       "      <td>...</td>\n",
       "      <td>...</td>\n",
       "      <td>...</td>\n",
       "      <td>...</td>\n",
       "      <td>...</td>\n",
       "      <td>...</td>\n",
       "      <td>...</td>\n",
       "      <td>...</td>\n",
       "      <td>...</td>\n",
       "      <td>...</td>\n",
       "      <td>...</td>\n",
       "      <td>...</td>\n",
       "      <td>...</td>\n",
       "      <td>...</td>\n",
       "      <td>...</td>\n",
       "      <td>...</td>\n",
       "    </tr>\n",
       "    <tr>\n",
       "      <th>2019-12-16</th>\n",
       "      <td>1.0</td>\n",
       "      <td>1.007211</td>\n",
       "      <td>0.996121</td>\n",
       "      <td>1.0</td>\n",
       "      <td>0.984932</td>\n",
       "      <td>1.0</td>\n",
       "      <td>0.985810</td>\n",
       "      <td>0.998149</td>\n",
       "      <td>1.035610</td>\n",
       "      <td>1.023270</td>\n",
       "      <td>...</td>\n",
       "      <td>1.006870</td>\n",
       "      <td>1.008230</td>\n",
       "      <td>0.989101</td>\n",
       "      <td>1.007637</td>\n",
       "      <td>1.0</td>\n",
       "      <td>1.000000</td>\n",
       "      <td>1.005326</td>\n",
       "      <td>1.034959</td>\n",
       "      <td>0.983554</td>\n",
       "      <td>1.003178</td>\n",
       "    </tr>\n",
       "    <tr>\n",
       "      <th>2019-12-17</th>\n",
       "      <td>1.0</td>\n",
       "      <td>0.993016</td>\n",
       "      <td>1.033968</td>\n",
       "      <td>1.0</td>\n",
       "      <td>1.015923</td>\n",
       "      <td>1.0</td>\n",
       "      <td>1.019826</td>\n",
       "      <td>0.996821</td>\n",
       "      <td>1.024561</td>\n",
       "      <td>0.968048</td>\n",
       "      <td>...</td>\n",
       "      <td>1.000219</td>\n",
       "      <td>1.021173</td>\n",
       "      <td>1.006198</td>\n",
       "      <td>1.025412</td>\n",
       "      <td>1.0</td>\n",
       "      <td>1.001500</td>\n",
       "      <td>1.004238</td>\n",
       "      <td>0.976889</td>\n",
       "      <td>1.014034</td>\n",
       "      <td>0.978881</td>\n",
       "    </tr>\n",
       "    <tr>\n",
       "      <th>2019-12-18</th>\n",
       "      <td>1.0</td>\n",
       "      <td>1.013012</td>\n",
       "      <td>1.016112</td>\n",
       "      <td>1.0</td>\n",
       "      <td>1.038722</td>\n",
       "      <td>1.0</td>\n",
       "      <td>1.012783</td>\n",
       "      <td>0.993888</td>\n",
       "      <td>1.000685</td>\n",
       "      <td>1.020815</td>\n",
       "      <td>...</td>\n",
       "      <td>1.000062</td>\n",
       "      <td>0.988509</td>\n",
       "      <td>1.012320</td>\n",
       "      <td>1.030000</td>\n",
       "      <td>1.0</td>\n",
       "      <td>1.000936</td>\n",
       "      <td>1.003341</td>\n",
       "      <td>1.024568</td>\n",
       "      <td>0.998233</td>\n",
       "      <td>1.038619</td>\n",
       "    </tr>\n",
       "    <tr>\n",
       "      <th>2019-12-19</th>\n",
       "      <td>1.0</td>\n",
       "      <td>1.001736</td>\n",
       "      <td>1.000000</td>\n",
       "      <td>1.0</td>\n",
       "      <td>1.014793</td>\n",
       "      <td>1.0</td>\n",
       "      <td>1.007100</td>\n",
       "      <td>1.002674</td>\n",
       "      <td>1.007187</td>\n",
       "      <td>1.001165</td>\n",
       "      <td>...</td>\n",
       "      <td>1.004099</td>\n",
       "      <td>1.002527</td>\n",
       "      <td>0.993915</td>\n",
       "      <td>1.025327</td>\n",
       "      <td>1.0</td>\n",
       "      <td>1.009912</td>\n",
       "      <td>1.003155</td>\n",
       "      <td>0.998224</td>\n",
       "      <td>0.991150</td>\n",
       "      <td>1.032406</td>\n",
       "    </tr>\n",
       "    <tr>\n",
       "      <th>2019-12-20</th>\n",
       "      <td>1.0</td>\n",
       "      <td>0.983538</td>\n",
       "      <td>1.010502</td>\n",
       "      <td>1.0</td>\n",
       "      <td>0.972012</td>\n",
       "      <td>1.0</td>\n",
       "      <td>0.989295</td>\n",
       "      <td>1.010667</td>\n",
       "      <td>1.001359</td>\n",
       "      <td>1.006983</td>\n",
       "      <td>...</td>\n",
       "      <td>1.004384</td>\n",
       "      <td>1.015377</td>\n",
       "      <td>1.037415</td>\n",
       "      <td>1.008234</td>\n",
       "      <td>1.0</td>\n",
       "      <td>1.012963</td>\n",
       "      <td>1.008386</td>\n",
       "      <td>0.992883</td>\n",
       "      <td>1.012798</td>\n",
       "      <td>0.985714</td>\n",
       "    </tr>\n",
       "  </tbody>\n",
       "</table>\n",
       "<p>1287 rows × 66 columns</p>\n",
       "</div>"
      ],
      "text/plain": [
       "            ABEV3.SA  AZUL4.SA  B3SA3.SA  BBAS3.SA  BBDC3.SA  BBDC4.SA  \\\n",
       "Date                                                                     \n",
       "2014-12-29       NaN       NaN       NaN       NaN       NaN       NaN   \n",
       "2014-12-30       1.0       NaN  1.000000       1.0  1.000000       1.0   \n",
       "2014-12-31       NaN       NaN       NaN       NaN       NaN       NaN   \n",
       "2015-01-02       1.0       NaN  1.000000       1.0  1.000000       1.0   \n",
       "2015-01-05       1.0       NaN  1.000000       1.0  1.000000       1.0   \n",
       "...              ...       ...       ...       ...       ...       ...   \n",
       "2019-12-16       1.0  1.007211  0.996121       1.0  0.984932       1.0   \n",
       "2019-12-17       1.0  0.993016  1.033968       1.0  1.015923       1.0   \n",
       "2019-12-18       1.0  1.013012  1.016112       1.0  1.038722       1.0   \n",
       "2019-12-19       1.0  1.001736  1.000000       1.0  1.014793       1.0   \n",
       "2019-12-20       1.0  0.983538  1.010502       1.0  0.972012       1.0   \n",
       "\n",
       "            BBSE3.SA  BRAP4.SA  BRDT3.SA  BRFS3.SA  ...       SPY  SUZB3.SA  \\\n",
       "Date                                                ...                       \n",
       "2014-12-29       NaN       NaN       NaN       NaN  ...  1.000000       NaN   \n",
       "2014-12-30  1.000000  1.000000       NaN  1.000000  ...  1.000000  1.000000   \n",
       "2014-12-31       NaN       NaN       NaN       NaN  ...  1.000000       NaN   \n",
       "2015-01-02  1.000000  1.000000       NaN  1.000000  ...  1.000000  1.000000   \n",
       "2015-01-05  1.000000  1.000000       NaN  1.000000  ...  1.000000  1.000000   \n",
       "...              ...       ...       ...       ...  ...       ...       ...   \n",
       "2019-12-16  0.985810  0.998149  1.035610  1.023270  ...  1.006870  1.008230   \n",
       "2019-12-17  1.019826  0.996821  1.024561  0.968048  ...  1.000219  1.021173   \n",
       "2019-12-18  1.012783  0.993888  1.000685  1.020815  ...  1.000062  0.988509   \n",
       "2019-12-19  1.007100  1.002674  1.007187  1.001165  ...  1.004099  1.002527   \n",
       "2019-12-20  0.989295  1.010667  1.001359  1.006983  ...  1.004384  1.015377   \n",
       "\n",
       "            TIMP3.SA  UGPA3.SA  USIM5.SA  VALE3.SA  VIVT4.SA  VVAR3.SA  \\\n",
       "Date                                                                     \n",
       "2014-12-29       NaN       NaN       NaN       NaN       NaN       NaN   \n",
       "2014-12-30  1.000000  1.000000       1.0  1.000000  1.000000  1.000000   \n",
       "2014-12-31       NaN       NaN       NaN       NaN       NaN       NaN   \n",
       "2015-01-02  1.000000  1.000000       1.0  1.000000  1.000000  1.000000   \n",
       "2015-01-05  1.000000  1.000000       1.0  1.000000  1.000000  1.000000   \n",
       "...              ...       ...       ...       ...       ...       ...   \n",
       "2019-12-16  0.989101  1.007637       1.0  1.000000  1.005326  1.034959   \n",
       "2019-12-17  1.006198  1.025412       1.0  1.001500  1.004238  0.976889   \n",
       "2019-12-18  1.012320  1.030000       1.0  1.000936  1.003341  1.024568   \n",
       "2019-12-19  0.993915  1.025327       1.0  1.009912  1.003155  0.998224   \n",
       "2019-12-20  1.037415  1.008234       1.0  1.012963  1.008386  0.992883   \n",
       "\n",
       "            WEGE3.SA  YDUQ3.SA  \n",
       "Date                            \n",
       "2014-12-29       NaN       NaN  \n",
       "2014-12-30  1.000000       NaN  \n",
       "2014-12-31       NaN       NaN  \n",
       "2015-01-02  1.000000       NaN  \n",
       "2015-01-05  1.000000       NaN  \n",
       "...              ...       ...  \n",
       "2019-12-16  0.983554  1.003178  \n",
       "2019-12-17  1.014034  0.978881  \n",
       "2019-12-18  0.998233  1.038619  \n",
       "2019-12-19  0.991150  1.032406  \n",
       "2019-12-20  1.012798  0.985714  \n",
       "\n",
       "[1287 rows x 66 columns]"
      ]
     },
     "execution_count": 756,
     "metadata": {},
     "output_type": "execute_result"
    }
   ],
   "source": [
    "y.xs('ret_dia',axis=1,level=1)"
   ]
  },
  {
   "cell_type": "code",
   "execution_count": 757,
   "metadata": {},
   "outputs": [
    {
     "data": {
      "text/plain": [
       "0     0.949189\n",
       "1          NaN\n",
       "2     1.040887\n",
       "3     1.088568\n",
       "4     0.814746\n",
       "        ...   \n",
       "61    1.361120\n",
       "62    0.903950\n",
       "63    0.244383\n",
       "64    1.020688\n",
       "65         NaN\n",
       "Name: 2017-05-29 00:00:00, Length: 66, dtype: float64"
      ]
     },
     "execution_count": 757,
     "metadata": {},
     "output_type": "execute_result"
    }
   ],
   "source": [
    "rends.loc['2017-05-29']"
   ]
  },
  {
   "cell_type": "code",
   "execution_count": null,
   "metadata": {},
   "outputs": [],
   "source": [
    "#pesos=(y.xs('DECISAO',axis=1,level=1).fillna(0).values*cal.values).sum(axis=1)"
   ]
  },
  {
   "cell_type": "code",
   "execution_count": 758,
   "metadata": {},
   "outputs": [],
   "source": [
    "#pesos=(y.xs('DECISAO',axis=1,level=1).fillna(0).sum(axis=1)).reset_index(drop=True)"
   ]
  },
  {
   "cell_type": "code",
   "execution_count": 759,
   "metadata": {},
   "outputs": [],
   "source": [
    "x=0\n",
    "for i in zip(pesos.values[46:],(pd.DataFrame(rends.values).sum(axis=1).values)):\n",
    "    if i[0]/i[1]>10:\n",
    "             print(i,x)\n",
    "    x+=1"
   ]
  },
  {
   "cell_type": "code",
   "execution_count": 760,
   "metadata": {},
   "outputs": [
    {
     "data": {
      "text/plain": [
       "0     1.107865\n",
       "1     1.104077\n",
       "2     1.268638\n",
       "3     1.050681\n",
       "4     0.967631\n",
       "        ...   \n",
       "61    2.060034\n",
       "62    0.974214\n",
       "63    0.492376\n",
       "64    1.346314\n",
       "65         NaN\n",
       "Name: 2018-01-02 00:00:00, Length: 66, dtype: float64"
      ]
     },
     "execution_count": 760,
     "metadata": {},
     "output_type": "execute_result"
    }
   ],
   "source": [
    "rends.loc['2018-01-02']\n"
   ]
  },
  {
   "cell_type": "code",
   "execution_count": 791,
   "metadata": {},
   "outputs": [
    {
     "data": {
      "text/html": [
       "<div>\n",
       "<style scoped>\n",
       "    .dataframe tbody tr th:only-of-type {\n",
       "        vertical-align: middle;\n",
       "    }\n",
       "\n",
       "    .dataframe tbody tr th {\n",
       "        vertical-align: top;\n",
       "    }\n",
       "\n",
       "    .dataframe thead th {\n",
       "        text-align: right;\n",
       "    }\n",
       "</style>\n",
       "<table border=\"1\" class=\"dataframe\">\n",
       "  <thead>\n",
       "    <tr style=\"text-align: right;\">\n",
       "      <th></th>\n",
       "      <th>0</th>\n",
       "      <th>1</th>\n",
       "      <th>2</th>\n",
       "      <th>3</th>\n",
       "      <th>4</th>\n",
       "      <th>5</th>\n",
       "      <th>6</th>\n",
       "      <th>7</th>\n",
       "      <th>8</th>\n",
       "      <th>9</th>\n",
       "      <th>...</th>\n",
       "      <th>56</th>\n",
       "      <th>57</th>\n",
       "      <th>58</th>\n",
       "      <th>59</th>\n",
       "      <th>60</th>\n",
       "      <th>61</th>\n",
       "      <th>62</th>\n",
       "      <th>63</th>\n",
       "      <th>64</th>\n",
       "      <th>65</th>\n",
       "    </tr>\n",
       "    <tr>\n",
       "      <th>Date</th>\n",
       "      <th></th>\n",
       "      <th></th>\n",
       "      <th></th>\n",
       "      <th></th>\n",
       "      <th></th>\n",
       "      <th></th>\n",
       "      <th></th>\n",
       "      <th></th>\n",
       "      <th></th>\n",
       "      <th></th>\n",
       "      <th></th>\n",
       "      <th></th>\n",
       "      <th></th>\n",
       "      <th></th>\n",
       "      <th></th>\n",
       "      <th></th>\n",
       "      <th></th>\n",
       "      <th></th>\n",
       "      <th></th>\n",
       "      <th></th>\n",
       "      <th></th>\n",
       "    </tr>\n",
       "  </thead>\n",
       "  <tbody>\n",
       "    <tr>\n",
       "      <th>2015-03-02</th>\n",
       "      <td>0.993414</td>\n",
       "      <td>NaN</td>\n",
       "      <td>1.000000</td>\n",
       "      <td>1.000000</td>\n",
       "      <td>0.978574</td>\n",
       "      <td>0.986435</td>\n",
       "      <td>1.000000</td>\n",
       "      <td>1.000000</td>\n",
       "      <td>NaN</td>\n",
       "      <td>0.991774</td>\n",
       "      <td>...</td>\n",
       "      <td>1.000000</td>\n",
       "      <td>1.000000</td>\n",
       "      <td>1.012573</td>\n",
       "      <td>0.991595</td>\n",
       "      <td>1.000000</td>\n",
       "      <td>1.000000</td>\n",
       "      <td>0.991492</td>\n",
       "      <td>1.000000</td>\n",
       "      <td>1.016350</td>\n",
       "      <td>NaN</td>\n",
       "    </tr>\n",
       "    <tr>\n",
       "      <th>2015-03-03</th>\n",
       "      <td>1.011526</td>\n",
       "      <td>NaN</td>\n",
       "      <td>1.000000</td>\n",
       "      <td>1.000000</td>\n",
       "      <td>0.981070</td>\n",
       "      <td>0.989089</td>\n",
       "      <td>1.000000</td>\n",
       "      <td>1.000000</td>\n",
       "      <td>NaN</td>\n",
       "      <td>0.999534</td>\n",
       "      <td>...</td>\n",
       "      <td>1.000000</td>\n",
       "      <td>1.000000</td>\n",
       "      <td>1.001677</td>\n",
       "      <td>1.010758</td>\n",
       "      <td>1.000000</td>\n",
       "      <td>1.000000</td>\n",
       "      <td>0.991870</td>\n",
       "      <td>1.000000</td>\n",
       "      <td>1.036628</td>\n",
       "      <td>NaN</td>\n",
       "    </tr>\n",
       "    <tr>\n",
       "      <th>2015-03-04</th>\n",
       "      <td>1.004940</td>\n",
       "      <td>NaN</td>\n",
       "      <td>1.000000</td>\n",
       "      <td>1.000000</td>\n",
       "      <td>0.972493</td>\n",
       "      <td>0.968586</td>\n",
       "      <td>1.000000</td>\n",
       "      <td>1.000000</td>\n",
       "      <td>NaN</td>\n",
       "      <td>0.973149</td>\n",
       "      <td>...</td>\n",
       "      <td>1.000000</td>\n",
       "      <td>1.000000</td>\n",
       "      <td>0.989942</td>\n",
       "      <td>0.989914</td>\n",
       "      <td>1.000000</td>\n",
       "      <td>1.000000</td>\n",
       "      <td>0.965974</td>\n",
       "      <td>1.000000</td>\n",
       "      <td>1.034996</td>\n",
       "      <td>NaN</td>\n",
       "    </tr>\n",
       "    <tr>\n",
       "      <th>2015-03-05</th>\n",
       "      <td>1.007684</td>\n",
       "      <td>NaN</td>\n",
       "      <td>1.000000</td>\n",
       "      <td>1.000000</td>\n",
       "      <td>0.964991</td>\n",
       "      <td>0.966988</td>\n",
       "      <td>1.000000</td>\n",
       "      <td>1.000000</td>\n",
       "      <td>NaN</td>\n",
       "      <td>0.988515</td>\n",
       "      <td>...</td>\n",
       "      <td>1.000000</td>\n",
       "      <td>1.000000</td>\n",
       "      <td>1.005030</td>\n",
       "      <td>1.007312</td>\n",
       "      <td>1.000000</td>\n",
       "      <td>1.000000</td>\n",
       "      <td>0.962192</td>\n",
       "      <td>1.000000</td>\n",
       "      <td>1.023551</td>\n",
       "      <td>NaN</td>\n",
       "    </tr>\n",
       "    <tr>\n",
       "      <th>2015-03-06</th>\n",
       "      <td>1.000549</td>\n",
       "      <td>NaN</td>\n",
       "      <td>1.000000</td>\n",
       "      <td>1.000000</td>\n",
       "      <td>0.952659</td>\n",
       "      <td>0.955277</td>\n",
       "      <td>1.000000</td>\n",
       "      <td>1.000000</td>\n",
       "      <td>NaN</td>\n",
       "      <td>0.982617</td>\n",
       "      <td>...</td>\n",
       "      <td>1.000000</td>\n",
       "      <td>1.000000</td>\n",
       "      <td>0.968148</td>\n",
       "      <td>1.002488</td>\n",
       "      <td>1.000000</td>\n",
       "      <td>1.000000</td>\n",
       "      <td>0.948771</td>\n",
       "      <td>1.000000</td>\n",
       "      <td>1.028780</td>\n",
       "      <td>NaN</td>\n",
       "    </tr>\n",
       "    <tr>\n",
       "      <th>...</th>\n",
       "      <td>...</td>\n",
       "      <td>...</td>\n",
       "      <td>...</td>\n",
       "      <td>...</td>\n",
       "      <td>...</td>\n",
       "      <td>...</td>\n",
       "      <td>...</td>\n",
       "      <td>...</td>\n",
       "      <td>...</td>\n",
       "      <td>...</td>\n",
       "      <td>...</td>\n",
       "      <td>...</td>\n",
       "      <td>...</td>\n",
       "      <td>...</td>\n",
       "      <td>...</td>\n",
       "      <td>...</td>\n",
       "      <td>...</td>\n",
       "      <td>...</td>\n",
       "      <td>...</td>\n",
       "      <td>...</td>\n",
       "      <td>...</td>\n",
       "    </tr>\n",
       "    <tr>\n",
       "      <th>2019-12-04</th>\n",
       "      <td>1.030222</td>\n",
       "      <td>1.375864</td>\n",
       "      <td>1.773377</td>\n",
       "      <td>0.920256</td>\n",
       "      <td>0.819465</td>\n",
       "      <td>1.032458</td>\n",
       "      <td>0.911872</td>\n",
       "      <td>3.672893</td>\n",
       "      <td>0.963226</td>\n",
       "      <td>1.154029</td>\n",
       "      <td>...</td>\n",
       "      <td>1.273171</td>\n",
       "      <td>1.841823</td>\n",
       "      <td>1.057623</td>\n",
       "      <td>0.744834</td>\n",
       "      <td>2.792009</td>\n",
       "      <td>2.232489</td>\n",
       "      <td>1.217189</td>\n",
       "      <td>0.655785</td>\n",
       "      <td>2.008319</td>\n",
       "      <td>0.999049</td>\n",
       "    </tr>\n",
       "    <tr>\n",
       "      <th>2019-12-05</th>\n",
       "      <td>1.021778</td>\n",
       "      <td>1.375864</td>\n",
       "      <td>1.768708</td>\n",
       "      <td>0.920256</td>\n",
       "      <td>0.825081</td>\n",
       "      <td>1.032458</td>\n",
       "      <td>0.926771</td>\n",
       "      <td>3.777406</td>\n",
       "      <td>0.969726</td>\n",
       "      <td>1.150858</td>\n",
       "      <td>...</td>\n",
       "      <td>1.275460</td>\n",
       "      <td>1.841823</td>\n",
       "      <td>1.062127</td>\n",
       "      <td>0.744834</td>\n",
       "      <td>2.792009</td>\n",
       "      <td>2.232489</td>\n",
       "      <td>1.223897</td>\n",
       "      <td>0.646764</td>\n",
       "      <td>2.068278</td>\n",
       "      <td>0.995480</td>\n",
       "    </tr>\n",
       "    <tr>\n",
       "      <th>2019-12-06</th>\n",
       "      <td>1.038667</td>\n",
       "      <td>1.409095</td>\n",
       "      <td>1.763321</td>\n",
       "      <td>0.920256</td>\n",
       "      <td>0.824571</td>\n",
       "      <td>1.032458</td>\n",
       "      <td>0.927277</td>\n",
       "      <td>3.810466</td>\n",
       "      <td>0.963006</td>\n",
       "      <td>1.169881</td>\n",
       "      <td>...</td>\n",
       "      <td>1.287110</td>\n",
       "      <td>1.841823</td>\n",
       "      <td>1.071885</td>\n",
       "      <td>0.744834</td>\n",
       "      <td>2.792009</td>\n",
       "      <td>2.232489</td>\n",
       "      <td>1.230388</td>\n",
       "      <td>0.693953</td>\n",
       "      <td>2.066385</td>\n",
       "      <td>1.049952</td>\n",
       "    </tr>\n",
       "    <tr>\n",
       "      <th>2019-12-09</th>\n",
       "      <td>1.038104</td>\n",
       "      <td>1.409353</td>\n",
       "      <td>1.711248</td>\n",
       "      <td>0.920256</td>\n",
       "      <td>0.817678</td>\n",
       "      <td>1.032458</td>\n",
       "      <td>0.924751</td>\n",
       "      <td>3.832862</td>\n",
       "      <td>0.942494</td>\n",
       "      <td>1.168296</td>\n",
       "      <td>...</td>\n",
       "      <td>1.283063</td>\n",
       "      <td>1.841823</td>\n",
       "      <td>1.082394</td>\n",
       "      <td>0.744834</td>\n",
       "      <td>2.792009</td>\n",
       "      <td>2.232489</td>\n",
       "      <td>1.231903</td>\n",
       "      <td>0.709914</td>\n",
       "      <td>2.013999</td>\n",
       "      <td>1.009753</td>\n",
       "    </tr>\n",
       "    <tr>\n",
       "      <th>2019-12-10</th>\n",
       "      <td>1.034163</td>\n",
       "      <td>1.380759</td>\n",
       "      <td>1.680363</td>\n",
       "      <td>0.920256</td>\n",
       "      <td>0.814615</td>\n",
       "      <td>1.032458</td>\n",
       "      <td>0.913893</td>\n",
       "      <td>3.855258</td>\n",
       "      <td>0.963360</td>\n",
       "      <td>1.166710</td>\n",
       "      <td>...</td>\n",
       "      <td>1.281632</td>\n",
       "      <td>1.856936</td>\n",
       "      <td>1.059124</td>\n",
       "      <td>0.744834</td>\n",
       "      <td>2.792009</td>\n",
       "      <td>2.232489</td>\n",
       "      <td>1.228008</td>\n",
       "      <td>0.707832</td>\n",
       "      <td>2.017786</td>\n",
       "      <td>1.007374</td>\n",
       "    </tr>\n",
       "  </tbody>\n",
       "</table>\n",
       "<p>830 rows × 66 columns</p>\n",
       "</div>"
      ],
      "text/plain": [
       "                  0         1         2         3         4         5   \\\n",
       "Date                                                                     \n",
       "2015-03-02  0.993414       NaN  1.000000  1.000000  0.978574  0.986435   \n",
       "2015-03-03  1.011526       NaN  1.000000  1.000000  0.981070  0.989089   \n",
       "2015-03-04  1.004940       NaN  1.000000  1.000000  0.972493  0.968586   \n",
       "2015-03-05  1.007684       NaN  1.000000  1.000000  0.964991  0.966988   \n",
       "2015-03-06  1.000549       NaN  1.000000  1.000000  0.952659  0.955277   \n",
       "...              ...       ...       ...       ...       ...       ...   \n",
       "2019-12-04  1.030222  1.375864  1.773377  0.920256  0.819465  1.032458   \n",
       "2019-12-05  1.021778  1.375864  1.768708  0.920256  0.825081  1.032458   \n",
       "2019-12-06  1.038667  1.409095  1.763321  0.920256  0.824571  1.032458   \n",
       "2019-12-09  1.038104  1.409353  1.711248  0.920256  0.817678  1.032458   \n",
       "2019-12-10  1.034163  1.380759  1.680363  0.920256  0.814615  1.032458   \n",
       "\n",
       "                  6         7         8         9   ...        56        57  \\\n",
       "Date                                                ...                       \n",
       "2015-03-02  1.000000  1.000000       NaN  0.991774  ...  1.000000  1.000000   \n",
       "2015-03-03  1.000000  1.000000       NaN  0.999534  ...  1.000000  1.000000   \n",
       "2015-03-04  1.000000  1.000000       NaN  0.973149  ...  1.000000  1.000000   \n",
       "2015-03-05  1.000000  1.000000       NaN  0.988515  ...  1.000000  1.000000   \n",
       "2015-03-06  1.000000  1.000000       NaN  0.982617  ...  1.000000  1.000000   \n",
       "...              ...       ...       ...       ...  ...       ...       ...   \n",
       "2019-12-04  0.911872  3.672893  0.963226  1.154029  ...  1.273171  1.841823   \n",
       "2019-12-05  0.926771  3.777406  0.969726  1.150858  ...  1.275460  1.841823   \n",
       "2019-12-06  0.927277  3.810466  0.963006  1.169881  ...  1.287110  1.841823   \n",
       "2019-12-09  0.924751  3.832862  0.942494  1.168296  ...  1.283063  1.841823   \n",
       "2019-12-10  0.913893  3.855258  0.963360  1.166710  ...  1.281632  1.856936   \n",
       "\n",
       "                  58        59        60        61        62        63  \\\n",
       "Date                                                                     \n",
       "2015-03-02  1.012573  0.991595  1.000000  1.000000  0.991492  1.000000   \n",
       "2015-03-03  1.001677  1.010758  1.000000  1.000000  0.991870  1.000000   \n",
       "2015-03-04  0.989942  0.989914  1.000000  1.000000  0.965974  1.000000   \n",
       "2015-03-05  1.005030  1.007312  1.000000  1.000000  0.962192  1.000000   \n",
       "2015-03-06  0.968148  1.002488  1.000000  1.000000  0.948771  1.000000   \n",
       "...              ...       ...       ...       ...       ...       ...   \n",
       "2019-12-04  1.057623  0.744834  2.792009  2.232489  1.217189  0.655785   \n",
       "2019-12-05  1.062127  0.744834  2.792009  2.232489  1.223897  0.646764   \n",
       "2019-12-06  1.071885  0.744834  2.792009  2.232489  1.230388  0.693953   \n",
       "2019-12-09  1.082394  0.744834  2.792009  2.232489  1.231903  0.709914   \n",
       "2019-12-10  1.059124  0.744834  2.792009  2.232489  1.228008  0.707832   \n",
       "\n",
       "                  64        65  \n",
       "Date                            \n",
       "2015-03-02  1.016350       NaN  \n",
       "2015-03-03  1.036628       NaN  \n",
       "2015-03-04  1.034996       NaN  \n",
       "2015-03-05  1.023551       NaN  \n",
       "2015-03-06  1.028780       NaN  \n",
       "...              ...       ...  \n",
       "2019-12-04  2.008319  0.999049  \n",
       "2019-12-05  2.068278  0.995480  \n",
       "2019-12-06  2.066385  1.049952  \n",
       "2019-12-09  2.013999  1.009753  \n",
       "2019-12-10  2.017786  1.007374  \n",
       "\n",
       "[830 rows x 66 columns]"
      ]
     },
     "execution_count": 791,
     "metadata": {},
     "output_type": "execute_result"
    }
   ],
   "source": [
    "rends"
   ]
  },
  {
   "cell_type": "code",
   "execution_count": 790,
   "metadata": {},
   "outputs": [
    {
     "data": {
      "text/plain": [
       "1232"
      ]
     },
     "execution_count": 790,
     "metadata": {},
     "output_type": "execute_result"
    }
   ],
   "source": [
    "len(pesos[pesos!=0])"
   ]
  },
  {
   "cell_type": "code",
   "execution_count": 788,
   "metadata": {},
   "outputs": [
    {
     "ename": "ValueError",
     "evalue": "operands could not be broadcast together with shapes (830,) (1232,) ",
     "output_type": "error",
     "traceback": [
      "\u001b[1;31m---------------------------------------------------------------------------\u001b[0m",
      "\u001b[1;31mValueError\u001b[0m                                Traceback (most recent call last)",
      "\u001b[1;32m<ipython-input-788-9777bcb9927f>\u001b[0m in \u001b[0;36m<module>\u001b[1;34m\u001b[0m\n\u001b[1;32m----> 1\u001b[1;33m \u001b[1;33m(\u001b[0m\u001b[0mrends\u001b[0m\u001b[1;33m.\u001b[0m\u001b[0msum\u001b[0m\u001b[1;33m(\u001b[0m\u001b[0maxis\u001b[0m\u001b[1;33m=\u001b[0m\u001b[1;36m1\u001b[0m\u001b[1;33m)\u001b[0m\u001b[1;33m/\u001b[0m\u001b[0mpesos\u001b[0m\u001b[1;33m[\u001b[0m\u001b[0mpesos\u001b[0m\u001b[1;33m!=\u001b[0m\u001b[1;36m0\u001b[0m\u001b[1;33m]\u001b[0m  \u001b[1;33m)\u001b[0m\u001b[1;33m.\u001b[0m\u001b[0mdropna\u001b[0m\u001b[1;33m(\u001b[0m\u001b[1;33m)\u001b[0m\u001b[1;33m.\u001b[0m\u001b[0mplot\u001b[0m\u001b[1;33m(\u001b[0m\u001b[1;33m)\u001b[0m\u001b[1;33m\u001b[0m\u001b[1;33m\u001b[0m\u001b[0m\n\u001b[0m",
      "\u001b[1;32m~\\Anaconda3\\lib\\site-packages\\pandas\\core\\ops\\__init__.py\u001b[0m in \u001b[0;36mwrapper\u001b[1;34m(left, right)\u001b[0m\n\u001b[0;32m   1046\u001b[0m \u001b[1;33m\u001b[0m\u001b[0m\n\u001b[0;32m   1047\u001b[0m         \u001b[1;32mwith\u001b[0m \u001b[0mnp\u001b[0m\u001b[1;33m.\u001b[0m\u001b[0merrstate\u001b[0m\u001b[1;33m(\u001b[0m\u001b[0mall\u001b[0m\u001b[1;33m=\u001b[0m\u001b[1;34m\"ignore\"\u001b[0m\u001b[1;33m)\u001b[0m\u001b[1;33m:\u001b[0m\u001b[1;33m\u001b[0m\u001b[1;33m\u001b[0m\u001b[0m\n\u001b[1;32m-> 1048\u001b[1;33m             \u001b[0mresult\u001b[0m \u001b[1;33m=\u001b[0m \u001b[0mna_op\u001b[0m\u001b[1;33m(\u001b[0m\u001b[0mlvalues\u001b[0m\u001b[1;33m,\u001b[0m \u001b[0mrvalues\u001b[0m\u001b[1;33m)\u001b[0m\u001b[1;33m\u001b[0m\u001b[1;33m\u001b[0m\u001b[0m\n\u001b[0m\u001b[0;32m   1049\u001b[0m         return construct_result(\n\u001b[0;32m   1050\u001b[0m             \u001b[0mleft\u001b[0m\u001b[1;33m,\u001b[0m \u001b[0mresult\u001b[0m\u001b[1;33m,\u001b[0m \u001b[0mindex\u001b[0m\u001b[1;33m=\u001b[0m\u001b[0mleft\u001b[0m\u001b[1;33m.\u001b[0m\u001b[0mindex\u001b[0m\u001b[1;33m,\u001b[0m \u001b[0mname\u001b[0m\u001b[1;33m=\u001b[0m\u001b[0mres_name\u001b[0m\u001b[1;33m,\u001b[0m \u001b[0mdtype\u001b[0m\u001b[1;33m=\u001b[0m\u001b[1;32mNone\u001b[0m\u001b[1;33m\u001b[0m\u001b[1;33m\u001b[0m\u001b[0m\n",
      "\u001b[1;32m~\\Anaconda3\\lib\\site-packages\\pandas\\core\\ops\\__init__.py\u001b[0m in \u001b[0;36mna_op\u001b[1;34m(x, y)\u001b[0m\n\u001b[0;32m    966\u001b[0m \u001b[1;33m\u001b[0m\u001b[0m\n\u001b[0;32m    967\u001b[0m         \u001b[1;32mtry\u001b[0m\u001b[1;33m:\u001b[0m\u001b[1;33m\u001b[0m\u001b[1;33m\u001b[0m\u001b[0m\n\u001b[1;32m--> 968\u001b[1;33m             \u001b[0mresult\u001b[0m \u001b[1;33m=\u001b[0m \u001b[0mexpressions\u001b[0m\u001b[1;33m.\u001b[0m\u001b[0mevaluate\u001b[0m\u001b[1;33m(\u001b[0m\u001b[0mop\u001b[0m\u001b[1;33m,\u001b[0m \u001b[0mstr_rep\u001b[0m\u001b[1;33m,\u001b[0m \u001b[0mx\u001b[0m\u001b[1;33m,\u001b[0m \u001b[0my\u001b[0m\u001b[1;33m,\u001b[0m \u001b[1;33m**\u001b[0m\u001b[0meval_kwargs\u001b[0m\u001b[1;33m)\u001b[0m\u001b[1;33m\u001b[0m\u001b[1;33m\u001b[0m\u001b[0m\n\u001b[0m\u001b[0;32m    969\u001b[0m         \u001b[1;32mexcept\u001b[0m \u001b[0mTypeError\u001b[0m\u001b[1;33m:\u001b[0m\u001b[1;33m\u001b[0m\u001b[1;33m\u001b[0m\u001b[0m\n\u001b[0;32m    970\u001b[0m             \u001b[0mresult\u001b[0m \u001b[1;33m=\u001b[0m \u001b[0mmasked_arith_op\u001b[0m\u001b[1;33m(\u001b[0m\u001b[0mx\u001b[0m\u001b[1;33m,\u001b[0m \u001b[0my\u001b[0m\u001b[1;33m,\u001b[0m \u001b[0mop\u001b[0m\u001b[1;33m)\u001b[0m\u001b[1;33m\u001b[0m\u001b[1;33m\u001b[0m\u001b[0m\n",
      "\u001b[1;32m~\\Anaconda3\\lib\\site-packages\\pandas\\core\\computation\\expressions.py\u001b[0m in \u001b[0;36mevaluate\u001b[1;34m(op, op_str, a, b, use_numexpr, **eval_kwargs)\u001b[0m\n\u001b[0;32m    219\u001b[0m     \u001b[0muse_numexpr\u001b[0m \u001b[1;33m=\u001b[0m \u001b[0muse_numexpr\u001b[0m \u001b[1;32mand\u001b[0m \u001b[0m_bool_arith_check\u001b[0m\u001b[1;33m(\u001b[0m\u001b[0mop_str\u001b[0m\u001b[1;33m,\u001b[0m \u001b[0ma\u001b[0m\u001b[1;33m,\u001b[0m \u001b[0mb\u001b[0m\u001b[1;33m)\u001b[0m\u001b[1;33m\u001b[0m\u001b[1;33m\u001b[0m\u001b[0m\n\u001b[0;32m    220\u001b[0m     \u001b[1;32mif\u001b[0m \u001b[0muse_numexpr\u001b[0m\u001b[1;33m:\u001b[0m\u001b[1;33m\u001b[0m\u001b[1;33m\u001b[0m\u001b[0m\n\u001b[1;32m--> 221\u001b[1;33m         \u001b[1;32mreturn\u001b[0m \u001b[0m_evaluate\u001b[0m\u001b[1;33m(\u001b[0m\u001b[0mop\u001b[0m\u001b[1;33m,\u001b[0m \u001b[0mop_str\u001b[0m\u001b[1;33m,\u001b[0m \u001b[0ma\u001b[0m\u001b[1;33m,\u001b[0m \u001b[0mb\u001b[0m\u001b[1;33m,\u001b[0m \u001b[1;33m**\u001b[0m\u001b[0meval_kwargs\u001b[0m\u001b[1;33m)\u001b[0m\u001b[1;33m\u001b[0m\u001b[1;33m\u001b[0m\u001b[0m\n\u001b[0m\u001b[0;32m    222\u001b[0m     \u001b[1;32mreturn\u001b[0m \u001b[0m_evaluate_standard\u001b[0m\u001b[1;33m(\u001b[0m\u001b[0mop\u001b[0m\u001b[1;33m,\u001b[0m \u001b[0mop_str\u001b[0m\u001b[1;33m,\u001b[0m \u001b[0ma\u001b[0m\u001b[1;33m,\u001b[0m \u001b[0mb\u001b[0m\u001b[1;33m)\u001b[0m\u001b[1;33m\u001b[0m\u001b[1;33m\u001b[0m\u001b[0m\n\u001b[0;32m    223\u001b[0m \u001b[1;33m\u001b[0m\u001b[0m\n",
      "\u001b[1;32m~\\Anaconda3\\lib\\site-packages\\pandas\\core\\computation\\expressions.py\u001b[0m in \u001b[0;36m_evaluate_numexpr\u001b[1;34m(op, op_str, a, b, truediv, reversed, **eval_kwargs)\u001b[0m\n\u001b[0;32m    125\u001b[0m \u001b[1;33m\u001b[0m\u001b[0m\n\u001b[0;32m    126\u001b[0m     \u001b[1;32mif\u001b[0m \u001b[0mresult\u001b[0m \u001b[1;32mis\u001b[0m \u001b[1;32mNone\u001b[0m\u001b[1;33m:\u001b[0m\u001b[1;33m\u001b[0m\u001b[1;33m\u001b[0m\u001b[0m\n\u001b[1;32m--> 127\u001b[1;33m         \u001b[0mresult\u001b[0m \u001b[1;33m=\u001b[0m \u001b[0m_evaluate_standard\u001b[0m\u001b[1;33m(\u001b[0m\u001b[0mop\u001b[0m\u001b[1;33m,\u001b[0m \u001b[0mop_str\u001b[0m\u001b[1;33m,\u001b[0m \u001b[0ma\u001b[0m\u001b[1;33m,\u001b[0m \u001b[0mb\u001b[0m\u001b[1;33m)\u001b[0m\u001b[1;33m\u001b[0m\u001b[1;33m\u001b[0m\u001b[0m\n\u001b[0m\u001b[0;32m    128\u001b[0m \u001b[1;33m\u001b[0m\u001b[0m\n\u001b[0;32m    129\u001b[0m     \u001b[1;32mreturn\u001b[0m \u001b[0mresult\u001b[0m\u001b[1;33m\u001b[0m\u001b[1;33m\u001b[0m\u001b[0m\n",
      "\u001b[1;32m~\\Anaconda3\\lib\\site-packages\\pandas\\core\\computation\\expressions.py\u001b[0m in \u001b[0;36m_evaluate_standard\u001b[1;34m(op, op_str, a, b, **eval_kwargs)\u001b[0m\n\u001b[0;32m     68\u001b[0m         \u001b[0m_store_test_result\u001b[0m\u001b[1;33m(\u001b[0m\u001b[1;32mFalse\u001b[0m\u001b[1;33m)\u001b[0m\u001b[1;33m\u001b[0m\u001b[1;33m\u001b[0m\u001b[0m\n\u001b[0;32m     69\u001b[0m     \u001b[1;32mwith\u001b[0m \u001b[0mnp\u001b[0m\u001b[1;33m.\u001b[0m\u001b[0merrstate\u001b[0m\u001b[1;33m(\u001b[0m\u001b[0mall\u001b[0m\u001b[1;33m=\u001b[0m\u001b[1;34m\"ignore\"\u001b[0m\u001b[1;33m)\u001b[0m\u001b[1;33m:\u001b[0m\u001b[1;33m\u001b[0m\u001b[1;33m\u001b[0m\u001b[0m\n\u001b[1;32m---> 70\u001b[1;33m         \u001b[1;32mreturn\u001b[0m \u001b[0mop\u001b[0m\u001b[1;33m(\u001b[0m\u001b[0ma\u001b[0m\u001b[1;33m,\u001b[0m \u001b[0mb\u001b[0m\u001b[1;33m)\u001b[0m\u001b[1;33m\u001b[0m\u001b[1;33m\u001b[0m\u001b[0m\n\u001b[0m\u001b[0;32m     71\u001b[0m \u001b[1;33m\u001b[0m\u001b[0m\n\u001b[0;32m     72\u001b[0m \u001b[1;33m\u001b[0m\u001b[0m\n",
      "\u001b[1;31mValueError\u001b[0m: operands could not be broadcast together with shapes (830,) (1232,) "
     ]
    }
   ],
   "source": [
    "(rends.sum(axis=1)/pesos[pesos!=0]  ).dropna().plot()"
   ]
  },
  {
   "cell_type": "code",
   "execution_count": 763,
   "metadata": {},
   "outputs": [
    {
     "data": {
      "text/plain": [
       "<matplotlib.axes._subplots.AxesSubplot at 0x22d0b598080>"
      ]
     },
     "execution_count": 763,
     "metadata": {},
     "output_type": "execute_result"
    },
    {
     "data": {
      "image/png": "[encoded data removed]",
      "text/plain": [
       "<Figure size 432x288 with 1 Axes>"
      ]
     },
     "metadata": {
      "needs_background": "light"
     },
     "output_type": "display_data"
    }
   ],
   "source": [
    "(pd.DataFrame(rends.values).sum(axis=1)/pesos[46:]).fillna(method='ffill').plot()"
   ]
  },
  {
   "cell_type": "code",
   "execution_count": null,
   "metadata": {},
   "outputs": [],
   "source": [
    "pd.DataFrame(lista).T.dropna()\n"
   ]
  },
  {
   "cell_type": "code",
   "execution_count": null,
   "metadata": {},
   "outputs": [],
   "source": [
    "pd.DataFrame(y.xs('ret_dia',axis=1,level=1).values*cal.values)"
   ]
  },
  {
   "cell_type": "code",
   "execution_count": null,
   "metadata": {},
   "outputs": [],
   "source": [
    "n=pd.Series((y.xs('ret_dia',axis=1,level=1).fillna(1).rolling(1301,min_periods=1).agg(np.product).values*cal.values).sum(axis=1))"
   ]
  },
  {
   "cell_type": "code",
   "execution_count": null,
   "metadata": {},
   "outputs": [],
   "source": [
    "n.plot()"
   ]
  },
  {
   "cell_type": "code",
   "execution_count": null,
   "metadata": {},
   "outputs": [],
   "source": [
    "pesos[ pesos==1]"
   ]
  },
  {
   "cell_type": "code",
   "execution_count": null,
   "metadata": {},
   "outputs": [],
   "source": [
    "pesos[(n/pesos)>30]"
   ]
  },
  {
   "cell_type": "code",
   "execution_count": null,
   "metadata": {},
   "outputs": [],
   "source": [
    "y.xs('ret_dia',axis=1,level=1)['AZUL4.SA'].plot()"
   ]
  },
  {
   "cell_type": "code",
   "execution_count": null,
   "metadata": {},
   "outputs": [],
   "source": [
    "(n/pesos)[(pesos>4)].plot()"
   ]
  },
  {
   "cell_type": "code",
   "execution_count": null,
   "metadata": {},
   "outputs": [],
   "source": [
    "pd.Series((n/pesos)).plot()"
   ]
  },
  {
   "cell_type": "code",
   "execution_count": null,
   "metadata": {},
   "outputs": [],
   "source": [
    "(((y.xs('ret_dia',axis=1,level=1).fillna(1).rolling(1301,min_periods=1).agg(np.product).values*cal.values).sum(axis=1))/pesos).plot()"
   ]
  },
  {
   "cell_type": "code",
   "execution_count": null,
   "metadata": {},
   "outputs": [],
   "source": [
    "((y.xs('ret_dia',axis=1,level=1).fillna(1).product(axis=0).values*cal.values)/78).sum()"
   ]
  },
  {
   "cell_type": "code",
   "execution_count": null,
   "metadata": {},
   "outputs": [],
   "source": [
    "k=y.xs('ret_dia',axis=1,level=1).sum(axis=1)"
   ]
  },
  {
   "cell_type": "code",
   "execution_count": null,
   "metadata": {},
   "outputs": [],
   "source": [
    "k[k==0]=1"
   ]
  },
  {
   "cell_type": "code",
   "execution_count": null,
   "metadata": {},
   "outputs": [],
   "source": [
    "x=1\n",
    "lista=[]\n",
    "for i in k.fillna(1).iteritems():\n",
    "    \n",
    "    x=i[1]*x\n",
    "    print(i,x)\n",
    "    lista.append(x)"
   ]
  },
  {
   "cell_type": "code",
   "execution_count": null,
   "metadata": {},
   "outputs": [],
   "source": [
    "ret=pd.Series(lista,index=y.index)"
   ]
  },
  {
   "cell_type": "code",
   "execution_count": null,
   "metadata": {},
   "outputs": [],
   "source": [
    "ret[20]"
   ]
  },
  {
   "cell_type": "code",
   "execution_count": null,
   "metadata": {},
   "outputs": [],
   "source": [
    "[1]*len(data1.columns)"
   ]
  },
  {
   "cell_type": "code",
   "execution_count": null,
   "metadata": {},
   "outputs": [],
   "source": [
    "data1.columns"
   ]
  },
  {
   "cell_type": "code",
   "execution_count": null,
   "metadata": {},
   "outputs": [],
   "source": []
  },
  {
   "cell_type": "code",
   "execution_count": null,
   "metadata": {},
   "outputs": [],
   "source": [
    "k.product()"
   ]
  },
  {
   "cell_type": "code",
   "execution_count": null,
   "metadata": {},
   "outputs": [],
   "source": []
  },
  {
   "cell_type": "code",
   "execution_count": null,
   "metadata": {},
   "outputs": [],
   "source": []
  },
  {
   "cell_type": "code",
   "execution_count": null,
   "metadata": {},
   "outputs": [],
   "source": [
    "pesos[pesos == inf] = np.nan"
   ]
  },
  {
   "cell_type": "code",
   "execution_count": null,
   "metadata": {},
   "outputs": [],
   "source": [
    "pesos=pesos.fillna(0)"
   ]
  },
  {
   "cell_type": "code",
   "execution_count": null,
   "metadata": {},
   "outputs": [],
   "source": [
    "knn[knn!=0].product()"
   ]
  },
  {
   "cell_type": "code",
   "execution_count": null,
   "metadata": {},
   "outputs": [],
   "source": [
    "pesos.dropna().min()"
   ]
  },
  {
   "cell_type": "code",
   "execution_count": null,
   "metadata": {},
   "outputs": [],
   "source": [
    "teste=y.xs('DECISAO',axis=1,level=1).fillna(0)"
   ]
  },
  {
   "cell_type": "code",
   "execution_count": null,
   "metadata": {},
   "outputs": [],
   "source": [
    "pesos.plot()"
   ]
  },
  {
   "cell_type": "code",
   "execution_count": null,
   "metadata": {},
   "outputs": [],
   "source": [
    "teste.sum(axis=1).plot()"
   ]
  },
  {
   "cell_type": "code",
   "execution_count": null,
   "metadata": {},
   "outputs": [],
   "source": [
    "vet_filt=pd.DataFrame((teste==teste.shift(-1)).sum(axis=1))"
   ]
  },
  {
   "cell_type": "code",
   "execution_count": null,
   "metadata": {},
   "outputs": [],
   "source": [
    "vet_filt=pd.DataFrame(teste[teste==teste.shift(-1)].sum(axis=1))"
   ]
  },
  {
   "cell_type": "code",
   "execution_count": null,
   "metadata": {},
   "outputs": [],
   "source": [
    "knn[knn!=0].plot()"
   ]
  },
  {
   "cell_type": "code",
   "execution_count": null,
   "metadata": {},
   "outputs": [],
   "source": [
    "vet_filt['k']=vet_filt.shift(1)"
   ]
  },
  {
   "cell_type": "code",
   "execution_count": null,
   "metadata": {},
   "outputs": [],
   "source": [
    "values=pd.DataFrame(values)"
   ]
  },
  {
   "cell_type": "code",
   "execution_count": null,
   "metadata": {},
   "outputs": [],
   "source": [
    "values['prev']=values.shift(1)"
   ]
  },
  {
   "cell_type": "code",
   "execution_count": null,
   "metadata": {},
   "outputs": [],
   "source": [
    "values['cat']=vet_filt[0].values"
   ]
  },
  {
   "cell_type": "code",
   "execution_count": null,
   "metadata": {},
   "outputs": [],
   "source": [
    "vet_filt[0].plot()"
   ]
  },
  {
   "cell_type": "code",
   "execution_count": null,
   "metadata": {},
   "outputs": [],
   "source": [
    "values"
   ]
  },
  {
   "cell_type": "code",
   "execution_count": null,
   "metadata": {},
   "outputs": [],
   "source": [
    "def fodase(values):\n",
    "    lista=[]\n",
    "    prev=1\n",
    "    for i in values.itertuples():\n",
    "        if i[3]==69 and prev!=1:\n",
    "            prev=1\n",
    "            lista.append(i[1])\n",
    "        else:\n",
    "            lista.append(i[1]*i[2]*prev)\n",
    "            prev=i[1]*i[2]*prev\n",
    "    return lista\n",
    "\n",
    "   "
   ]
  },
  {
   "cell_type": "code",
   "execution_count": null,
   "metadata": {},
   "outputs": [],
   "source": [
    "x=fodase(values)"
   ]
  },
  {
   "cell_type": "code",
   "execution_count": null,
   "metadata": {},
   "outputs": [],
   "source": [
    "values"
   ]
  },
  {
   "cell_type": "code",
   "execution_count": null,
   "metadata": {},
   "outputs": [],
   "source": [
    "pd.Series(x)"
   ]
  },
  {
   "cell_type": "code",
   "execution_count": null,
   "metadata": {},
   "outputs": [],
   "source": [
    "x.plot()"
   ]
  },
  {
   "cell_type": "code",
   "execution_count": null,
   "metadata": {},
   "outputs": [],
   "source": [
    "values=y.xs('RETORNO',axis=1,level=1).reset_index(drop=True).multiply(pesos,axis=0).sum(axis=1)"
   ]
  },
  {
   "cell_type": "code",
   "execution_count": null,
   "metadata": {},
   "outputs": [],
   "source": [
    "knn[knn == inf] = 1"
   ]
  },
  {
   "cell_type": "code",
   "execution_count": null,
   "metadata": {},
   "outputs": [],
   "source": []
  },
  {
   "cell_type": "code",
   "execution_count": null,
   "metadata": {},
   "outputs": [],
   "source": [
    "knn=(values/values.shift(1).fillna(1)).dropna()"
   ]
  },
  {
   "cell_type": "code",
   "execution_count": null,
   "metadata": {},
   "outputs": [],
   "source": [
    "knn.rolling(1000,min_periods=10).agg(np.prod)"
   ]
  },
  {
   "cell_type": "code",
   "execution_count": null,
   "metadata": {},
   "outputs": [],
   "source": [
    "knn.product()"
   ]
  },
  {
   "cell_type": "code",
   "execution_count": null,
   "metadata": {},
   "outputs": [],
   "source": [
    "ret_par=y.xs('RETORNO_TOT',axis=1,level=1).sum(axis=1).reset_index(drop=True).multiply(pesos)"
   ]
  },
  {
   "cell_type": "code",
   "execution_count": null,
   "metadata": {},
   "outputs": [],
   "source": [
    "ret_par.plot()"
   ]
  },
  {
   "cell_type": "code",
   "execution_count": null,
   "metadata": {},
   "outputs": [],
   "source": [
    "y.xs('RETORNO_TOT',axis=1,level=1)"
   ]
  },
  {
   "cell_type": "code",
   "execution_count": null,
   "metadata": {},
   "outputs": [],
   "source": [
    "pesos[830]"
   ]
  },
  {
   "cell_type": "code",
   "execution_count": null,
   "metadata": {},
   "outputs": [],
   "source": [
    "pesos[840]"
   ]
  },
  {
   "cell_type": "code",
   "execution_count": null,
   "metadata": {},
   "outputs": [],
   "source": [
    "ret_par.fillna(method='ffill').plot()"
   ]
  },
  {
   "cell_type": "code",
   "execution_count": null,
   "metadata": {},
   "outputs": [],
   "source": [
    "ret_par[800:850].plot()"
   ]
  },
  {
   "cell_type": "code",
   "execution_count": null,
   "metadata": {},
   "outputs": [],
   "source": [
    "ret_par.plot()"
   ]
  },
  {
   "cell_type": "code",
   "execution_count": null,
   "metadata": {},
   "outputs": [],
   "source": [
    "y.xs('RETORNO',axis=1,level=1).max().sort_values()"
   ]
  },
  {
   "cell_type": "code",
   "execution_count": null,
   "metadata": {},
   "outputs": [],
   "source": [
    "y['ABEV3.SA']['RETORNO'].reset_index(drop=True).multiply(pesos).plot()"
   ]
  },
  {
   "cell_type": "code",
   "execution_count": null,
   "metadata": {},
   "outputs": [],
   "source": [
    "(y.xs('RETORNO',axis=1,level=1).sum(axis=1).reset_index(drop=True)).plot()"
   ]
  },
  {
   "cell_type": "code",
   "execution_count": null,
   "metadata": {},
   "outputs": [],
   "source": [
    "y.xs('ESTRAT',axis=1,level=1).dropna(how='all').dropna(how='all',axis=1)"
   ]
  },
  {
   "cell_type": "code",
   "execution_count": null,
   "metadata": {},
   "outputs": [],
   "source": [
    "y['ABEV3.SA','RETORNO']"
   ]
  },
  {
   "cell_type": "code",
   "execution_count": null,
   "metadata": {},
   "outputs": [],
   "source": [
    "for i in data1.columns.tolist()[0:2]:\n",
    "    \n",
    "    td0=td.estrategias()\n",
    "    y[(i,'DECISAO')]=pd.Series([td0.stop((a,b),loss=0.8) for a,b in  zip(y[i,'DECISAO'], y[i,'RETORNO'])])\n",
    "    \n",
    "    tds =td.estrategias()\n",
    "    print(y[(i,'DECISAO')].dropna())\n",
    "   \n",
    "    y[i,'ESTRAT']=y[i,'DECISAO'].apply(tds.estrat)\n",
    "    \n",
    "    td2=td.estrategias()\n",
    "    \n",
    "    teste2=pd.Series([td2.estrat_retornos22((a,b)) for a, b in zip(y[i,i], y[i,'DECISAO'])],index=y.index ).dropna()\n",
    "   \n",
    "    teste2 =pd.DataFrame(teste2.dropna().tolist(),index=teste2.dropna().index)\n",
    "    print(i,teste2)   \n",
    "    try:\n",
    "        \n",
    "        teste2.columns=['RETORNO','RETORNO_TOT']\n",
    "        y[i,'RETORNO']=teste2['RETORNO']\n",
    "        y[i,'RETORNO_TOT']= teste2['RETORNO_TOT']\n",
    "        \n",
    "    except:\n",
    "        y[i,'RETORNO']=1\n",
    "        y[i,'RETORNO_TOT']= 1\n",
    "\n",
    "\n",
    " \n",
    "\n",
    "    \n",
    "   "
   ]
  },
  {
   "cell_type": "code",
   "execution_count": null,
   "metadata": {},
   "outputs": [],
   "source": [
    "retorno=(y.xs('RETORNO_TOT',axis=1,level=1).fillna(method='ffill').fillna(1).sum(axis=1)/73)"
   ]
  },
  {
   "cell_type": "code",
   "execution_count": null,
   "metadata": {},
   "outputs": [],
   "source": []
  },
  {
   "cell_type": "code",
   "execution_count": null,
   "metadata": {},
   "outputs": [],
   "source": [
    "results[60,115].plot()"
   ]
  },
  {
   "cell_type": "code",
   "execution_count": null,
   "metadata": {},
   "outputs": [],
   "source": [
    "retorno.plot()"
   ]
  },
  {
   "cell_type": "code",
   "execution_count": null,
   "metadata": {},
   "outputs": [],
   "source": [
    "sns.heatmap(heat.pivot('level_0','level_1','RENDA'))"
   ]
  }
 ],
 "metadata": {
  "kernelspec": {
   "display_name": "Python 3",
   "language": "python",
   "name": "python3"
  },
  "language_info": {
   "codemirror_mode": {
    "name": "ipython",
    "version": 3
   },
   "file_extension": ".py",
   "mimetype": "text/x-python",
   "name": "python",
   "nbconvert_exporter": "python",
   "pygments_lexer": "ipython3",
   "version": "3.6.9"
  }
 },
 "nbformat": 4,
 "nbformat_minor": 4
}
